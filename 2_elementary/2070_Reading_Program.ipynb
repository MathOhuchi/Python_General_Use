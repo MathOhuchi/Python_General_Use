{
 "cells": [
  {
   "cell_type": "markdown",
   "metadata": {},
   "source": [
    "## 7. プログラム解読\n",
    "準備は整いました．いよいよプログラムの活用を実践します．\n",
    "この基礎編の最初に挙げたプログラムを再度掲載します．これまで学習したことを総合的に使っていることが分かります．\n",
    "このプログラムは，ユーザーがキー入力した数字が素数か否かを判定します．"
   ]
  },
  {
   "cell_type": "markdown",
   "metadata": {},
   "source": [
    "まず素数判定プログラムのフローチャートを見てみましょう．\n",
    "\n",
    "![素数判定プログラム](./images/PrimeNumber.jpg)\n",
    "\n",
    "このフローチャートに沿ったPythonのプログラムは次のようになります．"
   ]
  },
  {
   "cell_type": "markdown",
   "metadata": {
    "collapsed": true
   },
   "source": [
    "```Python\n",
    "given = input('Please put a natural number, here. ==> ')\n",
    "if not given.isnumeric():\n",
    "    print(\"Your input is not a natural number. Please put just a natural number, next time.\")\n",
    "else:\n",
    "    givenNumber = int(given)\n",
    "    if givenNumber < 2 :\n",
    "        print(given + ' is not prime number.')\n",
    "    else:\n",
    "        for divider in range(2,givenNumber):\n",
    "            if (givenNumber % divider) == 0 :\n",
    "                print(given + ' is not prime number.')\n",
    "                break\n",
    "        else:\n",
    "            print(given + ' is prime number.')\n",
    "```"
   ]
  },
  {
   "cell_type": "markdown",
   "metadata": {},
   "source": [
    "このプログラムをもっとエレガントにすることは可能ですが，分かりやすさを優先しています．\n",
    "まず全体の構成を確認しましょう．if文およびfor文とそれに伴うブロックを明示するインデントを確認してください．\n",
    "\n",
    "それでは，このプログラムを1行ずつ確認していきましょう．\n",
    "*****"
   ]
  },
  {
   "cell_type": "markdown",
   "metadata": {},
   "source": [
    "##### 1行目\n",
    "```Python\n",
    "given = input('Please put a natural number, here. ==> ')\n",
    "```\n",
    "\n",
    "input()関数によって，ユーザーにキー入力を求めています．ユーザーが何かの入力をしてEnterキーを押したときに結果が戻ってきます．\n",
    "戻り値のデータ型は文字列です．新しい変数givenに戻り値を代入します．"
   ]
  },
  {
   "cell_type": "markdown",
   "metadata": {},
   "source": [
    "##### 2行目\n",
    "```Python\n",
    "if not given.isnumeric():\n",
    "```\n",
    "\n",
    "この行はif文です．変数givenの後に続くisnumeric()は文字列オブジェクトに付随するメソッドで，文字列が全て数字ならTrueを返します．\n",
    "よって，このif文では入力した文字列が数字か否かを判定していますが，「not」がついているのでTrueとFalseが逆になります．\n",
    "すなわち，入力した文字列が完全に数字でなければifブロックを実行します．入力した文字列が数字ならばelseブロックを実行します．"
   ]
  },
  {
   "cell_type": "markdown",
   "metadata": {},
   "source": [
    "##### 3行目\n",
    "```Python\n",
    "    print(\"Your input is not a natural number. Please put just a natural number, next time.\")\n",
    "```\n",
    "\n",
    "入力した文字列が数字出なかったことをprint()関数によって印字します．ifブロックなので先頭文字がインデントされています．"
   ]
  },
  {
   "cell_type": "markdown",
   "metadata": {},
   "source": [
    "##### 4行目\n",
    "```Python\n",
    "else:\n",
    "```\n",
    "\n",
    "前出のif文と対になるelse文です．入力した文字列が数値になっている場合です．"
   ]
  },
  {
   "cell_type": "markdown",
   "metadata": {},
   "source": [
    "##### 5行目\n",
    "```Python\n",
    "    givenNumber = int(given)\n",
    "```\n",
    "この文はelseブロックにありますので，変数givenの値である文字列は数字だけです．この数字の文字列をint()関数によって整数に変換します．\n",
    "変換したデータは新しい変数givenNumberに代入されます．"
   ]
  },
  {
   "cell_type": "markdown",
   "metadata": {},
   "source": [
    "##### 6行目\n",
    "```Python\n",
    "    if givenNumber < 2 :\n",
    "```\n",
    "\n",
    "elseブロックの中でさらにif文を実施します．今，ユーザーが入力すた値は数値に変換されていますが，この値が2より小さい場合は素数判定の対象になりません．したがって「givenNumber < 2」によって比較を実施します．"
   ]
  },
  {
   "cell_type": "markdown",
   "metadata": {},
   "source": [
    "##### 7行目\n",
    "```Python\n",
    "        print(given + ' is not prime number.')\n",
    "```\n",
    "\n",
    "この文は上記if文がTrueの場合のifブロックです．すなわち，入力した数値は2より小さい数値です．\n",
    "素数の定義により素数でないことをprint()文でユーザーに伝えます．この場合は，これでプログラム全体が終わります．"
   ]
  },
  {
   "cell_type": "markdown",
   "metadata": {},
   "source": [
    "##### 8行目\n",
    "```Python\n",
    "    else:\n",
    "```\n",
    "入力値が2以上の場合です．"
   ]
  },
  {
   "cell_type": "markdown",
   "metadata": {},
   "source": [
    "##### 9行目\n",
    "```Python\n",
    "        for divider in range(2,givenNumber):\n",
    "```\n",
    "ここでforループを使ってgivenNumberを2からgivenNumber-1までの値で順番に割って余りを確認するためのループを実施します．\n",
    "関数range(2,givenNumber)が2からgivenNumber-1までの数値を生成します．その値が変数dividerに代入されます．"
   ]
  },
  {
   "cell_type": "markdown",
   "metadata": {},
   "source": [
    "##### 10行目\n",
    "```Python\n",
    "            if (givenNumber % divider) == 0 :\n",
    "```\n",
    "余りが0か否かの判定をしています．余りが0ということは割り切れたということなので，入力値は素数ではないです．"
   ]
  },
  {
   "cell_type": "markdown",
   "metadata": {},
   "source": [
    "##### 11行目\n",
    "```Python\n",
    "                print(given + ' is not prime number.')\n",
    "```\n",
    "判定結果を「素数ではない」として，印字します．"
   ]
  },
  {
   "cell_type": "markdown",
   "metadata": {},
   "source": [
    "##### 12行目\n",
    "```Python\n",
    "                break\n",
    "```\n",
    "素数ではないことが判明したので，これ以上割り算をする意味がありません．ここでforループから抜けます．\n",
    "この時，for文に対応するelse文はスキップされます。"
   ]
  },
  {
   "cell_type": "markdown",
   "metadata": {},
   "source": [
    "##### 13行目\n",
    "```Python\n",
    "        else:\n",
    "```\n",
    "for文に対応するelse文です．for文の判定条件がFalseのときのみに実施されます．forブロックをbreak文で抜けるときはこのelseブロックは実行されません．<font color=red>直前のif文に対応するelse文ではない</font>ことに注意してください．そのことは，命令文の開始位置で判断しています．"
   ]
  },
  {
   "cell_type": "markdown",
   "metadata": {},
   "source": [
    "##### 14行目\n",
    "```Python\n",
    "            print(given + ' is prime number.')\n",
    "```\n",
    "入力値は「素数である」と判定して，印字します．\n",
    "*****"
   ]
  },
  {
   "cell_type": "markdown",
   "metadata": {},
   "source": [
    "#### プログラムの実行\n",
    "プログラムの中身を理解すると実行結果についての見通しも良くなります．素数判定プログラムを実行して挙動を確認してください．"
   ]
  },
  {
   "cell_type": "code",
   "execution_count": 1,
   "metadata": {},
   "outputs": [
    {
     "name": "stdout",
     "output_type": "stream",
     "text": [
      "Please put a natural number, here. ==> 23\n",
      "23 is prime number.\n"
     ]
    }
   ],
   "source": [
    "given = input('Please put a natural number, here. ==> ')\n",
    "if not given.isnumeric():\n",
    "    print(\"Your input is not a natural number. Please put just a natural number, next time.\")\n",
    "else:\n",
    "    givenNumber = int(given)\n",
    "    if givenNumber < 2 :\n",
    "        print(given + ' is not prime number.')\n",
    "    else:\n",
    "        for divider in range(2,givenNumber):\n",
    "            if (givenNumber % divider) == 0 :\n",
    "                print(given + ' is not prime number.')\n",
    "                break\n",
    "        else:\n",
    "            print(given + ' is prime number.')"
   ]
  },
  {
   "cell_type": "markdown",
   "metadata": {},
   "source": [
    "以上でJupyter notebookを使ってPythonの簡単なプログラムが活用できるための基礎を学習しました．<br>\n",
    "日々の仕事を通して，少しずつでもプログラムが書けるようにトレーニングをしてください.\n",
    "*****"
   ]
  }
 ],
 "metadata": {
  "kernelspec": {
   "display_name": "Python 3",
   "language": "python",
   "name": "python3"
  },
  "language_info": {
   "codemirror_mode": {
    "name": "ipython",
    "version": 3
   },
   "file_extension": ".py",
   "mimetype": "text/x-python",
   "name": "python",
   "nbconvert_exporter": "python",
   "pygments_lexer": "ipython3",
   "version": "3.6.1"
  }
 },
 "nbformat": 4,
 "nbformat_minor": 2
}
