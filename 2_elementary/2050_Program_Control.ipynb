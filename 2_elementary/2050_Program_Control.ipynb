{
 "cells": [
  {
   "cell_type": "markdown",
   "metadata": {},
   "source": [
    "## 5. プログラム制御\n",
    "ここまでは，計算を中心にPythonとJupyter notebookの活用方法を学習してきましたが，気の利いた処理を自動でおこなうためのプログラム制御についてマスターします．\n",
    "これまでPythonの特徴について寛容でしたが，プログラム制御においてはPythonの特徴を正しく理解して活用することになります．\n"
   ]
  },
  {
   "cell_type": "markdown",
   "metadata": {},
   "source": [
    "### 命令文\n",
    "先ず，単一の命令文とは何か理解します．\n",
    "- 一つの命令文は基本的に1行に記述する．\n",
    "- 一つの命令文を複数行に書く場合は，行の末尾にバックスラッシュ（\\）を付けて継続行があることを示す\n",
    "- 文字列データで複数行にまたがる文章を記述する場合は，文章を三連クォート（'''）で囲って一つの命令文にします．\n",
    "\n",
    "それぞれのケースについて，Codeセルにて実施してみます．"
   ]
  },
  {
   "cell_type": "code",
   "execution_count": 1,
   "metadata": {},
   "outputs": [
    {
     "name": "stdout",
     "output_type": "stream",
     "text": [
      "Please enjoy yourselves.\n"
     ]
    }
   ],
   "source": [
    "print('Please enjoy yourselves.')"
   ]
  },
  {
   "cell_type": "markdown",
   "metadata": {},
   "source": [
    "次の命令文は，一つの命令文を2行に記述した例です．"
   ]
  },
  {
   "cell_type": "code",
   "execution_count": 2,
   "metadata": {},
   "outputs": [
    {
     "name": "stdout",
     "output_type": "stream",
     "text": [
      "I understand what you said. But, I do not agree with you.\n"
     ]
    }
   ],
   "source": [
    "print('I understand what you said.' \\\n",
    "     ' But, I do not agree with you.')"
   ]
  },
  {
   "cell_type": "markdown",
   "metadata": {},
   "source": [
    "次の文は，Pythonが禅の精神に影響されていることを述べたTim Peters氏の文章の一部です．\n",
    "複数行を一つのprint文で書いています．"
   ]
  },
  {
   "cell_type": "code",
   "execution_count": 3,
   "metadata": {},
   "outputs": [
    {
     "name": "stdout",
     "output_type": "stream",
     "text": [
      "\n",
      "Beautiful is better than ugly.\n",
      "Explicit is better than implicit.\n",
      "Simple is better than complex.\n",
      "Complex is better than complicated.\n",
      "Flat is better than nested.\n",
      "Sparse is better than dense.\n",
      "Readability counts.\n",
      "    ...\n",
      "\n"
     ]
    }
   ],
   "source": [
    "print('''\n",
    "Beautiful is better than ugly.\n",
    "Explicit is better than implicit.\n",
    "Simple is better than complex.\n",
    "Complex is better than complicated.\n",
    "Flat is better than nested.\n",
    "Sparse is better than dense.\n",
    "Readability counts.\n",
    "    ...\n",
    "''')"
   ]
  },
  {
   "cell_type": "markdown",
   "metadata": {},
   "source": [
    "この文章では，Pythonの精神として兎に角シンプルで分かりやすいプログラムを目指す方針を述べています．\n",
    "*****"
   ]
  },
  {
   "cell_type": "markdown",
   "metadata": {},
   "source": [
    "### ブロック\n",
    "一連の命令文の塊をブロックと言います．プログラムの実行時にブロック内部の命令文は順次実行されます．\n",
    "同じブロックに属する命令文は，開始文字の位置が必ず等しくなければなりません．そして，ブロックが変更されるときは，そのために制御命令文が必要となります．\n",
    "命令文の開始文字の位置を勝手にズラせないのがPythonの記述法の最大の特徴と言えます.\n",
    "次の2行は一つのブロックです．\n",
    "```Python\n",
    "x = 1\n",
    "y = 2\n",
    "```\n",
    "このブロックに特に問題は在りませんが，次のように開始位置を変えてしまうとエラーになります．\n",
    "```Python\n",
    "x = 1\n",
    "    y = 2\n",
    "```\n",
    "この記述のように開始文字を右にずらすことをインデントと言います．Pythonではインデントによってブロックを決めており，2番目の例では制御命令無しにインデントを変更しているのでエラーとなります．\n",
    "\n",
    "ブロックについては，if文やfor文の説明で明確になります．\n",
    "*****"
   ]
  },
  {
   "cell_type": "markdown",
   "metadata": {
    "collapsed": true
   },
   "source": [
    "### 比較演算\n",
    "bool型データの説明において比較演算子について触れましたが，再度確認します．\n",
    "比較演算子は，2つのデータを比較して，その結果をbool値として返します．したがって結果はTrueかFalseになります．\n",
    "まず基本になるのが数値の比較です．次表にて数値を比較するための比較演算子を紹介します．\n",
    "\n",
    "| 演算子 | 使用例 | 　　説明　　 |\n",
    "| :---: | :---: | :--- |\n",
    "| == | a == b | aとbが等しい場合にTrue，そうでない場合はFalse |\n",
    "| != | a != b | aとbが不一致の場合にTrue，そうでない場合はFalse |\n",
    "| <  | a < b  | aがbより小さい場合にTrue，そうでない場合はFalse |\n",
    "| <= | a <= b | aがb以下の場合にTrue，そうでない場合はFalse |\n",
    "| >  | a > b  | aがbより大きい場合にTrue，そうでない場合はFalse |\n",
    "| >= | a >= b | aがb以上の場合にTrue，そうでない場合はFalse |\n",
    "\n"
   ]
  },
  {
   "cell_type": "markdown",
   "metadata": {},
   "source": [
    "分数の比較が苦手な方が多いようなので，分数の比較を行います．\n",
    "$\\frac{3}{5}$と$\\frac{4}{7}$を比較すると$\\frac{3}{5}$の方が大きいですが，比較演算子で確認してみましょう．"
   ]
  },
  {
   "cell_type": "code",
   "execution_count": 4,
   "metadata": {},
   "outputs": [
    {
     "data": {
      "text/plain": [
       "True"
      ]
     },
     "execution_count": 4,
     "metadata": {},
     "output_type": "execute_result"
    }
   ],
   "source": [
    "3/5 > 4/7"
   ]
  },
  {
   "cell_type": "markdown",
   "metadata": {},
   "source": [
    "数値の比較をしましたが，これらの比較演算子は数値だけではなく文字列にも使用することができます．\n",
    "例で確認します．"
   ]
  },
  {
   "cell_type": "code",
   "execution_count": 5,
   "metadata": {},
   "outputs": [
    {
     "data": {
      "text/plain": [
       "True"
      ]
     },
     "execution_count": 5,
     "metadata": {},
     "output_type": "execute_result"
    }
   ],
   "source": [
    "'abc' < 'xyz'"
   ]
  },
  {
   "cell_type": "markdown",
   "metadata": {},
   "source": [
    "文字列の大小比較は，文字コードに依存するので字引の順序ではないことに注意してください．"
   ]
  },
  {
   "cell_type": "markdown",
   "metadata": {},
   "source": [
    "#### in演算子\n",
    "\n",
    "文字列の場合，ある文字列が文章の中に存在するか否か判定することも良くあります．\n",
    "その場合はin演算子を使用します．「Thank you!」という文の中に「you」という単語があるか調べるときに次のように記載します．\n",
    "```Python\n",
    "'you' in 'Thank you!'\n",
    "```"
   ]
  },
  {
   "cell_type": "code",
   "execution_count": 6,
   "metadata": {},
   "outputs": [
    {
     "data": {
      "text/plain": [
       "True"
      ]
     },
     "execution_count": 6,
     "metadata": {},
     "output_type": "execute_result"
    }
   ],
   "source": [
    "'you' in 'Thank you!'"
   ]
  },
  {
   "cell_type": "markdown",
   "metadata": {},
   "source": [
    "これは文字列の検索への第一歩です．\n",
    "\n",
    "また，配列の中に指定した要素があるか確認する場合にもin演算子を使います．"
   ]
  },
  {
   "cell_type": "code",
   "execution_count": 7,
   "metadata": {},
   "outputs": [
    {
     "data": {
      "text/plain": [
       "True"
      ]
     },
     "execution_count": 7,
     "metadata": {},
     "output_type": "execute_result"
    }
   ],
   "source": [
    "'Carbon' in ['Hydrogen', 'Helium', 'Lithium', 'Berylium', 'Boron', 'Carbon', 'Nitrogen', 'Oxygen']"
   ]
  },
  {
   "cell_type": "markdown",
   "metadata": {},
   "source": [
    "in演算子は存在する場合にTrueを返しますが，存在しない場合にTrueを返したい場合は<font color=green>not in</font>を使います．"
   ]
  },
  {
   "cell_type": "code",
   "execution_count": 8,
   "metadata": {},
   "outputs": [
    {
     "data": {
      "text/plain": [
       "True"
      ]
     },
     "execution_count": 8,
     "metadata": {},
     "output_type": "execute_result"
    }
   ],
   "source": [
    "10 not in [1,2,3,4,5]"
   ]
  },
  {
   "cell_type": "markdown",
   "metadata": {},
   "source": [
    "これらの比較演算子がプログラム制御をするための条件となります．\n",
    "*****"
   ]
  },
  {
   "cell_type": "markdown",
   "metadata": {
    "collapsed": true
   },
   "source": [
    "### 論理演算\n",
    "論理演算は，複雑な条件を記述するために必要不可欠なものです．論理演算には次のものがあります．\n",
    "\n",
    "- and （論理積）\n",
    "- or  （論理和）\n",
    "- not （否定）\n",
    "\n",
    "論理演算は，真偽値の演算として定義されています．論理積と論理和は二項演算であり，計算する各値はTrueかFalseしかなく，結果も真偽値となります．否定は一項演算で，計算する値と結果はTrueもしくはFalseとなります．\n",
    "これらの演算は真理表という表で定義されます．"
   ]
  },
  {
   "cell_type": "markdown",
   "metadata": {},
   "source": [
    "#### 論理積\n",
    "論理積は次の真理表で定義されます．AとBの論理積はA∧Bという式で表します．\n",
    "\n",
    "| $A$ | $B$ | $A \\land B$ |\n",
    "| :---: | :---: | :---: |\n",
    "| True  | True  | True  |\n",
    "| True  | False | False |\n",
    "| False | True  | False |\n",
    "| False | False | False |\n",
    "\n",
    "すなわち，AとBの両方ともにTrueのときにしかTrueになりません．\n",
    "Pythonで式にすると次のようになります．\n",
    "```Python\n",
    "A and B\n",
    "```"
   ]
  },
  {
   "cell_type": "code",
   "execution_count": 9,
   "metadata": {},
   "outputs": [
    {
     "data": {
      "text/plain": [
       "True"
      ]
     },
     "execution_count": 9,
     "metadata": {},
     "output_type": "execute_result"
    }
   ],
   "source": [
    "(1 == 1.0) and (1 != '1')"
   ]
  },
  {
   "cell_type": "markdown",
   "metadata": {},
   "source": [
    "この式は2つの真偽値の論理積を計算しています．<br>\n",
    "一つ目は「1 == 1.0」という比較演算です．この意味は，整数の1と浮動小数点数の1.0は同じであるという比較演算で，データ型が異なっていても本質的には同じ数値を示しているので，結果はTrueとなります．<br>\n",
    "二つ目は「1 != '1'」という比較演算です．この意味は，整数の1と文字の'1'は異なるという比較演算で，基本的に数値と文字は異なるので，等しくないことが正しいのでTrueとなります．<br>\n",
    "したがって，この論理積はTrue∧TrueなのでTrueとなります．\n",
    "\n",
    "ちなみに，2つの比較演算を括弧で囲っていますが，実際は不要です．しかし，意図を明確にする意味で括弧を付けています．"
   ]
  },
  {
   "cell_type": "markdown",
   "metadata": {},
   "source": [
    "#### 論理和\n",
    "論理和は次の真理表で定義されます．AとBの論理積はA∨Bという式で表します．\n",
    "\n",
    "| $A$ | $B$ | $A \\lor B$ |\n",
    "| :---: | :---: | :---: |\n",
    "| True  | True  | True  |\n",
    "| True  | False | True  |\n",
    "| False | True  | True  |\n",
    "| False | False | False |\n",
    "\n",
    "すなわち，AとBのどちらかがTrueならばTrueになります．\n",
    "Pythonで式にすると次のようになります．\n",
    "```Python\n",
    "A or B\n",
    "```"
   ]
  },
  {
   "cell_type": "code",
   "execution_count": 10,
   "metadata": {},
   "outputs": [
    {
     "data": {
      "text/plain": [
       "True"
      ]
     },
     "execution_count": 10,
     "metadata": {},
     "output_type": "execute_result"
    }
   ],
   "source": [
    "weather = 'Cloudy to rain'\n",
    "('rain' in weather) or ('Rain' in weather)"
   ]
  },
  {
   "cell_type": "markdown",
   "metadata": {
    "collapsed": true
   },
   "source": [
    "天気予報の文章で雨が降るか確認するとき，文中に「rain」が含まれるか調べます．しかし，文の先頭にあった場合，頭文字が大文字になるので「Rain」も同時に調べます．どちらかがあれば雨が降ると認識できるので論理和で表現します．"
   ]
  },
  {
   "cell_type": "markdown",
   "metadata": {},
   "source": [
    "#### 論理否定\n",
    "論理和は次の真理表で定義されます．Aの論理否定は￢Aという式で表します．\n",
    "\n",
    "| $A$ | $\\lnot A$ |\n",
    "| :---: | :---: |\n",
    "| True  | False |\n",
    "| False | True  |\n",
    "\n",
    "すなわち，AがTrueならばFalseになりAがFalseならばTrueになります．\n",
    "Pythonで式にすると次のようになります．\n",
    "```Python\n",
    "not A\n",
    "```"
   ]
  },
  {
   "cell_type": "code",
   "execution_count": 11,
   "metadata": {},
   "outputs": [
    {
     "data": {
      "text/plain": [
       "False"
      ]
     },
     "execution_count": 11,
     "metadata": {},
     "output_type": "execute_result"
    }
   ],
   "source": [
    "not (0 < 1)"
   ]
  },
  {
   "cell_type": "markdown",
   "metadata": {},
   "source": [
    "(0 < 1)は大小関係の比較演算で0は1より小さいのでTrueとなり，その否定であるnot (0 < 1)はFalseとなります．\n",
    "\n",
    "論理積と論理和および論理否定を組み合わせることによって，複雑な判定条件を組み込むことが可能となります．"
   ]
  },
  {
   "cell_type": "markdown",
   "metadata": {},
   "source": [
    "#### ド・モルガンの法則\n",
    "複雑な論理文を整理するときに幾つかの論理公式が使われますが，その代表的な公式としてド・モルガンの法則があります．\n",
    "ド・モルガンの法則とは，次の2つの式で表されます．\n",
    "\n",
    "> $\\lnot(A \\land B) = \\lnot A \\lor \\lnot B$ <br>\n",
    "> $\\lnot(A \\lor B) = \\lnot A \\land \\lnot B$ <br>\n",
    "\n",
    "例えば次のような判定文を考えてみます．\n",
    "```Python\n",
    "not (A1 == A2 and B1 == B2)\n",
    "```\n",
    "\n",
    "この判定文にド・モルガンの法則を当てはめると次のようになります．\n",
    "```Python\n",
    "(A1 != A2) or (B1 != B2)\n",
    "```\n",
    "このように記載した2つの式は全く同じ動作をします．\n",
    "このように，論理を理解し活用できることは良いプログラムを書くための重要なスキルとなります．"
   ]
  },
  {
   "cell_type": "markdown",
   "metadata": {},
   "source": [
    "#### 分配法則\n",
    "論理分配法則も頻繁に使われる公式です．分配法則というと算術計算における$a\\times (b + c) = a\\times b + a \\times c$で理解されているでしょうが，論理演算の場合，論理積と論理和が対等の関係となり2つの公式が成立します．\n",
    "\n",
    "> $A \\land (B \\lor C) = (A \\land B) \\lor (A \\land C)$ <br>\n",
    "> $A \\lor (B \\land C) = (A \\lor B) \\land (A \\lor C)$ <br>\n",
    "\n",
    "実際の使い方としては，展開というより逆の集約する記述になります．例えば，\n",
    "```Python\n",
    "(A > 0 and B > 0) or (A > 0 and C > 0)\n",
    "```\n",
    "となるときに集約して，\n",
    "```Python\n",
    "A > 0 and (B > 0 or C > 0)\n",
    "```\n",
    "と記述します．"
   ]
  },
  {
   "cell_type": "markdown",
   "metadata": {},
   "source": [
    "ここまでの内容で，プログラム制御のための判定条件の書き方について理解しました．\n",
    "準備が整ったので次はプログラム制御文を学習します．\n",
    "*****"
   ]
  },
  {
   "cell_type": "markdown",
   "metadata": {},
   "source": [
    "### 条件分岐\n",
    "プログラムを分岐条件によって実行ブロックを切り替えるための制御文を見ていきましょう．これまでに学習したことがここで総合的に使われます．\n",
    "条件分岐はif構文によって行われます．\n",
    "```Python\n",
    "if judgment_1:\n",
    "    block_1\n",
    "elif Judgment_2:\n",
    "    block_2\n",
    "else:\n",
    "    block_3\n",
    "```\n",
    "\n",
    "このようにif構文はif文とelif文およびelse文とそれに伴うブロックで構成されます．elifはelse ifの意味です．\n",
    "elif部分およびelse部分は省略可能です．また，elif文を複数繰り返すことも可能です．\n",
    "\n",
    "judgment_1とjudgment_2には論理値あるいは論理式が入り，結果がTrueの場合のみそのブロックに書かれている命令文が実行されます．\n",
    "else部分はその前に書かれたif文およびelif文が全てFalseの場合に実行されます．\n"
   ]
  },
  {
   "cell_type": "markdown",
   "metadata": {
    "collapsed": true
   },
   "source": [
    "##### 例\n",
    "input()関数によってユーザーの機嫌を伺うプログラムを作成してみます．"
   ]
  },
  {
   "cell_type": "code",
   "execution_count": 12,
   "metadata": {},
   "outputs": [
    {
     "name": "stdout",
     "output_type": "stream",
     "text": [
      "How are you? ==> not good\n",
      "Would you like some tea?\n"
     ]
    }
   ],
   "source": [
    "response = input('How are you? ==> ')\n",
    "if ('fine' in response or 'good' in response) and ('not' not in response):\n",
    "    print(\"That's good!\")\n",
    "elif ('bad' in response):\n",
    "    print(\"What's wrong?\")\n",
    "else:\n",
    "    print('Would you like some tea?')"
   ]
  },
  {
   "cell_type": "markdown",
   "metadata": {},
   "source": [
    "ユーザーが「not good」と入力したと仮定します．<br>\n",
    "if文での判定ではgoodが入っていますが入ってはいけないnotも入っているので，Falseとなります．<br>\n",
    "elif文においてはbadが入っていないので，ここでもFalseとなります．<br>\n",
    "したがってelseブロックにあるprint文が実行されます．\n",
    "*****"
   ]
  },
  {
   "cell_type": "markdown",
   "metadata": {
    "collapsed": true
   },
   "source": [
    "### 繰返し処理\n",
    "同じ処理を複数の対象に対して実施する繰返し処理は頻繁に発生します．この繰り返し処理をコンパクトにまとめて書く方法が繰返し処理です．\n",
    "繰返し処理には次の2つの方法があります．\n",
    "\n",
    "- forループ\n",
    "- whileループ\n",
    "\n",
    "これら繰返し処理は，プログラミング言語になくてはならないものですが，ここでもPythonの特徴が出ています．"
   ]
  },
  {
   "cell_type": "markdown",
   "metadata": {},
   "source": [
    "#### for ループ\n",
    "従来のプログラム言語におけるforループの問題点は，ループカウンターがあることです．従来のforループを疑似コードで書いてみます．\n",
    "```\n",
    "for i = 1 to 10;\n",
    "    do something with index i;\n",
    "next i;\n",
    "```\n",
    "\n",
    "この疑似コードで使われているループカウンター「i」が人工的で不要であるとの課題がありました．\n",
    "この解決策として開発されたものが，for eachループです．for eachループでは対象となる集合があり，その要素に対して繰返し処理をする方法です．\n",
    "for eachループを疑似コードで書くと，次のようになります．\n",
    "```\n",
    "for each member of a set;\n",
    "    do something to a member;\n",
    "next member;\n",
    "```\n",
    "このようにfor eachループでは，ループカウンターが排除され，より本質的な処理だけに専念できます．\n",
    "実はPythonのforループは仕組み的にはfor eachループとなっています．\n",
    "\n",
    "それでは，幾つかの事例を見てみましょう."
   ]
  },
  {
   "cell_type": "code",
   "execution_count": 13,
   "metadata": {},
   "outputs": [
    {
     "name": "stdout",
     "output_type": "stream",
     "text": [
      "-4\n",
      "-2\n",
      "0\n",
      "2\n"
     ]
    }
   ],
   "source": [
    "for wholeNumber in [-4,-2,0,2]:\n",
    "    print(wholeNumber)"
   ]
  },
  {
   "cell_type": "markdown",
   "metadata": {},
   "source": [
    "この例では，ベースとなる集合はリスト配列　[-4,-2,0,2]です．この中の各要素を変数wholeNumberに代入して，それぞれの要素についてforブロックの処理を実施します．この場合はprint()関数によって各値を印字します．\n",
    "\n",
    "次はrange()関数を使った例です．"
   ]
  },
  {
   "cell_type": "code",
   "execution_count": 14,
   "metadata": {},
   "outputs": [
    {
     "name": "stdout",
     "output_type": "stream",
     "text": [
      "10\n",
      "12\n",
      "14\n",
      "16\n",
      "18\n"
     ]
    }
   ],
   "source": [
    "for evenNumber in range(10,20,2):\n",
    "    print(evenNumber)"
   ]
  },
  {
   "cell_type": "markdown",
   "metadata": {},
   "source": [
    "この例の集合は，range()関数によって生成されています．\n",
    "range(10,20,2)の意味は，10からスタートして2ずつ増加していき20未満の数全てです．したがって，リスト表示すると[10,12,14,16,18]となります．20は含んでないことに注意してください．\n",
    "range()関数で生成された数値を変数evenNumberに代入して，print()関数で印字します．\n",
    "\n",
    "次の例では，辞書配列を活用しています．"
   ]
  },
  {
   "cell_type": "code",
   "execution_count": 15,
   "metadata": {},
   "outputs": [
    {
     "name": "stdout",
     "output_type": "stream",
     "text": [
      "On alto sax, Art Pepper!\n",
      "On piano, Russ Freeman!\n",
      "On bass, Ben Tucker!\n",
      "On drums, Chuck Flores!\n",
      "Thank you!\n"
     ]
    }
   ],
   "source": [
    "modernArt = {'Art Pepper': 'alto sax', 'Russ Freeman':'piano', 'Ben Tucker':'bass', 'Chuck Flores':'drums'}\n",
    "for player, instrument in modernArt.items():\n",
    "    introduce = 'On ' + instrument + ', ' + player + '!'\n",
    "    print(introduce)\n",
    "print('Thank you!')"
   ]
  },
  {
   "cell_type": "markdown",
   "metadata": {
    "collapsed": true
   },
   "source": [
    "JAZZ史上の名盤の一つにモダン・アートという題名のレコードがあります．\n",
    "このレコードの録音に参加したメンバーと楽器のペアを辞書配列として記載して，変数modernArtに代入しました．この辞書配列をfor文の対象となる集合とし，items()メソッドによってキーと値を取り出してplayerとinstrumentという変数に代入しています．\n",
    "forブロックにて各playerとinstrumentから文字列introduceを作って印字しています．<br>\n",
    "各行のインデント（字下げ）に気を付けてください．最後のprint('Thank you')はforブロックの外になっています．\n",
    "\n",
    "このようにforループは配列やrange()関数などと調和したプログラムになります．"
   ]
  },
  {
   "cell_type": "markdown",
   "metadata": {
    "collapsed": true
   },
   "source": [
    "#### whileループ\n",
    "forループは対象となる集合の各要素に対して処理を行う上で合理的な方法でした．\n",
    "これに対して，whileループはカスタマイズを前提とした裸の繰返し処理と言えます．\n",
    "先ずは単純なwhileループを確認します．"
   ]
  },
  {
   "cell_type": "code",
   "execution_count": 16,
   "metadata": {},
   "outputs": [
    {
     "name": "stdout",
     "output_type": "stream",
     "text": [
      "counter:1\n",
      "counter:2\n",
      "counter:3\n",
      "Finished!\n"
     ]
    }
   ],
   "source": [
    "counter = 1\n",
    "while counter < 4:\n",
    "    print('counter:'+str(counter))\n",
    "    counter += 1\n",
    "print('Finished!')"
   ]
  },
  {
   "cell_type": "markdown",
   "metadata": {
    "collapsed": true
   },
   "source": [
    "while文の中の判定がTrueの場合に，その直後に続くwhileブロックの命令文を実行します．<br>\n",
    "```Python\n",
    "while counter < 4:\n",
    "```\n",
    "この例では「counter < 4」が比較演算子でcounterの初期値が1なのでTrueを返します．<br>\n",
    "続く2行がインデントされているのでwhileブロックになります．\n",
    "```Python\n",
    "    print('counter:'+str(counter))\n",
    "    counter += 1\n",
    "```\n",
    "よって，'counter:1'と印字した後に，counterの値を1増やします．ここでcounterの値は2となります．<br>\n",
    "whileブロックの全ての命令文を実行したので，プログラムの制御は「while counte < 4:」に戻ります．<br>\n",
    "counter=2なので判定はTrueです．よってwhileブロックを実行して，印字とcounterを更新します．<br>\n",
    "counter=3なので判定はTrueです．よってwhileブロックを実行して，印字とcounterを更新します．<br>\n",
    "counter=4なので判定はFalseです．よってwhileから抜け出して，次の命令文に移ります．<br>\n",
    "最後にprint('Finished!')を実行して終了となります．\n",
    "\n",
    "肝心なことはcounterの更新をして，いつか必ずwhile文の判定がFalseになることです．これを怠ると無限ループに陥ります．<br>\n",
    "この例と同じ処理をforループを用いて表現することもできます．\n",
    "```Python\n",
    "for counter in range(1,4):\n",
    "    print('counter:'+str(counter))\n",
    "print('Finish!')\n",
    "```\n",
    "この方が簡単かつ安全です．したがって，このような場合はforループを使いましょう．<br>\n",
    "whileループは複雑な制御を必要とする場合に優れた対応力を持っています．"
   ]
  },
  {
   "cell_type": "markdown",
   "metadata": {},
   "source": [
    "#### break文とcountinue文\n",
    "繰返し処理の中でbreak文に遭遇すると，繰返し処理はそこで終了となり，繰返しブロックの後に記載されている命令文に移ります．<br>\n",
    "繰返し処理の中でcontinuek文に遭遇すると，繰返し処理のその回の処理はそこで打ち切られ，繰返しブロックの中の次の繰り返しを実施します．繰返し処理全体から抜けることはありません．<br>\n",
    "break文ととcountinue文は，forループにもwhileループにも使用可能です．\n",
    "\n",
    "簡単なforループでbreak文ととcountinue文による挙動の違いを確認します．"
   ]
  },
  {
   "cell_type": "code",
   "execution_count": 17,
   "metadata": {},
   "outputs": [
    {
     "name": "stdout",
     "output_type": "stream",
     "text": [
      "Befor judgment, counter:1\n",
      "After judgment, counter:1\n",
      "Befor judgment, counter:2\n",
      "Finish!\n"
     ]
    }
   ],
   "source": [
    "for counter in range(1,4):\n",
    "    print('Befor judgment, counter:'+str(counter))\n",
    "    if counter == 2:\n",
    "        break\n",
    "    print('After judgment, counter:'+str(counter))\n",
    "print('Finish!')"
   ]
  },
  {
   "cell_type": "code",
   "execution_count": 18,
   "metadata": {},
   "outputs": [
    {
     "name": "stdout",
     "output_type": "stream",
     "text": [
      "Befor judgment, counter:1\n",
      "After judgment, counter:1\n",
      "Befor judgment, counter:2\n",
      "Befor judgment, counter:3\n",
      "After judgment, counter:3\n",
      "Finish!\n"
     ]
    }
   ],
   "source": [
    "for counter in range(1,4):\n",
    "    print('Befor judgment, counter:'+str(counter))\n",
    "    if counter == 2:\n",
    "        continue\n",
    "    print('After judgment, counter:'+str(counter))\n",
    "print('Finish!')"
   ]
  },
  {
   "cell_type": "markdown",
   "metadata": {},
   "source": [
    "#### 複雑なwhileループ\n",
    "複雑な繰返し処理を実現するためにはbreak文やcontinue文を使ったり，while文と対となるelse文を使用したりします．\n",
    "これらの概観を疑似コードにすると次のようになります．\n",
    "```\n",
    "初期設定\n",
    "while 判定式:\n",
    "    処理・・・\n",
    "    判定式に関わる変数の更新\n",
    "    if 条件A:\n",
    "        break\n",
    "    if 条件B:\n",
    "        continue\n",
    "    処理・・・\n",
    "else:\n",
    "    判定式がFalseの場合の処理・・・\n",
    "```\n",
    "ここで注意することはcontinue文より前に判定式に関わる変数の更新を行うことです．この順序が逆になると無限ループになってしまいます．\n",
    "\n",
    "それでは，例を見てみましょう．"
   ]
  },
  {
   "cell_type": "code",
   "execution_count": 19,
   "metadata": {},
   "outputs": [
    {
     "name": "stdout",
     "output_type": "stream",
     "text": [
      "counter:1\n",
      "Please put any key ==> \n",
      "Finished!\n"
     ]
    }
   ],
   "source": [
    "counter = 1\n",
    "while counter < 5:\n",
    "    print('counter:' + str(counter))\n",
    "    counter += 1\n",
    "    yourInput = input('Please put any key ==> ')\n",
    "    if yourInput == '':\n",
    "        break\n",
    "else:\n",
    "    print('Here is the else block.')\n",
    "print('Finished!')"
   ]
  },
  {
   "cell_type": "markdown",
   "metadata": {},
   "source": [
    "この例では，counterが1から4までの値に対して繰返し処理をします．whileブロックの中でユーザーからの入力を要請しています．\n",
    "入力値がブランクの場合break文によってループから抜け出します．\n",
    "もし何かの文字を入力し続けるとcounterが5になってwhile文の判定式でFalseとなりelseブロックにあるprint文を実行します．\n",
    "ところがbreak文で抜ける場合はelseブロックを実行することはありません．\n",
    "\n",
    "この参考プログラムを試行して，ブランクを入力した場合と何らかの文字を入れ続けた場合の違いを確認してください．"
   ]
  },
  {
   "cell_type": "markdown",
   "metadata": {
    "collapsed": true
   },
   "source": [
    "ここまでで，プログラム制御の基本はマスターしました．これで簡単なPythonのプログラムを書いたり読んだりすることが可能となりました．\n",
    "*****"
   ]
  }
 ],
 "metadata": {
  "kernelspec": {
   "display_name": "Python 3",
   "language": "python",
   "name": "python3"
  },
  "language_info": {
   "codemirror_mode": {
    "name": "ipython",
    "version": 3
   },
   "file_extension": ".py",
   "mimetype": "text/x-python",
   "name": "python",
   "nbconvert_exporter": "python",
   "pygments_lexer": "ipython3",
   "version": "3.6.1"
  }
 },
 "nbformat": 4,
 "nbformat_minor": 2
}
