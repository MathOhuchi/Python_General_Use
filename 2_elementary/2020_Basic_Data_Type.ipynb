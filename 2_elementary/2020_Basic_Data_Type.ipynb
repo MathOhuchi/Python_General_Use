{
 "cells": [
  {
   "cell_type": "markdown",
   "metadata": {},
   "source": [
    "## 2. 基本的データ型\n",
    "\n",
    "まずは基本的なデータ型について確認していきましょう．次のデータ型が全てのデータ構造の基礎になりますので，正確に理解しましょう．\n",
    "\n",
    "- int型（整数）\n",
    "- float型（浮動小数点数）\n",
    "- str型（文字列）\n",
    "- bool型（真偽値）\n",
    "\n",
    "一般のコンパイル言語では変数は事前にデータ型宣言をしますが，Pythonではデータ型宣言は不要です．\n",
    "変数の定義は最初に出現する代入文によって行われます．\n",
    "未定義の変数を参照すると，変数名未定義でエラーとなります．\n",
    "代入文は等号記号「=」を使った構文となります．\n",
    "\n",
    "> <font color=blue>変数 = 値</font>\n",
    "\n",
    "ここで，「値」は具体的な数値や文字列などのオブジェクトです．また値の代わりに既に値が設定されている変数を置いても代入文が成立します．\n",
    "*****"
   ]
  },
  {
   "cell_type": "markdown",
   "metadata": {},
   "source": [
    "### int型（整数）\n",
    "数学の基礎では数の概念を導入するとき，$\\{1,2,3,4,\\cdots\\}$と数え上げることによって直感的に理解できる自然数からスタートして，ゼロと負の数を導入することによって整数を定義します．\n",
    "すなわち，整数は$\\{\\cdots,-3,-2,-1,0,1,2,3,\\cdots\\}$で表すことができます．\n",
    "整数の特徴として，小数点がないことです．すなわち0から9までの数字で構成された数字の塊は整数として認識されます．\n",
    "整数の代入文の例をいくつか提示します．\n",
    "```Python\n",
    "mydataA = 1200\n",
    "mydataB = 0\n",
    "mydataC = -21\n",
    "```\n",
    "\n",
    "このように自然な表現で変数の定義と値の代入が行われます．それでは，実際にCodeセルに入力して確認しましょう．"
   ]
  },
  {
   "cell_type": "code",
   "execution_count": 1,
   "metadata": {},
   "outputs": [
    {
     "data": {
      "text/plain": [
       "123"
      ]
     },
     "execution_count": 1,
     "metadata": {},
     "output_type": "execute_result"
    }
   ],
   "source": [
    "mydata = 123\n",
    "mydata"
   ]
  },
  {
   "cell_type": "markdown",
   "metadata": {},
   "source": [
    "Codeセルに代入文を書いて実行しても何も出力されません．変数に代入された値を実際に確認するには，1行に変数名だけを記入して実行します．\n",
    "代入文「mydata = 123」で定義された変数mydataのデータ型を確認するにはtype()関数を使用します．type()関数の引数に変数名を入れて実行すると，その変数名のデータ型を返してくれます．\n",
    "```Python\n",
    "type(mydata)\n",
    "```"
   ]
  },
  {
   "cell_type": "code",
   "execution_count": 2,
   "metadata": {},
   "outputs": [
    {
     "data": {
      "text/plain": [
       "int"
      ]
     },
     "execution_count": 2,
     "metadata": {},
     "output_type": "execute_result"
    }
   ],
   "source": [
    "type(mydata)"
   ]
  },
  {
   "cell_type": "markdown",
   "metadata": {},
   "source": [
    "確かにmydataはint型であることが分かります．\n",
    "\n",
    "#### 整数の表現\n",
    "整数を記載するときに気を付けることが幾つかあります．\n",
    "カンマ区切りの数値は複数の数値の配列と見なされます．例えば，代入文で次のように記述してみます．\n",
    "```Python\n",
    "noGood = 1,200\n",
    "```\n",
    "普通の文章でしたら値として1200を表しますが，この場合は1と200の2つの値の配列と見なされてしまいます．"
   ]
  },
  {
   "cell_type": "code",
   "execution_count": 3,
   "metadata": {},
   "outputs": [
    {
     "data": {
      "text/plain": [
       "tuple"
      ]
     },
     "execution_count": 3,
     "metadata": {},
     "output_type": "execute_result"
    }
   ],
   "source": [
    "noGood = 1,200\n",
    "type(noGood)"
   ]
  },
  {
   "cell_type": "markdown",
   "metadata": {},
   "source": [
    "データ型としてtuple（タプル）となっています．タプルは配列を保持するオブジェクト形式のひとつです．\n",
    "代入文を実行してもエラーにならないので，見過ごしてしまう危険があります．普通の文章では見易くするために大きな数値はカンマ区切りで記載することがマナーとなりますが，Pythonプログラムではトラブルの原因になることを知っておきましょう．\n",
    "\n",
    "別の問題ですが，数値の前にゼロを付けて記載する数値の文字数を揃えることがありますが，Pythonプログラムの中では正しくない表現となります．\n",
    "例えば，次のように書くと見栄えは良いです．\n",
    "```Python\n",
    "mydataA = 1200\n",
    "mydataB = 0012\n",
    "mydataC = -021\n",
    "```\n",
    "しかし，この表現は問題を含んでいます．0000だったらエラーにはなりませんが，0012や-021という表現ではエラーとなります．\n",
    "実は数値の表現として10進数の他に16進数，8進数，2進数があり，数値の先頭にゼロとn進数を明示する文字を付けることによって表します．したがって先頭が0なのに2番目の文字が想定外の数字になっているからエラーと判断されます．\n",
    "\n",
    "> 0<font color=blue>x</font>11 : 16進数（10進数で17）<br>\n",
    "> 0<font color=blue>o</font>11 : 8進数（10進数で9）<br>\n",
    "> 0<font color=blue>b</font>11 : 2進数（10進数で3）<br>\n",
    "\n",
    "実際にCodeセルにて確認してみましょう．"
   ]
  },
  {
   "cell_type": "code",
   "execution_count": 4,
   "metadata": {},
   "outputs": [
    {
     "data": {
      "text/plain": [
       "17"
      ]
     },
     "execution_count": 4,
     "metadata": {},
     "output_type": "execute_result"
    }
   ],
   "source": [
    "0x11"
   ]
  },
  {
   "cell_type": "code",
   "execution_count": 5,
   "metadata": {},
   "outputs": [
    {
     "data": {
      "text/plain": [
       "9"
      ]
     },
     "execution_count": 5,
     "metadata": {},
     "output_type": "execute_result"
    }
   ],
   "source": [
    "0o11"
   ]
  },
  {
   "cell_type": "code",
   "execution_count": 6,
   "metadata": {},
   "outputs": [
    {
     "data": {
      "text/plain": [
       "3"
      ]
     },
     "execution_count": 6,
     "metadata": {},
     "output_type": "execute_result"
    }
   ],
   "source": [
    "0b11"
   ]
  },
  {
   "cell_type": "markdown",
   "metadata": {},
   "source": [
    "普通の仕事では16進数や8進数，2進数を使うことは殆どありませんので，このような数値表現があるということだけを知っていれば十分です．\n",
    "*****"
   ]
  },
  {
   "cell_type": "markdown",
   "metadata": {},
   "source": [
    "### float型（浮動小数点数）\n",
    "整数をゼロ以外の整数で割ることによって得られる数は整数とは限りません．それらの数を有理数といいます．定義からすると有理数は整数からなる分数で表せられる数値となります．\n",
    "コンピューターの中で有理数に対応したデータ型が浮動小数点数です．実際には，浮動小数点数は有理数の一部でしかありません．しかし，有理数を適切な精度を持って浮動小数点数で近似することができます．\n",
    "浮動小数点数は有理数の近似なので計算誤差が発生します．コンピューターの計算結果が絶対に正しいと過信してはいけません．\n",
    "\n",
    "float型は数字に小数点があることによって明示されます．小数点以下がゼロであったり何もなくてもfloat型と判断されます．\n",
    "float型の例を記載します．\n",
    "```Python\n",
    "mydataD = 3.14\n",
    "mydataE = 24.0\n",
    "mydataF = 10.\n",
    "```\n",
    "\n",
    "実際の例で確かめましょう．"
   ]
  },
  {
   "cell_type": "code",
   "execution_count": 7,
   "metadata": {},
   "outputs": [
    {
     "data": {
      "text/plain": [
       "10.0"
      ]
     },
     "execution_count": 7,
     "metadata": {},
     "output_type": "execute_result"
    }
   ],
   "source": [
    "mydata = 10.\n",
    "mydata"
   ]
  },
  {
   "cell_type": "code",
   "execution_count": 8,
   "metadata": {},
   "outputs": [
    {
     "data": {
      "text/plain": [
       "float"
      ]
     },
     "execution_count": 8,
     "metadata": {},
     "output_type": "execute_result"
    }
   ],
   "source": [
    "type(mydata)"
   ]
  },
  {
   "cell_type": "markdown",
   "metadata": {},
   "source": [
    "確かにfloat型になっています．ここで使用した変数名mydataですが，整数の説明のところで既に使用されていてint型になっていました．このように使用されている変数であっても再利用することによって新しいデータ型に変更されます．\n",
    "\n",
    "#### 指数表記\n",
    "桁数の大きな数値や桁数の小さな数値をそのまま記述するのは大変なので$a\\dot\\times 10^b$という指数表記を用います．\n",
    "指数表記では指数部分$b$を英字「e」または「E」の後に記載します．\n",
    "\n",
    "| 指数表記 | 数式による表現 | 　実際の数値　 |\n",
    "| :---: | :---: | :---: |\n",
    "| 1e6   | $1\\times 10^6$    | $1,000,000$ |\n",
    "| 24E3  | $24\\times 10^3$   | $24,000$    |\n",
    "| 5.5e4 | $5.5\\times 10^4$  | $55,000$    |\n",
    "| -3e1  | $-3\\times 10^1$   | $-30$       |\n",
    "| 7e-1  | $7\\times 10^{-1}$ | $0.7$       |\n",
    "\n",
    "具体的にCodeセルにて確認してください．"
   ]
  },
  {
   "cell_type": "code",
   "execution_count": 9,
   "metadata": {},
   "outputs": [
    {
     "data": {
      "text/plain": [
       "100.0"
      ]
     },
     "execution_count": 9,
     "metadata": {},
     "output_type": "execute_result"
    }
   ],
   "source": [
    "1e2"
   ]
  },
  {
   "cell_type": "markdown",
   "metadata": {},
   "source": [
    "このように指数表記は便利ですが，あまりにも大きな数値は無限大と解釈されます．"
   ]
  },
  {
   "cell_type": "code",
   "execution_count": 10,
   "metadata": {},
   "outputs": [
    {
     "data": {
      "text/plain": [
       "inf"
      ]
     },
     "execution_count": 10,
     "metadata": {},
     "output_type": "execute_result"
    }
   ],
   "source": [
    "1e309"
   ]
  },
  {
   "cell_type": "markdown",
   "metadata": {},
   "source": [
    "この「inf」はfloat型のデータでは収まらない大きな数字であることを表しています．数学的意味での無限大ではありませんが，近似の世界では無限大と見なします．\n",
    "これとは逆にものすごく小さな数値はゼロとみなされるので，論理的にゼロでなくてもゼロ割エラーが発生することがあります．\n",
    "機械学習で漸近的に数値を求めていくことがありますが，繰り返し計算の中で極めて小さな数値で割る可能性があり，高度なデータ処理では回避策を組み込むことが必然となります．"
   ]
  },
  {
   "cell_type": "markdown",
   "metadata": {},
   "source": [
    "*****\n",
    "数値計算においてint型であるかfloat型であるかを気にする必要はありません．Pythonが適切に型変換を行って結果を出してくれます．\n",
    "基本的には，int型とfloat型の演算をするとfloat型になります．\n",
    "*****"
   ]
  },
  {
   "cell_type": "markdown",
   "metadata": {},
   "source": [
    "### str型（文字列）\n",
    "文字列は，シングルコーテーション（'）あるいはダブルコーテーション（\"）で囲うことによって表現されます．\n",
    "```Python\n",
    "'Hello'\n",
    "```\n",
    "これを変数に代入するとstr型となります．"
   ]
  },
  {
   "cell_type": "code",
   "execution_count": 11,
   "metadata": {},
   "outputs": [
    {
     "data": {
      "text/plain": [
       "'Hello'"
      ]
     },
     "execution_count": 11,
     "metadata": {},
     "output_type": "execute_result"
    }
   ],
   "source": [
    "mydata = 'Hello'\n",
    "mydata"
   ]
  },
  {
   "cell_type": "code",
   "execution_count": 12,
   "metadata": {},
   "outputs": [
    {
     "data": {
      "text/plain": [
       "str"
      ]
     },
     "execution_count": 12,
     "metadata": {},
     "output_type": "execute_result"
    }
   ],
   "source": [
    "type(mydata)"
   ]
  },
  {
   "cell_type": "markdown",
   "metadata": {},
   "source": [
    "確かにstr型になっています．\n",
    "文字列データを連結することは頻繁にあります．Pythonでは文字連結をプラス記号「+」による演算で実現します．\n",
    "「Hello」という文字列が格納されている変数mydataに「, world!」を追加してデータの値を「Hello, world!」としてみます．命令文をそのままの意味に沿って記述すると，\n",
    "```Python\n",
    "mydata = mydata + ', world!'\n",
    "```\n",
    "\n",
    "となりますが，「+=」という演算子が用意されていて，\n",
    "```Python\n",
    "mydata += ', world!'\n",
    "```\n",
    "\n",
    "と記述しても同じ処理になります．"
   ]
  },
  {
   "cell_type": "code",
   "execution_count": 13,
   "metadata": {},
   "outputs": [
    {
     "data": {
      "text/plain": [
       "'Hello, world!'"
      ]
     },
     "execution_count": 13,
     "metadata": {},
     "output_type": "execute_result"
    }
   ],
   "source": [
    "mydata += ', world!'\n",
    "mydata"
   ]
  },
  {
   "cell_type": "markdown",
   "metadata": {},
   "source": [
    "この例にあるように数値の四則演算に使う記号もオブジェクトのタイプが異なると全く違う処理を行います．\n",
    "文字列に使える四則演算子としては，アスタリスク「\\*」があります．数字の場合は掛け算となりますが，文字列に適用するには，もう一方がint型であることが要求され，結果は元の文字列を掛ける整数回繰り返した文字列となります．"
   ]
  },
  {
   "cell_type": "code",
   "execution_count": 14,
   "metadata": {},
   "outputs": [
    {
     "data": {
      "text/plain": [
       "'Thank you! Thank you! Thank you! '"
      ]
     },
     "execution_count": 14,
     "metadata": {},
     "output_type": "execute_result"
    }
   ],
   "source": [
    "'Thank you! ' * 3"
   ]
  },
  {
   "cell_type": "markdown",
   "metadata": {},
   "source": [
    "掛ける整数がゼロまたは負の数の場合は，ブランクの文字列となります．\n",
    "\n",
    "##### シングルコーテーション（'）とダブルコーテーション（\"）\n",
    "文字列を表現するときのシングルコーテーション（'）とダブルコーテーション（\"）の使い分けは，文章内部に含まれない方の記号で囲うことが一つの判断となります．\n",
    "```Python\n",
    "\"That's right!\"\n",
    "```\n",
    "\n",
    "この場合，文章の中にシングルコーテーション（'）が含まれているので，全体とシングルコーテーションで囲うと「That」を一つの文字列と見なすため，その後に続く文字列が構文エラーとなります．よって，この文の場合はダブルコーテーション（\"）を採用します．"
   ]
  },
  {
   "cell_type": "code",
   "execution_count": 15,
   "metadata": {},
   "outputs": [
    {
     "data": {
      "text/plain": [
       "\"That's right!\""
      ]
     },
     "execution_count": 15,
     "metadata": {},
     "output_type": "execute_result"
    }
   ],
   "source": [
    "\"That's right!\""
   ]
  },
  {
   "cell_type": "markdown",
   "metadata": {},
   "source": [
    "文字列の中にシングルコーテーション（'）とダブルコーテーション（\"）の両方を記述する場合は，バックスラッシュ（\\）によるエスケープシーケンスを使って表現します．ちなみにバックスラッシュ（\\）と円マーク（$\\yen$）は同じ文字コードです．かつてコンピューターが日本に導入されたときに金額表示に円マークが必要であったため，当時あまり使われないだろうと思われたバックスラッシュのコードに円マークを割り当てた経緯があり，そのまま今日に至っています．\n",
    "```Python\n",
    "'He said \"It\\'s OK.\"'\n",
    "```\n",
    "この文全体をシングルコーテーションで囲っているので「It's」にあるアポストロフィーはバックスラッシュ（\\）を付けて記入する必要があります．"
   ]
  },
  {
   "cell_type": "code",
   "execution_count": 16,
   "metadata": {},
   "outputs": [
    {
     "data": {
      "text/plain": [
       "'He said \"It\\'s OK.\"'"
      ]
     },
     "execution_count": 16,
     "metadata": {},
     "output_type": "execute_result"
    }
   ],
   "source": [
    "'He said \"It\\'s OK.\"'"
   ]
  },
  {
   "cell_type": "markdown",
   "metadata": {},
   "source": [
    "この文はシングルコーテーションで囲まれているので，ダブルコーテーション記号はそのまま記載することができますが，バックスラッシュを付けたエスケープシーケンス（\\\"）としても問題は在りません．\n",
    "\n",
    "#### エスケープシーケンス\n",
    "シングルコーテーションとダブルコーテーションの扱いで見たように，直接記入することが困難な文字についてはバックスラッシュを付けたエスケープシーケンスで表現します．代表的なエスケープシーケンスを記載します．\n",
    "\n",
    "| エスケープシーケンス | 意味 |\n",
    "| :---: | :--- |\n",
    "| \\'   | シングルコーテーション |\n",
    "| \\\"   | ダブルコーテーション |\n",
    "| \\\\\\\\ | バックスラッシュ |\n",
    "| \\t   | タブ |\n",
    "| \\n   | 改行 |\n",
    "\n",
    "かつてはプリンターの出力制御のために多くのエスケープシーケンスが用いられましたが，現在ではそのような目的で使われることは少なくなっています．"
   ]
  },
  {
   "cell_type": "markdown",
   "metadata": {},
   "source": [
    "#### raw文字列\n",
    "プログラムの中では頻繁にファイルの所在場所を示すディレクトリーを扱います．例えば，Windowsでは「C:\\users\\myname\\python\\data」というような文字列になります．この文字列にはバックスラッシュが頻出するのでエスケープシーケンスを使って記載すると次のようになります.\n",
    "```Python\n",
    "'C:\\\\users\\\\myname\\\\python\\\\data'\n",
    "```\n",
    "\n",
    "このように書き換えることは煩わしい作業になります．そこでraw文字列を使って記載します．raw文字列とは，文字列中のバックスラッシュによるエスケープシーケンスをを無効にしてバックスラッシュのまま扱います．書き方は文字列の前に「r」あるいは「R」を付けるだけです．\n",
    "```Python\n",
    "r'C:\\users\\myname\\python\\data'\n",
    "```\n"
   ]
  },
  {
   "cell_type": "code",
   "execution_count": 17,
   "metadata": {},
   "outputs": [
    {
     "data": {
      "text/plain": [
       "'C:\\\\users\\\\myname\\\\python\\\\data'"
      ]
     },
     "execution_count": 17,
     "metadata": {},
     "output_type": "execute_result"
    }
   ],
   "source": [
    "r'C:\\users\\myname\\python\\data'"
   ]
  },
  {
   "cell_type": "markdown",
   "metadata": {},
   "source": [
    "このようにraw文字列では，内部表現としては「\\」を「\\\\\\\\」とすることによってバックスラッシュとして維持しています．\n",
    "raw文字列の書式としては，下記のどれでも同じ文字列となります．\n",
    "```Python\n",
    "r'C:\\users\\myname\\python\\data'\n",
    "R'C:\\users\\myname\\python\\data'\n",
    "r\"C:\\users\\myname\\python\\data\"\n",
    "R\"C:\\users\\myname\\python\\data\"\n",
    "```\n",
    "\n",
    "いずれでも同じなので，ディレクトリーを記述するときはraw文字列にすると覚えてください．\n",
    "*****"
   ]
  },
  {
   "cell_type": "markdown",
   "metadata": {},
   "source": [
    "### bool型（真偽値）\n",
    "様々な状況において正しか否かの判定をするときに，判定結果を表すデータを真偽値と言います．真偽値は真と偽の2通りの値しか取りません．\n",
    "真と偽の値はそれぞれ「True」と「False」という値で示されます．そして真偽値を保有するデータの型をbool型といいます．\n",
    "\n",
    "一般的に何かを判定する場合，2つの値を比較して真偽値を求めます．\n",
    "そのために比較演算子を使います．次表はPythonで用意されている比較演算子です．\n",
    "\n",
    "| 演算子 | 使用例 | 　　説明　　 |\n",
    "| :---: | :---: | :--- |\n",
    "| == | a == b | aとbが等しい場合にTrue，そうでない場合はFalse |\n",
    "| != | a != b | aとbが不一致の場合にTrue，そうでない場合はFalse |\n",
    "| <  | a < b  | aがbより小さい場合にTrue，そうでない場合はFalse |\n",
    "| <= | a <= b | aがb以下の場合にTrue，そうでない場合はFalse |\n",
    "| >  | a > b  | aがbより大きい場合にTrue，そうでない場合はFalse |\n",
    "| >= | a >= b | aがb以上の場合にTrue，そうでない場合はFalse |\n",
    "\n",
    "ここで変数fishを定義します．この変数の値が「salmon」や「tuna」と等しいかを比較演算子「==」を用いて確認します．\n",
    "比較結果はFalseとTrueになります．"
   ]
  },
  {
   "cell_type": "code",
   "execution_count": 18,
   "metadata": {},
   "outputs": [
    {
     "data": {
      "text/plain": [
       "False"
      ]
     },
     "execution_count": 18,
     "metadata": {},
     "output_type": "execute_result"
    }
   ],
   "source": [
    "fish = 'tuna'\n",
    "'salmon' == fish"
   ]
  },
  {
   "cell_type": "code",
   "execution_count": 19,
   "metadata": {},
   "outputs": [
    {
     "data": {
      "text/plain": [
       "True"
      ]
     },
     "execution_count": 19,
     "metadata": {},
     "output_type": "execute_result"
    }
   ],
   "source": [
    "'tuna' == fish"
   ]
  },
  {
   "cell_type": "markdown",
   "metadata": {},
   "source": [
    "比較演算式を「fish == 'tuna'」と書かずに「'tuna' == fish」と書いたことには些細な理由があります．\n",
    "仮に「fish == 'tuna'」と書くと，「fish = 'tuna'」と書き間違えた場合に代入文を実行してしまします．\n",
    "ところが「'tuna' == fish」と書けば，「'tuna' = fish」と書き間違えたらエラーが発生します．\n",
    "つまり，事前にバグを回避する用心深い記述になります．\n",
    "\n",
    "比較した結果をdecisionとう変数に代入して，その変数のデータ型を確認します．"
   ]
  },
  {
   "cell_type": "code",
   "execution_count": 20,
   "metadata": {},
   "outputs": [
    {
     "data": {
      "text/plain": [
       "bool"
      ]
     },
     "execution_count": 20,
     "metadata": {},
     "output_type": "execute_result"
    }
   ],
   "source": [
    "decision = ('tuna' == fish)\n",
    "type(decision)"
   ]
  },
  {
   "cell_type": "markdown",
   "metadata": {},
   "source": [
    "真偽値はプログラムを制御するための重要な要素となります．真偽の判定は様々な方法で行われますが，多くのトラブルが発生する箇所でもあります．特に比較対象の変数に値が入っていない場合などが注意点となります．\n",
    "*****\n",
    "\n",
    "以上で基本となるデータ型について一通り学習しました．"
   ]
  }
 ],
 "metadata": {
  "kernelspec": {
   "display_name": "Python 3",
   "language": "python",
   "name": "python3"
  },
  "language_info": {
   "codemirror_mode": {
    "name": "ipython",
    "version": 3
   },
   "file_extension": ".py",
   "mimetype": "text/x-python",
   "name": "python",
   "nbconvert_exporter": "python",
   "pygments_lexer": "ipython3",
   "version": "3.6.1"
  }
 },
 "nbformat": 4,
 "nbformat_minor": 2
}
