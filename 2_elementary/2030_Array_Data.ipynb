{
 "cells": [
  {
   "cell_type": "markdown",
   "metadata": {},
   "source": [
    "## 3. 配列データ\n",
    "Pythonには3種類の標準的な配列オブジェクトが用意されています．\n",
    "配列データの取扱いはデータ分析の基礎になりますし，簡素なプログラムを作る上で欠かせないものです．\n",
    "\n",
    "| タイプ | 　　特徴　　 |\n",
    "| :---:  | :--- |\n",
    "| list   | リスト配列，値の追加・変更・削除が自由，数字インデックス |\n",
    "| tuple  | listと似ているが，一旦定義された変数の値を変更できない   |\n",
    "| dict   | 辞書，連想記憶，インデックスにオブジェクトの付いたリスト |\n",
    "\n",
    "これらの配列データについて順番に確認していきます．"
   ]
  },
  {
   "cell_type": "markdown",
   "metadata": {},
   "source": [
    "*****\n",
    "### リスト\n",
    "リストは複数のオブジェクトを角括弧[ ]の中にカンマで区切って格納します．\n",
    "リストの要素には任意のデータ型を入れることができます．先ずは，5個の文字列を持ったリスト変数myListを作成します．\n",
    "```Python\n",
    "myList = ['apple','banana','cherry','orange','peach']\n",
    "```"
   ]
  },
  {
   "cell_type": "code",
   "execution_count": 1,
   "metadata": {},
   "outputs": [
    {
     "data": {
      "text/plain": [
       "['apple', 'banana', 'cherry', 'orange', 'peach']"
      ]
     },
     "execution_count": 1,
     "metadata": {},
     "output_type": "execute_result"
    }
   ],
   "source": [
    "myList = ['apple','banana','cherry','orange','peach']\n",
    "myList"
   ]
  },
  {
   "cell_type": "markdown",
   "metadata": {},
   "source": [
    "ここで作成した変数myListのデータ型を<font color=green>type()</font>関数で確認します．\n",
    "```Python\n",
    "type(myList)\n",
    "```"
   ]
  },
  {
   "cell_type": "code",
   "execution_count": 2,
   "metadata": {},
   "outputs": [
    {
     "data": {
      "text/plain": [
       "list"
      ]
     },
     "execution_count": 2,
     "metadata": {},
     "output_type": "execute_result"
    }
   ],
   "source": [
    "type(myList)"
   ]
  },
  {
   "cell_type": "markdown",
   "metadata": {},
   "source": [
    "#### 参照\n",
    "リストの各要素を参照する場合は，変数名の後に角括弧[ ]でインデックスの番号を指定します．最初のインデックスは0から始まることに注意してください．\n",
    "リスト配列の最初の要素を参照してみます．\n",
    "```Python\n",
    "myList[0]\n",
    "```"
   ]
  },
  {
   "cell_type": "code",
   "execution_count": 3,
   "metadata": {},
   "outputs": [
    {
     "data": {
      "text/plain": [
       "'apple'"
      ]
     },
     "execution_count": 3,
     "metadata": {},
     "output_type": "execute_result"
    }
   ],
   "source": [
    "myList[0]"
   ]
  },
  {
   "cell_type": "markdown",
   "metadata": {},
   "source": [
    "リスト配列の2番目の要素を参照してみます．\n",
    "```Python\n",
    "myList[1]\n",
    "```"
   ]
  },
  {
   "cell_type": "code",
   "execution_count": 4,
   "metadata": {},
   "outputs": [
    {
     "data": {
      "text/plain": [
       "'banana'"
      ]
     },
     "execution_count": 4,
     "metadata": {},
     "output_type": "execute_result"
    }
   ],
   "source": [
    "myList[1]"
   ]
  },
  {
   "cell_type": "markdown",
   "metadata": {},
   "source": [
    "リストの一部分を参照する場合は，角括弧内のインデックスを[m:n]という表記にします．ここでmは最初の要素のインデックスですが，nは最後の要素の次の要素にすることに注意してください．\n",
    "```Python\n",
    "myList[1:3]\n",
    "```"
   ]
  },
  {
   "cell_type": "code",
   "execution_count": 5,
   "metadata": {},
   "outputs": [
    {
     "data": {
      "text/plain": [
       "['banana', 'cherry']"
      ]
     },
     "execution_count": 5,
     "metadata": {},
     "output_type": "execute_result"
    }
   ],
   "source": [
    "myList[1:3]"
   ]
  },
  {
   "cell_type": "markdown",
   "metadata": {},
   "source": [
    "リストの要素の個数は<font color=green>len()</font>関数によって調べることができます．\n",
    "```Python\n",
    "len(myList)\n",
    "```"
   ]
  },
  {
   "cell_type": "code",
   "execution_count": 6,
   "metadata": {},
   "outputs": [
    {
     "data": {
      "text/plain": [
       "5"
      ]
     },
     "execution_count": 6,
     "metadata": {},
     "output_type": "execute_result"
    }
   ],
   "source": [
    "len(myList)"
   ]
  },
  {
   "cell_type": "markdown",
   "metadata": {},
   "source": [
    "このようにlen()関数を使えば，要素の最後のインデックスはlen()-1によって分かりますが，要素の個数を調べずにインデックスに-1を記載することによって最後の要素を参照することもできます．\n",
    "```Python\n",
    "myList[-1]\n",
    "```"
   ]
  },
  {
   "cell_type": "code",
   "execution_count": 7,
   "metadata": {},
   "outputs": [
    {
     "data": {
      "text/plain": [
       "'peach'"
      ]
     },
     "execution_count": 7,
     "metadata": {},
     "output_type": "execute_result"
    }
   ],
   "source": [
    "myList[-1]"
   ]
  },
  {
   "cell_type": "markdown",
   "metadata": {},
   "source": [
    "#### 追加・連結・挿入\n",
    "リストに新たな要素を一つ追加する場合は<font color=green>append()</font>メソッドを使います．\n",
    "```Python\n",
    "myList.append('watermelon')\n",
    "```"
   ]
  },
  {
   "cell_type": "code",
   "execution_count": 8,
   "metadata": {},
   "outputs": [
    {
     "data": {
      "text/plain": [
       "['apple', 'banana', 'cherry', 'orange', 'peach', 'watermelon']"
      ]
     },
     "execution_count": 8,
     "metadata": {},
     "output_type": "execute_result"
    }
   ],
   "source": [
    "myList.append('watermelon')\n",
    "myList"
   ]
  },
  {
   "cell_type": "markdown",
   "metadata": {},
   "source": [
    "リストに複数の要素を追加する場合は<font color=green>extend()</font>メソッドを用い変数にリストを指定します．\n",
    "```Python\n",
    "myList.extend(['grape','pear'])\n",
    "```"
   ]
  },
  {
   "cell_type": "code",
   "execution_count": 9,
   "metadata": {},
   "outputs": [
    {
     "data": {
      "text/plain": [
       "['apple', 'banana', 'cherry', 'orange', 'peach', 'watermelon', 'grape', 'pear']"
      ]
     },
     "execution_count": 9,
     "metadata": {},
     "output_type": "execute_result"
    }
   ],
   "source": [
    "myList.extend(['grape','pear'])\n",
    "myList"
   ]
  },
  {
   "cell_type": "markdown",
   "metadata": {},
   "source": [
    "またリストの途中に新たな要素を挿入する場合は<font color=green>insert()</font>メソッドを用い，変数として挿入位置のインデックスと新たな要素を指定します．\n",
    "```Python\n",
    "myList.insert(3,'mango')\n",
    "```"
   ]
  },
  {
   "cell_type": "code",
   "execution_count": 10,
   "metadata": {},
   "outputs": [
    {
     "data": {
      "text/plain": [
       "['apple',\n",
       " 'banana',\n",
       " 'cherry',\n",
       " 'mango',\n",
       " 'orange',\n",
       " 'peach',\n",
       " 'watermelon',\n",
       " 'grape',\n",
       " 'pear']"
      ]
     },
     "execution_count": 10,
     "metadata": {},
     "output_type": "execute_result"
    }
   ],
   "source": [
    "myList.insert(3,'mango')\n",
    "myList"
   ]
  },
  {
   "cell_type": "markdown",
   "metadata": {},
   "source": [
    "#### 削除・取り出し\n",
    "単に要素のインデックスを指定して削除する場合は，具体的に要素を明示して<font color=green>del</font>命令文を用います．\n",
    "```Python\n",
    "del myList[1]\n",
    "```"
   ]
  },
  {
   "cell_type": "code",
   "execution_count": 11,
   "metadata": {},
   "outputs": [
    {
     "data": {
      "text/plain": [
       "['apple', 'cherry', 'mango', 'orange', 'peach', 'watermelon', 'grape', 'pear']"
      ]
     },
     "execution_count": 11,
     "metadata": {},
     "output_type": "execute_result"
    }
   ],
   "source": [
    "del myList[1]\n",
    "myList"
   ]
  },
  {
   "cell_type": "markdown",
   "metadata": {},
   "source": [
    "リストから要素を取り出して同時にリストから取り除く一連の処理は<font color=green>pop()</font>メソッドで実現します．\n",
    "```Python\n",
    "myList.pop(0)\n",
    "```"
   ]
  },
  {
   "cell_type": "code",
   "execution_count": 12,
   "metadata": {},
   "outputs": [
    {
     "data": {
      "text/plain": [
       "'apple'"
      ]
     },
     "execution_count": 12,
     "metadata": {},
     "output_type": "execute_result"
    }
   ],
   "source": [
    "myList.pop(0)"
   ]
  },
  {
   "cell_type": "markdown",
   "metadata": {},
   "source": [
    "残ったリストの内容を確認してみましょう．"
   ]
  },
  {
   "cell_type": "code",
   "execution_count": 13,
   "metadata": {},
   "outputs": [
    {
     "data": {
      "text/plain": [
       "['cherry', 'mango', 'orange', 'peach', 'watermelon', 'grape', 'pear']"
      ]
     },
     "execution_count": 13,
     "metadata": {},
     "output_type": "execute_result"
    }
   ],
   "source": [
    "myList"
   ]
  },
  {
   "cell_type": "markdown",
   "metadata": {},
   "source": [
    "要素の値を指定してリストから削除する場合は<font color=green>remove()</font>メソッドを用います．ただし，同じ値が複数ある場合はインデックスの小さい方の値が削除されます．\n",
    "```Python\n",
    "myList.remove('watermelon')\n",
    "```"
   ]
  },
  {
   "cell_type": "code",
   "execution_count": 14,
   "metadata": {},
   "outputs": [
    {
     "data": {
      "text/plain": [
       "['cherry', 'mango', 'orange', 'peach', 'grape', 'pear']"
      ]
     },
     "execution_count": 14,
     "metadata": {},
     "output_type": "execute_result"
    }
   ],
   "source": [
    "myList.remove('watermelon')\n",
    "myList"
   ]
  },
  {
   "cell_type": "markdown",
   "metadata": {},
   "source": [
    "#### 書き換え\n",
    "インンデックスで指定した要素の値を変更することも可能です．\n",
    "次の変更を実施してみましょう．\n",
    "```Python\n",
    "myList[4] = 'mandarin orange'\n",
    "```"
   ]
  },
  {
   "cell_type": "code",
   "execution_count": 15,
   "metadata": {},
   "outputs": [
    {
     "data": {
      "text/plain": [
       "['cherry', 'mango', 'orange', 'peach', 'mandarin orange', 'pear']"
      ]
     },
     "execution_count": 15,
     "metadata": {},
     "output_type": "execute_result"
    }
   ],
   "source": [
    "myList[4] = 'mandarin orange'\n",
    "myList"
   ]
  },
  {
   "cell_type": "markdown",
   "metadata": {},
   "source": [
    "ここまでリストの中身は文字列を扱ってきましたが，一つのリストの中に任意のオブジェクトを格納することができます．先ずは、数値を入れてみます．\n",
    "```Python\n",
    "myList[1] = 3.14\n",
    "```"
   ]
  },
  {
   "cell_type": "code",
   "execution_count": 16,
   "metadata": {},
   "outputs": [
    {
     "data": {
      "text/plain": [
       "['cherry', 3.14, 'orange', 'peach', 'mandarin orange', 'pear']"
      ]
     },
     "execution_count": 16,
     "metadata": {},
     "output_type": "execute_result"
    }
   ],
   "source": [
    "myList[1] = 3.14\n",
    "myList"
   ]
  },
  {
   "cell_type": "markdown",
   "metadata": {},
   "source": [
    "*****\n",
    "次にリストの代入について確認しましょう．リストの代入については，参照とコピーの違いを理解しておくことが大切です．\n",
    "新しい変数yourListにmyListを代入することを考えて\n",
    "\n",
    "> yourList = myList\n",
    "\n",
    "としてみます．このときyourListに何がセットされるか確認します．"
   ]
  },
  {
   "cell_type": "code",
   "execution_count": 17,
   "metadata": {},
   "outputs": [
    {
     "data": {
      "text/plain": [
       "['cherry', 3.14, 'orange', 'peach', 'mandarin orange', 'pear']"
      ]
     },
     "execution_count": 17,
     "metadata": {},
     "output_type": "execute_result"
    }
   ],
   "source": [
    "yourList = myList\n",
    "yourList"
   ]
  },
  {
   "cell_type": "markdown",
   "metadata": {},
   "source": [
    "ここでyourListから幾つかの要素を削除してみます．\n",
    "```Python\n",
    "del yourList[4:]\n",
    "```"
   ]
  },
  {
   "cell_type": "code",
   "execution_count": 18,
   "metadata": {},
   "outputs": [
    {
     "data": {
      "text/plain": [
       "['cherry', 3.14, 'orange', 'peach']"
      ]
     },
     "execution_count": 18,
     "metadata": {},
     "output_type": "execute_result"
    }
   ],
   "source": [
    "del yourList[4:]\n",
    "yourList"
   ]
  },
  {
   "cell_type": "markdown",
   "metadata": {},
   "source": [
    "このときmyListはどうなっているか，値を確認してみます．"
   ]
  },
  {
   "cell_type": "code",
   "execution_count": 19,
   "metadata": {},
   "outputs": [
    {
     "data": {
      "text/plain": [
       "['cherry', 3.14, 'orange', 'peach']"
      ]
     },
     "execution_count": 19,
     "metadata": {},
     "output_type": "execute_result"
    }
   ],
   "source": [
    "myList"
   ]
  },
  {
   "cell_type": "markdown",
   "metadata": {},
   "source": [
    "どうでしょう．myListの方も変更されています．<font color=orangered>つまり代入文\n",
    "\n",
    "> yourList = myList\n",
    "\n",
    "はリストそのものをコピーして代入したのではなく，myListに新たにyourListという別名を付ける処理になっています．</font><br>\n",
    "では，完全に別の実体として新しいリストにコピーする方法を見てみましょう．その方法は，myListを参照するときに，myList[:]と記載することです．\n",
    "\n",
    "> <font color=blue>theirList = myList[:]</font>\n",
    "\n",
    "この方法で作成したtheirListが別物であることを確認します．"
   ]
  },
  {
   "cell_type": "code",
   "execution_count": 20,
   "metadata": {},
   "outputs": [
    {
     "data": {
      "text/plain": [
       "['cherry', 3.14, 'orange', 'peach']"
      ]
     },
     "execution_count": 20,
     "metadata": {},
     "output_type": "execute_result"
    }
   ],
   "source": [
    "theirList = myList[:]\n",
    "theirList"
   ]
  },
  {
   "cell_type": "markdown",
   "metadata": {},
   "source": [
    "theirListの内容を変更します．\n",
    "```Python\n",
    "del theirList[2:]\n",
    "```"
   ]
  },
  {
   "cell_type": "code",
   "execution_count": 21,
   "metadata": {},
   "outputs": [
    {
     "data": {
      "text/plain": [
       "['cherry', 3.14]"
      ]
     },
     "execution_count": 21,
     "metadata": {},
     "output_type": "execute_result"
    }
   ],
   "source": [
    "del theirList[2:]\n",
    "theirList"
   ]
  },
  {
   "cell_type": "markdown",
   "metadata": {},
   "source": [
    "myListの中身に影響がないことを確認します．"
   ]
  },
  {
   "cell_type": "code",
   "execution_count": 22,
   "metadata": {},
   "outputs": [
    {
     "data": {
      "text/plain": [
       "['cherry', 3.14, 'orange', 'peach']"
      ]
     },
     "execution_count": 22,
     "metadata": {},
     "output_type": "execute_result"
    }
   ],
   "source": [
    "myList"
   ]
  },
  {
   "cell_type": "markdown",
   "metadata": {},
   "source": [
    "今度はmyListに影響を及ぼさないので，theirListは別物だと分かります．\n",
    "\n",
    "リストに対してインデックスを指定して値を取り出しましたが，その逆にある値のインデックスを求めることも<font color=green>index()</font>メソッドを使ってできます．\n",
    "```Python\n",
    "myList.index('orange')\n",
    "```"
   ]
  },
  {
   "cell_type": "code",
   "execution_count": 23,
   "metadata": {},
   "outputs": [
    {
     "data": {
      "text/plain": [
       "2"
      ]
     },
     "execution_count": 23,
     "metadata": {},
     "output_type": "execute_result"
    }
   ],
   "source": [
    "myList.index('orange')"
   ]
  },
  {
   "cell_type": "markdown",
   "metadata": {},
   "source": [
    "#### 配列の並び替え（sort）\n",
    "配列に入っている要素を綺麗に並び替えたいという要求は常にあります．\n",
    "リストには<font color=green>sort()</font>メソッドがあり，これを実行するとリスト内で並び替えが行われます．\n",
    "```Python\n",
    "randomList = [5,-3,-10,20,7,3]\n",
    "```"
   ]
  },
  {
   "cell_type": "code",
   "execution_count": 24,
   "metadata": {},
   "outputs": [
    {
     "data": {
      "text/plain": [
       "[5, -3, -10, 20, 7, 3]"
      ]
     },
     "execution_count": 24,
     "metadata": {},
     "output_type": "execute_result"
    }
   ],
   "source": [
    "randomList = [5,-3,-10,20,7,3]\n",
    "randomList"
   ]
  },
  {
   "cell_type": "markdown",
   "metadata": {},
   "source": [
    "ここで変数randomListをランダムな数字のリストとします．このリストにおいてsort()メソッドを実行します．\n",
    "```Python\n",
    "randomList.sort()\n",
    "```"
   ]
  },
  {
   "cell_type": "code",
   "execution_count": 25,
   "metadata": {},
   "outputs": [
    {
     "data": {
      "text/plain": [
       "[-10, -3, 3, 5, 7, 20]"
      ]
     },
     "execution_count": 25,
     "metadata": {},
     "output_type": "execute_result"
    }
   ],
   "source": [
    "randomList.sort()\n",
    "randomList"
   ]
  },
  {
   "cell_type": "markdown",
   "metadata": {},
   "source": [
    "randomList内の並びが昇順（小さい順）に変わりました．<br>\n",
    "降順（大きい順）に並べたい場合は，sourt()メソッドの引数に<font color=green>reverse=True</font>と記載します．\n",
    "```Python\n",
    "randomList.sort(reverse=True)\n",
    "```"
   ]
  },
  {
   "cell_type": "code",
   "execution_count": 26,
   "metadata": {},
   "outputs": [
    {
     "data": {
      "text/plain": [
       "[20, 7, 5, 3, -3, -10]"
      ]
     },
     "execution_count": 26,
     "metadata": {},
     "output_type": "execute_result"
    }
   ],
   "source": [
    "randomList.sort(reverse=True)\n",
    "randomList"
   ]
  },
  {
   "cell_type": "markdown",
   "metadata": {},
   "source": [
    "#### 逆順への並べ替え（reverse）\n",
    "リストの並び順を逆にするには，<font color=green>reverse()</font>メソッドを用います．このメソッドも対象リストを直接並び替えます．\n",
    "```Python\n",
    "randomList = [5,-3,-10,20,7,3]\n",
    "```"
   ]
  },
  {
   "cell_type": "code",
   "execution_count": 27,
   "metadata": {},
   "outputs": [
    {
     "data": {
      "text/plain": [
       "[5, -3, -10, 20, 7, 3]"
      ]
     },
     "execution_count": 27,
     "metadata": {},
     "output_type": "execute_result"
    }
   ],
   "source": [
    "randomList = [5,-3,-10,20,7,3]\n",
    "randomList"
   ]
  },
  {
   "cell_type": "markdown",
   "metadata": {},
   "source": [
    "このrandomListの要素の並び順を逆にしましょう．\n",
    "```Python\n",
    "randomList.reverse()\n",
    "```"
   ]
  },
  {
   "cell_type": "code",
   "execution_count": 28,
   "metadata": {},
   "outputs": [
    {
     "data": {
      "text/plain": [
       "[3, 7, 20, -10, -3, 5]"
      ]
     },
     "execution_count": 28,
     "metadata": {},
     "output_type": "execute_result"
    }
   ],
   "source": [
    "randomList.reverse()\n",
    "randomList"
   ]
  },
  {
   "cell_type": "markdown",
   "metadata": {},
   "source": [
    "このように，リスト内の値に関係なく並び順を逆転します．"
   ]
  },
  {
   "cell_type": "markdown",
   "metadata": {},
   "source": [
    "#### 多重配列と行列\n",
    "リストの要素には任意のオブジェクトを代入できるので，リストの中にリストを入れることもできます．これにより多次元配列を構成することが可能となり，行列のようなデータが構築できます．一つの例として次の3行3列の行列を考えます．\n",
    "$$\n",
    "\\left(\n",
    "  \\begin{array}{c c c}\n",
    "    1 & 2 & 3 \\\\\n",
    "    4 & 5 & 6 \\\\\n",
    "    7 & 8 & 9\n",
    "  \\end{array}\n",
    "\\right)\n",
    "$$\n",
    "\n",
    "この行列をリストの多重化を用いて実現してみます．\n",
    "この行列をリスト配列で実現するには，次のように記述します．\n",
    "```Python\n",
    "simpleMatrix = [[1,2,3],[4,5,6],[7,8,9]]\n",
    "```"
   ]
  },
  {
   "cell_type": "code",
   "execution_count": 29,
   "metadata": {},
   "outputs": [
    {
     "data": {
      "text/plain": [
       "[[1, 2, 3], [4, 5, 6], [7, 8, 9]]"
      ]
     },
     "execution_count": 29,
     "metadata": {},
     "output_type": "execute_result"
    }
   ],
   "source": [
    "simpleMatrix = [[1,2,3],[4,5,6],[7,8,9]]\n",
    "simpleMatrix"
   ]
  },
  {
   "cell_type": "markdown",
   "metadata": {},
   "source": [
    "この配列を行列と見なして，3行2列目の数値にアクセスするにはsimpleMatrix\\[2][1]というように変数名に角括弧を二つ続けてインデックスを指定します．インデックスの値は0始まりなので3行2列目は[2][1]となります．\n",
    "この要素へのアクセスは次のようになります．\n",
    "```Python\n",
    "simpleMatrix[2][1]\n",
    "```"
   ]
  },
  {
   "cell_type": "code",
   "execution_count": 30,
   "metadata": {},
   "outputs": [
    {
     "data": {
      "text/plain": [
       "8"
      ]
     },
     "execution_count": 30,
     "metadata": {},
     "output_type": "execute_result"
    }
   ],
   "source": [
    "simpleMatrix[2][1]"
   ]
  },
  {
   "cell_type": "markdown",
   "metadata": {},
   "source": [
    "実際に行列計算が必要となり場合は行列計算に適したモジュールがNumPyというライブラリーで提供されていますのでNumPyを使って対応します．\n",
    "\n",
    "リストについては，まだ有益な情報がありますが，ひとまずここまでを正しく理解しましょう．\n",
    "*****"
   ]
  },
  {
   "cell_type": "markdown",
   "metadata": {},
   "source": [
    "### タプル（変更不可の配列）\n",
    "tupleは配列要素の追加・削除・変更ができない配列です．tupleは複数のオブジェクトを括弧内にカンマで区切って記載します．\n",
    "```Python\n",
    "myTuple = ('America','Brazil','Canada')\n",
    "```"
   ]
  },
  {
   "cell_type": "code",
   "execution_count": 31,
   "metadata": {},
   "outputs": [
    {
     "data": {
      "text/plain": [
       "('America', 'Brazil', 'Canada')"
      ]
     },
     "execution_count": 31,
     "metadata": {},
     "output_type": "execute_result"
    }
   ],
   "source": [
    "myTuple = ('America','Brazil','Canada')\n",
    "myTuple"
   ]
  },
  {
   "cell_type": "markdown",
   "metadata": {},
   "source": [
    "type()関数でデータ型を確認します．\n",
    "```Python\n",
    "type(myTuple)\n",
    "```"
   ]
  },
  {
   "cell_type": "code",
   "execution_count": 32,
   "metadata": {},
   "outputs": [
    {
     "data": {
      "text/plain": [
       "tuple"
      ]
     },
     "execution_count": 32,
     "metadata": {},
     "output_type": "execute_result"
    }
   ],
   "source": [
    "type(myTuple)"
   ]
  },
  {
   "cell_type": "markdown",
   "metadata": {},
   "source": [
    "各要素の参照はリストと同様に角括弧[ ]によってアクセスできます．\n",
    "次にように記載して2番目の要素にアクセスしてみましょう．\n",
    "```Python\n",
    " myTuple[1]\n",
    " ```"
   ]
  },
  {
   "cell_type": "code",
   "execution_count": 33,
   "metadata": {},
   "outputs": [
    {
     "data": {
      "text/plain": [
       "'Brazil'"
      ]
     },
     "execution_count": 33,
     "metadata": {},
     "output_type": "execute_result"
    }
   ],
   "source": [
    "myTuple[1]"
   ]
  },
  {
   "cell_type": "markdown",
   "metadata": {},
   "source": [
    "しかし，要素の値の変更や要素の追加・削除を行おうとするとエラーになります．\n",
    "<font color=red>\n",
    "> myTuple[1] = 'Japan'<br>\n",
    "> del myTuple[1]<br>\n",
    "</font>\n",
    "これらの操作はエラーとなりますが，タプル全体を削除したり置き換えることは可能ですので，この点は注意が必要です．\n",
    "次の代入文は完全な置き換えとなるので成立します．\n",
    "```Python\n",
    "myTuple = ('Denmark','England','France')\n",
    "```"
   ]
  },
  {
   "cell_type": "code",
   "execution_count": 34,
   "metadata": {},
   "outputs": [
    {
     "data": {
      "text/plain": [
       "('Denmark', 'England', 'France')"
      ]
     },
     "execution_count": 34,
     "metadata": {},
     "output_type": "execute_result"
    }
   ],
   "source": [
    "myTuple = ('Denmark','England','France')\n",
    "myTuple"
   ]
  },
  {
   "cell_type": "markdown",
   "metadata": {},
   "source": [
    "タプルは，リストやこの後に出てくる辞書に比べると使用頻度は少ないですが，次のようなメリットがあります．\n",
    "<font color=blue>\n",
    "- 配列の値が変わらない．\n",
    "- 関数の戻り値として使える．\n",
    "- 辞書のキーに使える．\n",
    "</font>\n",
    "ここでは詳細には踏み込みませんが，この特徴に沿って必要となる場合があります．\n",
    "一つの例として，複数の変数に一度に値を代入する場合にタプルが使えます．\n",
    "```Python\n",
    "country1, country2, country3 = myTuple\n",
    "```"
   ]
  },
  {
   "cell_type": "code",
   "execution_count": 35,
   "metadata": {},
   "outputs": [
    {
     "data": {
      "text/plain": [
       "'England'"
      ]
     },
     "execution_count": 35,
     "metadata": {},
     "output_type": "execute_result"
    }
   ],
   "source": [
    "country1, country2, country3 = myTuple\n",
    "country2"
   ]
  },
  {
   "cell_type": "markdown",
   "metadata": {},
   "source": [
    "リストとタプルの違いに気を付けて利用してください．\n",
    "*****"
   ]
  },
  {
   "cell_type": "markdown",
   "metadata": {},
   "source": [
    "### 辞書型配列（複雑なキーをインデックスに持つ配列）\n",
    "辞書型配列とはインデックスキーとして任意のオブジェクトを使用できる融通性の高い配列です．他の言語では連想配列とかハッシュ型，マップ型という名称で呼ばれています．プログラミング技術において辞書型配列の貢献は大きく，今では欠かせないものになっています．\n",
    "辞書型配列は波括弧の中に<font color=blue>キー</font>と<font color=blue>値</font>を\n",
    "\n",
    "> <font color=blue>{key1:value1,key2:value2,・・・}</font>\n",
    "\n",
    "と言う形式で記載します．注意点としては，キーに重複がないようにすることです．\n",
    "\n",
    "例として，変数myDictにジャズ史上最強のフロントラインを辞書型配列でセットします．\n",
    "\n",
    "| Player         | Instrument |\n",
    "| :---:          | :---:      |\n",
    "| Charlie Parker | alto sax   |\n",
    "| Miles Davis    | trumpet    |\n",
    "| John Coltrane  | tenor sax  |\n",
    "\n",
    "この表にてPlayerがインデックスになっています．この内容を辞書型配列に保持するには，次のように記載します．\n",
    "```Python\n",
    "myDict = {'Charlie Parker':'alto sax','Miles Davis':'trumpet','John Coltrane':'tenor sax'}\n",
    "```"
   ]
  },
  {
   "cell_type": "code",
   "execution_count": 36,
   "metadata": {},
   "outputs": [
    {
     "data": {
      "text/plain": [
       "{'Charlie Parker': 'alto sax',\n",
       " 'John Coltrane': 'tenor sax',\n",
       " 'Miles Davis': 'trumpet'}"
      ]
     },
     "execution_count": 36,
     "metadata": {},
     "output_type": "execute_result"
    }
   ],
   "source": [
    "myDict = {'Charlie Parker':'alto sax','Miles Davis':'trumpet','John Coltrane':'tenor sax'}\n",
    "myDict"
   ]
  },
  {
   "cell_type": "markdown",
   "metadata": {},
   "source": [
    "このデータ型をtype()関数で確認します．\n",
    "```Python\n",
    "type(myDict)\n",
    "```"
   ]
  },
  {
   "cell_type": "code",
   "execution_count": 37,
   "metadata": {},
   "outputs": [
    {
     "data": {
      "text/plain": [
       "dict"
      ]
     },
     "execution_count": 37,
     "metadata": {},
     "output_type": "execute_result"
    }
   ],
   "source": [
    "type(myDict)"
   ]
  },
  {
   "cell_type": "markdown",
   "metadata": {},
   "source": [
    "辞書型配列では配列内部での順序は定まっていません．要素を参照するときにmyDict[2]のように指定することはできません．キーを角括弧[ ]内にそのまま記載してアクセスします．\n",
    "```Python\n",
    "myDict['John Coltrane']\n",
    "```"
   ]
  },
  {
   "cell_type": "code",
   "execution_count": 38,
   "metadata": {},
   "outputs": [
    {
     "data": {
      "text/plain": [
       "'tenor sax'"
      ]
     },
     "execution_count": 38,
     "metadata": {},
     "output_type": "execute_result"
    }
   ],
   "source": [
    "myDict['John Coltrane']"
   ]
  },
  {
   "cell_type": "markdown",
   "metadata": {},
   "source": [
    "#### 値の変更\n",
    "ここでColtraneがソプラノSaxに持ち替えたので，値を変更します．\n",
    "値を変更する場合は，キーによって指定した要素に対して代入文を実施します．\n",
    "```Python\n",
    "myDict['John Coltrane'] = 'soprano sax'\n",
    "```"
   ]
  },
  {
   "cell_type": "code",
   "execution_count": 39,
   "metadata": {},
   "outputs": [
    {
     "data": {
      "text/plain": [
       "'soprano sax'"
      ]
     },
     "execution_count": 39,
     "metadata": {},
     "output_type": "execute_result"
    }
   ],
   "source": [
    "myDict['John Coltrane'] = 'soprano sax'\n",
    "myDict['John Coltrane']"
   ]
  },
  {
   "cell_type": "markdown",
   "metadata": {},
   "source": [
    "#### 要素の追加\n",
    "それではピアノのBad Powellを加えてみましょう．この操作は値の書き換えと同じ式で対応できますが，新しいキーを指定します．\n",
    "```Python\n",
    "myDict['Bad Powell'] = 'piano'\n",
    "```"
   ]
  },
  {
   "cell_type": "code",
   "execution_count": 40,
   "metadata": {},
   "outputs": [
    {
     "data": {
      "text/plain": [
       "{'Bad Powell': 'piano',\n",
       " 'Charlie Parker': 'alto sax',\n",
       " 'John Coltrane': 'soprano sax',\n",
       " 'Miles Davis': 'trumpet'}"
      ]
     },
     "execution_count": 40,
     "metadata": {},
     "output_type": "execute_result"
    }
   ],
   "source": [
    "myDict['Bad Powell'] = 'piano'\n",
    "myDict"
   ]
  },
  {
   "cell_type": "markdown",
   "metadata": {},
   "source": [
    "これにより、新しいキー'Bad Powell'とその値'piano'が追加されました．配列のサイズについて<font color=green>len()</font>関数で確認します．\n",
    "```Python\n",
    "len(myDict)\n",
    "```"
   ]
  },
  {
   "cell_type": "code",
   "execution_count": 41,
   "metadata": {},
   "outputs": [
    {
     "data": {
      "text/plain": [
       "4"
      ]
     },
     "execution_count": 41,
     "metadata": {},
     "output_type": "execute_result"
    }
   ],
   "source": [
    "len(myDict)"
   ]
  },
  {
   "cell_type": "markdown",
   "metadata": {},
   "source": [
    "#### 要素の削除\n",
    "要素の削除についてはリスト配列と同じく<font color=green>Del</font>命令文によって行えます．myDictからCarlie Parkerを取り除いてみましょう．\n",
    "```Python\n",
    "del myDict['Charlie Parker']\n",
    "```"
   ]
  },
  {
   "cell_type": "code",
   "execution_count": 42,
   "metadata": {},
   "outputs": [
    {
     "data": {
      "text/plain": [
       "{'Bad Powell': 'piano',\n",
       " 'John Coltrane': 'soprano sax',\n",
       " 'Miles Davis': 'trumpet'}"
      ]
     },
     "execution_count": 42,
     "metadata": {},
     "output_type": "execute_result"
    }
   ],
   "source": [
    "del myDict['Charlie Parker']\n",
    "myDict"
   ]
  },
  {
   "cell_type": "markdown",
   "metadata": {},
   "source": [
    "#### 要素の一括追加・変更\n",
    "一度の複数の要素の値を変更したり新規に追加する場合は<font color=green>update()</font>メソッドを用います．ベースのPaul ChambersとドラムスのPhilly Joe Jonesを参加させます．またColtraneがまたテナーSAXに持ち替えました．\n",
    "```Python\n",
    "myDict.update({'John Coltrane':'tenor sax','Paul Chambers':'bass','Philly Joe Jones':'drums'})\n",
    "```"
   ]
  },
  {
   "cell_type": "code",
   "execution_count": 43,
   "metadata": {},
   "outputs": [
    {
     "data": {
      "text/plain": [
       "{'Bad Powell': 'piano',\n",
       " 'John Coltrane': 'tenor sax',\n",
       " 'Miles Davis': 'trumpet',\n",
       " 'Paul Chambers': 'bass',\n",
       " 'Philly Joe Jones': 'drums'}"
      ]
     },
     "execution_count": 43,
     "metadata": {},
     "output_type": "execute_result"
    }
   ],
   "source": [
    "myDict.update({'John Coltrane':'tenor sax','Paul Chambers':'bass','Philly Joe Jones':'drums'})\n",
    "myDict"
   ]
  },
  {
   "cell_type": "markdown",
   "metadata": {},
   "source": [
    "さて，リスト配列と同様に<font color=green>pop()</font>メソッドによってdict配列の要素を取り出しながら削除することができます．パラメーターには取り出したい要素のキーを指定します．\n",
    "```Python\n",
    "myDict.pop('John Coltrane')\n",
    "```"
   ]
  },
  {
   "cell_type": "code",
   "execution_count": 44,
   "metadata": {},
   "outputs": [
    {
     "data": {
      "text/plain": [
       "'tenor sax'"
      ]
     },
     "execution_count": 44,
     "metadata": {},
     "output_type": "execute_result"
    }
   ],
   "source": [
    "myDict.pop('John Coltrane')"
   ]
  },
  {
   "cell_type": "markdown",
   "metadata": {},
   "source": [
    "残りの辞書配列の内容も確認しましょう．"
   ]
  },
  {
   "cell_type": "code",
   "execution_count": 45,
   "metadata": {},
   "outputs": [
    {
     "data": {
      "text/plain": [
       "{'Bad Powell': 'piano',\n",
       " 'Miles Davis': 'trumpet',\n",
       " 'Paul Chambers': 'bass',\n",
       " 'Philly Joe Jones': 'drums'}"
      ]
     },
     "execution_count": 45,
     "metadata": {},
     "output_type": "execute_result"
    }
   ],
   "source": [
    "myDict"
   ]
  },
  {
   "cell_type": "markdown",
   "metadata": {},
   "source": [
    "辞書型配列からキーのリストを取り出したいときはkeys()メソッドを用い，値のリストを取り出したいときはvalues()メソッドを用います．また，キーと値の対を得るにはitems()メソッドを用います．これらのメソッドはfor文で頻繁に使われます．\n",
    "\n",
    "- keys()   ・・・キーのリストを返す\n",
    "- values() ・・・値のリストを返す\n",
    "- items()  ・・・キーと値の対のリストを返す"
   ]
  },
  {
   "cell_type": "markdown",
   "metadata": {},
   "source": [
    "myDict変数のキーのリストを取得してみます．\n",
    "```Python\n",
    "myDict.keys()\n",
    "```"
   ]
  },
  {
   "cell_type": "code",
   "execution_count": 46,
   "metadata": {},
   "outputs": [
    {
     "data": {
      "text/plain": [
       "dict_keys(['Miles Davis', 'Bad Powell', 'Paul Chambers', 'Philly Joe Jones'])"
      ]
     },
     "execution_count": 46,
     "metadata": {},
     "output_type": "execute_result"
    }
   ],
   "source": [
    "myDict.keys()"
   ]
  },
  {
   "cell_type": "markdown",
   "metadata": {},
   "source": [
    "myDict変数の値のリストを取得してみましょう．\n",
    "```Python\n",
    "myDict.values()\n",
    "```"
   ]
  },
  {
   "cell_type": "code",
   "execution_count": 47,
   "metadata": {},
   "outputs": [
    {
     "data": {
      "text/plain": [
       "dict_values(['trumpet', 'piano', 'bass', 'drums'])"
      ]
     },
     "execution_count": 47,
     "metadata": {},
     "output_type": "execute_result"
    }
   ],
   "source": [
    "myDict.values()"
   ]
  },
  {
   "cell_type": "markdown",
   "metadata": {},
   "source": [
    "myDict変数のキーと値のペアのリストを取得してみます．\n",
    "```Python\n",
    "myDict.items()\n",
    "```"
   ]
  },
  {
   "cell_type": "code",
   "execution_count": 48,
   "metadata": {},
   "outputs": [
    {
     "data": {
      "text/plain": [
       "dict_items([('Miles Davis', 'trumpet'), ('Bad Powell', 'piano'), ('Paul Chambers', 'bass'), ('Philly Joe Jones', 'drums')])"
      ]
     },
     "execution_count": 48,
     "metadata": {},
     "output_type": "execute_result"
    }
   ],
   "source": [
    "myDict.items()"
   ]
  },
  {
   "cell_type": "markdown",
   "metadata": {},
   "source": [
    "ある値が辞書型配列の中にキーとして入っているか見るためには，in演算子を使用します．myDictにキーとして'Miles Davis'が存在するか確認してみます．\n",
    "```Python\n",
    "'Miles Davis' in myDict\n",
    "```"
   ]
  },
  {
   "cell_type": "code",
   "execution_count": 49,
   "metadata": {},
   "outputs": [
    {
     "data": {
      "text/plain": [
       "True"
      ]
     },
     "execution_count": 49,
     "metadata": {},
     "output_type": "execute_result"
    }
   ],
   "source": [
    "'Miles Davis' in myDict"
   ]
  },
  {
   "cell_type": "markdown",
   "metadata": {
    "collapsed": true
   },
   "source": [
    "辞書型データの利用価値は非常に高く，この利用法をマスターすると複雑な処理をシンプルなプログラムで対応することが可能となります．\n",
    "\n",
    "*****"
   ]
  }
 ],
 "metadata": {
  "kernelspec": {
   "display_name": "Python 3",
   "language": "python",
   "name": "python3"
  },
  "language_info": {
   "codemirror_mode": {
    "name": "ipython",
    "version": 3
   },
   "file_extension": ".py",
   "mimetype": "text/x-python",
   "name": "python",
   "nbconvert_exporter": "python",
   "pygments_lexer": "ipython3",
   "version": "3.6.1"
  }
 },
 "nbformat": 4,
 "nbformat_minor": 2
}
