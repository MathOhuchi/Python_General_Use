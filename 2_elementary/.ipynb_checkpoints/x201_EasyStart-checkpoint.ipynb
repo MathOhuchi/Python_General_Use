{
 "cells": [
  {
   "cell_type": "markdown",
   "metadata": {},
   "source": [
    "# 2.01 Jupyter notebook に慣れよう\n",
    "Jupyter notebookにはセルと呼ばれる四角い枠が用意されています．セルにはCode, Markdown, Raw NBConvertの3種類があり，ブラウザー上部のプルダウンメニューで選択できます．PythonのプログラムはCodeセルに記入します．Codeセルの左側にはIn [ ]というような表示が付きます．角括弧内の数字は今行われているセッションにおける実行順序の番号になっています．\n",
    "\n",
    "まずはJupyter notebookに慣れるために，簡単な処理から試してみましょう．一般的なプログラミング言語と同じよう計算式がPythonでも問題なく実施できます．では，つぎの四則演算を行いましょう．\n",
    "\n",
    "> $(2 + 3)\\times(4 - 7)\\div2$\n",
    "\n",
    "既に学習したようにPythonで二項演算は次のように記述します．\n",
    "\n",
    "| 二項演算          | Python表記法 |\n",
    "| :---              | :---:        |\n",
    "| 加法 $a+b$        | `a + b`      |\n",
    "| 減法 $a-b$        | `a - b`      |\n",
    "| 乗法 $a \\times b$ | `a * b`      |\n",
    "| 除法 $a \\div b$   | `a / b`      |\n",
    "\n",
    "この式をPython言語の記述規則に従って実行します．数式の記述方法は，これまでのプログラミング言語をほぼ継承しています．乗法の記号には「\\*」を使い，除法では「/」を用うので前出の式は下記のようになります．Codeセルの中に\n",
    "```Python\n",
    "(2+3)*(4-7)/2\n",
    "```\n",
    "\n",
    "と記入したら，Cellメニューから「Run Cell」を実施します．"
   ]
  },
  {
   "cell_type": "code",
   "execution_count": 1,
   "metadata": {},
   "outputs": [
    {
     "data": {
      "text/plain": [
       "-7.5"
      ]
     },
     "execution_count": 1,
     "metadata": {},
     "output_type": "execute_result"
    }
   ],
   "source": [
    "(2+3)*(4-7)/2"
   ]
  },
  {
   "cell_type": "markdown",
   "metadata": {
    "collapsed": true
   },
   "source": [
    "このようにCodeセルのプログラムを実行すると，セルのすぐ下に実行結果が表示されます．これにより，計算結果を知ることが出来ます．一般的なプログラム実行環境においてはprint()関数などによって出力を指定する必要があります．Pythonにもprint()関数があり，Jupyter notebookの環境でprint()関数を実施すると次にようになります．"
   ]
  },
  {
   "cell_type": "code",
   "execution_count": 2,
   "metadata": {},
   "outputs": [
    {
     "name": "stdout",
     "output_type": "stream",
     "text": [
      "-7.5\n"
     ]
    }
   ],
   "source": [
    "print((2+3)*(4-7)/2)"
   ]
  },
  {
   "cell_type": "markdown",
   "metadata": {
    "collapsed": true
   },
   "source": [
    "結果の値は同じです．違いは左側にOut [ ] というラベルが無いことです．このように計算結果を出力するような命令文を書かなくても値を確認できることはJupyter notebookの利点の一つです．\n",
    "\n",
    "### 変数の活用\n",
    "ところで，上述の計算結果を再利用するには結果を変数に代入して保存する必要があります．新たにresultという変数を定義して，そこに計算結果を代入してみます．変数への値の代入は「=」記号で表します．"
   ]
  },
  {
   "cell_type": "code",
   "execution_count": 3,
   "metadata": {
    "collapsed": true
   },
   "outputs": [],
   "source": [
    "result = (2+3)*(4-7)/2"
   ]
  },
  {
   "cell_type": "markdown",
   "metadata": {
    "collapsed": true
   },
   "source": [
    "このように新しい変数は定義文無しで代入先として使用することが出来ます．このとき，resultという名称の新しい変数が生成されます．変数のデータ型は代入される値に依存して，適切なデータ型になります．変数のデータ型を調べるにはtype()関数を用います．"
   ]
  },
  {
   "cell_type": "code",
   "execution_count": 4,
   "metadata": {},
   "outputs": [
    {
     "data": {
      "text/plain": [
       "float"
      ]
     },
     "execution_count": 4,
     "metadata": {},
     "output_type": "execute_result"
    }
   ],
   "source": [
    "type(result)"
   ]
  },
  {
   "cell_type": "markdown",
   "metadata": {},
   "source": [
    "データ型のfloatは数値を保管する形式のひとつである浮動小数点数です．\n",
    "この新しい変数resultの値が正しく-7.5になっていることを確認するために，Codeセルに変数名だけを記載して実行してみます．"
   ]
  },
  {
   "cell_type": "code",
   "execution_count": 5,
   "metadata": {
    "scrolled": true
   },
   "outputs": [
    {
     "data": {
      "text/plain": [
       "-7.5"
      ]
     },
     "execution_count": 5,
     "metadata": {},
     "output_type": "execute_result"
    }
   ],
   "source": [
    "result"
   ]
  },
  {
   "cell_type": "markdown",
   "metadata": {},
   "source": [
    "float型である変数resultに別のデータ型の値を代入することもできます．まず整数型のデータを代入してみます．Codeセルには複数の実行可能文を記入することができます．Pythonでは一つの命令文を一行に記載することが基準となっています．\n",
    "Codeセルに複数行の命令文がある場合，出力欄には最後の命令文の結果だけが表示されます．type()関数で確認するとint型であることが分かります．"
   ]
  },
  {
   "cell_type": "code",
   "execution_count": 6,
   "metadata": {},
   "outputs": [
    {
     "data": {
      "text/plain": [
       "int"
      ]
     },
     "execution_count": 6,
     "metadata": {},
     "output_type": "execute_result"
    }
   ],
   "source": [
    "result = 2\n",
    "type(result)"
   ]
  },
  {
   "cell_type": "markdown",
   "metadata": {
    "collapsed": true
   },
   "source": [
    "今度は変数resultに文字列を代入してみましょう．文字列のデータ型はstrとなります．"
   ]
  },
  {
   "cell_type": "code",
   "execution_count": 7,
   "metadata": {},
   "outputs": [
    {
     "data": {
      "text/plain": [
       "str"
      ]
     },
     "execution_count": 7,
     "metadata": {},
     "output_type": "execute_result"
    }
   ],
   "source": [
    "result = 'Hello'\n",
    "type(result)"
   ]
  },
  {
   "cell_type": "markdown",
   "metadata": {},
   "source": [
    "加算演算子+は数値データに対しては通常の足算ですが，文字列に対して適用すると文字列の連結となります．「Hello」という文字列が格納されている変数resultに「, world!」を追加してデータの値を「Hello, world!」としてみます．命令文をそのままの意味に沿って記述すると，\n",
    "```Python\n",
    "result = result + ', world!'\n",
    "```\n",
    "\n",
    "となりますが，「+=」という演算子が用意されていて，\n",
    "```Python\n",
    "result += ', world!'\n",
    "```\n",
    "\n",
    "と記述しても同じ処理になります．"
   ]
  },
  {
   "cell_type": "code",
   "execution_count": 8,
   "metadata": {},
   "outputs": [
    {
     "data": {
      "text/plain": [
       "'Hello, world!'"
      ]
     },
     "execution_count": 8,
     "metadata": {},
     "output_type": "execute_result"
    }
   ],
   "source": [
    "result += ', world!'\n",
    "result"
   ]
  },
  {
   "cell_type": "markdown",
   "metadata": {},
   "source": [
    "基礎的なデータ型であるfloat, int, strを見てきましたが，重要なデータ型として真偽の二値を示すbool型があります．\n",
    "比較演算を行った場合，その結果はbool値として返ってきます．次のCodeセルに記載した命令文：\n",
    "```Python\n",
    "result == 'Hello, world!'\n",
    "```\n",
    "は代入文ではなく，変数resultと文字列'Hello, world!'とを比較して一致していればTrueを返し，不一致ならばFalseを返します．"
   ]
  },
  {
   "cell_type": "code",
   "execution_count": 9,
   "metadata": {},
   "outputs": [
    {
     "data": {
      "text/plain": [
       "True"
      ]
     },
     "execution_count": 9,
     "metadata": {},
     "output_type": "execute_result"
    }
   ],
   "source": [
    "result == 'Hello, world!'"
   ]
  },
  {
   "cell_type": "markdown",
   "metadata": {},
   "source": [
    "これらの比較演算を利用することによりif文などのプログラム制御文を構成することができます．比較演算には次のものがあります．\n",
    "\n",
    "| 比較演算 | 比較内容   |\n",
    "| :---:    | :---:      |\n",
    "| a == b   | 等しい     |\n",
    "| a != b   | 等しくない |\n",
    "| a <= b   | 以下       |\n",
    "| a>= b    | 以上       |\n",
    "| a < b    | より小さい |\n",
    "| a > b    | より大きい |\n",
    "\n",
    "これらの比較演算の結果はbool値として返ってきますので，その値によってプログラムの流れを制御します．その代表的な命令文としてif文があります．if文の構文は次にようになります．\n",
    "```python\n",
    "if boolen_value1:\n",
    "    statement_block1\n",
    "elif boolen_value2:\n",
    "    statement_blook2\n",
    "else:\n",
    "    statement_last_blook\n",
    "```\n",
    "\n",
    "elif文は，else ifの意味で使用します．\n",
    "if文，elif文，else文の最後尾にコロン「:」を付けることに注意してください．この構文に従って，ifブロックを作ってみます．"
   ]
  },
  {
   "cell_type": "code",
   "execution_count": 10,
   "metadata": {
    "scrolled": true
   },
   "outputs": [
    {
     "name": "stdout",
     "output_type": "stream",
     "text": [
      "OK\n"
     ]
    }
   ],
   "source": [
    "if result == 'Hello, world!':\n",
    "    print('OK')\n",
    "else:\n",
    "    print('NG')"
   ]
  },
  {
   "cell_type": "markdown",
   "metadata": {
    "collapsed": true
   },
   "source": [
    "これはとても単純なifブロックの例ですが，Pythonのプログラム構造の特徴であるインデント（字下げ）でブロックを表現しています．C++やJavaのような代表的なプログラミング言語では波括弧{ }で囲ってブロックを表します．ブロックにインデントを使用するところが，Pythonプログラミングの根本的な特徴と言えます．\n",
    "\n",
    "この特徴を顕著にするためにもう少し複雑なifブロックを作成します．"
   ]
  },
  {
   "cell_type": "code",
   "execution_count": 14,
   "metadata": {},
   "outputs": [
    {
     "name": "stdout",
     "output_type": "stream",
     "text": [
      "What do you say? ==> Hello!\n",
      "Hello!\n",
      "How's it going?\n"
     ]
    }
   ],
   "source": [
    "greeting = input('What do you say? ==> ')\n",
    "if greeting == 'Hello!':\n",
    "    print(greeting)\n",
    "    print(\"How's it going?\")\n",
    "else:\n",
    "    print(greeting)\n",
    "    print(\"What's up?\")"
   ]
  },
  {
   "cell_type": "markdown",
   "metadata": {
    "collapsed": true
   },
   "source": [
    "最初の命令文にあるinput()関数は，ユーザーにキー入力を要求する関数です．ユーザーが入力した結果を変数greetingに格納しています．if文では，この入力値が「Hello!」と一致するか検証しています．\n",
    "\n",
    "if件文の下にprint文が2行あります．この2行はif文から4文字の字下げが見られます．したがって，この2行がif条件がTrueのときに実行されるブロックとなります．同様にelse文の下にも2行のインデントされたprint文がありif条件がFalseのときに実行されるブロックとなります．\n",
    "\n",
    "文字列の表記では，文字列をシングルコート「'」あるいはダブルコート「\"」で囲みます．\"How's it going?\"では文章の中にシングルコートがあるためにダブルコートで囲ってあります．もし文字列の中にシングルコートとダブルコートの両方とも記載しなければならないときはエスケープ文字を使って対応します．"
   ]
  },
  {
   "cell_type": "code",
   "execution_count": 12,
   "metadata": {},
   "outputs": [
    {
     "name": "stdout",
     "output_type": "stream",
     "text": [
      "He said \"I don't like it\".\n"
     ]
    }
   ],
   "source": [
    "print('He said \"I don\\'t like it\".')"
   ]
  },
  {
   "cell_type": "markdown",
   "metadata": {},
   "source": [
    "### 変数の命名センス\n",
    "変数名についてのPythonのプログラミング上のルールは，\n",
    "\n",
    "- 英数字とアンダースコアが使える．\n",
    "- 数字は先頭文字に使えない．\n",
    "\n",
    "ですが，慣例的な命名作法もあります．例えば，アンダースコアで始まる変数名はオブジェクトの内部だけで使用する，などです．\n",
    "しかし，それらの作法について今のところ必要ないので，本格的なプログラムを作成する段階で確認してください．\n",
    "ここでは，変数名称を付けるときの最低限のセンスについてガイドします．\n",
    "\n",
    "- 変数名は英語で意味の通じる名前にする．\n",
    "- 既存の関数名などを上書きしないように気を付ける．\n",
    "- 英単語2つ以上を組み合わせた変数名を作る．\n",
    "- 英単語の接続は単語の先頭を大文字にする方法か，あるいは，アンダースコアで繋ぐ方法があり，なるべくどちらかに統一する．\n",
    "\n",
    "変数を使うということは，そのデータに何らかの意味があるはずです．その意味に沿った名前を英語で付けましょう．\n",
    "たまに，変数名に日本語のローマ字表記を用いる人がいますが，グローバル社会に適合するには，変数名やコメントは全て英語にすべきです．コメント文では文法を気にする必要はありません．思い浮かべた言葉の英語が分からなければ翻訳ツールなどを使って検索してください．\n",
    "ただし，文字数の長い単語について省略形を使うことは問題ありません．例えはdepertmentをdeptと記載しても意味は分かります．\n",
    "\n",
    "2つ以上の英単語を繋げる2通りの例を見てみましょう．今、部屋のサイズをある変数に入れたいと考えます．「部屋のサイズ」なので英語では「room size」ですが，これを頭大文字繋ぎとアンダースコア繋ぎで書くと次の通りになります．\n",
    "\n",
    "- roomSize\n",
    "- room_size\n",
    "\n",
    "両方ともよく使われます．どちらにするかは好みの問題ですが，どちらかに統一することをお勧めします．"
   ]
  },
  {
   "cell_type": "markdown",
   "metadata": {},
   "source": [
    "ここまでJupyter notebookに慣れるための簡単なエクササイズを行いましたが，如何でしょうか．\n",
    "*****\n",
    "### まとめ\n",
    "\n",
    "1. Jupyter notebookのセル\n",
    "    - Codeセル\n",
    "    - Markdownセル\n",
    "    - Raw NBConvertセル\n",
    "- Codeセルの実行\n",
    "    - Codeセルに変数あるいは値を記入して実行すると，その下の出力欄に値が表示される．\n",
    "    - 実行すると左側にあるIn[ ]の角括弧内の数値が更新される．\n",
    "- プログラムの記載方法\n",
    "    - Pythonの命令文は基本的に一行で記述する．\n",
    "    - Pythonプログラムのブロックは行頭のインデント（字下げ）で設定する．\n",
    "- Pythonの変数はデータ型の宣言無しで使用できる．\n",
    "- 基本的なデータ型\n",
    "    - float：浮動小数点数\n",
    "    - int：整数\n",
    "    - str：文字列\n",
    "    - bool：真偽二値（True, False）\n",
    "- 条件分岐命令\n",
    "    - if文\n",
    "    - elif文\n",
    "    - else文\n",
    "- よく使う関数\n",
    "    - type()：変数のデータ型を調べる関数\n",
    "    - print()：文字列を印刷する関数\n",
    "    - input()：ユーザー入力を求める関数\n",
    "\n",
    "*****\n",
    "Jupyter notebookを使うことによって，Pythonプログラムをステップ毎に実行でき実行結果もログとして残るので説明力があり再現性のある仕事ができます．"
   ]
  }
 ],
 "metadata": {
  "kernelspec": {
   "display_name": "Python 3",
   "language": "python",
   "name": "python3"
  },
  "language_info": {
   "codemirror_mode": {
    "name": "ipython",
    "version": 3
   },
   "file_extension": ".py",
   "mimetype": "text/x-python",
   "name": "python",
   "nbconvert_exporter": "python",
   "pygments_lexer": "ipython3",
   "version": "3.6.1"
  }
 },
 "nbformat": 4,
 "nbformat_minor": 2
}
