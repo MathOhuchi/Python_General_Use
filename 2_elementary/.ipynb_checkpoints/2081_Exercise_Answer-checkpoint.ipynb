{
 "cells": [
  {
   "cell_type": "markdown",
   "metadata": {},
   "source": [
    "## 8. 演習問題の解答\n",
    "これまで，**社会人のためのPython活用術 初級**を学習してきましたが，最後の習得したことの定着を確認するための演習問題を行います．<br>\n",
    "ここではJupyter notebookを導入して使える環境があることを前提とします．"
   ]
  },
  {
   "cell_type": "markdown",
   "metadata": {},
   "source": [
    "*****\n",
    "### 課題-1: 変数と関数の利用\n",
    "次のステップの処理を一つのCodeセルで実施せよ．<br>\n",
    "野菜を買って，野菜スープか野菜サラダのどちらかを作ろうと思います．費用の安い方を作ることとします．ただし，料理の材料が1個未満のとき残りの材料は有効活用する前提で，純粋に料理だけの費用で比較します．金額に小数点以下の値があれば四捨五入します．費用が一致する場合はスープにします．\n",
    "スーパーマーケットでの野菜の価格は次表のとおりです．\n",
    "\n",
    "| 野菜   | 人参 | 玉葱 | ジャガイモ | レタス | キュウリ | トマト |\n",
    "| :---:  | :---: | :---: | :---: | :---: | :---: | :---: |\n",
    "| 英語名 | carrot | onion | potato | lettace | cucumber | tomato |\n",
    "| 価格   | 100    | 40    | 30     | 200     | 30       | 80     |\n",
    "\n",
    "1. 野菜スープは，人参2分の1本，玉ねぎ1.5個，ジャガイモ2個を使います．この合計金額を変数（soup）に代入します．\n",
    "- 野菜サラダは，レタス3分の1，キュウリ2本，トマト1個を使います．この合計金額を変数（salad）に代入します．\n",
    "- if文でスープの価格とサラダの価格を比較します．\n",
    "- スープの価格が安いか等しければ，決定した料理として変数（dish）に'soup'と代入します．\n",
    "- サラダの価格が安ければ，決定した料理として変数（dish）に'salad'と代入します．\n",
    "- 一つのprint文でスープの価格とサラダの価格を「soup:XXX, salad:YYY」のように印字します．\n",
    "- print文でどちらにしたかを「I'll take ZZZ.」と印字します．\n",
    "\n",
    "*****"
   ]
  },
  {
   "cell_type": "markdown",
   "metadata": {},
   "source": [
    "#### 解答"
   ]
  },
  {
   "cell_type": "code",
   "execution_count": 1,
   "metadata": {},
   "outputs": [
    {
     "name": "stdout",
     "output_type": "stream",
     "text": [
      "soup:170, salad:207\n",
      "I'll take soup.\n"
     ]
    }
   ],
   "source": [
    "soup = round(100/2 + 40*1.5 + 30*2)\n",
    "salad = round(200/3 + 30*2 + 80*1)\n",
    "if (soup <= salad):\n",
    "    dish = 'soup'\n",
    "else:\n",
    "    dish = 'salad'\n",
    "print('soup:' + str(soup) + ', salad:' + str(salad))\n",
    "print(\"I'll take \" + dish + \".\")"
   ]
  },
  {
   "cell_type": "markdown",
   "metadata": {},
   "source": [
    "各行を順番に解説します．\n",
    "```Python\n",
    "soup = round(100/2 + 40*1.5 + 30*2)\n",
    "salad = round(200/3 + 30*2 + 80*1)\n",
    "```\n",
    "スープとサラダの費用について価格表と材料個数から計算します．計算結果に小数点以下が現れる場合を想定して，合計値をround()関数に渡します．そして，それぞれの結果を変数soupとsaladに代入します．\n",
    "```Python\n",
    "if (soup <= salad):\n",
    "    dish = 'soup'\n",
    "else:\n",
    "    dish = 'salad'\n",
    "```\n",
    "if文にてsoupとsaladを比較します．スープの費用が少ないか等しい場合にスープを採用するので比較演算は(soup <= salad)となります．\n",
    "比較演算の結果がTrueならば変数dishに'soup'を代入し，Falseならば'salad'を代入します．\n",
    "```Python\n",
    "print('soup:' + str(soup) + ', salad:' + str(salad))\n",
    "```\n",
    "スープとサラダの費用から印字する文章を作るときに，soupとsaladは数値なのでstr()関数で文字列に変換します．そして文字列の連結のために+記号を使っています．\n",
    "```Python\n",
    "print(\"I'll take \" + dish + \".\")\n",
    "```\n",
    "print関数に渡す文字列を+記号を用いて連結しています．ここでdish自身は文字列なので型変換は不要です．\n",
    "また，文字列\"I'll take \"の中にアポストロフィー（'）があるために文字列全体はダブルコーテーション（\"）で囲っています．\n",
    "*****"
   ]
  },
  {
   "cell_type": "markdown",
   "metadata": {},
   "source": [
    "*****\n",
    "### 課題-2: 配列の操作\n",
    "リスト配列および辞書配列の操作について，次の処理を一つのCodeセルで実施せよ．<br>\n",
    "身体測定の結果が次表にあります．この表から(1)名前の昇順で印字，(2)身長の昇順で印字，(3)身長の降順で印字を順番に行ってください．\n",
    "\n",
    "| 名前 | Yamada | Suzuki | Katoh| Watanabe | Kimura |\n",
    "| :---: | :---: | :---: | :---: | :---: | :---: |\n",
    "| 身長 | 170 | 179 | 166 | 162 | 173 |\n",
    "\n",
    "1. 上記表の内容を名前をキーにした辞書配列にして変数bodyMeasureに代入する．\n",
    "- ここから名前順でソートした結果をしめすので，print文で'1. --- sotr by name ---'と印字する．\n",
    "- for文で辞書bodyMeaserの各要素のキーと値をkeyとvaleuとして取り出す．ただし，要素の順番をsorted()関数とitems()メソッドでキーの昇順にする．\n",
    "    - print文で取り出した各keyとvalueを印字する．\n",
    "- ここから身長の昇順でソートした結果をしめすので，print文で'2. --- sotr by height ---'と印字する．\n",
    "- for文で辞書bodyMeaserの各要素のキーと値をkeyとvaleuとして取り出す．ただし，要素の順番をsorted()関数とitems()メソッドおよびlambda関数を用いて値の昇順にする．\n",
    "    - print文で取り出した各keyとvalueを印字する．\n",
    "- ここから身長の降順でソートした結果をしめすので，print文で'3. --- sotr by height(reverse) ---'と印字する．\n",
    "- for文で辞書bodyMeaserの各要素のキーと値をkeyとvaleuとして取り出す．ただし，要素の順番をsorted()関数とitems()メソッドおよびlambda関数を用いて値の昇順にする．さらに，逆順にするためにsorted()の第3引数として'reverse=True'と記載する．\n",
    "    - print文で取り出した各keyとvalueを印字する．\n",
    "- print文で'--- end ---'と印字する．\n",
    "*****"
   ]
  },
  {
   "cell_type": "markdown",
   "metadata": {},
   "source": [
    "##### 解答"
   ]
  },
  {
   "cell_type": "code",
   "execution_count": 2,
   "metadata": {},
   "outputs": [
    {
     "name": "stdout",
     "output_type": "stream",
     "text": [
      "1. --- sotr by name ---\n",
      "Katoh 166\n",
      "Kimura 173\n",
      "Suzuki 179\n",
      "Watanabe 162\n",
      "Yamada 170\n",
      "2. --- sotr by height ---\n",
      "Watanabe 162\n",
      "Katoh 166\n",
      "Yamada 170\n",
      "Kimura 173\n",
      "Suzuki 179\n",
      "3. --- sotr by height(reverse) ---\n",
      "Suzuki 179\n",
      "Kimura 173\n",
      "Yamada 170\n",
      "Katoh 166\n",
      "Watanabe 162\n",
      "--- end ---\n"
     ]
    }
   ],
   "source": [
    "bodyMeasure = {'Yamada':170,'Suzuki':179,'Katoh':166,'Watanabe':162,'Kimura':173}\n",
    "print('1. --- sotr by name ---')\n",
    "for key,value in sorted(bodyMeasure.items()):\n",
    "    print(key,value)\n",
    "print('2. --- sotr by height ---')\n",
    "for key,value in sorted(bodyMeasure.items(), key=lambda x:x[1]):\n",
    "    print(key,value)\n",
    "print('3. --- sotr by height(reverse) ---')\n",
    "for key,value in sorted(bodyMeasure.items(), key=lambda x:x[1], reverse=True):\n",
    "    print(key,value)\n",
    "print('--- end ---')"
   ]
  },
  {
   "cell_type": "markdown",
   "metadata": {},
   "source": [
    "各行を順番にかいせつします．\n",
    "```Python\n",
    "bodyMeasure = {'Yamada':170,'Suzuki':179,'Katoh':166,'Watanabe':162,'Kimura':173}\n",
    "```\n",
    "課題として提示されたデータを辞書配列bodyMeasureに代入しています．このデータに対してソート作業を実施します．"
   ]
  },
  {
   "cell_type": "markdown",
   "metadata": {},
   "source": [
    "```Python\n",
    "print('1. --- sotr by name ---')\n",
    "```\n",
    "ここからジショ配列をキーである名前でソートした結果が印字されることを明示するセパレーターです．\n",
    "```Python\n",
    "for key,value in sorted(bodyMeasure.items()):\n",
    "    print(key,value)\n",
    "```\n",
    "辞書配列bodyMeasureの各要素に対して処理を行うためにforループを用いています．\n",
    "forループの中で名前によるソートを行うために次のことがポイントとなります．\n",
    "- 辞書配列からitems()メソッドによりキーと値のペアを取り出します．\n",
    "- sorted()関数でソートしているが，対象が辞書配列のitemsであるため，その先頭にある名前でソートします．\n",
    "- 取り出した名前と身長をそれぞれkeyおよびvalueに代入します．\n",
    "\n",
    "for文の結果として，名前でソートした順番に名前と身長のベアが得られるので，print()関数で印刷すると名前でソートしたデータが順次印字されます．"
   ]
  },
  {
   "cell_type": "markdown",
   "metadata": {},
   "source": [
    "```Python\n",
    "print('2. --- sotr by height ---')\n",
    "```\n",
    "ここから辞書配列を値である身長で昇順にソートした結果が印字されることを明示するセパレータです．\n",
    "```Python\n",
    "for key,value in sorted(bodyMeasure.items(), key=lambda x:x[1]):\n",
    "    print(key,value)\n",
    "```\n",
    "辞書配列bodyMeasureの各要素に対して処理を行うためにforループを用いています． \n",
    "forループの中で名前によるソートを行うために次のことがポイントとなります．\n",
    "- 辞書配列からitems()メソッドによりキーと値のペアを取り出しています．\n",
    "- sorted()関数でソートしているが，その第2引数にてkeyを指定しています．\n",
    "- keyの指定にlambda関数を用いている．このlambda関数によって配列の値がkeyとして用いられます．\n",
    "- 取り出した名前と身長をそれぞれkeyおよびvalueに代入します．\n",
    "\n",
    "for文の結果として，身長の昇順でソートした順番に名前と身長のベアが得られるので，print()関数で印刷すると名前でソートしたデータが順次印字されます．"
   ]
  },
  {
   "cell_type": "markdown",
   "metadata": {},
   "source": [
    "```Python\n",
    "print('3. --- sotr by height(reverse) ---')\n",
    "```\n",
    "ここから辞書配列を値である身長で昇順にソートした結果が印字されることを明示するセパレータです．\n",
    "```Python\n",
    "for key,value in sorted(bodyMeasure.items(), key=lambda x:x[1], reverse=True):\n",
    "    print(key,value)\n",
    "```\n",
    "辞書配列bodyMeasureの各要素に対して処理を行うためにforループを用いています． \n",
    "forループの中で名前によるソートを行うために次のことがポイントとなります．\n",
    "- 辞書配列からitems()メソッドによりキーと値のペアを取り出しています．\n",
    "- sorted()関数でソートしているが，その第2引数にてkeyを指定しています．\n",
    "- keyの指定にlambda関数を用いている．このlambda関数によって配列の値がkeyとして用いられます．\n",
    "- sorted()関数の第3引数にreverse=Trueを指定することによって，降順のソートを行います．\n",
    "- 取り出した名前と身長をそれぞれkeyおよびvalueに代入します．\n",
    "\n",
    "for文の結果として，身長の降順でソートした順番に名前と身長のベアが得られるので，print()関数で印刷すると名前でソートしたデータが順次印字されます．\n",
    "```Python\n",
    "print('--- end ---')\n",
    "```\n",
    "データの印字が終了したことを示すセパレーターをprint()関数で印字します．\n",
    "*****"
   ]
  },
  {
   "cell_type": "markdown",
   "metadata": {
    "collapsed": true
   },
   "source": [
    "### 課題-3: 応用課題\n",
    "このカリキュラムの最初の課題が，「与えられた自然数が素数か否かを判定せよ」でしたが，その応用として次の課題を考えてください．\n",
    "\n",
    "<font color=blue>自然数が与えられたとき，その数以下の自然数すべてについて素数か否かを判定し，全ての素数を印字せよ．</font>\n",
    "\n",
    "私たちは既に任意の自然数について，その数が素数か否かを判定するプログラムを作成しました．\n",
    "したがって，単純な解決策は，既存の素数判定プログラムを用いて与えられた自然数まで1から順番に判定する方法です．\n",
    "しかし，それでは論理力の鍛錬になりません．そこで，もっと合理的なアルゴリズムによる解答を考えてください．\n",
    "\n"
   ]
  },
  {
   "cell_type": "markdown",
   "metadata": {
    "collapsed": true
   },
   "source": [
    "新たなプログラムを考える上で，次の疑似コードをベースにしてください．\n",
    "```\n",
    "・ ユーザーが任意の自然数を入力する．\n",
    "・ 入力値が自然数でありかつ2以上であることを確認し，そうでなければメッセージを出力して終了する．\n",
    "・ 2から入力値までの数値をキーとして，値に素数か否かを論理値で表す辞書配列primeCheckを作成する．論理値の初期値はTrueとする．\n",
    "・ 2から入力値までの数値targetを順番に取り上げて倍数の素数否定を行う．\n",
    "    ・ primeCheck[target]の値がFalseならば，その倍数は素数否定済みなのでスキップする．\n",
    "    ・ targetの倍数でtargetより大きく入力値以下の数字を変数multipleとする．\n",
    "        ・ 辞書配列のキーmultipleに対して辞書の値をFalseにする．\n",
    "    ・ targetまで素数判定処理が済めば完了．\n",
    "・ 最後に辞書配列を印刷する．\n",
    "```\n",
    "\n",
    "戦略としては，割り算の余りを求めて判断するのではなく，小さい数の自然数倍は素数ではないので，それらを潰していく考え方になっています．\n",
    "複雑なアルゴリズムになりますが，これまで学習したことの総仕上げになります．プログラミングの感性を養いましょう．"
   ]
  },
  {
   "cell_type": "markdown",
   "metadata": {},
   "source": [
    "##### 解答"
   ]
  },
  {
   "cell_type": "code",
   "execution_count": 3,
   "metadata": {},
   "outputs": [
    {
     "name": "stdout",
     "output_type": "stream",
     "text": [
      "Please input nutural number rather than 1. ==> 101\n",
      "--- Prime numbers less than or equals to 101 ---\n",
      "[2, 3, 5, 7, 11, 13, 17, 19, 23, 29, 31, 37, 41, 43, 47, 53, 59, 61, 67, 71, 73, 79, 83, 89, 97, 101]\n"
     ]
    }
   ],
   "source": [
    "given = input('Please input nutural number rather than 1. ==> ')\n",
    "if not given.isnumeric():\n",
    "    print(\"Your input is not a natural number. Please put just a natural number, next time.\")\n",
    "else:\n",
    "    givenNumber = int(given)\n",
    "    if givenNumber < 2 :\n",
    "        print(\"Your input is less than 2. Please put a number greater than or equals to 2, next time.\")\n",
    "    else:\n",
    "        primeCheck = {x:True for x in range(2,givenNumber+1)}\n",
    "        for target in list(range(2,round((givenNumber+1)/2))):\n",
    "            if False == primeCheck[target]:\n",
    "                continue\n",
    "            else:\n",
    "                for multiple in list(range(target*2,givenNumber+1,target)):\n",
    "                    primeCheck[multiple] = False\n",
    "        primeNumber = [key for key in primeCheck.keys() if primeCheck[key]==True]\n",
    "        print('--- Prime numbers less than or equals to ' + given + ' ---')\n",
    "        print(primeNumber)"
   ]
  },
  {
   "cell_type": "markdown",
   "metadata": {},
   "source": [
    "プログラムの順を追って説明します．\n",
    "```Python\n",
    "given = input('Please input nutural number rather than 1. ==> ')\n",
    "```\n",
    "input()関数によって，ユーザーに1より大きな数値の入力を要求します．"
   ]
  },
  {
   "cell_type": "markdown",
   "metadata": {},
   "source": [
    "```Python\n",
    "if not given.isnumeric():\n",
    "    print(\"Your input is not a natural number. Please put just a natural number, next time.\")\n",
    "```\n",
    "ユーザーの入力値が数値か否かを判定します．数値でない場合は，次回は数値を入力するようにメッセージを出します．\n",
    "プログラムの残りの部分はelseブロックになるので，数値でない場合は終了となります．\n",
    "```Python\n",
    "else:\n",
    "    givenNumber = int(given)\n",
    "```\n",
    "入力が数値の場合は，入力された文字を数値に変換します．この後，このブロックが続きます．"
   ]
  },
  {
   "cell_type": "markdown",
   "metadata": {},
   "source": [
    "```Python\n",
    "    if givenNumber < 2 :\n",
    "        print(\"Your input is less than 2. Please put a number greater than or equals to 2, next time.\")\n",
    "```\n",
    "入力数値が2より小さいか判断します.2より小さい場合，次回は2以上の数値を入力するようにメッセージを出します．\n",
    "```Python\n",
    "    else:\n",
    "        primeCheck = {x:True for x in range(2,givenNumber+1)}\n",
    "```\n",
    "入力値が2以上の場合，2から入力値までの値をキーとする辞書配列を生成します．このとき，辞書の各値はデフォルトでTrueにします．<br>\n",
    "ここで，<font color=blue>{x:True for x in range(2,givenNumber+1)}</font>は，配列の内包表記です．\n",
    "全体が波括弧{ }なので辞書配列であることを明示しています．\n",
    "その中身は「x:True」です．ここでキーであるxについて「for x in range(2,givenNumber+1)」によって2から与えられた数値までの自然数となります．\n",
    "辞書の値は全てTrueです．\n",
    "仮に入力した数値が10だとすると，ここで生成される辞書配列は次のようになります．\n",
    "```Python\n",
    "{2:True, 3:True, 4:True, 5:True, 6:True, 7:True, 8:True, 9:True, 10:True}\n",
    "```\n",
    "この辞書配列を変数名primeCheckに格納して，各値の検証を行います．"
   ]
  },
  {
   "cell_type": "markdown",
   "metadata": {
    "collapsed": true
   },
   "source": [
    "```Python\n",
    "        for target in list(range(2,round((givenNumber+1)/2))):\n",
    "            if False == primeCheck[target]:\n",
    "                continue\n",
    "            else:\n",
    "                for multiple in list(range(target*2,givenNumber+1,target)):\n",
    "                    primeCheck[multiple] = False\n",
    "```\n",
    "2から入力した数値まで順番に辞書配列primeCheckの値がFalseか否かを確認します．\n",
    "もしFalseの場合は，その数値については何も処理をせずcontinue文で次の数値に移ります．\n",
    "もしFalseでない場合は，その数値の2倍から3倍，4倍と倍数を求めて辞書配列primeCheckでその数をキーとする値をFalseにします．"
   ]
  },
  {
   "cell_type": "markdown",
   "metadata": {},
   "source": [
    "このアルゴリズムで10までの数値の辞書配列がどう変わるか確認しましょう．\n",
    "```Python\n",
    "{2:True, 3:True, 4:True, 5:True, 6:True, 7:True, 8:True, 9:True, 10:True}\n",
    "```\n",
    "最初はキー2についてですが，値はTrueなので2の倍数である4，6，8，10の値をFalseに変えます．\n",
    "```Python\n",
    "{2:True, 3:True, 4:False, 5:True, 6:False, 7:True, 8:False, 9:True, 10:False}\n",
    "```\n",
    "次はキー3についてですが，値はTrueなので3の倍数である6，9の値をFalseに変えます．\n",
    "```Python\n",
    "{2:True, 3:True, 4:False, 5:True, 6:False, 7:True, 8:False, 9:False, 10:False}\n",
    "```\n",
    "次はキー4についてですが，値はFalseなので何もしません．<br>\n",
    "次はキー5についてですが，値はTrueなので5の倍数である10の値をFalseにします．実際には10の値は既にFalseになっているので何も変わりません．\n",
    "```Python\n",
    "{2:True, 3:True, 4:False, 5:True, 6:False, 7:True, 8:False, 9:False, 10:False}\n",
    "```\n",
    "次はキー6についてですが，値はFalseなので辞書配列の値は変わりません．\n",
    "ループは最後に達したので終了となり，結果として上記の内容で確定します．"
   ]
  },
  {
   "cell_type": "markdown",
   "metadata": {},
   "source": [
    "```Python\n",
    "        primeNumber = [key for key in primeCheck.keys() if primeCheck[key]==True]\n",
    "```\n",
    "ここでは，リストを内包表記によって素数だけのリスト配列を生成しています．この構文は<font color=blue>[X for X in Y if Z]</font>です．\n",
    "辞書配列primeCheckからkeys()メソッドでkeyを取り出し，そのキーに対する辞書の値がTrueの場合のみ配列の要素として追加します．"
   ]
  },
  {
   "cell_type": "markdown",
   "metadata": {},
   "source": [
    "```Python\n",
    "        print('--- Prime numbers less than or equals to ' + given + ' ---')\n",
    "        print(primeNumber)\n",
    "```\n",
    "最後に素数のリスト配列を印字して終了となります．\n",
    "*****"
   ]
  }
 ],
 "metadata": {
  "kernelspec": {
   "display_name": "Python 3",
   "language": "python",
   "name": "python3"
  },
  "language_info": {
   "codemirror_mode": {
    "name": "ipython",
    "version": 3
   },
   "file_extension": ".py",
   "mimetype": "text/x-python",
   "name": "python",
   "nbconvert_exporter": "python",
   "pygments_lexer": "ipython3",
   "version": "3.6.1"
  }
 },
 "nbformat": 4,
 "nbformat_minor": 2
}
