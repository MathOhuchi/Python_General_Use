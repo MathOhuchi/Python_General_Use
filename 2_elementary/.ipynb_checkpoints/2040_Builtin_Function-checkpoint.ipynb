{
 "cells": [
  {
   "cell_type": "markdown",
   "metadata": {},
   "source": [
    "## 4. 組み込み関数\n",
    "Pythonには便利な関数が事前に組み込まれています．それらの関数は準備無しで使用することができます．\n",
    "最初から全ての組み込み関数を理解する必要はありません．\n",
    "ここでは，特に知っておくべき組み込み関数について説明します．\n",
    "\n",
    "- type() ・・・データ型\n",
    "- isinstance()・・・データ型の確認\n",
    "- print() ・・・印刷\n",
    "- len() ・・・配列の長さ\n",
    "- range() ・・・連続する数値の提供\n",
    "- round() ・・・数値の四捨五入\n",
    "- sorted() ・・・配列のソート\n",
    "- int() ・・・整数への型変換\n",
    "- float() ・・・浮動小数点数への型変換\n",
    "- str() ・・・文字列への型変換\n",
    "\n"
   ]
  },
  {
   "cell_type": "markdown",
   "metadata": {},
   "source": [
    "*****\n",
    "#### type()関数\n",
    "type()関数については既に紹介していますが改めて説明します．\n",
    "Pythonはオブジェクト指向言語で，全てのデータはオブジェクトとして定義されています．\n",
    "引数として，変数名あるいは直接オブジェクトを渡します．\n",
    "\n",
    "これまで学習したデータ型についてtype()関数で確認します．"
   ]
  },
  {
   "cell_type": "code",
   "execution_count": 1,
   "metadata": {},
   "outputs": [
    {
     "data": {
      "text/plain": [
       "int"
      ]
     },
     "execution_count": 1,
     "metadata": {},
     "output_type": "execute_result"
    }
   ],
   "source": [
    "type(100)"
   ]
  },
  {
   "cell_type": "code",
   "execution_count": 2,
   "metadata": {},
   "outputs": [
    {
     "data": {
      "text/plain": [
       "float"
      ]
     },
     "execution_count": 2,
     "metadata": {},
     "output_type": "execute_result"
    }
   ],
   "source": [
    "type(3.14)"
   ]
  },
  {
   "cell_type": "code",
   "execution_count": 3,
   "metadata": {},
   "outputs": [
    {
     "data": {
      "text/plain": [
       "str"
      ]
     },
     "execution_count": 3,
     "metadata": {},
     "output_type": "execute_result"
    }
   ],
   "source": [
    "type('Hello')"
   ]
  },
  {
   "cell_type": "code",
   "execution_count": 4,
   "metadata": {},
   "outputs": [
    {
     "data": {
      "text/plain": [
       "bool"
      ]
     },
     "execution_count": 4,
     "metadata": {},
     "output_type": "execute_result"
    }
   ],
   "source": [
    "type(True)"
   ]
  },
  {
   "cell_type": "code",
   "execution_count": 5,
   "metadata": {},
   "outputs": [
    {
     "data": {
      "text/plain": [
       "list"
      ]
     },
     "execution_count": 5,
     "metadata": {},
     "output_type": "execute_result"
    }
   ],
   "source": [
    "type([1,2,3])"
   ]
  },
  {
   "cell_type": "code",
   "execution_count": 6,
   "metadata": {},
   "outputs": [
    {
     "data": {
      "text/plain": [
       "tuple"
      ]
     },
     "execution_count": 6,
     "metadata": {},
     "output_type": "execute_result"
    }
   ],
   "source": [
    "type((1,2,3))"
   ]
  },
  {
   "cell_type": "code",
   "execution_count": 7,
   "metadata": {},
   "outputs": [
    {
     "data": {
      "text/plain": [
       "dict"
      ]
     },
     "execution_count": 7,
     "metadata": {},
     "output_type": "execute_result"
    }
   ],
   "source": [
    "type({'one':1,'two':2,'three':3})"
   ]
  },
  {
   "cell_type": "markdown",
   "metadata": {},
   "source": [
    "type()関数は，基本的なデータだけでなく様々なオブジェクトについて型を返します．<br>\n",
    "特殊なオブジェクトで何もないことを「None」で表しますが，このオブジェクト型はNoneTypeとなります．"
   ]
  },
  {
   "cell_type": "code",
   "execution_count": 8,
   "metadata": {},
   "outputs": [
    {
     "data": {
      "text/plain": [
       "NoneType"
      ]
     },
     "execution_count": 8,
     "metadata": {},
     "output_type": "execute_result"
    }
   ],
   "source": [
    "type(None)"
   ]
  },
  {
   "cell_type": "markdown",
   "metadata": {},
   "source": [
    "実際のプログラムにおいてtype()関数を使う状況はあまりないですが，Pythonを学習においては確認のために使うことをお勧めします．"
   ]
  },
  {
   "cell_type": "markdown",
   "metadata": {},
   "source": [
    "*****\n",
    "#### isinstance()関数\n",
    "type()関数に似ているisinstance()関数があります．\n",
    "この関数は引数が2つあります．最初の引数は検査対象の変数名で，2つ目の引数は確認したいデータ型です．isinstance()関数は，第1引数に指定した変数が第2引数にあるデータ型と等しければTrueを返します．異なっていればFalseを返します．\n",
    "\n",
    "幾つかの例で確認します．"
   ]
  },
  {
   "cell_type": "code",
   "execution_count": 1,
   "metadata": {},
   "outputs": [
    {
     "data": {
      "text/plain": [
       "True"
      ]
     },
     "execution_count": 1,
     "metadata": {},
     "output_type": "execute_result"
    }
   ],
   "source": [
    "isinstance(100,int)"
   ]
  },
  {
   "cell_type": "code",
   "execution_count": 2,
   "metadata": {},
   "outputs": [
    {
     "data": {
      "text/plain": [
       "True"
      ]
     },
     "execution_count": 2,
     "metadata": {},
     "output_type": "execute_result"
    }
   ],
   "source": [
    "isinstance(3.14,float)"
   ]
  },
  {
   "cell_type": "code",
   "execution_count": 3,
   "metadata": {},
   "outputs": [
    {
     "data": {
      "text/plain": [
       "True"
      ]
     },
     "execution_count": 3,
     "metadata": {},
     "output_type": "execute_result"
    }
   ],
   "source": [
    "isinstance('Hello',str)"
   ]
  },
  {
   "cell_type": "code",
   "execution_count": 4,
   "metadata": {},
   "outputs": [
    {
     "data": {
      "text/plain": [
       "True"
      ]
     },
     "execution_count": 4,
     "metadata": {},
     "output_type": "execute_result"
    }
   ],
   "source": [
    "isinstance(True,bool)"
   ]
  },
  {
   "cell_type": "markdown",
   "metadata": {},
   "source": [
    "type()関数とよく似ていますが，プログラム内でのデータ型の判定はisinstance()関数を使用します．"
   ]
  },
  {
   "cell_type": "markdown",
   "metadata": {},
   "source": [
    "*****\n",
    "#### print()関数\n",
    "print()関数は引数として渡されたデータを標準出力に印字するために用います．\n",
    "Jupyter notebookの場合は，Codeセルの下に印字されます．"
   ]
  },
  {
   "cell_type": "code",
   "execution_count": 9,
   "metadata": {},
   "outputs": [
    {
     "name": "stdout",
     "output_type": "stream",
     "text": [
      "Hello!\n"
     ]
    }
   ],
   "source": [
    "print('Hello!')"
   ]
  },
  {
   "cell_type": "markdown",
   "metadata": {},
   "source": [
    "基本的に引数としては文字列を渡しますが，それ以外の標準オブジェクトを渡しても文字列に変換して印字します．"
   ]
  },
  {
   "cell_type": "code",
   "execution_count": 10,
   "metadata": {},
   "outputs": [
    {
     "name": "stdout",
     "output_type": "stream",
     "text": [
      "{'pi': 3.14, 'napia': 2.718}\n"
     ]
    }
   ],
   "source": [
    "print({'pi':3.14,'napia':2.718})"
   ]
  },
  {
   "cell_type": "markdown",
   "metadata": {},
   "source": [
    "Jupyter notebookを使っていると変数名だけをCodeセルに記載して実行すれば値が印字されるので，print()関数を使わなくても値を確認することができます．ただし，単に変数名だけを実行する場合は値をそのまま表示するのでフォーマットの違いがあります．\n",
    "例として，エスケープシーケンスを含んだ文字列をprint()関数による表示と変数名による表示を比べてみましょう．"
   ]
  },
  {
   "cell_type": "code",
   "execution_count": 11,
   "metadata": {},
   "outputs": [
    {
     "name": "stdout",
     "output_type": "stream",
     "text": [
      "He said \"That's it!\"\n"
     ]
    },
    {
     "data": {
      "text/plain": [
       "'He said \"That\\'s it!\"'"
      ]
     },
     "execution_count": 11,
     "metadata": {},
     "output_type": "execute_result"
    }
   ],
   "source": [
    "print('He said \"That\\'s it!\"')\n",
    "'He said \"That\\'s it!\"'"
   ]
  },
  {
   "cell_type": "markdown",
   "metadata": {},
   "source": [
    "プログラムのデバッグ目的でprint()関数を用いることもできますが，それは良い方法ではありません．少しプログラミングができるようになった段階でそのような癖を付けてしまうと，本格的なプログラムで苦労することになります．プログラム品質のためにはprint()関数ではなく，assart文やloggingモジュールを活用します．その話題はレベルを超えてしまうのでここでは扱いませんが，print()関数ではデバッグしないと覚えてください．"
   ]
  },
  {
   "cell_type": "markdown",
   "metadata": {},
   "source": [
    "*****\n",
    "#### input()関数\n",
    "input()関数は，ユーザーに入力要請を出して，ユーザーからのキー入力を取得する関数です．取得した結果は文字列として返されます．\n",
    "input()関数に渡す引数はユーザーに知らせるプロンプト文字です．\n",
    "ユーザーはキー入力した後にEnterキーを押すことによって入力値を確定します．"
   ]
  },
  {
   "cell_type": "code",
   "execution_count": 12,
   "metadata": {},
   "outputs": [
    {
     "name": "stdout",
     "output_type": "stream",
     "text": [
      "Please put a number.1\n"
     ]
    },
    {
     "data": {
      "text/plain": [
       "'1'"
      ]
     },
     "execution_count": 12,
     "metadata": {},
     "output_type": "execute_result"
    }
   ],
   "source": [
    "input('Please put a number.')"
   ]
  },
  {
   "cell_type": "markdown",
   "metadata": {},
   "source": [
    "このように数字を入れても得られる値は文字列となりますので，入力した値を数字として使用する場合は後述のint()関数またはfloat()関数にて数値に変換する必要があります．"
   ]
  },
  {
   "cell_type": "markdown",
   "metadata": {},
   "source": [
    "*****\n",
    "#### len()関数\n",
    "len()関数は配列の要素の個数や文字列の文字数を返します．\n",
    "文字の中に日本語のダブルバイト文字があっても正しく文字数を返します．"
   ]
  },
  {
   "cell_type": "code",
   "execution_count": 13,
   "metadata": {},
   "outputs": [
    {
     "data": {
      "text/plain": [
       "3"
      ]
     },
     "execution_count": 13,
     "metadata": {},
     "output_type": "execute_result"
    }
   ],
   "source": [
    "len([1,2,3])"
   ]
  },
  {
   "cell_type": "code",
   "execution_count": 14,
   "metadata": {},
   "outputs": [
    {
     "data": {
      "text/plain": [
       "6"
      ]
     },
     "execution_count": 14,
     "metadata": {},
     "output_type": "execute_result"
    }
   ],
   "source": [
    "len('Hello!')"
   ]
  },
  {
   "cell_type": "code",
   "execution_count": 15,
   "metadata": {},
   "outputs": [
    {
     "data": {
      "text/plain": [
       "10"
      ]
     },
     "execution_count": 15,
     "metadata": {},
     "output_type": "execute_result"
    }
   ],
   "source": [
    "len('data = データ')"
   ]
  },
  {
   "cell_type": "markdown",
   "metadata": {},
   "source": [
    "*****\n",
    "#### range()関数\n",
    "range()関数は繰返し処理であるfor構文と一緒に使用される関数で，一定の間隔の数値列を返します．配列に似ていますが，実体のある配列のオブジェクトを生成するのではなく，一つ一つの値を逐次提供する関数です．\n",
    "実際の使用法はfor文のところで示しますが，関数と生成される値の例を記載します．\n",
    "```Python\n",
    "range(5)      # 0,1,2,3,4\n",
    "range(1,5)    # 1,2,3,4\n",
    "range(-5,5,2) # -5,-3,-1,1,3\n",
    "```\n",
    "このようにrange()関数の引数の個数が1個の場合と2個と3個の場合があります．それぞれの意味を理解しましょう．\n",
    "\n",
    "<u>引数が1個の場合:</u><br>\n",
    "> range(a)\n",
    "\n",
    "0から開始してaより小さい整数までの整数値を返す．したがって，aは0より大きな整数にします．aが0以下の場合は何も返しません．\n",
    "\n",
    "<u>引数が2個の場合:</u><br>\n",
    "> range(a,b)\n",
    "\n",
    "aから開始してbより小さい整数までの整数値を返す．したがって，bはaより大きな整数にします．bがa以下の場合は何も返しません．\n",
    "\n",
    "<u>引数が3個の場合:</u><br>\n",
    "> range(a,b,c)\n",
    "\n",
    "aから開始してbより小さい整数までのc間隔で整数値を返す．したがって，bはa+cより大きな整数にします．bがa+c以下の場合は何も返しません．\n",
    "\n",
    "range()関数が出力としてどんなものを返すか確認してみましょう．"
   ]
  },
  {
   "cell_type": "code",
   "execution_count": 16,
   "metadata": {},
   "outputs": [
    {
     "data": {
      "text/plain": [
       "range(0, 5)"
      ]
     },
     "execution_count": 16,
     "metadata": {},
     "output_type": "execute_result"
    }
   ],
   "source": [
    "range(5)"
   ]
  },
  {
   "cell_type": "markdown",
   "metadata": {},
   "source": [
    "このように0以上5未満の範囲であることしか分かりません．この表現ではrange()関数の仕様を理解していないとなりません．\n",
    "そこでrange(5)によって返される数値からリスト配列を生成してみましょう．\n",
    "```Pytho\n",
    "[n for n in range(5)]\n",
    "```"
   ]
  },
  {
   "cell_type": "code",
   "execution_count": 17,
   "metadata": {},
   "outputs": [
    {
     "data": {
      "text/plain": [
       "[0, 1, 2, 3, 4]"
      ]
     },
     "execution_count": 17,
     "metadata": {},
     "output_type": "execute_result"
    }
   ],
   "source": [
    "[value for value in range(5)]"
   ]
  },
  {
   "cell_type": "markdown",
   "metadata": {},
   "source": [
    "この文は全体を角括弧[ ]で囲っているのでリスト配列を示しています．角括弧の中にあるvalueは変数です．「for」と「in」はPythonの予約語で特別な働きをします．\n",
    "range(5)が0から4までの整数を逐次返しますが，それぞれの値毎に変数valueに代入されます．その値をリスト内に順次追加していきます．\n"
   ]
  },
  {
   "cell_type": "markdown",
   "metadata": {},
   "source": [
    "*****\n",
    "#### round()関数\n",
    "round()関数は，与えられた数値を指定された桁で四捨五入します．\n",
    "引数が一つの場合は小数点以下を四捨五入します．2つ目の引数で四捨五入する桁を指定します．桁数は小数点以下を正の数で表します．したがって大きな桁での四捨五入では負の数を指定します．"
   ]
  },
  {
   "cell_type": "code",
   "execution_count": 18,
   "metadata": {},
   "outputs": [
    {
     "data": {
      "text/plain": [
       "3"
      ]
     },
     "execution_count": 18,
     "metadata": {},
     "output_type": "execute_result"
    }
   ],
   "source": [
    "round(3.14)"
   ]
  },
  {
   "cell_type": "code",
   "execution_count": 19,
   "metadata": {},
   "outputs": [
    {
     "data": {
      "text/plain": [
       "123.457"
      ]
     },
     "execution_count": 19,
     "metadata": {},
     "output_type": "execute_result"
    }
   ],
   "source": [
    "round(123.45678,3)"
   ]
  },
  {
   "cell_type": "code",
   "execution_count": 20,
   "metadata": {},
   "outputs": [
    {
     "data": {
      "text/plain": [
       "54300"
      ]
     },
     "execution_count": 20,
     "metadata": {},
     "output_type": "execute_result"
    }
   ],
   "source": [
    "round(54321,-2)"
   ]
  },
  {
   "cell_type": "markdown",
   "metadata": {},
   "source": [
    "数値の丸め方には四捨五入の他に切り捨てと切り上げがありますが，標準の組み込み関数はありません．\n",
    "mathライブラリーを取り込めば，切り捨て用関数も切り上げ用関数もあります．\n",
    "round()関数や整数の商などを利用して切り捨てや切り上げを求めることもできますが，その場合は可読性や精度の問題が生じますので，mathライブラリーの利用を推奨します．"
   ]
  },
  {
   "cell_type": "markdown",
   "metadata": {},
   "source": [
    "*****\n",
    "#### sorted()関数\n",
    "リスト配列にてsort()メソッドを学習しましたが，同様の働きをするsorted()関数があります．\n",
    "sorted()関数は次の形式となります．\n",
    "\n",
    "> 戻り値 = sorted(配列データ, キー項目の指定, 逆順の指示)<br>\n",
    "\n",
    "ここで戻り値は元の配列データと同じ配列型になっています．複雑な配列の場合，第2引数によってキー項目を指定することができます．第3引数は昇順/降順の指定です．デフォルトは昇順になっています．\n",
    "\n",
    "まずリストについてsort()メソッドとsorted()関数を比べてみます．"
   ]
  },
  {
   "cell_type": "code",
   "execution_count": 6,
   "metadata": {},
   "outputs": [
    {
     "name": "stdout",
     "output_type": "stream",
     "text": [
      "listA: [1, 2, 4, 7, 8]\n",
      "listB: [7, 2, 4, 8, 1]\n",
      "listC: [1, 2, 4, 7, 8]\n"
     ]
    }
   ],
   "source": [
    "listA = [7,2,4,8,1]\n",
    "listA.sort()\n",
    "listB = [7,2,4,8,1]\n",
    "listC = sorted(listB)\n",
    "print('listA:',listA)\n",
    "print('listB:',listB)\n",
    "print('listC:',listC)"
   ]
  },
  {
   "cell_type": "markdown",
   "metadata": {},
   "source": [
    "listAは，sort()メソッドによって昇順にソートされています．<br>\n",
    "listBは，sorted()関数の入力になっていますが，このリスト自体は何の変化もありません．<br>\n",
    "listCは，sorted()関数の出力として昇順にソートされています．\n",
    "\n",
    "このように，sort()メソッドは元のリスト自身に働きかけて順序を変えます．しかし，sorted()関数は元もリストの順序を変えず，ソートした結果を別のリストとして返します．"
   ]
  },
  {
   "cell_type": "markdown",
   "metadata": {
    "collapsed": true
   },
   "source": [
    "*****\n",
    "#### データ型変換\n",
    "Pythonではデータ型をあまり意識せずにプログラムを書けますが，データ型の変換が必要な場合があります．\n",
    "特に数値と文字列の間のデータ型変換は頻繁に行われます．そのために使われる関数名は，データ型名と同じ綴りになっています．\n",
    "\n",
    "- float() ・・・他のデータ型から浮動小数点数に変換\n",
    "- int() ・・・他のデータ型から整数に変換\n",
    "- str() ・・・他のデータ型から文字列に変換\n",
    "\n",
    "例えば，入手したデータがテキストで構成されている場合，そこから数字部分を切り出したあとに，文字列から数値への変換が必要となります．その場合，float()関数またはint()関数を用います．また，数値を文字列に変換する場合はstr()関数を用います．\n",
    "\n",
    "文字列を浮動小数点数に変換します．"
   ]
  },
  {
   "cell_type": "code",
   "execution_count": 21,
   "metadata": {},
   "outputs": [
    {
     "data": {
      "text/plain": [
       "3.14"
      ]
     },
     "execution_count": 21,
     "metadata": {},
     "output_type": "execute_result"
    }
   ],
   "source": [
    "float('3.14')"
   ]
  },
  {
   "cell_type": "markdown",
   "metadata": {},
   "source": [
    "文字列を整数に変換します．"
   ]
  },
  {
   "cell_type": "code",
   "execution_count": 22,
   "metadata": {},
   "outputs": [
    {
     "data": {
      "text/plain": [
       "256"
      ]
     },
     "execution_count": 22,
     "metadata": {},
     "output_type": "execute_result"
    }
   ],
   "source": [
    "int('256')"
   ]
  },
  {
   "cell_type": "markdown",
   "metadata": {},
   "source": [
    "浮動小数点数から整数へ変換することも可能です．その場合，小数点以下が切り捨てられます．"
   ]
  },
  {
   "cell_type": "code",
   "execution_count": 23,
   "metadata": {},
   "outputs": [
    {
     "data": {
      "text/plain": [
       "2"
      ]
     },
     "execution_count": 23,
     "metadata": {},
     "output_type": "execute_result"
    }
   ],
   "source": [
    "int(2.71828)"
   ]
  },
  {
   "cell_type": "markdown",
   "metadata": {},
   "source": [
    "浮動小数点数を文字列に変換します．"
   ]
  },
  {
   "cell_type": "code",
   "execution_count": 24,
   "metadata": {},
   "outputs": [
    {
     "data": {
      "text/plain": [
       "'3.14'"
      ]
     },
     "execution_count": 24,
     "metadata": {},
     "output_type": "execute_result"
    }
   ],
   "source": [
    "str(3.14)"
   ]
  },
  {
   "cell_type": "markdown",
   "metadata": {},
   "source": [
    "次の例では文章の中に数値を埋め込ンでいます．ageは整数型なので，そのまま埋め込もうとするとエラーになります．そこでstr()関数によって文字型に変換してから文字連結で文章へ埋め込んでいます．"
   ]
  },
  {
   "cell_type": "code",
   "execution_count": 25,
   "metadata": {},
   "outputs": [
    {
     "data": {
      "text/plain": [
       "\"I'm 17 years old.\""
      ]
     },
     "execution_count": 25,
     "metadata": {},
     "output_type": "execute_result"
    }
   ],
   "source": [
    "age = 17\n",
    "statement = \"I'm \" + str(age) + \" years old.\"\n",
    "statement"
   ]
  },
  {
   "cell_type": "markdown",
   "metadata": {},
   "source": [
    "型変換の関数において，引数に与える変数は変換可能な値を持っている必要があります．想定外の値を与えるとエラーになりますので，返還前に適正を確認することが欠かせません．ここでは言及しませんが，そのための関数も用意されています．"
   ]
  },
  {
   "cell_type": "markdown",
   "metadata": {},
   "source": [
    "*****\n",
    "#### help()関数\n",
    "help()関数を使うことによって，モジュール，関数，クラス，メソッド，キーワードなどのヘルプを表示します．\n",
    "対話的に使用するもので，確認用の関数です．\n",
    "\n",
    "ヘルプの例を実施します．"
   ]
  },
  {
   "cell_type": "code",
   "execution_count": 26,
   "metadata": {},
   "outputs": [
    {
     "name": "stdout",
     "output_type": "stream",
     "text": [
      "Help on built-in function round in module builtins:\n",
      "\n",
      "round(...)\n",
      "    round(number[, ndigits]) -> number\n",
      "    \n",
      "    Round a number to a given precision in decimal digits (default 0 digits).\n",
      "    This returns an int when called with one argument, otherwise the\n",
      "    same type as the number. ndigits may be negative.\n",
      "\n"
     ]
    }
   ],
   "source": [
    "help(round)"
   ]
  },
  {
   "cell_type": "markdown",
   "metadata": {},
   "source": [
    "Pythonのコードを書いていて不明なことについては，このhelp()関数だけでなくPythonのドキュメントやインターネットの情報などを利用して自力で解決できるようにしましょう．また，Jupyter notebookは試行錯誤を柔軟に行える環境です．具体的に試して調べることも有力な方法です．\n",
    "*****"
   ]
  }
 ],
 "metadata": {
  "kernelspec": {
   "display_name": "Python 3",
   "language": "python",
   "name": "python3"
  },
  "language_info": {
   "codemirror_mode": {
    "name": "ipython",
    "version": 3
   },
   "file_extension": ".py",
   "mimetype": "text/x-python",
   "name": "python",
   "nbconvert_exporter": "python",
   "pygments_lexer": "ipython3",
   "version": "3.6.1"
  }
 },
 "nbformat": 4,
 "nbformat_minor": 2
}
