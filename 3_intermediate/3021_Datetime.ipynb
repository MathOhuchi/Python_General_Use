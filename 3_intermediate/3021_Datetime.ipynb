{
 "cells": [
  {
   "cell_type": "markdown",
   "metadata": {},
   "source": [
    "### 日時モジュール（datetime）\n",
    "現実的によく使うモジュールとして，日付や時間を取り扱うdatetimeモジュールがあります．\n",
    "datetimeのモジュールを使用する前にimport文で次のように書きます．モジュール名の別名として「dt」を用いることにします．\n",
    "\n",
    "> <font color=green>import datetime as</font> <font color=blue>dt</font>\n",
    "\n",
    "\n",
    "この宣言によりdetetimeのオブジェクトは「dt.<font color=blue>*object_name*</font>」という書き方で使用することになります．"
   ]
  },
  {
   "cell_type": "code",
   "execution_count": 1,
   "metadata": {
    "collapsed": true
   },
   "outputs": [],
   "source": [
    "import datetime as dt"
   ]
  },
  {
   "cell_type": "markdown",
   "metadata": {},
   "source": [
    "#### now() 現在時刻\n",
    "datetimeライブラリーにあるdatetimeモジュールには現在の日時を返すnow()メソッドがあります．これを呼び出して現在日時を求めてみます．\n",
    "\n",
    "> <font color=green>dt.datetime.now()</font>"
   ]
  },
  {
   "cell_type": "code",
   "execution_count": 2,
   "metadata": {},
   "outputs": [
    {
     "data": {
      "text/plain": [
       "datetime.datetime(2017, 12, 10, 20, 11, 3, 683710)"
      ]
     },
     "execution_count": 2,
     "metadata": {},
     "output_type": "execute_result"
    }
   ],
   "source": [
    "dt.datetime.now()"
   ]
  },
  {
   "cell_type": "markdown",
   "metadata": {},
   "source": [
    "何かの契約を今日締結したとします．必要な情報は日付だけなので，日付だけを取り出します．\n",
    "datetime型のデータから日付だけを取り出すにはdate()メソッドを使います．すなわち「passingDatetime.date()」とするとdate型のデータが得られます．\n",
    "\n",
    "> <font color=green>dt.datetime.now().date()</font>\n",
    "\n",
    "このように，メソッドをピリオドで繋げて連続的に使用することができます．"
   ]
  },
  {
   "cell_type": "code",
   "execution_count": 3,
   "metadata": {},
   "outputs": [
    {
     "data": {
      "text/plain": [
       "datetime.date(2017, 12, 10)"
      ]
     },
     "execution_count": 3,
     "metadata": {},
     "output_type": "execute_result"
    }
   ],
   "source": [
    "dt.datetime.now().date()"
   ]
  },
  {
   "cell_type": "markdown",
   "metadata": {},
   "source": [
    "#### timedelta 時間差\n",
    "さて，契約期間が60日間とします．契約完了期日は今日の日付に60日を足した日付です．これを求めるために，timedeltaモジュールで日数を指定したdeltatime型のデータを足します．60日間は次のように求めます．\n",
    "\n",
    "> <font color=green>dt.timedelta(<font color=blue>60</font>)</font>\n",
    "\n",
    "したがって，今日の日付に60日を足した日付は次式で求まります．\n",
    "```Python\n",
    "dueDate = dt.datetime.now().date() + dt.timedelta(60)\n",
    "dueDate\n",
    "```"
   ]
  },
  {
   "cell_type": "code",
   "execution_count": 4,
   "metadata": {},
   "outputs": [
    {
     "data": {
      "text/plain": [
       "datetime.date(2018, 2, 8)"
      ]
     },
     "execution_count": 4,
     "metadata": {},
     "output_type": "execute_result"
    }
   ],
   "source": [
    "dueDate = dt.datetime.now().date() + dt.timedelta(60)\n",
    "dueDate"
   ]
  },
  {
   "cell_type": "markdown",
   "metadata": {},
   "source": [
    "#### 年，月，日の取り出し\n",
    "この期日を契約書に記入するために文字列に変更します．年，月，日はそれぞれ次のように参照します．\n",
    "\n",
    "> <font color=green>dueDate.year</font><br>\n",
    "> <font color=green>dueDate.month</font><br>\n",
    "> <font color=green>dueDate.day</font><br>\n",
    "\n",
    "これらはint型となりますので，文字列に変換するためにstr()関数を使います．\n",
    "これらを文章に埋め込んでみましょう．\n",
    "```Python\n",
    "'契約完了期日は'+str(dueDate.year)+'年'+str(dueDate.month)+'月'+str(dueDate.day)+'日（'+dueDate.strftime('%A')+'）となります'\n",
    "```"
   ]
  },
  {
   "cell_type": "code",
   "execution_count": 5,
   "metadata": {},
   "outputs": [
    {
     "data": {
      "text/plain": [
       "'契約完了期日は2018年2月8日（Thursday）となります'"
      ]
     },
     "execution_count": 5,
     "metadata": {},
     "output_type": "execute_result"
    }
   ],
   "source": [
    "'契約完了期日は'+str(dueDate.year)+'年'+str(dueDate.month)+'月'+str(dueDate.day)+'日（'+dueDate.strftime('%A')+'）となります'"
   ]
  },
  {
   "cell_type": "markdown",
   "metadata": {
    "collapsed": true
   },
   "source": [
    "#### 曜日の日本語表記\n",
    "ここで曜日の文字列を取り出すためにstrftime()というメソッドを使い，引数として曜日を指定する'%A'を代入しました．少し残念なことに，英語になってしまいます．曜日も日本語にしたい場合は，ひと手間加えます．\n",
    "曜日を番号で返すweekday()というメソッドがあり，月曜日から順に0,1,2,3,4,5,6の数値を得ることができます．\n",
    "このメソッドの返り値を，['月','火','水','木','金','土','日']というリストのインデックスにして日本語の曜日を求めます．\n",
    "\n",
    "> <font color=green>['月','火','水','木','金','土','日'][dueDate.weekday()]</font>\n",
    "\n",
    "曜日を埋め込んだ文章を作ってみましょう．\n",
    "```Python\n",
    "'契約完了期日は' + str(dueDate.year) + '年' + str(dueDate.month) + '月' + str(dueDate.day) + '日（'+ \\\n",
    "    ['月','火','水','木','金','土','日'][dueDate.weekday()] + '）となります' \n",
    "```"
   ]
  },
  {
   "cell_type": "code",
   "execution_count": 6,
   "metadata": {},
   "outputs": [
    {
     "data": {
      "text/plain": [
       "'契約完了期日は2018年2月8日（木）となります'"
      ]
     },
     "execution_count": 6,
     "metadata": {},
     "output_type": "execute_result"
    }
   ],
   "source": [
    "'契約完了期日は' + str(dueDate.year) + '年' + str(dueDate.month) + '月' + str(dueDate.day) + '日（'+ \\\n",
    "    ['月','火','水','木','金','土','日'][dueDate.weekday()] + '）となります' "
   ]
  },
  {
   "cell_type": "markdown",
   "metadata": {},
   "source": [
    "この文字列を生成する式は1行で記述するには長くなったので，2行に分割しました．Pythonの命令文は1行に収めることが基準になっていますが，このように複数行にする場合は継続される行の最後にバックスラッシュ（日本語では円マーク）を付けて意思表示します．\n",
    "\n",
    "ここで日本語の曜日を求めたようにPythonの様々な機能を利用して目的を実現する姿勢はとても大切です．欲しいものが全てライブラリーで提供されるわけではありません．あるものを使って試行錯誤することによって自然とPythonを活用するためのプログラミング力も養われます．"
   ]
  },
  {
   "cell_type": "markdown",
   "metadata": {},
   "source": [
    "*****\n",
    "#### datetimeオブジェクトの生成\n",
    "2020年7月24日に東京オリンピックが始まり，その日までの残り日数を求めてみましょう．\n",
    "指定した日付からdatetime型のオブジェクトを生成するには，datetime()に年月日を引数として渡します．\n",
    "\n",
    "> <font color=green>dt.datetime(<font color=blue>2020,7,24</font>)</font>\n",
    "\n",
    "この結果を変数tokyoOrympicに代入します．\n",
    "```Python\n",
    "tokyoOrympic = dt.datetime(2020,7,24)\n",
    "tokyoOrympic\n",
    "```"
   ]
  },
  {
   "cell_type": "code",
   "execution_count": 7,
   "metadata": {},
   "outputs": [
    {
     "data": {
      "text/plain": [
       "datetime.datetime(2020, 7, 24, 0, 0)"
      ]
     },
     "execution_count": 7,
     "metadata": {},
     "output_type": "execute_result"
    }
   ],
   "source": [
    "tokyoOrympic = dt.datetime(2020,7,24)\n",
    "tokyoOrympic"
   ]
  },
  {
   "cell_type": "markdown",
   "metadata": {
    "collapsed": true
   },
   "source": [
    "datetimeの値の引算をすることによってtimedelta型の値が求まります．これは日時の差分データです．timedelta型のデータを日数にするにはdays変数を指定します．\n",
    "```Python\n",
    "(tokyoOrympic - dt.datetime.now()).days\n",
    "```"
   ]
  },
  {
   "cell_type": "code",
   "execution_count": 8,
   "metadata": {},
   "outputs": [
    {
     "data": {
      "text/plain": [
       "956"
      ]
     },
     "execution_count": 8,
     "metadata": {},
     "output_type": "execute_result"
    }
   ],
   "source": [
    "(tokyoOrympic - dt.datetime.now()).days"
   ]
  },
  {
   "cell_type": "markdown",
   "metadata": {},
   "source": [
    "この計算では「tokyoOrympic - dt.datetime.now()」の値を別の変数に代入していないので，式全体を変数扱いするために括弧で囲っています．この括弧で囲まれた数式の結果がtimedelta型のオブジェクトとなっているので，その後ろに「.days」を付けることができました．"
   ]
  },
  {
   "cell_type": "markdown",
   "metadata": {},
   "source": [
    "*****\n",
    "#### 文字列からdatetimeオブジェクトへの変換\n",
    "年月日の数値を与えてdatetimeオブジェクトを作成しましたが，文字列に埋め込まれた日時を元にしてdatetimeオブジェクトを作成することもできます．\n",
    "何かのアプリケーションのアウトプットやワードプロセッサーで書かれた文字列など，この対象となる状況は多くあります．\n",
    "次のようなフォーマットになっている文字列について変換を試みましょう．\n",
    "```Python\n",
    "'2020/7/24 8:30:25'\n",
    "```\n",
    "文字列をdatetimeオブジェクトに変換するには<font color=green>strptime()</font>関数をつかいます．文字列を第一引数とし，第二引数に文字列のフォーマットの様式を記述します．\n",
    "フォーマットに使っている書式は%のあとに英字を付けて表現します．\n",
    "\n",
    "| 記号 | 　意味   |\n",
    "| :---: | :---    |\n",
    "| %Y | 4桁の西暦  |\n",
    "| %m | 月（1~12） |\n",
    "| %d | 日（1~31） |\n",
    "| %H | 時（1~12） |\n",
    "| %M | 分（0~59） |\n",
    "| %S | 秒（0~59） |\n",
    "| %w | 週（0~6）  |\n",
    "\n",
    "この記号を文字列の中に埋め込んでフォーマットを特定します．変換しようとしている文字列については次のフォーマットを想定してみましょう．\n",
    "\n",
    "> <font color=blue>'%Y/%m/%d %H:%M:%S'</font>\n",
    "\n",
    "次の例は，文字列の'2019/12/31 23:59:59'からdatetimeオブジェクトに変換しています．\n",
    "```Python\n",
    "newYearsEve = dt.datetime.strptime('2019/12/31 23:59:59','%Y/%m/%d %H:%M:%S')\n",
    "print(newYearsEve)\n",
    "```"
   ]
  },
  {
   "cell_type": "code",
   "execution_count": 9,
   "metadata": {},
   "outputs": [
    {
     "name": "stdout",
     "output_type": "stream",
     "text": [
      "2019-12-31 23:59:59\n"
     ]
    }
   ],
   "source": [
    "newYearsEve = dt.datetime.strptime('2019/12/31 23:59:59','%Y/%m/%d %H:%M:%S')\n",
    "print(newYearsEve)"
   ]
  },
  {
   "cell_type": "markdown",
   "metadata": {
    "collapsed": true
   },
   "source": [
    "日時計算は日常的に遭遇するので，datetimeモジュールを実践的に使用することになるでしょう．\n",
    "*****"
   ]
  }
 ],
 "metadata": {
  "kernelspec": {
   "display_name": "Python 3",
   "language": "python",
   "name": "python3"
  },
  "language_info": {
   "codemirror_mode": {
    "name": "ipython",
    "version": 3
   },
   "file_extension": ".py",
   "mimetype": "text/x-python",
   "name": "python",
   "nbconvert_exporter": "python",
   "pygments_lexer": "ipython3",
   "version": "3.6.1"
  }
 },
 "nbformat": 4,
 "nbformat_minor": 2
}
