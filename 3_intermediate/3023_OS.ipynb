{
 "cells": [
  {
   "cell_type": "markdown",
   "metadata": {},
   "source": [
    "### オペレーティング環境（OS）\n",
    "PC環境においてファイルを読み込んだり書き出したりするためにホルダーやディレクトリーについて扱う必要が出てきます．\n",
    "端的な例では，現在作業しているカレントディレクトリーを確認しようとします．\n",
    "普段の操作でカレントディレクトリーの確認方法はWindoesではdir，Linuxではpwdとオペレーティングシステムによって異なってきます．\n",
    "そこで，osモジュールを使うことによりオペレーティングシステムに依存する部分を排除します．\n",
    "まず，\n",
    "\n",
    "> <font color=green>import os</font>\n",
    "\n",
    "によってosモジュールを搬入します．"
   ]
  },
  {
   "cell_type": "code",
   "execution_count": 1,
   "metadata": {
    "collapsed": true
   },
   "outputs": [],
   "source": [
    "import os"
   ]
  },
  {
   "cell_type": "markdown",
   "metadata": {},
   "source": [
    "#### ディレクトリーの確認\n",
    "カレントディレクトリーを確認するにはgercwd()関数を実行します．関数名の前に「os.」を付けることを忘れないでください.\n",
    "\n",
    "> <font color=green>os.getcwd()</font>"
   ]
  },
  {
   "cell_type": "code",
   "execution_count": 2,
   "metadata": {},
   "outputs": [
    {
     "data": {
      "text/plain": [
       "'C:\\\\a\\\\python\\\\notebooks\\\\general_use\\\\3_intermediate'"
      ]
     },
     "execution_count": 2,
     "metadata": {},
     "output_type": "execute_result"
    }
   ],
   "source": [
    "os.getcwd()"
   ]
  },
  {
   "cell_type": "markdown",
   "metadata": {},
   "source": [
    "既存のファイルをカレントディレクトリーにおいて，そこから読み込むときにgetcwd()関数で場所が特定できます．\n",
    "単にカレントディレクトリーを確認するだけならば「%pwd」という方法もありますが，osモジュールを使う方法に統一しましょう．"
   ]
  },
  {
   "cell_type": "markdown",
   "metadata": {},
   "source": [
    "Windows環境でgetwd()関数を発行すると，返り値のフォルダーの文字列が円マーク2個で繋がっていることです．\n",
    "これは，バックスラッシュがコンピューターの世界では特別な機能をもっているからです．バックスラッシュはエスケープシーケンスと言われ，その後に続く文字と合わせて何かの意味を成します．そのため，単なるバックスラッシュを記載するにはバックスラッシュを2個続けて記載しなければなりません．\n",
    "また面倒なことにバックスラッシュは環境によって円マークで表示されたりバックスラッシュのままで表示されたりします．\n",
    "\n",
    "\n",
    "Windowsではフォルダーをバックスラッシュ「\\」で繋ぎ，LinuxやMacではスラッシュ「/」でつなぎます．\n",
    "あまり知られていないのですが，実はWindowsでもスラッシュで記載することができます．\n",
    "さて，カレントディレクトリーの一部である「C:\\\\a\\\\python\\\\notebooks」は存在していますが，このディレクトリーの有無を確認することによって，バックスラッシュの問題を見ていきましょう．\n",
    "\n",
    "任意のディレクトリーを確認するにはpath.exist()関数を使います．使い方は次の構文となります．\n",
    "\n",
    "> <font color=green>os.path.exists</font>(<font color=blue>*'diretory_name'*</font>)\n",
    "\n",
    "ディレクトリー名が存在すればTrueを返し，無ければFalseを返します．\n",
    "ディレクトリー名として次の3パターンを試してみます．\n",
    "\n",
    "```Python\n",
    "os.path.exists('C:\\a\\python\\notebooks')\n",
    "os.path.exists('C:\\\\a\\\\python\\\\notebooks')\n",
    "os.path.exists('C:/a/python/notebooks')\n",
    "```"
   ]
  },
  {
   "cell_type": "code",
   "execution_count": 3,
   "metadata": {},
   "outputs": [
    {
     "data": {
      "text/plain": [
       "False"
      ]
     },
     "execution_count": 3,
     "metadata": {},
     "output_type": "execute_result"
    }
   ],
   "source": [
    "os.path.exists('C:\\a\\python\\notebooks')"
   ]
  },
  {
   "cell_type": "code",
   "execution_count": 4,
   "metadata": {},
   "outputs": [
    {
     "data": {
      "text/plain": [
       "True"
      ]
     },
     "execution_count": 4,
     "metadata": {},
     "output_type": "execute_result"
    }
   ],
   "source": [
    "os.path.exists('C:\\\\a\\\\python\\\\notebooks')"
   ]
  },
  {
   "cell_type": "code",
   "execution_count": 5,
   "metadata": {},
   "outputs": [
    {
     "data": {
      "text/plain": [
       "True"
      ]
     },
     "execution_count": 5,
     "metadata": {},
     "output_type": "execute_result"
    }
   ],
   "source": [
    "os.path.exists('C:/a/python/notebooks')"
   ]
  },
  {
   "cell_type": "markdown",
   "metadata": {},
   "source": [
    "このようにバックスラッシュ（円マーク）1つの場合は，思っていたディレクトリー名として扱ってもらえません．\n",
    "またWindowsでもスラッシュで記述しておけば，他のOSにプログラムを移植しやすくなります．"
   ]
  },
  {
   "cell_type": "markdown",
   "metadata": {
    "collapsed": true
   },
   "source": [
    "#### ディレクトリーの移動\n",
    "カレントディレクトリーから別なディレクトリーに移るときは，chdir()関数を呼びます．\n",
    "\n",
    "> <font color=green>os.chdir</ffont>(<font color=blue>*new_directory*</font>)\n",
    "\n"
   ]
  },
  {
   "cell_type": "code",
   "execution_count": 6,
   "metadata": {
    "collapsed": true
   },
   "outputs": [],
   "source": [
    "os.chdir('C:/a/python/notebooks')"
   ]
  },
  {
   "cell_type": "code",
   "execution_count": 7,
   "metadata": {},
   "outputs": [
    {
     "data": {
      "text/plain": [
       "'C:\\\\a\\\\python\\\\notebooks'"
      ]
     },
     "execution_count": 7,
     "metadata": {},
     "output_type": "execute_result"
    }
   ],
   "source": [
    "os.getcwd()"
   ]
  },
  {
   "cell_type": "markdown",
   "metadata": {},
   "source": [
    "#### 相対ディレクトリー\n",
    "さて，カレントディレクトリーを元のディレクトリーに戻しますが，相対ディレクトリーを使ってみます．\n",
    "ディレクトリーの記述において、カレントディレクトリーを「./」と表すことができます．また，親ディレクトリーを「../」と表します．\n",
    "\n",
    "もとのディレクトリーは「C:/a/python/notebooks/general_use/3_intermediate'」でしたが，相対ディレクトリーを用いて「./general_use/3_intermediate'」と記載してみましょう．"
   ]
  },
  {
   "cell_type": "code",
   "execution_count": 8,
   "metadata": {},
   "outputs": [
    {
     "data": {
      "text/plain": [
       "'C:\\\\a\\\\python\\\\notebooks\\\\general_use\\\\3_intermediate'"
      ]
     },
     "execution_count": 8,
     "metadata": {},
     "output_type": "execute_result"
    }
   ],
   "source": [
    "os.chdir('./general_use/3_intermediate')\n",
    "os.getcwd()"
   ]
  },
  {
   "cell_type": "markdown",
   "metadata": {},
   "source": [
    "このように相対ディレクトリーを使うと記述が単純になります．さらに上流のフォルダー名を変えてもトラブルになる状況を回避できます．"
   ]
  },
  {
   "cell_type": "markdown",
   "metadata": {},
   "source": [
    "#### ファイルおよびフォルダー一覧の取得\n",
    "ディレクトリーを指定して，その中にあるファイルおよびフォルダーの一覧を取得する場合はlistdir()関数を使います．\n",
    "\n",
    "> <font color=green>os.listdir</font>(<font color=blue>*target_directory*</font>)\n",
    "\n",
    "それでは，カレントディレクトリーの下にあるdataフォルダーの中身を確認してみましょう．"
   ]
  },
  {
   "cell_type": "code",
   "execution_count": 9,
   "metadata": {},
   "outputs": [
    {
     "data": {
      "text/plain": [
       "['persons_attributes.csv', 'sample1.csv']"
      ]
     },
     "execution_count": 9,
     "metadata": {},
     "output_type": "execute_result"
    }
   ],
   "source": [
    "os.listdir('./data')"
   ]
  },
  {
   "cell_type": "markdown",
   "metadata": {},
   "source": [
    "戻り値はリストになります．ここでは，dataフォルダーの中に幾つかのCSVファイルがあることが判明します．"
   ]
  },
  {
   "cell_type": "markdown",
   "metadata": {},
   "source": [
    "osモジュールには，この他にも沢山の関数があります．\n",
    "フォルダーの作成や削除など，通常のオペレーティング環境で実施できることは概ね提供されています．\n",
    "それらが必要になったときにPythonのドキュメントで必要な機能について調べられるようになりましょう．\n",
    "*****"
   ]
  }
 ],
 "metadata": {
  "kernelspec": {
   "display_name": "Python 3",
   "language": "python",
   "name": "python3"
  },
  "language_info": {
   "codemirror_mode": {
    "name": "ipython",
    "version": 3
   },
   "file_extension": ".py",
   "mimetype": "text/x-python",
   "name": "python",
   "nbconvert_exporter": "python",
   "pygments_lexer": "ipython3",
   "version": "3.6.1"
  }
 },
 "nbformat": 4,
 "nbformat_minor": 2
}
