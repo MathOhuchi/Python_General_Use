{
 "cells": [
  {
   "cell_type": "markdown",
   "metadata": {},
   "source": [
    "### pandasライブラリー\n",
    "pandasライブラリーは，データ分析の中核をなすモジュールです．ここにはデータ分析に適したデータ構造とそれを扱う分析ツールで構成されています．\n",
    "私たちは贅沢にもこのデータサイエンス向けのモジュールを一般のオフィス業務に活用します．\n",
    "pandasが提供するデータ構造にSeriesとDataFrameがあります．私たちは普段扱うデータをDataFrameに格納します．DataFrameを使うことによって，表計算ソフトやデータベースのような機能を手にすることができます．\n",
    "そして一度正しい使い方を学習すれば，決して難しいものではありません．\n",
    "\n",
    "pandasを使うには，次のimport文を実行します．\n",
    "\n",
    "> <font color=green>import</font> pandas <font color=green>as</font> pd\n",
    "\n",
    "このpandasの別名のpdについても慣用的に使われますので，そのまま踏襲しましょう．"
   ]
  },
  {
   "cell_type": "code",
   "execution_count": 1,
   "metadata": {
    "collapsed": true
   },
   "outputs": [],
   "source": [
    "import pandas as pd"
   ]
  },
  {
   "cell_type": "markdown",
   "metadata": {},
   "source": [
    "*****\n",
    "#### Seriesオブジェクト\n",
    "Seriesオブジェクトは，インデックス付きの配列構造になっています．辞書配列に似ていますが，辞書配列を高機能にしたものと考えても良いでしょう．\n",
    "Seriesオブジェクトを生成するには，pandas.Series()関数にリスト配列あるいは辞書配列を渡します．\n",
    "\n",
    "> <font color=green>pandas.Series</font>(*data_list*)\n",
    "\n",
    "例として，次のようにSeriesオブジェクトを生成します．\n",
    "```Python\n",
    "mySeries = pd.Series([10,20,30,40])\n",
    "mySeries\n",
    "```"
   ]
  },
  {
   "cell_type": "code",
   "execution_count": 2,
   "metadata": {},
   "outputs": [
    {
     "data": {
      "text/plain": [
       "0    10\n",
       "1    20\n",
       "2    30\n",
       "3    40\n",
       "dtype: int64"
      ]
     },
     "execution_count": 2,
     "metadata": {},
     "output_type": "execute_result"
    }
   ],
   "source": [
    "mySeries = pd.Series([10,20,30,40])\n",
    "mySeries"
   ]
  },
  {
   "cell_type": "markdown",
   "metadata": {},
   "source": [
    "生成されたSeriesオブジェクトの表記が2列になっていますが，左側の列が自動で付けられたインデックスになります．自動のインデックスは0からスタートする整数となります．\n",
    "インデックスそindex属性によって参照することができます．\n",
    "```Python\n",
    "mySeries.index\n",
    "```"
   ]
  },
  {
   "cell_type": "code",
   "execution_count": 3,
   "metadata": {},
   "outputs": [
    {
     "data": {
      "text/plain": [
       "RangeIndex(start=0, stop=4, step=1)"
      ]
     },
     "execution_count": 3,
     "metadata": {},
     "output_type": "execute_result"
    }
   ],
   "source": [
    "mySeries.index"
   ]
  },
  {
   "cell_type": "markdown",
   "metadata": {},
   "source": [
    "配列値はvalues属性によって参照することができます．\n",
    "```Python\n",
    "mySeries.values\n",
    "```"
   ]
  },
  {
   "cell_type": "code",
   "execution_count": 4,
   "metadata": {},
   "outputs": [
    {
     "data": {
      "text/plain": [
       "array([10, 20, 30, 40], dtype=int64)"
      ]
     },
     "execution_count": 4,
     "metadata": {},
     "output_type": "execute_result"
    }
   ],
   "source": [
    "mySeries.values"
   ]
  },
  {
   "cell_type": "markdown",
   "metadata": {},
   "source": [
    "Seriesオブジェクト内の値については，リスト配列と同様に角括弧の中にインデックスを指定することによって参照や変更を行うことができます．\n",
    "```Python\n",
    "mySeries[2]\n",
    "```"
   ]
  },
  {
   "cell_type": "code",
   "execution_count": 5,
   "metadata": {},
   "outputs": [
    {
     "data": {
      "text/plain": [
       "30"
      ]
     },
     "execution_count": 5,
     "metadata": {},
     "output_type": "execute_result"
    }
   ],
   "source": [
    "mySeries[2]"
   ]
  },
  {
   "cell_type": "markdown",
   "metadata": {},
   "source": [
    "値を変更する例です．\n",
    "```Python\n",
    "mySeries[2] = 33\n",
    "mySeries\n",
    "```"
   ]
  },
  {
   "cell_type": "code",
   "execution_count": 6,
   "metadata": {},
   "outputs": [
    {
     "data": {
      "text/plain": [
       "0    10\n",
       "1    20\n",
       "2    33\n",
       "3    40\n",
       "dtype: int64"
      ]
     },
     "execution_count": 6,
     "metadata": {},
     "output_type": "execute_result"
    }
   ],
   "source": [
    "mySeries[2] = 33\n",
    "mySeries"
   ]
  },
  {
   "cell_type": "markdown",
   "metadata": {},
   "source": [
    "インデックスが連続する部分については，変数名の後に[m:n]を付けて参照します．\n",
    "```Python\n",
    "mySeries[2:4]\n",
    "```"
   ]
  },
  {
   "cell_type": "code",
   "execution_count": 7,
   "metadata": {},
   "outputs": [
    {
     "data": {
      "text/plain": [
       "2    33\n",
       "3    40\n",
       "dtype: int64"
      ]
     },
     "execution_count": 7,
     "metadata": {},
     "output_type": "execute_result"
    }
   ],
   "source": [
    "mySeries[2:4]"
   ]
  },
  {
   "cell_type": "markdown",
   "metadata": {},
   "source": [
    "今度は辞書配列を元にしてSeriesオブジェクトを生成してみましょう．\n",
    "```Python\n",
    "ourSeries = pd.Series({'Jan':31,'Feb':29,'Mar':31,'Apr':30,'May':31})\n",
    "ourSeries\n",
    "```"
   ]
  },
  {
   "cell_type": "code",
   "execution_count": 8,
   "metadata": {},
   "outputs": [
    {
     "data": {
      "text/plain": [
       "Apr    30\n",
       "Feb    29\n",
       "Jan    31\n",
       "Mar    31\n",
       "May    31\n",
       "dtype: int64"
      ]
     },
     "execution_count": 8,
     "metadata": {},
     "output_type": "execute_result"
    }
   ],
   "source": [
    "ourSeries = pd.Series({'Jan':31,'Feb':29,'Mar':31,'Apr':30,'May':31})\n",
    "ourSeries"
   ]
  },
  {
   "cell_type": "markdown",
   "metadata": {},
   "source": [
    "既存のインデックスを指定して値を変更したり，存在しないインデックスを指定して値を追加することができます．\n",
    "```Python\n",
    "ourSeries['Feb'] = 28  # update\n",
    "ourSeries['Jun'] = 30  # addition\n",
    "ourSeries\n",
    "```"
   ]
  },
  {
   "cell_type": "code",
   "execution_count": 9,
   "metadata": {},
   "outputs": [
    {
     "data": {
      "text/plain": [
       "Apr    30\n",
       "Feb    28\n",
       "Jan    31\n",
       "Mar    31\n",
       "May    31\n",
       "Jun    30\n",
       "dtype: int64"
      ]
     },
     "execution_count": 9,
     "metadata": {},
     "output_type": "execute_result"
    }
   ],
   "source": [
    "ourSeries['Feb'] = 28  # update\n",
    "ourSeries['Jun'] = 30  # addition\n",
    "ourSeries"
   ]
  },
  {
   "cell_type": "markdown",
   "metadata": {},
   "source": [
    "Seriesオブジェクトは，DataFrameオブジェクトの基礎にもなっています．それではDetaFrameオブジェクトについて学習していきましょう．"
   ]
  },
  {
   "cell_type": "markdown",
   "metadata": {
    "collapsed": true
   },
   "source": [
    "*****\n",
    "#### DataFrameオブジェクト\n",
    "DataFrameオブジェクトは，Excelなどのスプレッドシートのデータ構造を実現しています．\n",
    "従いまして，これまでスプレッドシートで行っていた作業をPythonに移植することが可能となります．\n",
    "スプレッドシートによる作業の問題点は，データの変更履歴が残らないことです．何かの間違いがあっても発見することが難しく，また同じ作業を他人に肩代わりしてもらうことも困難になります．\n",
    "Jupyter notebook上でDataFrameを操作することにより，その作業が同時に文書化されます．\n",
    "オフィス業務にJupyter notebookが標準で使われるようになれば，そのメリットがさらに大きくなります．"
   ]
  },
  {
   "cell_type": "markdown",
   "metadata": {},
   "source": [
    "DataFrameオブジェクトの生成には，pandas.DataFrame()関数に引数としてデータを渡すことに用って実現します．\n",
    "DataFrameは行ラベルと列ラベルを持ちます．行ラベルは上下方向に付けるユニークなインデックスです．一般的には観測対象ごとにデータ行を増やしていくので行ラベルは各観測対象のIDにします．一方、列方向には各種属性データを展開するので，列ラベルは変量の名称にします．\n",
    "\n",
    "ここで一つのサンプルデータを扱ってみましょう．このデータは5名の性別，年齢，血液型を記録しています．行ラベルは，左端の'person'でp001からp005とユニークなIDになっています．列ラベルは各変量の名称を英語にしたものになっています．\n",
    "\n",
    "| person | gender | age | blood |\n",
    "| :---: | :---: | :---: | :---: |\n",
    "| p001 | female | 30 | A |\n",
    "| p002 | female | 56 | O |\n",
    "| p003 | female | 40 | A |\n",
    "| p004 | male   | 36 | O |\n",
    "| p005 | female | 25 | O |\n",
    "\n",
    "元になるリストの2重配列を次のように定義します．\n",
    "```Python\n",
    "sampleData = {'gender':['female','female','female','male','female'],\n",
    "              'age':[30,56,40,36,25],\n",
    "              'blood':['A','O','A','O','O']}\n",
    "```"
   ]
  },
  {
   "cell_type": "code",
   "execution_count": 10,
   "metadata": {
    "collapsed": true
   },
   "outputs": [],
   "source": [
    "sampleData = {'gender':['female','female','female','male','female'],\n",
    "              'age':[30,56,40,36,25],\n",
    "              'blood':['A','O','A','O','O']}"
   ]
  },
  {
   "cell_type": "markdown",
   "metadata": {},
   "source": [
    "ここでは，元となるデータを辞書配列に記録します．辞書のキーが列ラベルになっています．辞書の値としてリストを記載することにより各変量の値を明示します．この辞書データには行ラベルになる情報が入っていませんが，DataFrameを生成するときに別途与えます．\n",
    "DataFrameを生成する関数は次の通りです．\n",
    "\n",
    "> <font color=green>pandas.DataFrame</font>(*whole_data*, <font color=green>columens</font>=*clomn_list*, <font color=green>index</font>=*index_list*)\n",
    "\n",
    "ここで，引数の「columns」は列方向の並び順を定めています．\n",
    "それではsampleDataを用いて新しい変数sampleDataFrameを定義します．\n",
    "```Python\n",
    "sampleDataFrame = pd.DataFrame(sampleData,columns=['gender','age','blood'],index=['p001','p002','p003','p004','p005'])\n",
    "sampleDataFrame\n",
    "```"
   ]
  },
  {
   "cell_type": "code",
   "execution_count": 11,
   "metadata": {},
   "outputs": [
    {
     "data": {
      "text/html": [
       "<div>\n",
       "<style>\n",
       "    .dataframe thead tr:only-child th {\n",
       "        text-align: right;\n",
       "    }\n",
       "\n",
       "    .dataframe thead th {\n",
       "        text-align: left;\n",
       "    }\n",
       "\n",
       "    .dataframe tbody tr th {\n",
       "        vertical-align: top;\n",
       "    }\n",
       "</style>\n",
       "<table border=\"1\" class=\"dataframe\">\n",
       "  <thead>\n",
       "    <tr style=\"text-align: right;\">\n",
       "      <th></th>\n",
       "      <th>gender</th>\n",
       "      <th>age</th>\n",
       "      <th>blood</th>\n",
       "    </tr>\n",
       "  </thead>\n",
       "  <tbody>\n",
       "    <tr>\n",
       "      <th>p001</th>\n",
       "      <td>female</td>\n",
       "      <td>30</td>\n",
       "      <td>A</td>\n",
       "    </tr>\n",
       "    <tr>\n",
       "      <th>p002</th>\n",
       "      <td>female</td>\n",
       "      <td>56</td>\n",
       "      <td>O</td>\n",
       "    </tr>\n",
       "    <tr>\n",
       "      <th>p003</th>\n",
       "      <td>female</td>\n",
       "      <td>40</td>\n",
       "      <td>A</td>\n",
       "    </tr>\n",
       "    <tr>\n",
       "      <th>p004</th>\n",
       "      <td>male</td>\n",
       "      <td>36</td>\n",
       "      <td>O</td>\n",
       "    </tr>\n",
       "    <tr>\n",
       "      <th>p005</th>\n",
       "      <td>female</td>\n",
       "      <td>25</td>\n",
       "      <td>O</td>\n",
       "    </tr>\n",
       "  </tbody>\n",
       "</table>\n",
       "</div>"
      ],
      "text/plain": [
       "      gender  age blood\n",
       "p001  female   30     A\n",
       "p002  female   56     O\n",
       "p003  female   40     A\n",
       "p004    male   36     O\n",
       "p005  female   25     O"
      ]
     },
     "execution_count": 11,
     "metadata": {},
     "output_type": "execute_result"
    }
   ],
   "source": [
    "sampleDataFrame = pd.DataFrame(sampleData,columns=['gender','age','blood'],index=['p001','p002','p003','p004','p005'])\n",
    "sampleDataFrame"
   ]
  },
  {
   "cell_type": "markdown",
   "metadata": {},
   "source": [
    "##### 行の参照\n",
    "DataFrameのある行だけを取り出すときは，次のように幾つかの方法があります.\n",
    "<font color=blue>\n",
    "> sampleDataFrame.loc['p003']<br>\n",
    "> sampleDataFrame.iloc[2]\n",
    "</font>\n",
    "ここでは，最初の記載方法を確認します．\n",
    "```Python\n",
    "sampleDataFrame.loc['p003']\n",
    "```"
   ]
  },
  {
   "cell_type": "code",
   "execution_count": 12,
   "metadata": {},
   "outputs": [
    {
     "data": {
      "text/plain": [
       "gender    female\n",
       "age           40\n",
       "blood          A\n",
       "Name: p003, dtype: object"
      ]
     },
     "execution_count": 12,
     "metadata": {},
     "output_type": "execute_result"
    }
   ],
   "source": [
    "sampleDataFrame.loc['p003']"
   ]
  },
  {
   "cell_type": "markdown",
   "metadata": {},
   "source": [
    "##### 列の参照\n",
    "DataFrameのある列だけを取り出したいときは次のように幾つかの方法があります．\n",
    "<font color=blue>\n",
    "> sampleDataFrame.age<br>\n",
    "> sampleDataFrame['age']<br>\n",
    "> sampleDataFrame.loc[:,'age']\n",
    "</font>\n",
    "最初の方法を利用するために変量の名称を英語にした方が便利なことが理解できます．\n",
    "```Python\n",
    "sampleDataFrame.age\n",
    "```"
   ]
  },
  {
   "cell_type": "code",
   "execution_count": 13,
   "metadata": {},
   "outputs": [
    {
     "data": {
      "text/plain": [
       "p001    30\n",
       "p002    56\n",
       "p003    40\n",
       "p004    36\n",
       "p005    25\n",
       "Name: age, dtype: int64"
      ]
     },
     "execution_count": 13,
     "metadata": {},
     "output_type": "execute_result"
    }
   ],
   "source": [
    "sampleDataFrame.age"
   ]
  },
  {
   "cell_type": "markdown",
   "metadata": {},
   "source": [
    "##### ピンポイントの参照\n",
    "さらにピンポイントで一つのデータを参照したい場合は次のようにします．\n",
    "```Python\n",
    "sampleDataFrame.age['p003']\n",
    "```"
   ]
  },
  {
   "cell_type": "code",
   "execution_count": 14,
   "metadata": {},
   "outputs": [
    {
     "data": {
      "text/plain": [
       "40"
      ]
     },
     "execution_count": 14,
     "metadata": {},
     "output_type": "execute_result"
    }
   ],
   "source": [
    "sampleDataFrame.age['p003']"
   ]
  },
  {
   "cell_type": "markdown",
   "metadata": {},
   "source": [
    "##### ピンポイントの変更\n",
    "その値を変更したい場合は，通常の代入文と同じように記述すると「 A value is trying to be set on a copy of a slice from a DataFrame」というワーニングが発生します．\n",
    "\n",
    "> <font color=red>sampleDataFrame.age['p003'] = 41</font>\n",
    "\n",
    "これを回避するには，代わりにloc()メソッドでインデックスを指定して値の代入を実施すると無条件に実行されます．\n",
    "\n",
    "> <font color=blue>sampleDataFrame.loc['p003','age'] = 41</font>\n",
    "\n",
    "このように実施します．\n",
    "```Python\n",
    "sampleDataFrame.loc['p003','age'] = 41\n",
    "sampleDataFrame\n",
    "```"
   ]
  },
  {
   "cell_type": "code",
   "execution_count": 15,
   "metadata": {},
   "outputs": [
    {
     "data": {
      "text/html": [
       "<div>\n",
       "<style>\n",
       "    .dataframe thead tr:only-child th {\n",
       "        text-align: right;\n",
       "    }\n",
       "\n",
       "    .dataframe thead th {\n",
       "        text-align: left;\n",
       "    }\n",
       "\n",
       "    .dataframe tbody tr th {\n",
       "        vertical-align: top;\n",
       "    }\n",
       "</style>\n",
       "<table border=\"1\" class=\"dataframe\">\n",
       "  <thead>\n",
       "    <tr style=\"text-align: right;\">\n",
       "      <th></th>\n",
       "      <th>gender</th>\n",
       "      <th>age</th>\n",
       "      <th>blood</th>\n",
       "    </tr>\n",
       "  </thead>\n",
       "  <tbody>\n",
       "    <tr>\n",
       "      <th>p001</th>\n",
       "      <td>female</td>\n",
       "      <td>30</td>\n",
       "      <td>A</td>\n",
       "    </tr>\n",
       "    <tr>\n",
       "      <th>p002</th>\n",
       "      <td>female</td>\n",
       "      <td>56</td>\n",
       "      <td>O</td>\n",
       "    </tr>\n",
       "    <tr>\n",
       "      <th>p003</th>\n",
       "      <td>female</td>\n",
       "      <td>41</td>\n",
       "      <td>A</td>\n",
       "    </tr>\n",
       "    <tr>\n",
       "      <th>p004</th>\n",
       "      <td>male</td>\n",
       "      <td>36</td>\n",
       "      <td>O</td>\n",
       "    </tr>\n",
       "    <tr>\n",
       "      <th>p005</th>\n",
       "      <td>female</td>\n",
       "      <td>25</td>\n",
       "      <td>O</td>\n",
       "    </tr>\n",
       "  </tbody>\n",
       "</table>\n",
       "</div>"
      ],
      "text/plain": [
       "      gender  age blood\n",
       "p001  female   30     A\n",
       "p002  female   56     O\n",
       "p003  female   41     A\n",
       "p004    male   36     O\n",
       "p005  female   25     O"
      ]
     },
     "execution_count": 15,
     "metadata": {},
     "output_type": "execute_result"
    }
   ],
   "source": [
    "sampleDataFrame.loc['p003','age'] = 41\n",
    "sampleDataFrame"
   ]
  },
  {
   "cell_type": "markdown",
   "metadata": {
    "collapsed": true
   },
   "source": [
    "##### 列の追加\n",
    "データフレームに新しい列を追加するには，新しい列ラベルを各括弧で指定してリスト配列を代入します．\n",
    "```Python\n",
    "sampleDataFrame['height'] = [152.7,155.3,157.3,165.5,161.2]\n",
    "sampleDataFrame\n",
    "```"
   ]
  },
  {
   "cell_type": "code",
   "execution_count": 16,
   "metadata": {},
   "outputs": [
    {
     "data": {
      "text/html": [
       "<div>\n",
       "<style>\n",
       "    .dataframe thead tr:only-child th {\n",
       "        text-align: right;\n",
       "    }\n",
       "\n",
       "    .dataframe thead th {\n",
       "        text-align: left;\n",
       "    }\n",
       "\n",
       "    .dataframe tbody tr th {\n",
       "        vertical-align: top;\n",
       "    }\n",
       "</style>\n",
       "<table border=\"1\" class=\"dataframe\">\n",
       "  <thead>\n",
       "    <tr style=\"text-align: right;\">\n",
       "      <th></th>\n",
       "      <th>gender</th>\n",
       "      <th>age</th>\n",
       "      <th>blood</th>\n",
       "      <th>height</th>\n",
       "    </tr>\n",
       "  </thead>\n",
       "  <tbody>\n",
       "    <tr>\n",
       "      <th>p001</th>\n",
       "      <td>female</td>\n",
       "      <td>30</td>\n",
       "      <td>A</td>\n",
       "      <td>152.7</td>\n",
       "    </tr>\n",
       "    <tr>\n",
       "      <th>p002</th>\n",
       "      <td>female</td>\n",
       "      <td>56</td>\n",
       "      <td>O</td>\n",
       "      <td>155.3</td>\n",
       "    </tr>\n",
       "    <tr>\n",
       "      <th>p003</th>\n",
       "      <td>female</td>\n",
       "      <td>41</td>\n",
       "      <td>A</td>\n",
       "      <td>157.3</td>\n",
       "    </tr>\n",
       "    <tr>\n",
       "      <th>p004</th>\n",
       "      <td>male</td>\n",
       "      <td>36</td>\n",
       "      <td>O</td>\n",
       "      <td>165.5</td>\n",
       "    </tr>\n",
       "    <tr>\n",
       "      <th>p005</th>\n",
       "      <td>female</td>\n",
       "      <td>25</td>\n",
       "      <td>O</td>\n",
       "      <td>161.2</td>\n",
       "    </tr>\n",
       "  </tbody>\n",
       "</table>\n",
       "</div>"
      ],
      "text/plain": [
       "      gender  age blood  height\n",
       "p001  female   30     A   152.7\n",
       "p002  female   56     O   155.3\n",
       "p003  female   41     A   157.3\n",
       "p004    male   36     O   165.5\n",
       "p005  female   25     O   161.2"
      ]
     },
     "execution_count": 16,
     "metadata": {},
     "output_type": "execute_result"
    }
   ],
   "source": [
    "sampleDataFrame['height'] = [152.7,155.3,157.3,165.5,161.2]\n",
    "sampleDataFrame"
   ]
  },
  {
   "cell_type": "markdown",
   "metadata": {},
   "source": [
    "##### 行の追加\n",
    "データフレームに行を追加する場合には，同じ列の構造を持った別のデータフレームを作成して，append()メソッドによって追加します．\n",
    "ただし，append()メソッドは元のデータを変更するのではなく，新しいオブジェクトを生成することに注意してください．\n",
    "\n",
    "まずは追加するデータフレームを定義します．\n",
    "```Python\n",
    "addData = {'gender':'female','age':23,'blood':'B','height':162.7}\n",
    "addDataFrame = pd.DataFrame(addData,columns=['gender','age','blood','height'],index=['p006'])\n",
    "addDataFrame\n",
    "```"
   ]
  },
  {
   "cell_type": "code",
   "execution_count": 17,
   "metadata": {},
   "outputs": [
    {
     "data": {
      "text/html": [
       "<div>\n",
       "<style>\n",
       "    .dataframe thead tr:only-child th {\n",
       "        text-align: right;\n",
       "    }\n",
       "\n",
       "    .dataframe thead th {\n",
       "        text-align: left;\n",
       "    }\n",
       "\n",
       "    .dataframe tbody tr th {\n",
       "        vertical-align: top;\n",
       "    }\n",
       "</style>\n",
       "<table border=\"1\" class=\"dataframe\">\n",
       "  <thead>\n",
       "    <tr style=\"text-align: right;\">\n",
       "      <th></th>\n",
       "      <th>gender</th>\n",
       "      <th>age</th>\n",
       "      <th>blood</th>\n",
       "      <th>height</th>\n",
       "    </tr>\n",
       "  </thead>\n",
       "  <tbody>\n",
       "    <tr>\n",
       "      <th>p006</th>\n",
       "      <td>female</td>\n",
       "      <td>23</td>\n",
       "      <td>B</td>\n",
       "      <td>162.7</td>\n",
       "    </tr>\n",
       "  </tbody>\n",
       "</table>\n",
       "</div>"
      ],
      "text/plain": [
       "      gender  age blood  height\n",
       "p006  female   23     B   162.7"
      ]
     },
     "execution_count": 17,
     "metadata": {},
     "output_type": "execute_result"
    }
   ],
   "source": [
    "addData = {'gender':'female','age':23,'blood':'B','height':162.7}\n",
    "addDataFrame = pd.DataFrame(addData,columns=['gender','age','blood','height'],index=['p006'])\n",
    "addDataFrame"
   ]
  },
  {
   "cell_type": "markdown",
   "metadata": {},
   "source": [
    "append()メソッドによってデータフレームsampleDataFrameに追加します．\n",
    "```Python\n",
    "sampleDataFrame = sampleDataFrame.append(addDataFrame)\n",
    "sampleDataFrame\n",
    "```"
   ]
  },
  {
   "cell_type": "code",
   "execution_count": 18,
   "metadata": {},
   "outputs": [
    {
     "data": {
      "text/html": [
       "<div>\n",
       "<style>\n",
       "    .dataframe thead tr:only-child th {\n",
       "        text-align: right;\n",
       "    }\n",
       "\n",
       "    .dataframe thead th {\n",
       "        text-align: left;\n",
       "    }\n",
       "\n",
       "    .dataframe tbody tr th {\n",
       "        vertical-align: top;\n",
       "    }\n",
       "</style>\n",
       "<table border=\"1\" class=\"dataframe\">\n",
       "  <thead>\n",
       "    <tr style=\"text-align: right;\">\n",
       "      <th></th>\n",
       "      <th>gender</th>\n",
       "      <th>age</th>\n",
       "      <th>blood</th>\n",
       "      <th>height</th>\n",
       "    </tr>\n",
       "  </thead>\n",
       "  <tbody>\n",
       "    <tr>\n",
       "      <th>p001</th>\n",
       "      <td>female</td>\n",
       "      <td>30</td>\n",
       "      <td>A</td>\n",
       "      <td>152.7</td>\n",
       "    </tr>\n",
       "    <tr>\n",
       "      <th>p002</th>\n",
       "      <td>female</td>\n",
       "      <td>56</td>\n",
       "      <td>O</td>\n",
       "      <td>155.3</td>\n",
       "    </tr>\n",
       "    <tr>\n",
       "      <th>p003</th>\n",
       "      <td>female</td>\n",
       "      <td>41</td>\n",
       "      <td>A</td>\n",
       "      <td>157.3</td>\n",
       "    </tr>\n",
       "    <tr>\n",
       "      <th>p004</th>\n",
       "      <td>male</td>\n",
       "      <td>36</td>\n",
       "      <td>O</td>\n",
       "      <td>165.5</td>\n",
       "    </tr>\n",
       "    <tr>\n",
       "      <th>p005</th>\n",
       "      <td>female</td>\n",
       "      <td>25</td>\n",
       "      <td>O</td>\n",
       "      <td>161.2</td>\n",
       "    </tr>\n",
       "    <tr>\n",
       "      <th>p006</th>\n",
       "      <td>female</td>\n",
       "      <td>23</td>\n",
       "      <td>B</td>\n",
       "      <td>162.7</td>\n",
       "    </tr>\n",
       "  </tbody>\n",
       "</table>\n",
       "</div>"
      ],
      "text/plain": [
       "      gender  age blood  height\n",
       "p001  female   30     A   152.7\n",
       "p002  female   56     O   155.3\n",
       "p003  female   41     A   157.3\n",
       "p004    male   36     O   165.5\n",
       "p005  female   25     O   161.2\n",
       "p006  female   23     B   162.7"
      ]
     },
     "execution_count": 18,
     "metadata": {},
     "output_type": "execute_result"
    }
   ],
   "source": [
    "sampleDataFrame = sampleDataFrame.append(addDataFrame)\n",
    "sampleDataFrame"
   ]
  },
  {
   "cell_type": "markdown",
   "metadata": {},
   "source": [
    "##### 行の削除\n",
    "行を削除するには，drop()メソッドの引数にインデックスである行ラベルの値を渡します．\n",
    "ただし，drop()メソッドは，元のデータフレームを変更しません．新しいオブジェクトが生成されるので，別の変数名に代入します．\n",
    "```Python\n",
    "df2 = sampleDataFrame.drop('p004')\n",
    "df2\n",
    "```"
   ]
  },
  {
   "cell_type": "code",
   "execution_count": 19,
   "metadata": {},
   "outputs": [
    {
     "data": {
      "text/html": [
       "<div>\n",
       "<style>\n",
       "    .dataframe thead tr:only-child th {\n",
       "        text-align: right;\n",
       "    }\n",
       "\n",
       "    .dataframe thead th {\n",
       "        text-align: left;\n",
       "    }\n",
       "\n",
       "    .dataframe tbody tr th {\n",
       "        vertical-align: top;\n",
       "    }\n",
       "</style>\n",
       "<table border=\"1\" class=\"dataframe\">\n",
       "  <thead>\n",
       "    <tr style=\"text-align: right;\">\n",
       "      <th></th>\n",
       "      <th>gender</th>\n",
       "      <th>age</th>\n",
       "      <th>blood</th>\n",
       "      <th>height</th>\n",
       "    </tr>\n",
       "  </thead>\n",
       "  <tbody>\n",
       "    <tr>\n",
       "      <th>p001</th>\n",
       "      <td>female</td>\n",
       "      <td>30</td>\n",
       "      <td>A</td>\n",
       "      <td>152.7</td>\n",
       "    </tr>\n",
       "    <tr>\n",
       "      <th>p002</th>\n",
       "      <td>female</td>\n",
       "      <td>56</td>\n",
       "      <td>O</td>\n",
       "      <td>155.3</td>\n",
       "    </tr>\n",
       "    <tr>\n",
       "      <th>p003</th>\n",
       "      <td>female</td>\n",
       "      <td>41</td>\n",
       "      <td>A</td>\n",
       "      <td>157.3</td>\n",
       "    </tr>\n",
       "    <tr>\n",
       "      <th>p005</th>\n",
       "      <td>female</td>\n",
       "      <td>25</td>\n",
       "      <td>O</td>\n",
       "      <td>161.2</td>\n",
       "    </tr>\n",
       "    <tr>\n",
       "      <th>p006</th>\n",
       "      <td>female</td>\n",
       "      <td>23</td>\n",
       "      <td>B</td>\n",
       "      <td>162.7</td>\n",
       "    </tr>\n",
       "  </tbody>\n",
       "</table>\n",
       "</div>"
      ],
      "text/plain": [
       "      gender  age blood  height\n",
       "p001  female   30     A   152.7\n",
       "p002  female   56     O   155.3\n",
       "p003  female   41     A   157.3\n",
       "p005  female   25     O   161.2\n",
       "p006  female   23     B   162.7"
      ]
     },
     "execution_count": 19,
     "metadata": {},
     "output_type": "execute_result"
    }
   ],
   "source": [
    "df2 = sampleDataFrame.drop('p004')\n",
    "df2"
   ]
  },
  {
   "cell_type": "markdown",
   "metadata": {},
   "source": [
    "##### 列の削除\n",
    "列の削除にもdrop()メソッドを使用します．ただし，第2引数に「axis=1」を明記します．これにより列の削除が指定されます．引数axisのデフォルト値は0で行の削除がデフォルトになっています.\n",
    "```Python\n",
    "df3 = df2.drop('gender',axis=1)\n",
    "df3\n",
    "```"
   ]
  },
  {
   "cell_type": "code",
   "execution_count": 20,
   "metadata": {},
   "outputs": [
    {
     "data": {
      "text/html": [
       "<div>\n",
       "<style>\n",
       "    .dataframe thead tr:only-child th {\n",
       "        text-align: right;\n",
       "    }\n",
       "\n",
       "    .dataframe thead th {\n",
       "        text-align: left;\n",
       "    }\n",
       "\n",
       "    .dataframe tbody tr th {\n",
       "        vertical-align: top;\n",
       "    }\n",
       "</style>\n",
       "<table border=\"1\" class=\"dataframe\">\n",
       "  <thead>\n",
       "    <tr style=\"text-align: right;\">\n",
       "      <th></th>\n",
       "      <th>age</th>\n",
       "      <th>blood</th>\n",
       "      <th>height</th>\n",
       "    </tr>\n",
       "  </thead>\n",
       "  <tbody>\n",
       "    <tr>\n",
       "      <th>p001</th>\n",
       "      <td>30</td>\n",
       "      <td>A</td>\n",
       "      <td>152.7</td>\n",
       "    </tr>\n",
       "    <tr>\n",
       "      <th>p002</th>\n",
       "      <td>56</td>\n",
       "      <td>O</td>\n",
       "      <td>155.3</td>\n",
       "    </tr>\n",
       "    <tr>\n",
       "      <th>p003</th>\n",
       "      <td>41</td>\n",
       "      <td>A</td>\n",
       "      <td>157.3</td>\n",
       "    </tr>\n",
       "    <tr>\n",
       "      <th>p005</th>\n",
       "      <td>25</td>\n",
       "      <td>O</td>\n",
       "      <td>161.2</td>\n",
       "    </tr>\n",
       "    <tr>\n",
       "      <th>p006</th>\n",
       "      <td>23</td>\n",
       "      <td>B</td>\n",
       "      <td>162.7</td>\n",
       "    </tr>\n",
       "  </tbody>\n",
       "</table>\n",
       "</div>"
      ],
      "text/plain": [
       "      age blood  height\n",
       "p001   30     A   152.7\n",
       "p002   56     O   155.3\n",
       "p003   41     A   157.3\n",
       "p005   25     O   161.2\n",
       "p006   23     B   162.7"
      ]
     },
     "execution_count": 20,
     "metadata": {},
     "output_type": "execute_result"
    }
   ],
   "source": [
    "df3 = df2.drop('gender',axis=1)\n",
    "df3"
   ]
  },
  {
   "cell_type": "markdown",
   "metadata": {},
   "source": [
    "念のためにsampleDataFrameの中身を確認すると，行や列は削除されていません．\n",
    "```Python\n",
    "sampleDataFrame\n",
    "```"
   ]
  },
  {
   "cell_type": "code",
   "execution_count": 21,
   "metadata": {},
   "outputs": [
    {
     "data": {
      "text/html": [
       "<div>\n",
       "<style>\n",
       "    .dataframe thead tr:only-child th {\n",
       "        text-align: right;\n",
       "    }\n",
       "\n",
       "    .dataframe thead th {\n",
       "        text-align: left;\n",
       "    }\n",
       "\n",
       "    .dataframe tbody tr th {\n",
       "        vertical-align: top;\n",
       "    }\n",
       "</style>\n",
       "<table border=\"1\" class=\"dataframe\">\n",
       "  <thead>\n",
       "    <tr style=\"text-align: right;\">\n",
       "      <th></th>\n",
       "      <th>gender</th>\n",
       "      <th>age</th>\n",
       "      <th>blood</th>\n",
       "      <th>height</th>\n",
       "    </tr>\n",
       "  </thead>\n",
       "  <tbody>\n",
       "    <tr>\n",
       "      <th>p001</th>\n",
       "      <td>female</td>\n",
       "      <td>30</td>\n",
       "      <td>A</td>\n",
       "      <td>152.7</td>\n",
       "    </tr>\n",
       "    <tr>\n",
       "      <th>p002</th>\n",
       "      <td>female</td>\n",
       "      <td>56</td>\n",
       "      <td>O</td>\n",
       "      <td>155.3</td>\n",
       "    </tr>\n",
       "    <tr>\n",
       "      <th>p003</th>\n",
       "      <td>female</td>\n",
       "      <td>41</td>\n",
       "      <td>A</td>\n",
       "      <td>157.3</td>\n",
       "    </tr>\n",
       "    <tr>\n",
       "      <th>p004</th>\n",
       "      <td>male</td>\n",
       "      <td>36</td>\n",
       "      <td>O</td>\n",
       "      <td>165.5</td>\n",
       "    </tr>\n",
       "    <tr>\n",
       "      <th>p005</th>\n",
       "      <td>female</td>\n",
       "      <td>25</td>\n",
       "      <td>O</td>\n",
       "      <td>161.2</td>\n",
       "    </tr>\n",
       "    <tr>\n",
       "      <th>p006</th>\n",
       "      <td>female</td>\n",
       "      <td>23</td>\n",
       "      <td>B</td>\n",
       "      <td>162.7</td>\n",
       "    </tr>\n",
       "  </tbody>\n",
       "</table>\n",
       "</div>"
      ],
      "text/plain": [
       "      gender  age blood  height\n",
       "p001  female   30     A   152.7\n",
       "p002  female   56     O   155.3\n",
       "p003  female   41     A   157.3\n",
       "p004    male   36     O   165.5\n",
       "p005  female   25     O   161.2\n",
       "p006  female   23     B   162.7"
      ]
     },
     "execution_count": 21,
     "metadata": {},
     "output_type": "execute_result"
    }
   ],
   "source": [
    "sampleDataFrame"
   ]
  },
  {
   "cell_type": "markdown",
   "metadata": {},
   "source": [
    "##### 行のインデックスによる絞り込み\n",
    "行をインデックスで絞り込みたいときは，インデックスを範囲で指定します．\n",
    "```Python\n",
    "sampleDataFrame['p002':'p004']\n",
    "```"
   ]
  },
  {
   "cell_type": "code",
   "execution_count": 22,
   "metadata": {},
   "outputs": [
    {
     "data": {
      "text/html": [
       "<div>\n",
       "<style>\n",
       "    .dataframe thead tr:only-child th {\n",
       "        text-align: right;\n",
       "    }\n",
       "\n",
       "    .dataframe thead th {\n",
       "        text-align: left;\n",
       "    }\n",
       "\n",
       "    .dataframe tbody tr th {\n",
       "        vertical-align: top;\n",
       "    }\n",
       "</style>\n",
       "<table border=\"1\" class=\"dataframe\">\n",
       "  <thead>\n",
       "    <tr style=\"text-align: right;\">\n",
       "      <th></th>\n",
       "      <th>gender</th>\n",
       "      <th>age</th>\n",
       "      <th>blood</th>\n",
       "      <th>height</th>\n",
       "    </tr>\n",
       "  </thead>\n",
       "  <tbody>\n",
       "    <tr>\n",
       "      <th>p002</th>\n",
       "      <td>female</td>\n",
       "      <td>56</td>\n",
       "      <td>O</td>\n",
       "      <td>155.3</td>\n",
       "    </tr>\n",
       "    <tr>\n",
       "      <th>p003</th>\n",
       "      <td>female</td>\n",
       "      <td>41</td>\n",
       "      <td>A</td>\n",
       "      <td>157.3</td>\n",
       "    </tr>\n",
       "    <tr>\n",
       "      <th>p004</th>\n",
       "      <td>male</td>\n",
       "      <td>36</td>\n",
       "      <td>O</td>\n",
       "      <td>165.5</td>\n",
       "    </tr>\n",
       "  </tbody>\n",
       "</table>\n",
       "</div>"
      ],
      "text/plain": [
       "      gender  age blood  height\n",
       "p002  female   56     O   155.3\n",
       "p003  female   41     A   157.3\n",
       "p004    male   36     O   165.5"
      ]
     },
     "execution_count": 22,
     "metadata": {},
     "output_type": "execute_result"
    }
   ],
   "source": [
    "sampleDataFrame['p002':'p004']"
   ]
  },
  {
   "cell_type": "markdown",
   "metadata": {},
   "source": [
    "##### 行の値による絞り込み\n",
    "行をどれかの変数の値によって絞り込みたい場合は，角括弧内で条件文を記載します．\n",
    "```Python\n",
    "sampleDataFrame[sampleDataFrame.blood=='O']\n",
    "```"
   ]
  },
  {
   "cell_type": "code",
   "execution_count": 23,
   "metadata": {},
   "outputs": [
    {
     "data": {
      "text/html": [
       "<div>\n",
       "<style>\n",
       "    .dataframe thead tr:only-child th {\n",
       "        text-align: right;\n",
       "    }\n",
       "\n",
       "    .dataframe thead th {\n",
       "        text-align: left;\n",
       "    }\n",
       "\n",
       "    .dataframe tbody tr th {\n",
       "        vertical-align: top;\n",
       "    }\n",
       "</style>\n",
       "<table border=\"1\" class=\"dataframe\">\n",
       "  <thead>\n",
       "    <tr style=\"text-align: right;\">\n",
       "      <th></th>\n",
       "      <th>gender</th>\n",
       "      <th>age</th>\n",
       "      <th>blood</th>\n",
       "      <th>height</th>\n",
       "    </tr>\n",
       "  </thead>\n",
       "  <tbody>\n",
       "    <tr>\n",
       "      <th>p002</th>\n",
       "      <td>female</td>\n",
       "      <td>56</td>\n",
       "      <td>O</td>\n",
       "      <td>155.3</td>\n",
       "    </tr>\n",
       "    <tr>\n",
       "      <th>p004</th>\n",
       "      <td>male</td>\n",
       "      <td>36</td>\n",
       "      <td>O</td>\n",
       "      <td>165.5</td>\n",
       "    </tr>\n",
       "    <tr>\n",
       "      <th>p005</th>\n",
       "      <td>female</td>\n",
       "      <td>25</td>\n",
       "      <td>O</td>\n",
       "      <td>161.2</td>\n",
       "    </tr>\n",
       "  </tbody>\n",
       "</table>\n",
       "</div>"
      ],
      "text/plain": [
       "      gender  age blood  height\n",
       "p002  female   56     O   155.3\n",
       "p004    male   36     O   165.5\n",
       "p005  female   25     O   161.2"
      ]
     },
     "execution_count": 23,
     "metadata": {},
     "output_type": "execute_result"
    }
   ],
   "source": [
    "sampleDataFrame[sampleDataFrame.blood=='O']"
   ]
  },
  {
   "cell_type": "markdown",
   "metadata": {
    "collapsed": true
   },
   "source": [
    "##### 値によるソート\n",
    "データフレームを値によってソートする場合は，sort_values()メソッドを使用します．\n",
    "sort_values()メソッドの結果は新しいオブジェクトとして生成され，元のデータフレームは変更させません．\n",
    "どの変量によってソートするかは引数「by」によって明示します．\n",
    "```Python\n",
    "sampleDataFrame.sort_values(by='age')\n",
    "```"
   ]
  },
  {
   "cell_type": "code",
   "execution_count": 24,
   "metadata": {},
   "outputs": [
    {
     "data": {
      "text/html": [
       "<div>\n",
       "<style>\n",
       "    .dataframe thead tr:only-child th {\n",
       "        text-align: right;\n",
       "    }\n",
       "\n",
       "    .dataframe thead th {\n",
       "        text-align: left;\n",
       "    }\n",
       "\n",
       "    .dataframe tbody tr th {\n",
       "        vertical-align: top;\n",
       "    }\n",
       "</style>\n",
       "<table border=\"1\" class=\"dataframe\">\n",
       "  <thead>\n",
       "    <tr style=\"text-align: right;\">\n",
       "      <th></th>\n",
       "      <th>gender</th>\n",
       "      <th>age</th>\n",
       "      <th>blood</th>\n",
       "      <th>height</th>\n",
       "    </tr>\n",
       "  </thead>\n",
       "  <tbody>\n",
       "    <tr>\n",
       "      <th>p006</th>\n",
       "      <td>female</td>\n",
       "      <td>23</td>\n",
       "      <td>B</td>\n",
       "      <td>162.7</td>\n",
       "    </tr>\n",
       "    <tr>\n",
       "      <th>p005</th>\n",
       "      <td>female</td>\n",
       "      <td>25</td>\n",
       "      <td>O</td>\n",
       "      <td>161.2</td>\n",
       "    </tr>\n",
       "    <tr>\n",
       "      <th>p001</th>\n",
       "      <td>female</td>\n",
       "      <td>30</td>\n",
       "      <td>A</td>\n",
       "      <td>152.7</td>\n",
       "    </tr>\n",
       "    <tr>\n",
       "      <th>p004</th>\n",
       "      <td>male</td>\n",
       "      <td>36</td>\n",
       "      <td>O</td>\n",
       "      <td>165.5</td>\n",
       "    </tr>\n",
       "    <tr>\n",
       "      <th>p003</th>\n",
       "      <td>female</td>\n",
       "      <td>41</td>\n",
       "      <td>A</td>\n",
       "      <td>157.3</td>\n",
       "    </tr>\n",
       "    <tr>\n",
       "      <th>p002</th>\n",
       "      <td>female</td>\n",
       "      <td>56</td>\n",
       "      <td>O</td>\n",
       "      <td>155.3</td>\n",
       "    </tr>\n",
       "  </tbody>\n",
       "</table>\n",
       "</div>"
      ],
      "text/plain": [
       "      gender  age blood  height\n",
       "p006  female   23     B   162.7\n",
       "p005  female   25     O   161.2\n",
       "p001  female   30     A   152.7\n",
       "p004    male   36     O   165.5\n",
       "p003  female   41     A   157.3\n",
       "p002  female   56     O   155.3"
      ]
     },
     "execution_count": 24,
     "metadata": {},
     "output_type": "execute_result"
    }
   ],
   "source": [
    "sampleDataFrame.sort_values(by='age')"
   ]
  },
  {
   "cell_type": "markdown",
   "metadata": {},
   "source": [
    "ソートはデフォルトで昇順となります．降順にしたい場合は引数として「ascending=False」を追加します．\n",
    "```Python\n",
    "sampleDataFrame.sort_values(by='age',ascending=False)\n",
    "```"
   ]
  },
  {
   "cell_type": "code",
   "execution_count": 25,
   "metadata": {},
   "outputs": [
    {
     "data": {
      "text/html": [
       "<div>\n",
       "<style>\n",
       "    .dataframe thead tr:only-child th {\n",
       "        text-align: right;\n",
       "    }\n",
       "\n",
       "    .dataframe thead th {\n",
       "        text-align: left;\n",
       "    }\n",
       "\n",
       "    .dataframe tbody tr th {\n",
       "        vertical-align: top;\n",
       "    }\n",
       "</style>\n",
       "<table border=\"1\" class=\"dataframe\">\n",
       "  <thead>\n",
       "    <tr style=\"text-align: right;\">\n",
       "      <th></th>\n",
       "      <th>gender</th>\n",
       "      <th>age</th>\n",
       "      <th>blood</th>\n",
       "      <th>height</th>\n",
       "    </tr>\n",
       "  </thead>\n",
       "  <tbody>\n",
       "    <tr>\n",
       "      <th>p002</th>\n",
       "      <td>female</td>\n",
       "      <td>56</td>\n",
       "      <td>O</td>\n",
       "      <td>155.3</td>\n",
       "    </tr>\n",
       "    <tr>\n",
       "      <th>p003</th>\n",
       "      <td>female</td>\n",
       "      <td>41</td>\n",
       "      <td>A</td>\n",
       "      <td>157.3</td>\n",
       "    </tr>\n",
       "    <tr>\n",
       "      <th>p004</th>\n",
       "      <td>male</td>\n",
       "      <td>36</td>\n",
       "      <td>O</td>\n",
       "      <td>165.5</td>\n",
       "    </tr>\n",
       "    <tr>\n",
       "      <th>p001</th>\n",
       "      <td>female</td>\n",
       "      <td>30</td>\n",
       "      <td>A</td>\n",
       "      <td>152.7</td>\n",
       "    </tr>\n",
       "    <tr>\n",
       "      <th>p005</th>\n",
       "      <td>female</td>\n",
       "      <td>25</td>\n",
       "      <td>O</td>\n",
       "      <td>161.2</td>\n",
       "    </tr>\n",
       "    <tr>\n",
       "      <th>p006</th>\n",
       "      <td>female</td>\n",
       "      <td>23</td>\n",
       "      <td>B</td>\n",
       "      <td>162.7</td>\n",
       "    </tr>\n",
       "  </tbody>\n",
       "</table>\n",
       "</div>"
      ],
      "text/plain": [
       "      gender  age blood  height\n",
       "p002  female   56     O   155.3\n",
       "p003  female   41     A   157.3\n",
       "p004    male   36     O   165.5\n",
       "p001  female   30     A   152.7\n",
       "p005  female   25     O   161.2\n",
       "p006  female   23     B   162.7"
      ]
     },
     "execution_count": 25,
     "metadata": {},
     "output_type": "execute_result"
    }
   ],
   "source": [
    "sampleDataFrame.sort_values(by='age',ascending=False)"
   ]
  },
  {
   "cell_type": "markdown",
   "metadata": {},
   "source": [
    "複数の変数によるソートを行う場合は，by引数を配列にします．昇順降順の組み合わせについてもascending引数を真偽値リストとして渡します．\n",
    "```Python\n",
    "sampleDataFrame.sort_values(by=['blood','age'],ascending=[False,True])\n",
    "```"
   ]
  },
  {
   "cell_type": "code",
   "execution_count": 26,
   "metadata": {},
   "outputs": [
    {
     "data": {
      "text/html": [
       "<div>\n",
       "<style>\n",
       "    .dataframe thead tr:only-child th {\n",
       "        text-align: right;\n",
       "    }\n",
       "\n",
       "    .dataframe thead th {\n",
       "        text-align: left;\n",
       "    }\n",
       "\n",
       "    .dataframe tbody tr th {\n",
       "        vertical-align: top;\n",
       "    }\n",
       "</style>\n",
       "<table border=\"1\" class=\"dataframe\">\n",
       "  <thead>\n",
       "    <tr style=\"text-align: right;\">\n",
       "      <th></th>\n",
       "      <th>gender</th>\n",
       "      <th>age</th>\n",
       "      <th>blood</th>\n",
       "      <th>height</th>\n",
       "    </tr>\n",
       "  </thead>\n",
       "  <tbody>\n",
       "    <tr>\n",
       "      <th>p005</th>\n",
       "      <td>female</td>\n",
       "      <td>25</td>\n",
       "      <td>O</td>\n",
       "      <td>161.2</td>\n",
       "    </tr>\n",
       "    <tr>\n",
       "      <th>p004</th>\n",
       "      <td>male</td>\n",
       "      <td>36</td>\n",
       "      <td>O</td>\n",
       "      <td>165.5</td>\n",
       "    </tr>\n",
       "    <tr>\n",
       "      <th>p002</th>\n",
       "      <td>female</td>\n",
       "      <td>56</td>\n",
       "      <td>O</td>\n",
       "      <td>155.3</td>\n",
       "    </tr>\n",
       "    <tr>\n",
       "      <th>p006</th>\n",
       "      <td>female</td>\n",
       "      <td>23</td>\n",
       "      <td>B</td>\n",
       "      <td>162.7</td>\n",
       "    </tr>\n",
       "    <tr>\n",
       "      <th>p001</th>\n",
       "      <td>female</td>\n",
       "      <td>30</td>\n",
       "      <td>A</td>\n",
       "      <td>152.7</td>\n",
       "    </tr>\n",
       "    <tr>\n",
       "      <th>p003</th>\n",
       "      <td>female</td>\n",
       "      <td>41</td>\n",
       "      <td>A</td>\n",
       "      <td>157.3</td>\n",
       "    </tr>\n",
       "  </tbody>\n",
       "</table>\n",
       "</div>"
      ],
      "text/plain": [
       "      gender  age blood  height\n",
       "p005  female   25     O   161.2\n",
       "p004    male   36     O   165.5\n",
       "p002  female   56     O   155.3\n",
       "p006  female   23     B   162.7\n",
       "p001  female   30     A   152.7\n",
       "p003  female   41     A   157.3"
      ]
     },
     "execution_count": 26,
     "metadata": {},
     "output_type": "execute_result"
    }
   ],
   "source": [
    "sampleDataFrame.sort_values(by=['blood','age'],ascending=[False,True])"
   ]
  },
  {
   "cell_type": "markdown",
   "metadata": {},
   "source": [
    "*****\n",
    "#### データフレームの四則演算\n",
    "DataFrameは行と列で構成されるので行列ににていますが，値に数値以外のデータを保有することができ，行列にはない柔軟性をもっています．\n",
    "DataFrameに対して四則演算も定義されていますが，基本的には項目ごとの四則演算になります．しかし，演算する2つのオブジェクトが同じサイズのDataFrameでない場合の挙動についても知っておく必要があります．\n",
    "四則演算は数値における二項演算子で表すこともできますが，サイズの異なる変則ケースに対応するためにメソッドで補足の引数を渡します．\n",
    "\n",
    "| 演算   | メソッド | 二項演算子 | 説明 |\n",
    "| :---:  | :---: | :---: | :---: |\n",
    "| 足し算 | add | + | 要素ごとの足し算 |\n",
    "| 引き算 | sub | - | 要素ごとの引き算 |\n",
    "| 掛け算 | mul | * | 要素ごとの掛け算 |\n",
    "| 割り算 | div | / | 要素ごとの割り算 |\n",
    "\n",
    "どの演算も同じ挙動になります．掛け算は行列式の掛け算ではないことに注意してください．<br>\n",
    "まず簡単なDataFrameを用意します．\n",
    "```Python\n",
    "df1 = pd.DataFrame([[1,2,3],[4,5,6],[7,8,9]],index=['R1','R2','R3'],columns=['C1','C2','C3'])\n",
    "df1\n",
    "```"
   ]
  },
  {
   "cell_type": "code",
   "execution_count": 27,
   "metadata": {},
   "outputs": [
    {
     "data": {
      "text/html": [
       "<div>\n",
       "<style>\n",
       "    .dataframe thead tr:only-child th {\n",
       "        text-align: right;\n",
       "    }\n",
       "\n",
       "    .dataframe thead th {\n",
       "        text-align: left;\n",
       "    }\n",
       "\n",
       "    .dataframe tbody tr th {\n",
       "        vertical-align: top;\n",
       "    }\n",
       "</style>\n",
       "<table border=\"1\" class=\"dataframe\">\n",
       "  <thead>\n",
       "    <tr style=\"text-align: right;\">\n",
       "      <th></th>\n",
       "      <th>C1</th>\n",
       "      <th>C2</th>\n",
       "      <th>C3</th>\n",
       "    </tr>\n",
       "  </thead>\n",
       "  <tbody>\n",
       "    <tr>\n",
       "      <th>R1</th>\n",
       "      <td>1</td>\n",
       "      <td>2</td>\n",
       "      <td>3</td>\n",
       "    </tr>\n",
       "    <tr>\n",
       "      <th>R2</th>\n",
       "      <td>4</td>\n",
       "      <td>5</td>\n",
       "      <td>6</td>\n",
       "    </tr>\n",
       "    <tr>\n",
       "      <th>R3</th>\n",
       "      <td>7</td>\n",
       "      <td>8</td>\n",
       "      <td>9</td>\n",
       "    </tr>\n",
       "  </tbody>\n",
       "</table>\n",
       "</div>"
      ],
      "text/plain": [
       "    C1  C2  C3\n",
       "R1   1   2   3\n",
       "R2   4   5   6\n",
       "R3   7   8   9"
      ]
     },
     "execution_count": 27,
     "metadata": {},
     "output_type": "execute_result"
    }
   ],
   "source": [
    "df1 = pd.DataFrame([[1,2,3],[4,5,6],[7,8,9]],index=['R1','R2','R3'],columns=['C1','C2','C3'])\n",
    "df1"
   ]
  },
  {
   "cell_type": "markdown",
   "metadata": {},
   "source": [
    "先ず，データフレームと単一の数値との二項演算について確認します．\n",
    "```Python\n",
    "df1 + 10\n",
    "```"
   ]
  },
  {
   "cell_type": "code",
   "execution_count": 28,
   "metadata": {},
   "outputs": [
    {
     "data": {
      "text/html": [
       "<div>\n",
       "<style>\n",
       "    .dataframe thead tr:only-child th {\n",
       "        text-align: right;\n",
       "    }\n",
       "\n",
       "    .dataframe thead th {\n",
       "        text-align: left;\n",
       "    }\n",
       "\n",
       "    .dataframe tbody tr th {\n",
       "        vertical-align: top;\n",
       "    }\n",
       "</style>\n",
       "<table border=\"1\" class=\"dataframe\">\n",
       "  <thead>\n",
       "    <tr style=\"text-align: right;\">\n",
       "      <th></th>\n",
       "      <th>C1</th>\n",
       "      <th>C2</th>\n",
       "      <th>C3</th>\n",
       "    </tr>\n",
       "  </thead>\n",
       "  <tbody>\n",
       "    <tr>\n",
       "      <th>R1</th>\n",
       "      <td>11</td>\n",
       "      <td>12</td>\n",
       "      <td>13</td>\n",
       "    </tr>\n",
       "    <tr>\n",
       "      <th>R2</th>\n",
       "      <td>14</td>\n",
       "      <td>15</td>\n",
       "      <td>16</td>\n",
       "    </tr>\n",
       "    <tr>\n",
       "      <th>R3</th>\n",
       "      <td>17</td>\n",
       "      <td>18</td>\n",
       "      <td>19</td>\n",
       "    </tr>\n",
       "  </tbody>\n",
       "</table>\n",
       "</div>"
      ],
      "text/plain": [
       "    C1  C2  C3\n",
       "R1  11  12  13\n",
       "R2  14  15  16\n",
       "R3  17  18  19"
      ]
     },
     "execution_count": 28,
     "metadata": {},
     "output_type": "execute_result"
    }
   ],
   "source": [
    "df1 + 10"
   ]
  },
  {
   "cell_type": "markdown",
   "metadata": {},
   "source": [
    "このように全ての要素に対して10が加算されました．同じことを掛け算で行ってみましょう．\n",
    "```Python\n",
    "df2 = df1 * 10\n",
    "df2\n",
    "```"
   ]
  },
  {
   "cell_type": "code",
   "execution_count": 29,
   "metadata": {},
   "outputs": [
    {
     "data": {
      "text/html": [
       "<div>\n",
       "<style>\n",
       "    .dataframe thead tr:only-child th {\n",
       "        text-align: right;\n",
       "    }\n",
       "\n",
       "    .dataframe thead th {\n",
       "        text-align: left;\n",
       "    }\n",
       "\n",
       "    .dataframe tbody tr th {\n",
       "        vertical-align: top;\n",
       "    }\n",
       "</style>\n",
       "<table border=\"1\" class=\"dataframe\">\n",
       "  <thead>\n",
       "    <tr style=\"text-align: right;\">\n",
       "      <th></th>\n",
       "      <th>C1</th>\n",
       "      <th>C2</th>\n",
       "      <th>C3</th>\n",
       "    </tr>\n",
       "  </thead>\n",
       "  <tbody>\n",
       "    <tr>\n",
       "      <th>R1</th>\n",
       "      <td>10</td>\n",
       "      <td>20</td>\n",
       "      <td>30</td>\n",
       "    </tr>\n",
       "    <tr>\n",
       "      <th>R2</th>\n",
       "      <td>40</td>\n",
       "      <td>50</td>\n",
       "      <td>60</td>\n",
       "    </tr>\n",
       "    <tr>\n",
       "      <th>R3</th>\n",
       "      <td>70</td>\n",
       "      <td>80</td>\n",
       "      <td>90</td>\n",
       "    </tr>\n",
       "  </tbody>\n",
       "</table>\n",
       "</div>"
      ],
      "text/plain": [
       "    C1  C2  C3\n",
       "R1  10  20  30\n",
       "R2  40  50  60\n",
       "R3  70  80  90"
      ]
     },
     "execution_count": 29,
     "metadata": {},
     "output_type": "execute_result"
    }
   ],
   "source": [
    "df2 = df1 * 10\n",
    "df2"
   ]
  },
  {
   "cell_type": "markdown",
   "metadata": {},
   "source": [
    "このように全ての要素が10倍になりました．\n",
    "\n",
    "次に，同じサイズのDataFrameの二項演算を確認します．今作成したdf1とdf2を利用します．\n",
    "```Python\n",
    "df1 + df2\n",
    "```"
   ]
  },
  {
   "cell_type": "code",
   "execution_count": 30,
   "metadata": {},
   "outputs": [
    {
     "data": {
      "text/html": [
       "<div>\n",
       "<style>\n",
       "    .dataframe thead tr:only-child th {\n",
       "        text-align: right;\n",
       "    }\n",
       "\n",
       "    .dataframe thead th {\n",
       "        text-align: left;\n",
       "    }\n",
       "\n",
       "    .dataframe tbody tr th {\n",
       "        vertical-align: top;\n",
       "    }\n",
       "</style>\n",
       "<table border=\"1\" class=\"dataframe\">\n",
       "  <thead>\n",
       "    <tr style=\"text-align: right;\">\n",
       "      <th></th>\n",
       "      <th>C1</th>\n",
       "      <th>C2</th>\n",
       "      <th>C3</th>\n",
       "    </tr>\n",
       "  </thead>\n",
       "  <tbody>\n",
       "    <tr>\n",
       "      <th>R1</th>\n",
       "      <td>11</td>\n",
       "      <td>22</td>\n",
       "      <td>33</td>\n",
       "    </tr>\n",
       "    <tr>\n",
       "      <th>R2</th>\n",
       "      <td>44</td>\n",
       "      <td>55</td>\n",
       "      <td>66</td>\n",
       "    </tr>\n",
       "    <tr>\n",
       "      <th>R3</th>\n",
       "      <td>77</td>\n",
       "      <td>88</td>\n",
       "      <td>99</td>\n",
       "    </tr>\n",
       "  </tbody>\n",
       "</table>\n",
       "</div>"
      ],
      "text/plain": [
       "    C1  C2  C3\n",
       "R1  11  22  33\n",
       "R2  44  55  66\n",
       "R3  77  88  99"
      ]
     },
     "execution_count": 30,
     "metadata": {},
     "output_type": "execute_result"
    }
   ],
   "source": [
    "df1 + df2"
   ]
  },
  {
   "cell_type": "markdown",
   "metadata": {},
   "source": [
    "ここで注意すべきことは，2つのデータフレームは同じ行ラベル['R1', 'R2', 'R3']と列ラベル['C1', 'C2', 'C3']をもっていることです．\n",
    "ラベルの異なるデータフレームの場合についても確認してみましょう．\n",
    "新しいデータフレームを定義します．\n",
    "```Python\n",
    "df3 = pd.DataFrame([[100,200,300],[400,500,600],[700,800,900]],index=['R2','R3','R4'],columns=['C2','C3','C4'])\n",
    "df3\n",
    "```"
   ]
  },
  {
   "cell_type": "code",
   "execution_count": 31,
   "metadata": {},
   "outputs": [
    {
     "data": {
      "text/html": [
       "<div>\n",
       "<style>\n",
       "    .dataframe thead tr:only-child th {\n",
       "        text-align: right;\n",
       "    }\n",
       "\n",
       "    .dataframe thead th {\n",
       "        text-align: left;\n",
       "    }\n",
       "\n",
       "    .dataframe tbody tr th {\n",
       "        vertical-align: top;\n",
       "    }\n",
       "</style>\n",
       "<table border=\"1\" class=\"dataframe\">\n",
       "  <thead>\n",
       "    <tr style=\"text-align: right;\">\n",
       "      <th></th>\n",
       "      <th>C2</th>\n",
       "      <th>C3</th>\n",
       "      <th>C4</th>\n",
       "    </tr>\n",
       "  </thead>\n",
       "  <tbody>\n",
       "    <tr>\n",
       "      <th>R2</th>\n",
       "      <td>100</td>\n",
       "      <td>200</td>\n",
       "      <td>300</td>\n",
       "    </tr>\n",
       "    <tr>\n",
       "      <th>R3</th>\n",
       "      <td>400</td>\n",
       "      <td>500</td>\n",
       "      <td>600</td>\n",
       "    </tr>\n",
       "    <tr>\n",
       "      <th>R4</th>\n",
       "      <td>700</td>\n",
       "      <td>800</td>\n",
       "      <td>900</td>\n",
       "    </tr>\n",
       "  </tbody>\n",
       "</table>\n",
       "</div>"
      ],
      "text/plain": [
       "     C2   C3   C4\n",
       "R2  100  200  300\n",
       "R3  400  500  600\n",
       "R4  700  800  900"
      ]
     },
     "execution_count": 31,
     "metadata": {},
     "output_type": "execute_result"
    }
   ],
   "source": [
    "df3 = pd.DataFrame([[100,200,300],[400,500,600],[700,800,900]],index=['R2','R3','R4'],columns=['C2','C3','C4'])\n",
    "df3"
   ]
  },
  {
   "cell_type": "markdown",
   "metadata": {},
   "source": [
    "行レベルと列ラベルの一部に同じものがありますが新しいラベルも定義されています．このデータフレームを使って二項演算をしてみます．\n",
    "```Python\n",
    "df1 + df3\n",
    "```"
   ]
  },
  {
   "cell_type": "code",
   "execution_count": 32,
   "metadata": {},
   "outputs": [
    {
     "data": {
      "text/html": [
       "<div>\n",
       "<style>\n",
       "    .dataframe thead tr:only-child th {\n",
       "        text-align: right;\n",
       "    }\n",
       "\n",
       "    .dataframe thead th {\n",
       "        text-align: left;\n",
       "    }\n",
       "\n",
       "    .dataframe tbody tr th {\n",
       "        vertical-align: top;\n",
       "    }\n",
       "</style>\n",
       "<table border=\"1\" class=\"dataframe\">\n",
       "  <thead>\n",
       "    <tr style=\"text-align: right;\">\n",
       "      <th></th>\n",
       "      <th>C1</th>\n",
       "      <th>C2</th>\n",
       "      <th>C3</th>\n",
       "      <th>C4</th>\n",
       "    </tr>\n",
       "  </thead>\n",
       "  <tbody>\n",
       "    <tr>\n",
       "      <th>R1</th>\n",
       "      <td>NaN</td>\n",
       "      <td>NaN</td>\n",
       "      <td>NaN</td>\n",
       "      <td>NaN</td>\n",
       "    </tr>\n",
       "    <tr>\n",
       "      <th>R2</th>\n",
       "      <td>NaN</td>\n",
       "      <td>105.0</td>\n",
       "      <td>206.0</td>\n",
       "      <td>NaN</td>\n",
       "    </tr>\n",
       "    <tr>\n",
       "      <th>R3</th>\n",
       "      <td>NaN</td>\n",
       "      <td>408.0</td>\n",
       "      <td>509.0</td>\n",
       "      <td>NaN</td>\n",
       "    </tr>\n",
       "    <tr>\n",
       "      <th>R4</th>\n",
       "      <td>NaN</td>\n",
       "      <td>NaN</td>\n",
       "      <td>NaN</td>\n",
       "      <td>NaN</td>\n",
       "    </tr>\n",
       "  </tbody>\n",
       "</table>\n",
       "</div>"
      ],
      "text/plain": [
       "    C1     C2     C3  C4\n",
       "R1 NaN    NaN    NaN NaN\n",
       "R2 NaN  105.0  206.0 NaN\n",
       "R3 NaN  408.0  509.0 NaN\n",
       "R4 NaN    NaN    NaN NaN"
      ]
     },
     "execution_count": 32,
     "metadata": {},
     "output_type": "execute_result"
    }
   ],
   "source": [
    "df1 + df3"
   ]
  },
  {
   "cell_type": "markdown",
   "metadata": {},
   "source": [
    "このように，両方のデータフレームに行ラベルと列ラベルが存在するものだけが計算されます．\n",
    "どちらかの値が存在しない場合は計算結果として「NaN」が設定されます．pandasのなかでは欠損値をNaN（Not a number，非数）で表します．\n",
    "\n",
    "そこで二項演算にオプションを追加するために二項演算子ではなくメソッドを使用します．\n",
    "片方に欠損がある場合は，その欠損値を別な値で埋めるための引数「fill_value=0」を使って欠損値を0にして計算します．\n",
    "```Python\n",
    "df1.add(df3,fill_value=0)\n",
    "```"
   ]
  },
  {
   "cell_type": "code",
   "execution_count": 33,
   "metadata": {},
   "outputs": [
    {
     "data": {
      "text/html": [
       "<div>\n",
       "<style>\n",
       "    .dataframe thead tr:only-child th {\n",
       "        text-align: right;\n",
       "    }\n",
       "\n",
       "    .dataframe thead th {\n",
       "        text-align: left;\n",
       "    }\n",
       "\n",
       "    .dataframe tbody tr th {\n",
       "        vertical-align: top;\n",
       "    }\n",
       "</style>\n",
       "<table border=\"1\" class=\"dataframe\">\n",
       "  <thead>\n",
       "    <tr style=\"text-align: right;\">\n",
       "      <th></th>\n",
       "      <th>C1</th>\n",
       "      <th>C2</th>\n",
       "      <th>C3</th>\n",
       "      <th>C4</th>\n",
       "    </tr>\n",
       "  </thead>\n",
       "  <tbody>\n",
       "    <tr>\n",
       "      <th>R1</th>\n",
       "      <td>1.0</td>\n",
       "      <td>2.0</td>\n",
       "      <td>3.0</td>\n",
       "      <td>NaN</td>\n",
       "    </tr>\n",
       "    <tr>\n",
       "      <th>R2</th>\n",
       "      <td>4.0</td>\n",
       "      <td>105.0</td>\n",
       "      <td>206.0</td>\n",
       "      <td>300.0</td>\n",
       "    </tr>\n",
       "    <tr>\n",
       "      <th>R3</th>\n",
       "      <td>7.0</td>\n",
       "      <td>408.0</td>\n",
       "      <td>509.0</td>\n",
       "      <td>600.0</td>\n",
       "    </tr>\n",
       "    <tr>\n",
       "      <th>R4</th>\n",
       "      <td>NaN</td>\n",
       "      <td>700.0</td>\n",
       "      <td>800.0</td>\n",
       "      <td>900.0</td>\n",
       "    </tr>\n",
       "  </tbody>\n",
       "</table>\n",
       "</div>"
      ],
      "text/plain": [
       "     C1     C2     C3     C4\n",
       "R1  1.0    2.0    3.0    NaN\n",
       "R2  4.0  105.0  206.0  300.0\n",
       "R3  7.0  408.0  509.0  600.0\n",
       "R4  NaN  700.0  800.0  900.0"
      ]
     },
     "execution_count": 33,
     "metadata": {},
     "output_type": "execute_result"
    }
   ],
   "source": [
    "df1.add(df3,fill_value=0)"
   ]
  },
  {
   "cell_type": "markdown",
   "metadata": {},
   "source": [
    "しかし，これでも['R1','C4']と['R4','C1']の値は「NaN」になっています．これは，そもそも両方のデータフレームともに値が存在しないからです．\n",
    "どうしてもNaNを解消したい場合は，同じ行ラベルと列ラベルを持つ4行4列のゼロ値を持つデータフレームを作って加算すれば解決します．\n",
    "\n",
    "> pd.DataFrame(0,index=['R1','R2','R3','R4'],columns=['C1','C2','C3','C4'])\n",
    "\n",
    "このデータフレームを加算します．\n",
    "```Python\n",
    "df1.add(df3,fill_value=0).add(pd.DataFrame(0,index=['R1','R2','R3','R4'],columns=['C1','C2','C3','C4']),fill_value=0)\n",
    "```"
   ]
  },
  {
   "cell_type": "code",
   "execution_count": 34,
   "metadata": {},
   "outputs": [
    {
     "data": {
      "text/html": [
       "<div>\n",
       "<style>\n",
       "    .dataframe thead tr:only-child th {\n",
       "        text-align: right;\n",
       "    }\n",
       "\n",
       "    .dataframe thead th {\n",
       "        text-align: left;\n",
       "    }\n",
       "\n",
       "    .dataframe tbody tr th {\n",
       "        vertical-align: top;\n",
       "    }\n",
       "</style>\n",
       "<table border=\"1\" class=\"dataframe\">\n",
       "  <thead>\n",
       "    <tr style=\"text-align: right;\">\n",
       "      <th></th>\n",
       "      <th>C1</th>\n",
       "      <th>C2</th>\n",
       "      <th>C3</th>\n",
       "      <th>C4</th>\n",
       "    </tr>\n",
       "  </thead>\n",
       "  <tbody>\n",
       "    <tr>\n",
       "      <th>R1</th>\n",
       "      <td>1.0</td>\n",
       "      <td>2.0</td>\n",
       "      <td>3.0</td>\n",
       "      <td>0.0</td>\n",
       "    </tr>\n",
       "    <tr>\n",
       "      <th>R2</th>\n",
       "      <td>4.0</td>\n",
       "      <td>105.0</td>\n",
       "      <td>206.0</td>\n",
       "      <td>300.0</td>\n",
       "    </tr>\n",
       "    <tr>\n",
       "      <th>R3</th>\n",
       "      <td>7.0</td>\n",
       "      <td>408.0</td>\n",
       "      <td>509.0</td>\n",
       "      <td>600.0</td>\n",
       "    </tr>\n",
       "    <tr>\n",
       "      <th>R4</th>\n",
       "      <td>0.0</td>\n",
       "      <td>700.0</td>\n",
       "      <td>800.0</td>\n",
       "      <td>900.0</td>\n",
       "    </tr>\n",
       "  </tbody>\n",
       "</table>\n",
       "</div>"
      ],
      "text/plain": [
       "     C1     C2     C3     C4\n",
       "R1  1.0    2.0    3.0    0.0\n",
       "R2  4.0  105.0  206.0  300.0\n",
       "R3  7.0  408.0  509.0  600.0\n",
       "R4  0.0  700.0  800.0  900.0"
      ]
     },
     "execution_count": 34,
     "metadata": {},
     "output_type": "execute_result"
    }
   ],
   "source": [
    "df1.add(df3,fill_value=0).add(pd.DataFrame(0,index=['R1','R2','R3','R4'],columns=['C1','C2','C3','C4']),fill_value=0)"
   ]
  },
  {
   "cell_type": "markdown",
   "metadata": {},
   "source": [
    "##### データフレームと一次配列との二項演算\n",
    "次にデータフレームと計算する相手が一次配列の場合について確認します．\n",
    "次の一次配列を使います．\n",
    "```Python\n",
    "list1 = [100,200,300]\n",
    "list1\n",
    "```"
   ]
  },
  {
   "cell_type": "code",
   "execution_count": 35,
   "metadata": {},
   "outputs": [
    {
     "data": {
      "text/plain": [
       "[100, 200, 300]"
      ]
     },
     "execution_count": 35,
     "metadata": {},
     "output_type": "execute_result"
    }
   ],
   "source": [
    "list1 = [100,200,300]\n",
    "list1"
   ]
  },
  {
   "cell_type": "markdown",
   "metadata": {},
   "source": [
    "データフレームdf1は3行3列で配列list1の要素数も3個です．\n",
    "```Python\n",
    "df1 + list1\n",
    "```"
   ]
  },
  {
   "cell_type": "code",
   "execution_count": 36,
   "metadata": {},
   "outputs": [
    {
     "data": {
      "text/html": [
       "<div>\n",
       "<style>\n",
       "    .dataframe thead tr:only-child th {\n",
       "        text-align: right;\n",
       "    }\n",
       "\n",
       "    .dataframe thead th {\n",
       "        text-align: left;\n",
       "    }\n",
       "\n",
       "    .dataframe tbody tr th {\n",
       "        vertical-align: top;\n",
       "    }\n",
       "</style>\n",
       "<table border=\"1\" class=\"dataframe\">\n",
       "  <thead>\n",
       "    <tr style=\"text-align: right;\">\n",
       "      <th></th>\n",
       "      <th>C1</th>\n",
       "      <th>C2</th>\n",
       "      <th>C3</th>\n",
       "    </tr>\n",
       "  </thead>\n",
       "  <tbody>\n",
       "    <tr>\n",
       "      <th>R1</th>\n",
       "      <td>101</td>\n",
       "      <td>202</td>\n",
       "      <td>303</td>\n",
       "    </tr>\n",
       "    <tr>\n",
       "      <th>R2</th>\n",
       "      <td>104</td>\n",
       "      <td>205</td>\n",
       "      <td>306</td>\n",
       "    </tr>\n",
       "    <tr>\n",
       "      <th>R3</th>\n",
       "      <td>107</td>\n",
       "      <td>208</td>\n",
       "      <td>309</td>\n",
       "    </tr>\n",
       "  </tbody>\n",
       "</table>\n",
       "</div>"
      ],
      "text/plain": [
       "     C1   C2   C3\n",
       "R1  101  202  303\n",
       "R2  104  205  306\n",
       "R3  107  208  309"
      ]
     },
     "execution_count": 36,
     "metadata": {},
     "output_type": "execute_result"
    }
   ],
   "source": [
    "df1 + list1"
   ]
  },
  {
   "cell_type": "markdown",
   "metadata": {},
   "source": [
    "この結果を見るとデータフレームと一次配列の単純な二項演算は次のようになっています．\n",
    "\n",
    "$$\n",
    "df1 \\odot list1 = \n",
    "\\left(\n",
    "  \\begin{array}{c c c}\n",
    "    a_{11} & a_{12} & a_{13} \\\\\n",
    "    a_{21} & a_{22} & a_{23} \\\\\n",
    "    a_{31} & a_{32} & a_{33}\n",
    "  \\end{array}\n",
    "\\right)\n",
    "\\odot\n",
    "\\left(\n",
    "  \\begin{array}{c}\n",
    "    b_{1} & b_{2} & b_{3}\n",
    "  \\end{array}\n",
    "\\right)\n",
    "=\n",
    "\\left(\n",
    "  \\begin{array}{c c c}\n",
    "    a_{11}\\odot b_1 & a_{12}\\odot b_2 & a_{13}\\odot b_3 \\\\\n",
    "    a_{21}\\odot b_1 & a_{22}\\odot b_2 & a_{23}\\odot b_3 \\\\\n",
    "    a_{31}\\odot b_1 & a_{32}\\odot b_2 & a_{33}\\odot b_3\n",
    "  \\end{array}\n",
    "\\right)\n",
    "$$\n",
    "\n",
    "ここで$\\odot$は任意の二項演算を表しています．\n",
    "すなわち，行ごとに繰返し計算されます．"
   ]
  },
  {
   "cell_type": "markdown",
   "metadata": {},
   "source": [
    "データフレームと一次配列との二項演算を列ごとに繰返し計算をしたい場合，すなわち，\n",
    "\n",
    "$$\n",
    "df1 \\odot list1 = \n",
    "\\left(\n",
    "  \\begin{array}{c c c}\n",
    "    a_{11} & a_{12} & a_{13} \\\\\n",
    "    a_{21} & a_{22} & a_{23} \\\\\n",
    "    a_{31} & a_{32} & a_{33}\n",
    "  \\end{array}\n",
    "\\right)\n",
    "\\odot\n",
    "\\left(\n",
    "  \\begin{array}{c}\n",
    "    b_{1} \\\\ b_{2} \\\\ b_{3}\n",
    "  \\end{array}\n",
    "\\right)\n",
    "=\n",
    "\\left(\n",
    "  \\begin{array}{c c c}\n",
    "    a_{11}\\odot b_1 & a_{12}\\odot b_1 & a_{13}\\odot b_1 \\\\\n",
    "    a_{21}\\odot b_2 & a_{22}\\odot b_2 & a_{23}\\odot b_2 \\\\\n",
    "    a_{31}\\odot b_3 & a_{32}\\odot b_3 & a_{33}\\odot b_3\n",
    "  \\end{array}\n",
    "\\right)\n",
    "$$\n",
    "\n",
    "とするには，DataFremeのメソッドを使い軸指定の引数を設定します．\n",
    "```Python\n",
    "df1.add(list1,axis=0)\n",
    "```\n",
    "ここで<font color=blue>axis=0</font>によって加算する配列が縦ベクトルであると指定しています．"
   ]
  },
  {
   "cell_type": "code",
   "execution_count": 37,
   "metadata": {},
   "outputs": [
    {
     "data": {
      "text/html": [
       "<div>\n",
       "<style>\n",
       "    .dataframe thead tr:only-child th {\n",
       "        text-align: right;\n",
       "    }\n",
       "\n",
       "    .dataframe thead th {\n",
       "        text-align: left;\n",
       "    }\n",
       "\n",
       "    .dataframe tbody tr th {\n",
       "        vertical-align: top;\n",
       "    }\n",
       "</style>\n",
       "<table border=\"1\" class=\"dataframe\">\n",
       "  <thead>\n",
       "    <tr style=\"text-align: right;\">\n",
       "      <th></th>\n",
       "      <th>C1</th>\n",
       "      <th>C2</th>\n",
       "      <th>C3</th>\n",
       "    </tr>\n",
       "  </thead>\n",
       "  <tbody>\n",
       "    <tr>\n",
       "      <th>R1</th>\n",
       "      <td>101</td>\n",
       "      <td>102</td>\n",
       "      <td>103</td>\n",
       "    </tr>\n",
       "    <tr>\n",
       "      <th>R2</th>\n",
       "      <td>204</td>\n",
       "      <td>205</td>\n",
       "      <td>206</td>\n",
       "    </tr>\n",
       "    <tr>\n",
       "      <th>R3</th>\n",
       "      <td>307</td>\n",
       "      <td>308</td>\n",
       "      <td>309</td>\n",
       "    </tr>\n",
       "  </tbody>\n",
       "</table>\n",
       "</div>"
      ],
      "text/plain": [
       "     C1   C2   C3\n",
       "R1  101  102  103\n",
       "R2  204  205  206\n",
       "R3  307  308  309"
      ]
     },
     "execution_count": 37,
     "metadata": {},
     "output_type": "execute_result"
    }
   ],
   "source": [
    "df1.add(list1,axis=0)"
   ]
  },
  {
   "cell_type": "markdown",
   "metadata": {},
   "source": [
    "また，<font color=blue>axis=1</font>によって加算する配列が横ベクトルの指定となります．これはデフォルト設定なので，二項演算子による計算と同じ結果になります．\n",
    "```Python\n",
    "df1.add(list1,axis=1)\n",
    "```"
   ]
  },
  {
   "cell_type": "code",
   "execution_count": 38,
   "metadata": {},
   "outputs": [
    {
     "data": {
      "text/html": [
       "<div>\n",
       "<style>\n",
       "    .dataframe thead tr:only-child th {\n",
       "        text-align: right;\n",
       "    }\n",
       "\n",
       "    .dataframe thead th {\n",
       "        text-align: left;\n",
       "    }\n",
       "\n",
       "    .dataframe tbody tr th {\n",
       "        vertical-align: top;\n",
       "    }\n",
       "</style>\n",
       "<table border=\"1\" class=\"dataframe\">\n",
       "  <thead>\n",
       "    <tr style=\"text-align: right;\">\n",
       "      <th></th>\n",
       "      <th>C1</th>\n",
       "      <th>C2</th>\n",
       "      <th>C3</th>\n",
       "    </tr>\n",
       "  </thead>\n",
       "  <tbody>\n",
       "    <tr>\n",
       "      <th>R1</th>\n",
       "      <td>101</td>\n",
       "      <td>202</td>\n",
       "      <td>303</td>\n",
       "    </tr>\n",
       "    <tr>\n",
       "      <th>R2</th>\n",
       "      <td>104</td>\n",
       "      <td>205</td>\n",
       "      <td>306</td>\n",
       "    </tr>\n",
       "    <tr>\n",
       "      <th>R3</th>\n",
       "      <td>107</td>\n",
       "      <td>208</td>\n",
       "      <td>309</td>\n",
       "    </tr>\n",
       "  </tbody>\n",
       "</table>\n",
       "</div>"
      ],
      "text/plain": [
       "     C1   C2   C3\n",
       "R1  101  202  303\n",
       "R2  104  205  306\n",
       "R3  107  208  309"
      ]
     },
     "execution_count": 38,
     "metadata": {},
     "output_type": "execute_result"
    }
   ],
   "source": [
    "df1.add(list1,axis=1)"
   ]
  },
  {
   "cell_type": "markdown",
   "metadata": {},
   "source": [
    "ここまでDataFrameの基本的な取扱い方法について説明してきました．\n",
    "DataFrameにはデータ分析のための重要な機能が備わっていますが，それについては別途説明いたします．\n",
    "*****"
   ]
  }
 ],
 "metadata": {
  "kernelspec": {
   "display_name": "Python 3",
   "language": "python",
   "name": "python3"
  },
  "language_info": {
   "codemirror_mode": {
    "name": "ipython",
    "version": 3
   },
   "file_extension": ".py",
   "mimetype": "text/x-python",
   "name": "python",
   "nbconvert_exporter": "python",
   "pygments_lexer": "ipython3",
   "version": "3.6.1"
  }
 },
 "nbformat": 4,
 "nbformat_minor": 2
}
