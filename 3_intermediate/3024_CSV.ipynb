{
 "cells": [
  {
   "cell_type": "markdown",
   "metadata": {},
   "source": [
    "### csvモジュール（csv）\n",
    "テキストファイルでデータの受け渡しをするときに頻繁に使われるファイル形式がCSVフォーマットです．\n",
    "CSVファイルはテキストファイルでもあるので，各行は改行文字で区切られています．そして，行中のデータをカンマ（,）で区切っています．\n",
    "一般にExcelなどのスプレッドシートはCSVへの搬出搬入のインターフェースをもっていますので，Excelにあるデータを一度CSVファイルにしてプログラムに取り込むことは頻繁に行われます．\n",
    "\n",
    "ディレクトリー「./data」の下にCSVファイルがあります．その一つのファイル名は「sample1.csv」です．このファイルを読み込んでみましょう．\n",
    "まず，CSVモジュールを使わずに組み込み関数によって一般のテキストファイルとして取り扱ってみます．"
   ]
  },
  {
   "cell_type": "markdown",
   "metadata": {},
   "source": [
    "*****\n",
    "#### ファイルの取扱い\n",
    "ファイルの読み取りあるいはファイルへの書き込みをする場合は，決まった手続きが必要です．\n",
    "最初にファイルの名前と置き場所を明確にする必要があります．新規にファイルへ書き込む場合はファイルが存在しなくても良いですが，読み込むときは必然的にファイルが存在することが前提となります．\n",
    "\n",
    "<font color=blue><u>ファイルを扱う手順</u></font>\n",
    "1. ファイル名と所在場所を指定して，ファイルをオープンする． \n",
    "- ファイルからのデータの読み取り，あるいはファイルへの書き込みを実行する．\n",
    "- ファイルをクローズして，ファイルを解放します．\n",
    "\n",
    "この手順をPythonの構文で確認しましょう．"
   ]
  },
  {
   "cell_type": "markdown",
   "metadata": {},
   "source": [
    "#### テキストファイルのオープン\n",
    "ファイルを使用するときは，open()関数でファイルをプログラム内で使用可能にします．\n",
    "\n",
    "> <font color=green>open</font>(<font color=blue>*file_name*</font>, <font color=blue>*mode*</font>)\n",
    "\n",
    "引数についてですが，もっと多くの引数が用意されていますが，ここでは重要な引数を2個指定しています．\n",
    "最初の引数には対象となるファイルを指定します．2つ目の引数は，ファイルの取扱いのモードを指定します．\n",
    "\n",
    "| mode | 意味 |\n",
    "| :---: | :--- |\n",
    "| 'r' | 読み込み用に開く（デフォルト） |\n",
    "| 'w' | 書き込み用に開き，ファイルを切り詰める |\n",
    "| 'x' | 排他的な生成に開き，ファイルが存在する場合は失敗する |\n",
    "| 'a' | 書き込み用に開き，ファイルが存在する場合は末尾に追記する |\n",
    "| 'b' | バイナリーモード |\n",
    "| 't' | テキストモード（デフォルト） |\n",
    "| '+' | ディスクファイルを更新用に開く（読み込み/書き込み） |\n",
    "\n",
    "したがって，モード引数を指定しない場合は，テキストの読み込み用となります．\n",
    "ここでは「./data/sample1.csv」をテキストファイルの読み込みとしてオープンしてみましょう．第2引数は，テキストモードの読み込み用なのでデフォルト値を変える必要が無く，省略します．\n",
    "```Python\n",
    "myFile = open('./data/sample1.csv')\n",
    "type(myFile)\n",
    "```"
   ]
  },
  {
   "cell_type": "code",
   "execution_count": 1,
   "metadata": {},
   "outputs": [
    {
     "data": {
      "text/plain": [
       "_io.TextIOWrapper"
      ]
     },
     "execution_count": 1,
     "metadata": {},
     "output_type": "execute_result"
    }
   ],
   "source": [
    "myFile = open('./data/sample1.csv')\n",
    "type(myFile)"
   ]
  },
  {
   "cell_type": "markdown",
   "metadata": {},
   "source": [
    "open()関数によって生成された変数myFileは，テキストファイルのI/Oを受け持つオブジェクトでラッパーと呼ばれています．"
   ]
  },
  {
   "cell_type": "markdown",
   "metadata": {},
   "source": [
    "#### read()メソッド\n",
    "テキストファイルのI/Oラッパーには幾つものメソッドがありますが，最も簡単にデータを読み取る方法が<font color=green>read()</font>メソッドです．\n",
    "read()メソッドは，ファイルの内容を全て読み取ってしまいます．\n",
    "```Python\n",
    "myFile.read()\n",
    "```"
   ]
  },
  {
   "cell_type": "code",
   "execution_count": 2,
   "metadata": {},
   "outputs": [
    {
     "data": {
      "text/plain": [
       "'person,gender,age,blood,height,weight\\np001,female,30,A,152.7,51.5\\np002,female,56,O,155.3,52.7\\np003,female,40,A,157.3,58.9\\np004,male,36,O,165.5,59.6\\np005,female,25,O,161.2,58.2\\np006,female,23,B,162.7,66.5\\np007,male,42,O,171.7,69.1\\np008,male,44,B,174.2,68.6\\np009,female,20,O,169,68.9\\np010,male,43,O,178,71.5\\n'"
      ]
     },
     "execution_count": 2,
     "metadata": {},
     "output_type": "execute_result"
    }
   ],
   "source": [
    "myFile.read()"
   ]
  },
  {
   "cell_type": "markdown",
   "metadata": {},
   "source": [
    "印字されたデータはsample1.csvの全データです．\n",
    "先頭から順番に見ていくと，カンマ（,）で区切られたデータであることが分かります．このようにデータがカンマでくぎられたテキストデータをComma Separated Value（CSV）と言います．\n",
    "\n",
    "さらに注意深く見ていくとデータの中に日本語表記だと「<font color=blue>$\\yen$n</font>」という文字，英語表記だと「<font color=blue>\\n</font>」という文字があります．この2文字はエスケープシーケンスという記述法で表示できない文字である「改行」を表しています．\n",
    "すなわち，データは各行6個ずつがカンマで区切られており，改行コードによって次の行に移ります．\n",
    "\n",
    "しかし全てのデータが一つの文字列として扱われているので，読みにくい形式です．\n",
    "そこで，各行を分離した形でデータを取得してみましょう．その前にちょっとした調整が必要になります．"
   ]
  },
  {
   "cell_type": "markdown",
   "metadata": {},
   "source": [
    "#### seek()メソッド\n",
    "ファイルのI/Oラッパーには，データを読んでいる現在位置の情報があります．最初にファイルをオープンしたときは先頭を示しています．途中まで読むと次のデータの位置が現在位置となります．今read()メソッドによって全てのデータを読んでしまったので，現在位置は末尾になっています．\n",
    "\n",
    "そこでデータ内の現在位置を先頭に戻す必要があります．現在位置は<font color=green>seek()</font>メソッドによって変更できます．引数に対象となるデータの先頭からのバイト数を与えます．先頭の場合，引数の値は0となります．\n",
    "```Python\n",
    "myFile.seek(0)\n",
    "```"
   ]
  },
  {
   "cell_type": "code",
   "execution_count": 3,
   "metadata": {},
   "outputs": [
    {
     "data": {
      "text/plain": [
       "0"
      ]
     },
     "execution_count": 3,
     "metadata": {},
     "output_type": "execute_result"
    }
   ],
   "source": [
    "myFile.seek(0)"
   ]
  },
  {
   "cell_type": "markdown",
   "metadata": {},
   "source": [
    "#### readlines()メソッド\n",
    "<font color=green>readlines()</font>メソッドは，ファイルをテキストとして読み込むときに改行コード「\\n」でデータを区切って，それぞれをリスト配列に順番に格納していきます．read()メソッドと同様にファイル内のデータ全てを一度に読み込みます．readlines()メソッドはメソッド名の最後に「s」が付くことに中止してください．\n",
    "```Python\n",
    "myFile.readlines()\n",
    "```"
   ]
  },
  {
   "cell_type": "code",
   "execution_count": 4,
   "metadata": {},
   "outputs": [
    {
     "data": {
      "text/plain": [
       "['person,gender,age,blood,height,weight\\n',\n",
       " 'p001,female,30,A,152.7,51.5\\n',\n",
       " 'p002,female,56,O,155.3,52.7\\n',\n",
       " 'p003,female,40,A,157.3,58.9\\n',\n",
       " 'p004,male,36,O,165.5,59.6\\n',\n",
       " 'p005,female,25,O,161.2,58.2\\n',\n",
       " 'p006,female,23,B,162.7,66.5\\n',\n",
       " 'p007,male,42,O,171.7,69.1\\n',\n",
       " 'p008,male,44,B,174.2,68.6\\n',\n",
       " 'p009,female,20,O,169,68.9\\n',\n",
       " 'p010,male,43,O,178,71.5\\n']"
      ]
     },
     "execution_count": 4,
     "metadata": {},
     "output_type": "execute_result"
    }
   ],
   "source": [
    "myFile.readlines()"
   ]
  },
  {
   "cell_type": "markdown",
   "metadata": {},
   "source": [
    "read()メソッドの結果では分かり難かったデータ構造が，readlines()メソッドを使うことによってハッキリしました．\n",
    "この出力を見ると，1行目に変数名が記載されていて，2行目から個別のデータになっています．\n",
    "\n",
    "しかし，readlines()メソッドの欠点は一度に全てのデータを読み込んでしまうことです．sample1.csvのような小さなファイルでは問題はないですが，データ量が多くなるとメモリーを圧迫します．そのような場合はテキストファイルを1行ずつ読むようにします．"
   ]
  },
  {
   "cell_type": "markdown",
   "metadata": {},
   "source": [
    "#### readline()メソッド\n",
    "readline()メソッドは，オープンされたファイルの現在位置から改行コード「\\n」までの1行のデータを読み込んで文字データとして返します．\n",
    "これを行数の数だけ繰り返すことによってファイル全体を読み取ることができます．readline()メソッドは，メソッド名の最後に「s」は付きません．\n",
    "\n",
    "先頭行を読み取ってみましょう．\n",
    "```Python\n",
    "myFile.seek(0)\n",
    "myFile.readline()\n",
    "```"
   ]
  },
  {
   "cell_type": "code",
   "execution_count": 5,
   "metadata": {},
   "outputs": [
    {
     "data": {
      "text/plain": [
       "'person,gender,age,blood,height,weight\\n'"
      ]
     },
     "execution_count": 5,
     "metadata": {},
     "output_type": "execute_result"
    }
   ],
   "source": [
    "myFile.seek(0)\n",
    "myFile.readline()"
   ]
  },
  {
   "cell_type": "markdown",
   "metadata": {},
   "source": [
    "2行目を読み取ります．\n",
    "```Python\n",
    "myFile.readline()\n",
    "```"
   ]
  },
  {
   "cell_type": "code",
   "execution_count": 6,
   "metadata": {},
   "outputs": [
    {
     "data": {
      "text/plain": [
       "'p001,female,30,A,152.7,51.5\\n'"
      ]
     },
     "execution_count": 6,
     "metadata": {},
     "output_type": "execute_result"
    }
   ],
   "source": [
    "myFile.readline()"
   ]
  },
  {
   "cell_type": "markdown",
   "metadata": {},
   "source": [
    "このように，readline()メソッドを呼び出すごとに1行ずつ取り出されることが分かります．"
   ]
  },
  {
   "cell_type": "markdown",
   "metadata": {},
   "source": [
    "#### close()メソッド\n",
    "オープンしたファイルをそのままにしておくと，そのファイルは使用中となり他のプログラムなどから利用することができません．\n",
    "したがって，ファイルの使用が済んだら速やかに開放すべきです．そのためにclose()メソッドを呼び出します．\n",
    "\n",
    "> <font color=blue>TextIOWrapper_Name</font>.<font color=green>close()</font>\n",
    "\n",
    "未だ開きっぱなしのmyFileをクローズします．\n",
    "```Python\n",
    "myFile.close()\n",
    "```"
   ]
  },
  {
   "cell_type": "code",
   "execution_count": 7,
   "metadata": {
    "collapsed": true
   },
   "outputs": [],
   "source": [
    "myFile.close()"
   ]
  },
  {
   "cell_type": "markdown",
   "metadata": {},
   "source": [
    "*****\n",
    "#### csvモジュールの搬入\n",
    "ここまでは，標準的なテキストの読み取り関数を見てきましたが，ここからはcsvファイルに特化して読み書きを行うcsvモジュールについて学習しましょう．\n",
    "それではcsvモジュールを用いて，CSVファイルをスマートに取り込んでみましょう。\n",
    "最初に行うことは，import文でCSVモジュールを取り込みます．\n",
    "\n",
    "> <font color=green>import csv</font>\n"
   ]
  },
  {
   "cell_type": "code",
   "execution_count": 8,
   "metadata": {
    "collapsed": true
   },
   "outputs": [],
   "source": [
    "import csv"
   ]
  },
  {
   "cell_type": "markdown",
   "metadata": {
    "collapsed": true
   },
   "source": [
    "それでは，csvモジュールを使って「./data/sample1.csv」ファイルを読み込んでみましょう．\n",
    "オープンする方法は今までと同じです．\n",
    "オープンしたファイルのI/Oラッパーを引き数として<font color=green>csv.reader()</font>メソッドに渡します．この結果としてcsvを解読した結果を返してくれるcsv読み取りオブジェクトが得られます.\n",
    "この時点ではファイルのデータは未だ読まれていません．次に，<font color=green>list()</font>関数によってリスト配列を生成します．この時にファイルのデータが読み込まれます．\n",
    "```Python\n",
    "myFile = open('./data/sample1.csv')\n",
    "myReader = csv.reader(myFile)\n",
    "list(myReader)\n",
    "```"
   ]
  },
  {
   "cell_type": "code",
   "execution_count": 9,
   "metadata": {},
   "outputs": [
    {
     "data": {
      "text/plain": [
       "[['person', 'gender', 'age', 'blood', 'height', 'weight'],\n",
       " ['p001', 'female', '30', 'A', '152.7', '51.5'],\n",
       " ['p002', 'female', '56', 'O', '155.3', '52.7'],\n",
       " ['p003', 'female', '40', 'A', '157.3', '58.9'],\n",
       " ['p004', 'male', '36', 'O', '165.5', '59.6'],\n",
       " ['p005', 'female', '25', 'O', '161.2', '58.2'],\n",
       " ['p006', 'female', '23', 'B', '162.7', '66.5'],\n",
       " ['p007', 'male', '42', 'O', '171.7', '69.1'],\n",
       " ['p008', 'male', '44', 'B', '174.2', '68.6'],\n",
       " ['p009', 'female', '20', 'O', '169', '68.9'],\n",
       " ['p010', 'male', '43', 'O', '178', '71.5']]"
      ]
     },
     "execution_count": 9,
     "metadata": {},
     "output_type": "execute_result"
    }
   ],
   "source": [
    "myFile = open('./data/sample1.csv')\n",
    "myReader = csv.reader(myFile)\n",
    "list(myReader)"
   ]
  },
  {
   "cell_type": "markdown",
   "metadata": {},
   "source": [
    "この結果を見ると，読み込んだデータが2重配列として格納されています．全体を改行コードにより区切り，さらにその中をカンマによって区切っています．\n",
    "これにより，データの個々の値にアクセスすることができます．\n",
    "\n",
    "最後にファイルをクローズしてプログラムから解放します．\n",
    "```Python\n",
    "myFile.close()\n",
    "```"
   ]
  },
  {
   "cell_type": "code",
   "execution_count": 10,
   "metadata": {
    "collapsed": true
   },
   "outputs": [],
   "source": [
    "myFile.close()"
   ]
  },
  {
   "cell_type": "markdown",
   "metadata": {},
   "source": [
    "ここまでCSVファイルからデータを読み取ことについて最小限の学習をしました．csvモジュールについては，この原理的な部分を理解するまでとします．\n",
    "このあと高機能ライブラリーについて学習しますが，実際のCSVファイルの取扱いは高機能ライブラリーを用いて行います．\n",
    "*****"
   ]
  }
 ],
 "metadata": {
  "kernelspec": {
   "display_name": "Python 3",
   "language": "python",
   "name": "python3"
  },
  "language_info": {
   "codemirror_mode": {
    "name": "ipython",
    "version": 3
   },
   "file_extension": ".py",
   "mimetype": "text/x-python",
   "name": "python",
   "nbconvert_exporter": "python",
   "pygments_lexer": "ipython3",
   "version": "3.6.1"
  }
 },
 "nbformat": 4,
 "nbformat_minor": 2
}
