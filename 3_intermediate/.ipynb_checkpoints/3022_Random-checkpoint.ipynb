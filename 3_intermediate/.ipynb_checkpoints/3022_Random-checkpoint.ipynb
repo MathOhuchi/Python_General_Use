{
 "cells": [
  {
   "cell_type": "markdown",
   "metadata": {},
   "source": [
    "### 乱数モジュール（random）\n",
    "乱数の発生は色々な状況で必要となります．最も標準的な乱数は0から1の間の任意の浮動小数点数を一様分布確率で返すものです．randamモジュールには標準的な乱数だけでなく，各種の乱数や無作為抽出を提供しています．\n",
    "乱数モジュールに\n",
    "- random()\n",
    "- uniform(a,b)\n",
    "- randint(a,b)\n",
    "- gauss(a,b)\n",
    "- choice(sequence)\n",
    "- shuffle(sequence)\n",
    "\n",
    "ここでは，モジュールの搬入においてfrom random import～文で個々の関数を個別に搬入します．\n",
    "\n",
    "> <font color=green>from random import</font> <font color=blue>*sub-module*</font>"
   ]
  },
  {
   "cell_type": "markdown",
   "metadata": {},
   "source": [
    "#### random()関数\n",
    "0以上1以下の浮動小数点数を一様分布確率で提供します．固定の機能なので引数はありません．\n",
    "\n",
    "> <font color=green>random()</font>\n",
    "\n",
    "random()関数はモジュール名と関数名が同じなので混同しないように気を付けましょう．"
   ]
  },
  {
   "cell_type": "code",
   "execution_count": 1,
   "metadata": {},
   "outputs": [
    {
     "data": {
      "text/plain": [
       "0.7759726707461345"
      ]
     },
     "execution_count": 1,
     "metadata": {},
     "output_type": "execute_result"
    }
   ],
   "source": [
    "from random import random\n",
    "random()"
   ]
  },
  {
   "cell_type": "markdown",
   "metadata": {},
   "source": [
    "#### uniform()関数\n",
    "引数で指定した最小値と最大値との間の浮動小数点数を一様分布確率で提供します．\n",
    "\n",
    "> <font color=green>uniform</font>(<font color=blue>*lower_number*, *upper_number*</font>)"
   ]
  },
  {
   "cell_type": "code",
   "execution_count": 2,
   "metadata": {},
   "outputs": [
    {
     "data": {
      "text/plain": [
       "-51.14378199020937"
      ]
     },
     "execution_count": 2,
     "metadata": {},
     "output_type": "execute_result"
    }
   ],
   "source": [
    "from random import uniform\n",
    "uniform(-100,0)"
   ]
  },
  {
   "cell_type": "markdown",
   "metadata": {},
   "source": [
    "#### randint()関数\n",
    "引数で指定した最小値と最大値の間の整数を一様分布確率で提供します．\n",
    "\n",
    "> <font color=green>randint</font>(<font color=blue>*lower_number*, *upper_number*</font>)"
   ]
  },
  {
   "cell_type": "code",
   "execution_count": 3,
   "metadata": {},
   "outputs": [
    {
     "data": {
      "text/plain": [
       "1"
      ]
     },
     "execution_count": 3,
     "metadata": {},
     "output_type": "execute_result"
    }
   ],
   "source": [
    "from random import randint\n",
    "randint(1,6)"
   ]
  },
  {
   "cell_type": "markdown",
   "metadata": {},
   "source": [
    "この例にあるrandint(1,6)は，サイコロ投げの目を疑似的に実現したものです．"
   ]
  },
  {
   "cell_type": "markdown",
   "metadata": {},
   "source": [
    "#### gauss()関数\n",
    "正規分布（ガウス分布）に従う確率で乱数を発生します．引数として平均値と標準偏差を指定します．\n",
    "使うことは少ないと思いますが，統計学では重要な確率分布です．\n",
    "\n",
    "> <font color=green>gauss</font>(<font color=blue>*mean*, *standard_deviation*</font>)"
   ]
  },
  {
   "cell_type": "code",
   "execution_count": 4,
   "metadata": {},
   "outputs": [
    {
     "data": {
      "text/plain": [
       "-0.6057159150815358"
      ]
     },
     "execution_count": 4,
     "metadata": {},
     "output_type": "execute_result"
    }
   ],
   "source": [
    "from random import gauss\n",
    "gauss(0,1)"
   ]
  },
  {
   "cell_type": "markdown",
   "metadata": {},
   "source": [
    "#### choice()関数\n",
    "配列の中からランダムに要素を取り出します．\n",
    "\n",
    "> <font color=green>choice</font>(<font color=blue>*sequence*</font>)"
   ]
  },
  {
   "cell_type": "code",
   "execution_count": 5,
   "metadata": {},
   "outputs": [
    {
     "data": {
      "text/plain": [
       "'Queen'"
      ]
     },
     "execution_count": 5,
     "metadata": {},
     "output_type": "execute_result"
    }
   ],
   "source": [
    "cards = [6,10,'Queen','King','Joker']\n",
    "from random import choice\n",
    "choice(cards)"
   ]
  },
  {
   "cell_type": "markdown",
   "metadata": {},
   "source": [
    "この例はトランプのババ抜きを連想させます．"
   ]
  },
  {
   "cell_type": "markdown",
   "metadata": {},
   "source": [
    "#### shuffle()関数\n",
    "配列の並びをランダムに並び替えます．対象となるオブジェクト内部での並び替えとなります．\n",
    "\n",
    "> <font color=green>shuffle</font>(<font color=blue>*sequence*</font>)"
   ]
  },
  {
   "cell_type": "code",
   "execution_count": 6,
   "metadata": {},
   "outputs": [
    {
     "data": {
      "text/plain": [
       "['King', 'Jack', 1, 6, 7, 5, 3, 8, 'Queen', 9, 2, 4]"
      ]
     },
     "execution_count": 6,
     "metadata": {},
     "output_type": "execute_result"
    }
   ],
   "source": [
    "cards = [1,2,3,4,5,6,7,8,9,'Jack','Queen','King']\n",
    "from random import shuffle\n",
    "shuffle(cards)\n",
    "cards"
   ]
  },
  {
   "cell_type": "markdown",
   "metadata": {},
   "source": [
    "トランプを配る前にシャッフルしますが，それと同じことのシミュレーションです．"
   ]
  },
  {
   "cell_type": "markdown",
   "metadata": {
    "collapsed": true
   },
   "source": [
    "乱数および無作為抽出は，確率および統計を利用する上では必須のツールです．無作為の意思決定やゲーム理論などにも使われます．どのように使うかは利用者のアイデア次第です．普段の仕事において創造力を働かせることによってツールは活かされます．\n",
    "*****"
   ]
  }
 ],
 "metadata": {
  "kernelspec": {
   "display_name": "Python 3",
   "language": "python",
   "name": "python3"
  },
  "language_info": {
   "codemirror_mode": {
    "name": "ipython",
    "version": 3
   },
   "file_extension": ".py",
   "mimetype": "text/x-python",
   "name": "python",
   "nbconvert_exporter": "python",
   "pygments_lexer": "ipython3",
   "version": "3.6.1"
  }
 },
 "nbformat": 4,
 "nbformat_minor": 2
}
