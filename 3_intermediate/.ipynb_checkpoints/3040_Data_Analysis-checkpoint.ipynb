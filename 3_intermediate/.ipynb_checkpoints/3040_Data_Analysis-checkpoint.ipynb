{
 "cells": [
  {
   "cell_type": "markdown",
   "metadata": {},
   "source": [
    "## 4. データ基礎分析\n",
    "これまで学習してきた内容を総合的に使って，データの基礎分析を行います．\n",
    "ここでは社会人の為のPython活用術中級編の冒頭でご覧いただいたデータ分析について振り返りながら理解を進めた行きます．"
   ]
  },
  {
   "cell_type": "markdown",
   "metadata": {},
   "source": [
    "*****\n",
    "### 高機能ライブラリーの搬入\n",
    "前のセクションで説明した高機能ライブラリーであるnumpy，pandas，matplotlibを標準的に使用していきますので，import文によって搬入します．"
   ]
  },
  {
   "cell_type": "code",
   "execution_count": 1,
   "metadata": {
    "collapsed": true
   },
   "outputs": [],
   "source": [
    "import numpy as np\n",
    "import pandas as pd\n",
    "import matplotlib.pyplot as plt\n",
    "%matplotlib inline"
   ]
  },
  {
   "cell_type": "markdown",
   "metadata": {},
   "source": [
    "*****\n",
    "### CSVファイルのデータフレームへの読み込み\n",
    "カレントディレクトリーの下のDataフォルダーにある「persons_attributes.csv」ファイルを読み込みます．CSVファイルの読み取りには，pandasにある<font color=blue>read_csv()</font>関数を利用します．Pythonの標準モジュールであるCSVモジュールについて学習しましたが，pandas.read_csv()関数はDataFrameオブジェクトに対応するように拡張されています．\n",
    "\n",
    "read_csv()関数の第1引数にCSVファイルを指定します．ここでは「'./data/persons_attributes.csv'」としていますが，パスの先頭にあるドット「.」はカレントディレクトリーに置き換わります．したがって，ここで示したCSVファイルはカレントディレクトリーの下のdataフォルダーにあることが前提となっています．\n",
    "\n",
    "read_csv()関数にもう一つの引数<font color=blue>index_col=0</font>がありますが，これは0列目を行インデックスに指定しています．この引数が無い場合はインデックスを自動生成します．"
   ]
  },
  {
   "cell_type": "code",
   "execution_count": 2,
   "metadata": {
    "collapsed": true
   },
   "outputs": [],
   "source": [
    "sourceFile ='./data/persons_attributes.csv'\n",
    "df = pd.read_csv(sourceFile,index_col=0)"
   ]
  },
  {
   "cell_type": "markdown",
   "metadata": {},
   "source": [
    "*****\n",
    "### データフレームの中身の確認\n",
    "データフレームの中身が正しくセットされているか確認します．小さいデータならば，全件を表示してもよいのですが，量が多い場合は先頭と末尾の数行を表示させて確認します．\n",
    "\n",
    "<font color=blue>head()</font>関数は，データフレームの先頭の数行を表示します．行数は引数で指定します．"
   ]
  },
  {
   "cell_type": "code",
   "execution_count": 3,
   "metadata": {},
   "outputs": [
    {
     "data": {
      "text/html": [
       "<div>\n",
       "<style>\n",
       "    .dataframe thead tr:only-child th {\n",
       "        text-align: right;\n",
       "    }\n",
       "\n",
       "    .dataframe thead th {\n",
       "        text-align: left;\n",
       "    }\n",
       "\n",
       "    .dataframe tbody tr th {\n",
       "        vertical-align: top;\n",
       "    }\n",
       "</style>\n",
       "<table border=\"1\" class=\"dataframe\">\n",
       "  <thead>\n",
       "    <tr style=\"text-align: right;\">\n",
       "      <th></th>\n",
       "      <th>gender</th>\n",
       "      <th>age</th>\n",
       "      <th>blood</th>\n",
       "      <th>height</th>\n",
       "      <th>weight</th>\n",
       "    </tr>\n",
       "    <tr>\n",
       "      <th>person</th>\n",
       "      <th></th>\n",
       "      <th></th>\n",
       "      <th></th>\n",
       "      <th></th>\n",
       "      <th></th>\n",
       "    </tr>\n",
       "  </thead>\n",
       "  <tbody>\n",
       "    <tr>\n",
       "      <th>p001</th>\n",
       "      <td>female</td>\n",
       "      <td>30</td>\n",
       "      <td>A</td>\n",
       "      <td>152.7</td>\n",
       "      <td>51.5</td>\n",
       "    </tr>\n",
       "    <tr>\n",
       "      <th>p002</th>\n",
       "      <td>female</td>\n",
       "      <td>56</td>\n",
       "      <td>O</td>\n",
       "      <td>155.3</td>\n",
       "      <td>52.7</td>\n",
       "    </tr>\n",
       "    <tr>\n",
       "      <th>p003</th>\n",
       "      <td>female</td>\n",
       "      <td>40</td>\n",
       "      <td>A</td>\n",
       "      <td>157.3</td>\n",
       "      <td>58.9</td>\n",
       "    </tr>\n",
       "  </tbody>\n",
       "</table>\n",
       "</div>"
      ],
      "text/plain": [
       "        gender  age blood  height  weight\n",
       "person                                   \n",
       "p001    female   30     A   152.7    51.5\n",
       "p002    female   56     O   155.3    52.7\n",
       "p003    female   40     A   157.3    58.9"
      ]
     },
     "execution_count": 3,
     "metadata": {},
     "output_type": "execute_result"
    }
   ],
   "source": [
    "df.head(3)"
   ]
  },
  {
   "cell_type": "markdown",
   "metadata": {
    "collapsed": true
   },
   "source": [
    "この表示を見ると，CSVファイルの内容について仕様通りであるか確認できます．\n",
    "- person ：各個人につけたID．\n",
    "- gender ：性別を男性を「male」，女性を「female」で記載してあります．\n",
    "- age ：年齢．\n",
    "- blood ：血液型で、文字としてA，B，O，ABと記載してあります．\n",
    "- height ：身長（cm）を小数点1桁まで記載してあります．\n",
    "- weight ：体重（Kg）を小数点1桁まで記載してあります．\n",
    "\n",
    "念のために，データフレームの最後尾についても見てみましょう．これは<font color=blue>tail()</font>関数によって表示できます．"
   ]
  },
  {
   "cell_type": "code",
   "execution_count": 4,
   "metadata": {},
   "outputs": [
    {
     "data": {
      "text/html": [
       "<div>\n",
       "<style>\n",
       "    .dataframe thead tr:only-child th {\n",
       "        text-align: right;\n",
       "    }\n",
       "\n",
       "    .dataframe thead th {\n",
       "        text-align: left;\n",
       "    }\n",
       "\n",
       "    .dataframe tbody tr th {\n",
       "        vertical-align: top;\n",
       "    }\n",
       "</style>\n",
       "<table border=\"1\" class=\"dataframe\">\n",
       "  <thead>\n",
       "    <tr style=\"text-align: right;\">\n",
       "      <th></th>\n",
       "      <th>gender</th>\n",
       "      <th>age</th>\n",
       "      <th>blood</th>\n",
       "      <th>height</th>\n",
       "      <th>weight</th>\n",
       "    </tr>\n",
       "    <tr>\n",
       "      <th>person</th>\n",
       "      <th></th>\n",
       "      <th></th>\n",
       "      <th></th>\n",
       "      <th></th>\n",
       "      <th></th>\n",
       "    </tr>\n",
       "  </thead>\n",
       "  <tbody>\n",
       "    <tr>\n",
       "      <th>p098</th>\n",
       "      <td>male</td>\n",
       "      <td>46</td>\n",
       "      <td>B</td>\n",
       "      <td>174.0</td>\n",
       "      <td>72.5</td>\n",
       "    </tr>\n",
       "    <tr>\n",
       "      <th>p099</th>\n",
       "      <td>female</td>\n",
       "      <td>20</td>\n",
       "      <td>A</td>\n",
       "      <td>168.8</td>\n",
       "      <td>69.6</td>\n",
       "    </tr>\n",
       "    <tr>\n",
       "      <th>p100</th>\n",
       "      <td>male</td>\n",
       "      <td>21</td>\n",
       "      <td>B</td>\n",
       "      <td>174.0</td>\n",
       "      <td>66.3</td>\n",
       "    </tr>\n",
       "  </tbody>\n",
       "</table>\n",
       "</div>"
      ],
      "text/plain": [
       "        gender  age blood  height  weight\n",
       "person                                   \n",
       "p098      male   46     B   174.0    72.5\n",
       "p099    female   20     A   168.8    69.6\n",
       "p100      male   21     B   174.0    66.3"
      ]
     },
     "execution_count": 4,
     "metadata": {},
     "output_type": "execute_result"
    }
   ],
   "source": [
    "df.tail(3)"
   ]
  },
  {
   "cell_type": "markdown",
   "metadata": {},
   "source": [
    "*****\n",
    "### 数値データの要約統計\n",
    "データフレームには，数値データについて要約統計を求める<font color=blue>describe()</font>関数が用意されています．変量age，height，weightが数値のようなので要約統計を確認しましょう．"
   ]
  },
  {
   "cell_type": "code",
   "execution_count": 5,
   "metadata": {},
   "outputs": [
    {
     "data": {
      "text/html": [
       "<div>\n",
       "<style>\n",
       "    .dataframe thead tr:only-child th {\n",
       "        text-align: right;\n",
       "    }\n",
       "\n",
       "    .dataframe thead th {\n",
       "        text-align: left;\n",
       "    }\n",
       "\n",
       "    .dataframe tbody tr th {\n",
       "        vertical-align: top;\n",
       "    }\n",
       "</style>\n",
       "<table border=\"1\" class=\"dataframe\">\n",
       "  <thead>\n",
       "    <tr style=\"text-align: right;\">\n",
       "      <th></th>\n",
       "      <th>age</th>\n",
       "      <th>height</th>\n",
       "      <th>weight</th>\n",
       "    </tr>\n",
       "  </thead>\n",
       "  <tbody>\n",
       "    <tr>\n",
       "      <th>count</th>\n",
       "      <td>100.0000</td>\n",
       "      <td>100.000000</td>\n",
       "      <td>100.000000</td>\n",
       "    </tr>\n",
       "    <tr>\n",
       "      <th>mean</th>\n",
       "      <td>37.3500</td>\n",
       "      <td>170.831000</td>\n",
       "      <td>64.936000</td>\n",
       "    </tr>\n",
       "    <tr>\n",
       "      <th>std</th>\n",
       "      <td>12.0289</td>\n",
       "      <td>7.252763</td>\n",
       "      <td>6.644957</td>\n",
       "    </tr>\n",
       "    <tr>\n",
       "      <th>min</th>\n",
       "      <td>20.0000</td>\n",
       "      <td>152.700000</td>\n",
       "      <td>49.500000</td>\n",
       "    </tr>\n",
       "    <tr>\n",
       "      <th>25%</th>\n",
       "      <td>27.7500</td>\n",
       "      <td>165.575000</td>\n",
       "      <td>60.300000</td>\n",
       "    </tr>\n",
       "    <tr>\n",
       "      <th>50%</th>\n",
       "      <td>36.0000</td>\n",
       "      <td>170.700000</td>\n",
       "      <td>64.550000</td>\n",
       "    </tr>\n",
       "    <tr>\n",
       "      <th>75%</th>\n",
       "      <td>48.0000</td>\n",
       "      <td>175.600000</td>\n",
       "      <td>68.900000</td>\n",
       "    </tr>\n",
       "    <tr>\n",
       "      <th>max</th>\n",
       "      <td>59.0000</td>\n",
       "      <td>187.700000</td>\n",
       "      <td>81.300000</td>\n",
       "    </tr>\n",
       "  </tbody>\n",
       "</table>\n",
       "</div>"
      ],
      "text/plain": [
       "            age      height      weight\n",
       "count  100.0000  100.000000  100.000000\n",
       "mean    37.3500  170.831000   64.936000\n",
       "std     12.0289    7.252763    6.644957\n",
       "min     20.0000  152.700000   49.500000\n",
       "25%     27.7500  165.575000   60.300000\n",
       "50%     36.0000  170.700000   64.550000\n",
       "75%     48.0000  175.600000   68.900000\n",
       "max     59.0000  187.700000   81.300000"
      ]
     },
     "execution_count": 5,
     "metadata": {},
     "output_type": "execute_result"
    }
   ],
   "source": [
    "df.describe()"
   ]
  },
  {
   "cell_type": "markdown",
   "metadata": {},
   "source": [
    "数値データについて要約統計が得られたようです．このように，平均値や中央値などを一度に求められます．\n",
    "- count：データの件数\n",
    "- mean：平均値\n",
    "- std：標準偏差\n",
    "- min：最小値\n",
    "- 25%：昇順で25%になる値\n",
    "- 50%：中央値\n",
    "- 75%：昇順で75%になる値\n",
    "- max：最大値\n",
    "\n",
    "要約統計の出力を見て，以下の事を確認します．\n",
    "1. 数値データとして想定している変量について全て結果に表れていること．もし数値データだと思っている変量が記載されてなければ、データが文字列であるとか何らかの問題が潜んでいます．\n",
    "- countが想定した件数と一致している．もし件数が予定より少なければ，欠損があるか，あるいは別の問題が潜んでいるか確認する必要があります．\n",
    "- 最小値と最大値が想定した範囲にあることを確認します．\n",
    "- 平均値および中央値が想定内にあるかを確認します．\n",
    "\n",
    "この数値データに関しては特に問題は無いようです．"
   ]
  },
  {
   "cell_type": "markdown",
   "metadata": {},
   "source": [
    "*****\n",
    "### 相関係数\n",
    "複数の数値データがある場合，それらの数値データ間にある関連性は重要な情報となります．2つの数値データ間の最も単純な関係は1次関数による線形の関係性です．この関係性を**相関**と言います．相関係数は，標準偏差と共分散によって定義されます．\n",
    "\n",
    "2つの変量を$x=\\{x_1,x_2,x_3,\\cdots\\}$と$y=\\{y_1,y_2,y_3,\\cdots\\}$としたとき，統計量を次の式で定義します．\n",
    "\n",
    "- 変量$x$の平均値：$\\bar{x}=\\frac{1}{n}\\Sigma x_i$\n",
    "\n",
    "- 変量$x$の標準偏差：$\\sigma_{x}=\\sqrt{\\frac{1}{n}\\Sigma(x_i-\\bar{x})^2}$\n",
    "\n",
    "- 変量$x$と$y$の共分散：$\\sigma_{xy}=\\frac{1}{n}\\Sigma(x_i-\\bar{x})(y_i-\\bar{y})$\n",
    "\n",
    "- 相関係数：$r_{xy}=\\frac{\\sigma_{xy}}{\\sigma_{x}\\sigma_{x}}$\n",
    "\n",
    "相関係数は-1から1の間の実数値を取ります.相関係数が1に近い場合は正の相関があり，-1に近い場合は負の相関が有ります．相関係数が0の近傍の場合は相関が無いと解釈されます．ただし，相関が無いとは線形の関係性が無いということなので，非線形の関係性がある可能性も残ります．\n",
    "\n",
    "DataFrameオブジェクトには相関係数を計算する<font color=blue>corr()</font>メソッドが備わっていて，引数無しで使用すると全ての数値データ間の相関係数が算出されます．"
   ]
  },
  {
   "cell_type": "code",
   "execution_count": 6,
   "metadata": {},
   "outputs": [
    {
     "data": {
      "text/html": [
       "<div>\n",
       "<style>\n",
       "    .dataframe thead tr:only-child th {\n",
       "        text-align: right;\n",
       "    }\n",
       "\n",
       "    .dataframe thead th {\n",
       "        text-align: left;\n",
       "    }\n",
       "\n",
       "    .dataframe tbody tr th {\n",
       "        vertical-align: top;\n",
       "    }\n",
       "</style>\n",
       "<table border=\"1\" class=\"dataframe\">\n",
       "  <thead>\n",
       "    <tr style=\"text-align: right;\">\n",
       "      <th></th>\n",
       "      <th>age</th>\n",
       "      <th>height</th>\n",
       "      <th>weight</th>\n",
       "    </tr>\n",
       "  </thead>\n",
       "  <tbody>\n",
       "    <tr>\n",
       "      <th>age</th>\n",
       "      <td>1.000000</td>\n",
       "      <td>0.051211</td>\n",
       "      <td>-0.022274</td>\n",
       "    </tr>\n",
       "    <tr>\n",
       "      <th>height</th>\n",
       "      <td>0.051211</td>\n",
       "      <td>1.000000</td>\n",
       "      <td>0.761320</td>\n",
       "    </tr>\n",
       "    <tr>\n",
       "      <th>weight</th>\n",
       "      <td>-0.022274</td>\n",
       "      <td>0.761320</td>\n",
       "      <td>1.000000</td>\n",
       "    </tr>\n",
       "  </tbody>\n",
       "</table>\n",
       "</div>"
      ],
      "text/plain": [
       "             age    height    weight\n",
       "age     1.000000  0.051211 -0.022274\n",
       "height  0.051211  1.000000  0.761320\n",
       "weight -0.022274  0.761320  1.000000"
      ]
     },
     "execution_count": 6,
     "metadata": {},
     "output_type": "execute_result"
    }
   ],
   "source": [
    "df.corr()"
   ]
  },
  {
   "cell_type": "markdown",
   "metadata": {
    "collapsed": true
   },
   "source": [
    "この結果をみると，身長と体重の間に正の相関が見られます．年齢と身長あるいは体重の間には相関が見られません．"
   ]
  },
  {
   "cell_type": "markdown",
   "metadata": {},
   "source": [
    "*****\n",
    "### ヒストグラム\n",
    "DataFrameオブジェクトには，ヒストグラムを表示するhist()メソッドが備わっていて，一度に全ての数値データのヒストグラムを表示してくれます．"
   ]
  },
  {
   "cell_type": "code",
   "execution_count": 7,
   "metadata": {},
   "outputs": [
    {
     "data": {
      "image/png": "[encoded data removed]",
      "text/plain": [
       "<matplotlib.figure.Figure at 0x2320d08f7b8>"
      ]
     },
     "metadata": {},
     "output_type": "display_data"
    }
   ],
   "source": [
    "df.hist()\n",
    "plt.show()"
   ]
  },
  {
   "cell_type": "markdown",
   "metadata": {},
   "source": [
    "身長について，もう少し詳しいヒストグラムを表示するためにmatplotlibのhist()関数で表示してみます．"
   ]
  },
  {
   "cell_type": "code",
   "execution_count": 8,
   "metadata": {
    "scrolled": true
   },
   "outputs": [
    {
     "data": {
      "image/png": "[encoded data removed]",
      "text/plain": [
       "<matplotlib.figure.Figure at 0x2320d6b2a20>"
      ]
     },
     "metadata": {},
     "output_type": "display_data"
    }
   ],
   "source": [
    "plt.hist(df.height,bins=20,color='lightcyan',edgecolor='black')\n",
    "plt.xlabel('Height (cm)')\n",
    "plt.ylabel('Counts')\n",
    "plt.show()"
   ]
  },
  {
   "cell_type": "markdown",
   "metadata": {},
   "source": [
    "*****\n",
    "### 散布図\n",
    "身長と体重の関連性について散布図を描いて確認します．"
   ]
  },
  {
   "cell_type": "code",
   "execution_count": 9,
   "metadata": {},
   "outputs": [
    {
     "data": {
      "image/png": "[encoded data removed]",
      "text/plain": [
       "<matplotlib.figure.Figure at 0x2320d7b99b0>"
      ]
     },
     "metadata": {},
     "output_type": "display_data"
    }
   ],
   "source": [
    "plt.scatter(df['height'],df['weight'])\n",
    "plt.xlabel('Height (cm)')\n",
    "plt.ylabel('Weight (kg)')\n",
    "plt.show()"
   ]
  },
  {
   "cell_type": "markdown",
   "metadata": {},
   "source": [
    "身長と体重の間には正の相関があるので，このように左下から右上に向けて天の川のような散布図になっています．\n",
    "ここでは学習の範囲外になりますが，回帰直線を求めて散布図上にプロットすることも可能です．\n",
    "\n",
    "さて，相関の無かった年齢と体重の散布図も描画してみましょう．"
   ]
  },
  {
   "cell_type": "code",
   "execution_count": 10,
   "metadata": {},
   "outputs": [
    {
     "data": {
      "image/png": "[encoded data removed]",
      "text/plain": [
       "<matplotlib.figure.Figure at 0x2320d8714a8>"
      ]
     },
     "metadata": {},
     "output_type": "display_data"
    }
   ],
   "source": [
    "plt.scatter(df['age'],df['weight'])\n",
    "plt.xlabel('Height (cm)')\n",
    "plt.ylabel('Age (years)')\n",
    "plt.show()"
   ]
  },
  {
   "cell_type": "markdown",
   "metadata": {},
   "source": [
    "この場合，全体に満遍なく広がった散布図になっています．"
   ]
  },
  {
   "cell_type": "markdown",
   "metadata": {},
   "source": [
    "*****\n",
    "### 数値データの階級化\n",
    "観測データの集約として度数分布表を作りますが，数値データの場合は**階級化**という処理が必要になります．\n",
    "ここでは年齢を10歳刻み，身長を5cm刻み，体重を5㎏刻みで階級化します．\n",
    "階級化のテクニックとして，round()関数による四捨五入を利用しています．\n",
    "階級化の結果は新しい列名を付けてデータフレームに追加しています．このように分析用の加工したデータはデータフレームの追加項目とし，既存のデータへの上書きは致しません．"
   ]
  },
  {
   "cell_type": "code",
   "execution_count": 11,
   "metadata": {
    "collapsed": true
   },
   "outputs": [],
   "source": [
    "df['ageClass'] = round(df.age-5,-1)\n",
    "df['heightClass'] = np.int64(round(2*df.height,-1)/2)\n",
    "df['weightClass'] = np.int64(round(2*df.weight,-1)/2)"
   ]
  },
  {
   "cell_type": "markdown",
   "metadata": {},
   "source": [
    "この階級化の値についてですが，年齢に関しては階級値は左端の値になっています．すなわち20ならば20歳から29歳までの20代の年齢ということです．\n",
    "それに対して，身長や体重では階級値は中心の値になっています．身長が170とは167.5以上172.5未満の高さになっています．\n",
    "この結果のデータフレームを見てみます．試しに真ん中辺のデータを表示してみます．"
   ]
  },
  {
   "cell_type": "code",
   "execution_count": 12,
   "metadata": {},
   "outputs": [
    {
     "data": {
      "text/html": [
       "<div>\n",
       "<style>\n",
       "    .dataframe thead tr:only-child th {\n",
       "        text-align: right;\n",
       "    }\n",
       "\n",
       "    .dataframe thead th {\n",
       "        text-align: left;\n",
       "    }\n",
       "\n",
       "    .dataframe tbody tr th {\n",
       "        vertical-align: top;\n",
       "    }\n",
       "</style>\n",
       "<table border=\"1\" class=\"dataframe\">\n",
       "  <thead>\n",
       "    <tr style=\"text-align: right;\">\n",
       "      <th></th>\n",
       "      <th>gender</th>\n",
       "      <th>age</th>\n",
       "      <th>blood</th>\n",
       "      <th>height</th>\n",
       "      <th>weight</th>\n",
       "      <th>ageClass</th>\n",
       "      <th>heightClass</th>\n",
       "      <th>weightClass</th>\n",
       "    </tr>\n",
       "    <tr>\n",
       "      <th>person</th>\n",
       "      <th></th>\n",
       "      <th></th>\n",
       "      <th></th>\n",
       "      <th></th>\n",
       "      <th></th>\n",
       "      <th></th>\n",
       "      <th></th>\n",
       "      <th></th>\n",
       "    </tr>\n",
       "  </thead>\n",
       "  <tbody>\n",
       "    <tr>\n",
       "      <th>p051</th>\n",
       "      <td>female</td>\n",
       "      <td>46</td>\n",
       "      <td>A</td>\n",
       "      <td>164.8</td>\n",
       "      <td>56.6</td>\n",
       "      <td>40</td>\n",
       "      <td>165</td>\n",
       "      <td>55</td>\n",
       "    </tr>\n",
       "    <tr>\n",
       "      <th>p052</th>\n",
       "      <td>male</td>\n",
       "      <td>40</td>\n",
       "      <td>A</td>\n",
       "      <td>174.3</td>\n",
       "      <td>71.3</td>\n",
       "      <td>40</td>\n",
       "      <td>175</td>\n",
       "      <td>70</td>\n",
       "    </tr>\n",
       "    <tr>\n",
       "      <th>p053</th>\n",
       "      <td>female</td>\n",
       "      <td>31</td>\n",
       "      <td>O</td>\n",
       "      <td>169.3</td>\n",
       "      <td>66.9</td>\n",
       "      <td>30</td>\n",
       "      <td>170</td>\n",
       "      <td>65</td>\n",
       "    </tr>\n",
       "    <tr>\n",
       "      <th>p054</th>\n",
       "      <td>female</td>\n",
       "      <td>54</td>\n",
       "      <td>A</td>\n",
       "      <td>171.2</td>\n",
       "      <td>60.0</td>\n",
       "      <td>50</td>\n",
       "      <td>170</td>\n",
       "      <td>60</td>\n",
       "    </tr>\n",
       "    <tr>\n",
       "      <th>p055</th>\n",
       "      <td>male</td>\n",
       "      <td>20</td>\n",
       "      <td>A</td>\n",
       "      <td>179.8</td>\n",
       "      <td>66.3</td>\n",
       "      <td>20</td>\n",
       "      <td>180</td>\n",
       "      <td>65</td>\n",
       "    </tr>\n",
       "  </tbody>\n",
       "</table>\n",
       "</div>"
      ],
      "text/plain": [
       "        gender  age blood  height  weight  ageClass  heightClass  weightClass\n",
       "person                                                                       \n",
       "p051    female   46     A   164.8    56.6        40          165           55\n",
       "p052      male   40     A   174.3    71.3        40          175           70\n",
       "p053    female   31     O   169.3    66.9        30          170           65\n",
       "p054    female   54     A   171.2    60.0        50          170           60\n",
       "p055      male   20     A   179.8    66.3        20          180           65"
      ]
     },
     "execution_count": 12,
     "metadata": {},
     "output_type": "execute_result"
    }
   ],
   "source": [
    "df[50:55]"
   ]
  },
  {
   "cell_type": "markdown",
   "metadata": {},
   "source": [
    "*****\n",
    "### 度数分布表\n",
    "それでは個々の変量について度数分布表を作ってみましょう．\n",
    "DataFrameオブジェクトでは，<font color=blue>value_counts()</font>メソッドによって度数分布を求めることができます．"
   ]
  },
  {
   "cell_type": "markdown",
   "metadata": {},
   "source": [
    "#### 性別の特徴\n",
    "性別について度数分布と円グラフを求めてみます．性別の列について値毎の集計を行うには，<font color=blue>df.gender.value_counts()</font>を実行します．結果は値の大きい順にソートされます．"
   ]
  },
  {
   "cell_type": "code",
   "execution_count": 13,
   "metadata": {},
   "outputs": [
    {
     "data": {
      "text/plain": [
       "male      55\n",
       "female    45\n",
       "Name: gender, dtype: int64"
      ]
     },
     "execution_count": 13,
     "metadata": {},
     "output_type": "execute_result"
    }
   ],
   "source": [
    "genderDistribution = df.gender.value_counts()\n",
    "genderDistribution"
   ]
  },
  {
   "cell_type": "code",
   "execution_count": 14,
   "metadata": {},
   "outputs": [
    {
     "data": {
      "image/png": "[encoded data removed]",
      "text/plain": [
       "<matplotlib.figure.Figure at 0x2320d919400>"
      ]
     },
     "metadata": {},
     "output_type": "display_data"
    }
   ],
   "source": [
    "plt.pie(genderDistribution, labels=genderDistribution.index,\n",
    "        startangle=90, counterclock=False, autopct='%1.1f%%', wedgeprops={'linewidth': 1, 'edgecolor':\"white\"})\n",
    "plt.axis('equal')\n",
    "plt.show()"
   ]
  },
  {
   "cell_type": "markdown",
   "metadata": {},
   "source": [
    "男女比では男性の方が若干多いことが分かります．\n",
    "円グラフについては，見栄えを良くするためのオプション引数が面倒ですので，自分の気に入った設定のひな型を用意しておくと良いでしょう．"
   ]
  },
  {
   "cell_type": "markdown",
   "metadata": {},
   "source": [
    "#### 血液型の特徴\n",
    "血液型についても度数分布と円グラフを求めてみます．血液型の列について値毎の集計を出すには，<font color=blue>df.blood.value_counts()</font>を実行します．結果は値の多い順にソートされます．"
   ]
  },
  {
   "cell_type": "code",
   "execution_count": 15,
   "metadata": {},
   "outputs": [
    {
     "data": {
      "text/plain": [
       "A     41\n",
       "O     34\n",
       "B     16\n",
       "AB     9\n",
       "Name: blood, dtype: int64"
      ]
     },
     "execution_count": 15,
     "metadata": {},
     "output_type": "execute_result"
    }
   ],
   "source": [
    "bloodDistribution = df.blood.value_counts()\n",
    "bloodDistribution"
   ]
  },
  {
   "cell_type": "code",
   "execution_count": 16,
   "metadata": {},
   "outputs": [
    {
     "data": {
      "image/png": "[encoded data removed]",
      "text/plain": [
       "<matplotlib.figure.Figure at 0x2320d9601d0>"
      ]
     },
     "metadata": {},
     "output_type": "display_data"
    }
   ],
   "source": [
    "plt.pie(bloodDistribution, labels=bloodDistribution.index,\n",
    "        startangle=90, counterclock=False, autopct='%1.1f%%', wedgeprops={'linewidth': 1, 'edgecolor':\"white\"})\n",
    "plt.axis('equal')\n",
    "plt.show()"
   ]
  },
  {
   "cell_type": "markdown",
   "metadata": {},
   "source": [
    "血液型の分布については，日本人全体の比率に近い分布になっています．"
   ]
  },
  {
   "cell_type": "markdown",
   "metadata": {},
   "source": [
    "#### 年齢の特徴\n",
    "年齢については，度数分布表とグラフを作成します．ただし，ここでは観測データではなく階級化された値を用い，描画方法もhist()関数ではなくpie()関数とbar()関数を用いて円グラフと棒グラフを作成します．\n",
    "年代毎の集計を行うときに年齢で昇順にソートしたいのでvalue_counts()関数の出力に対してsort_index()関数でソートを行います．この操作を一度に行うために，<font color=blue>df.ageClass.value_counts().sort_index()</font>を発行します．"
   ]
  },
  {
   "cell_type": "code",
   "execution_count": 17,
   "metadata": {},
   "outputs": [
    {
     "data": {
      "text/plain": [
       "20    36\n",
       "30    24\n",
       "40    17\n",
       "50    23\n",
       "Name: ageClass, dtype: int64"
      ]
     },
     "execution_count": 17,
     "metadata": {},
     "output_type": "execute_result"
    }
   ],
   "source": [
    "ageDistribution = df.ageClass.value_counts().sort_index()\n",
    "ageDistribution"
   ]
  },
  {
   "cell_type": "code",
   "execution_count": 18,
   "metadata": {},
   "outputs": [
    {
     "data": {
      "image/png": "[encoded data removed]",
      "text/plain": [
       "<matplotlib.figure.Figure at 0x2320d9da4a8>"
      ]
     },
     "metadata": {},
     "output_type": "display_data"
    }
   ],
   "source": [
    "plt.pie(ageDistribution, labels=ageDistribution.index.astype('str')+'s',\n",
    "        startangle=90, counterclock=False, autopct='%1.1f%%', wedgeprops={'linewidth': 1, 'edgecolor':\"white\"})\n",
    "plt.axis('equal')\n",
    "plt.show()"
   ]
  },
  {
   "cell_type": "code",
   "execution_count": 19,
   "metadata": {},
   "outputs": [
    {
     "data": {
      "image/png": "[encoded data removed]",
      "text/plain": [
       "<matplotlib.figure.Figure at 0x2320da7bf60>"
      ]
     },
     "metadata": {},
     "output_type": "display_data"
    }
   ],
   "source": [
    "plt.bar(ageDistribution.index,ageDistribution,width=10,align='edge',\n",
    "        color='lightcyan',edgecolor='black')\n",
    "plt.xlabel('Age (years)')\n",
    "plt.ylabel('Counts')\n",
    "plt.show()"
   ]
  },
  {
   "cell_type": "markdown",
   "metadata": {},
   "source": [
    "円グラフでは扇柄のラベルを数字から文字列に変換して最後に's'を付けて20代とか30代の意味合いを明確にしています．<br>\n",
    "棒グラフは幅を目いっぱい取りヒストグラムに似せています．また，棒の位置を階級値に左側を合わせています．"
   ]
  },
  {
   "cell_type": "markdown",
   "metadata": {},
   "source": [
    "#### 年齢の特徴\n",
    "年齢について度数分布と棒グラフによるヒストグラムを求めてみます．\n",
    "年齢についても階級化した値についての集計を<font color=blue>df.heightClass.value_counts().sort_index()</font>によって求めています．"
   ]
  },
  {
   "cell_type": "code",
   "execution_count": 20,
   "metadata": {},
   "outputs": [
    {
     "data": {
      "text/plain": [
       "155     5\n",
       "160     5\n",
       "165    23\n",
       "170    26\n",
       "175    21\n",
       "180    14\n",
       "185     5\n",
       "190     1\n",
       "Name: heightClass, dtype: int64"
      ]
     },
     "execution_count": 20,
     "metadata": {},
     "output_type": "execute_result"
    }
   ],
   "source": [
    "heightDistribution = df.heightClass.value_counts().sort_index()\n",
    "heightDistribution"
   ]
  },
  {
   "cell_type": "code",
   "execution_count": 21,
   "metadata": {},
   "outputs": [
    {
     "data": {
      "image/png": "[encoded data removed]",
      "text/plain": [
       "<matplotlib.figure.Figure at 0x2320d6f2320>"
      ]
     },
     "metadata": {},
     "output_type": "display_data"
    }
   ],
   "source": [
    "plt.bar(heightDistribution.index,heightDistribution,width=5,align='center',\n",
    "        color='lightcyan',edgecolor='black')\n",
    "plt.xlabel('Height (cm)')\n",
    "plt.ylabel('Counts')\n",
    "plt.show()"
   ]
  },
  {
   "cell_type": "markdown",
   "metadata": {},
   "source": [
    "*****\n",
    "### クロス集計\n",
    "クロス集計の対象は，離散値の場合はそのまま集計しますが連続値の場合は階級化した変量を用いて集計します．\n",
    "Excelでクロス集計をする場合はピボットテーブルを使いますが，DataFrameオブジェクトにもピボットテーブルをおこなうための<font color=blue>pivot_table()</font>関数があります．\n",
    "\n",
    "> <font color=blue>df<font color=green>.pivot_table(values='</font>data<font color=green>',index='</font>indexx<font color=green>',columns='</font>columns<font color=green>',aggfunc='count',fill_value=0,margins=True)</font>\n",
    "\n",
    "ここで各引数は次のようになります．\n",
    "- values：集計対象のDataFrameの変量名．aggfunc='count'の場合はダミーとして任意の変量名を与える．\n",
    "- index：行に持ってくるDataFrameの変量名．\n",
    "- columns：列に持ってくるDataFrameの変量名．\n",
    "- aggfunc：集計のタイプ．候補は['count','sum','max','min','mean','median']\n",
    "- fill_value：対象が無い場合にセットする値．\n",
    "- margins：集計行と集計列を付ける場合はTrueとする．\n",
    "\n",
    "ここでは集計行に年代，集計列に性別をとり，件数を得るために「aggfunc='count'」として集計対象はダミーで年齢を指定しています．\n",
    "```Python\n",
    "df.pivot_table(\n",
    "    values='age',      # 集計対象に'age'を指定していますが，カウントを得るためだけのダミーです．\n",
    "    index='ageClass',  # 集計行として'ageClass'を指定．\n",
    "    columns='gender',  # 集計列として'gener'を指定．\n",
    "    aggfunc='count',   # 集計方法として件数を数える'count'を指定．\n",
    "    fill_value=0,      # 集計結果として欠損値のところに0を代入する．\n",
    "    margins=True)      # 列集計と行集計の欄を作成する．\n",
    "```"
   ]
  },
  {
   "cell_type": "code",
   "execution_count": 22,
   "metadata": {},
   "outputs": [
    {
     "data": {
      "text/html": [
       "<div>\n",
       "<style>\n",
       "    .dataframe thead tr:only-child th {\n",
       "        text-align: right;\n",
       "    }\n",
       "\n",
       "    .dataframe thead th {\n",
       "        text-align: left;\n",
       "    }\n",
       "\n",
       "    .dataframe tbody tr th {\n",
       "        vertical-align: top;\n",
       "    }\n",
       "</style>\n",
       "<table border=\"1\" class=\"dataframe\">\n",
       "  <thead>\n",
       "    <tr style=\"text-align: right;\">\n",
       "      <th>gender</th>\n",
       "      <th>female</th>\n",
       "      <th>male</th>\n",
       "      <th>All</th>\n",
       "    </tr>\n",
       "    <tr>\n",
       "      <th>ageClass</th>\n",
       "      <th></th>\n",
       "      <th></th>\n",
       "      <th></th>\n",
       "    </tr>\n",
       "  </thead>\n",
       "  <tbody>\n",
       "    <tr>\n",
       "      <th>20</th>\n",
       "      <td>21.0</td>\n",
       "      <td>15.0</td>\n",
       "      <td>36.0</td>\n",
       "    </tr>\n",
       "    <tr>\n",
       "      <th>30</th>\n",
       "      <td>8.0</td>\n",
       "      <td>16.0</td>\n",
       "      <td>24.0</td>\n",
       "    </tr>\n",
       "    <tr>\n",
       "      <th>40</th>\n",
       "      <td>5.0</td>\n",
       "      <td>12.0</td>\n",
       "      <td>17.0</td>\n",
       "    </tr>\n",
       "    <tr>\n",
       "      <th>50</th>\n",
       "      <td>11.0</td>\n",
       "      <td>12.0</td>\n",
       "      <td>23.0</td>\n",
       "    </tr>\n",
       "    <tr>\n",
       "      <th>All</th>\n",
       "      <td>45.0</td>\n",
       "      <td>55.0</td>\n",
       "      <td>100.0</td>\n",
       "    </tr>\n",
       "  </tbody>\n",
       "</table>\n",
       "</div>"
      ],
      "text/plain": [
       "gender    female  male    All\n",
       "ageClass                     \n",
       "20          21.0  15.0   36.0\n",
       "30           8.0  16.0   24.0\n",
       "40           5.0  12.0   17.0\n",
       "50          11.0  12.0   23.0\n",
       "All         45.0  55.0  100.0"
      ]
     },
     "execution_count": 22,
     "metadata": {},
     "output_type": "execute_result"
    }
   ],
   "source": [
    "pivotAgeGender = df.pivot_table(values='age',index='ageClass',columns='gender',aggfunc='count',fill_value=0,margins=True)\n",
    "pivotAgeGender"
   ]
  },
  {
   "cell_type": "code",
   "execution_count": 23,
   "metadata": {},
   "outputs": [
    {
     "data": {
      "text/plain": [
       "pandas.core.frame.DataFrame"
      ]
     },
     "execution_count": 23,
     "metadata": {},
     "output_type": "execute_result"
    }
   ],
   "source": [
    "type(pivotAgeGender)"
   ]
  },
  {
   "cell_type": "markdown",
   "metadata": {},
   "source": [
    "pivot_table()によるクロス集計の結果もDataFrameオブジェクトになっています．"
   ]
  },
  {
   "cell_type": "markdown",
   "metadata": {},
   "source": [
    "##### 行合計に対する相対度数分布\n",
    "このクロス集計表から性別ごとの年代の比率を求めます．つまり女性内の相対度数や男性内の相対度数です．そのためにはdiv()メソッドによって各クロス集計値を女性の人数や男性の人数で割ります．\n",
    "まず，割り算の分母になる配列を求めましょう．これは，データフレームpivotAgeGenderの行インデックスで「'All'」を指定します．方法としては<font color=blue>loc('All')</font>メソッドで得られます．"
   ]
  },
  {
   "cell_type": "code",
   "execution_count": 24,
   "metadata": {},
   "outputs": [
    {
     "data": {
      "text/plain": [
       "gender\n",
       "female     45.0\n",
       "male       55.0\n",
       "All       100.0\n",
       "Name: All, dtype: float64"
      ]
     },
     "execution_count": 24,
     "metadata": {},
     "output_type": "execute_result"
    }
   ],
   "source": [
    "pivotAgeGender.loc['All']"
   ]
  },
  {
   "cell_type": "markdown",
   "metadata": {},
   "source": [
    "この配列をdiv()メソッドの分母となる引数とします．さらに分母の配列が横ベクトルであることを伝えるために引数に<font color=blue>axis=1</font>を明記します．"
   ]
  },
  {
   "cell_type": "code",
   "execution_count": 25,
   "metadata": {},
   "outputs": [
    {
     "data": {
      "text/html": [
       "<div>\n",
       "<style>\n",
       "    .dataframe thead tr:only-child th {\n",
       "        text-align: right;\n",
       "    }\n",
       "\n",
       "    .dataframe thead th {\n",
       "        text-align: left;\n",
       "    }\n",
       "\n",
       "    .dataframe tbody tr th {\n",
       "        vertical-align: top;\n",
       "    }\n",
       "</style>\n",
       "<table border=\"1\" class=\"dataframe\">\n",
       "  <thead>\n",
       "    <tr style=\"text-align: right;\">\n",
       "      <th>gender</th>\n",
       "      <th>female</th>\n",
       "      <th>male</th>\n",
       "      <th>All</th>\n",
       "    </tr>\n",
       "    <tr>\n",
       "      <th>ageClass</th>\n",
       "      <th></th>\n",
       "      <th></th>\n",
       "      <th></th>\n",
       "    </tr>\n",
       "  </thead>\n",
       "  <tbody>\n",
       "    <tr>\n",
       "      <th>20</th>\n",
       "      <td>0.466667</td>\n",
       "      <td>0.272727</td>\n",
       "      <td>0.36</td>\n",
       "    </tr>\n",
       "    <tr>\n",
       "      <th>30</th>\n",
       "      <td>0.177778</td>\n",
       "      <td>0.290909</td>\n",
       "      <td>0.24</td>\n",
       "    </tr>\n",
       "    <tr>\n",
       "      <th>40</th>\n",
       "      <td>0.111111</td>\n",
       "      <td>0.218182</td>\n",
       "      <td>0.17</td>\n",
       "    </tr>\n",
       "    <tr>\n",
       "      <th>50</th>\n",
       "      <td>0.244444</td>\n",
       "      <td>0.218182</td>\n",
       "      <td>0.23</td>\n",
       "    </tr>\n",
       "    <tr>\n",
       "      <th>All</th>\n",
       "      <td>1.000000</td>\n",
       "      <td>1.000000</td>\n",
       "      <td>1.00</td>\n",
       "    </tr>\n",
       "  </tbody>\n",
       "</table>\n",
       "</div>"
      ],
      "text/plain": [
       "gender      female      male   All\n",
       "ageClass                          \n",
       "20        0.466667  0.272727  0.36\n",
       "30        0.177778  0.290909  0.24\n",
       "40        0.111111  0.218182  0.17\n",
       "50        0.244444  0.218182  0.23\n",
       "All       1.000000  1.000000  1.00"
      ]
     },
     "execution_count": 25,
     "metadata": {},
     "output_type": "execute_result"
    }
   ],
   "source": [
    "pivotAgeGender.div(pivotAgeGender.loc['All'],axis=1)"
   ]
  },
  {
   "cell_type": "markdown",
   "metadata": {},
   "source": [
    "##### 列合計に対する相対度数分布\n",
    "今度は，各年代ごとに男女比を出します．\n",
    "そこで割り算の母数はgender='All'の縦ベクトルとなります．まず，その縦ベクトルを確認します．"
   ]
  },
  {
   "cell_type": "code",
   "execution_count": 26,
   "metadata": {},
   "outputs": [
    {
     "data": {
      "text/plain": [
       "ageClass\n",
       "20      36.0\n",
       "30      24.0\n",
       "40      17.0\n",
       "50      23.0\n",
       "All    100.0\n",
       "Name: All, dtype: float64"
      ]
     },
     "execution_count": 26,
     "metadata": {},
     "output_type": "execute_result"
    }
   ],
   "source": [
    "pivotAgeGender['All']"
   ]
  },
  {
   "cell_type": "markdown",
   "metadata": {},
   "source": [
    "今度はdiv()メソッドの引数として<font color=blue>axis=0</font>と明記します．"
   ]
  },
  {
   "cell_type": "code",
   "execution_count": 27,
   "metadata": {},
   "outputs": [
    {
     "data": {
      "text/html": [
       "<div>\n",
       "<style>\n",
       "    .dataframe thead tr:only-child th {\n",
       "        text-align: right;\n",
       "    }\n",
       "\n",
       "    .dataframe thead th {\n",
       "        text-align: left;\n",
       "    }\n",
       "\n",
       "    .dataframe tbody tr th {\n",
       "        vertical-align: top;\n",
       "    }\n",
       "</style>\n",
       "<table border=\"1\" class=\"dataframe\">\n",
       "  <thead>\n",
       "    <tr style=\"text-align: right;\">\n",
       "      <th>gender</th>\n",
       "      <th>female</th>\n",
       "      <th>male</th>\n",
       "      <th>All</th>\n",
       "    </tr>\n",
       "    <tr>\n",
       "      <th>ageClass</th>\n",
       "      <th></th>\n",
       "      <th></th>\n",
       "      <th></th>\n",
       "    </tr>\n",
       "  </thead>\n",
       "  <tbody>\n",
       "    <tr>\n",
       "      <th>20</th>\n",
       "      <td>0.583333</td>\n",
       "      <td>0.416667</td>\n",
       "      <td>1.0</td>\n",
       "    </tr>\n",
       "    <tr>\n",
       "      <th>30</th>\n",
       "      <td>0.333333</td>\n",
       "      <td>0.666667</td>\n",
       "      <td>1.0</td>\n",
       "    </tr>\n",
       "    <tr>\n",
       "      <th>40</th>\n",
       "      <td>0.294118</td>\n",
       "      <td>0.705882</td>\n",
       "      <td>1.0</td>\n",
       "    </tr>\n",
       "    <tr>\n",
       "      <th>50</th>\n",
       "      <td>0.478261</td>\n",
       "      <td>0.521739</td>\n",
       "      <td>1.0</td>\n",
       "    </tr>\n",
       "    <tr>\n",
       "      <th>All</th>\n",
       "      <td>0.450000</td>\n",
       "      <td>0.550000</td>\n",
       "      <td>1.0</td>\n",
       "    </tr>\n",
       "  </tbody>\n",
       "</table>\n",
       "</div>"
      ],
      "text/plain": [
       "gender      female      male  All\n",
       "ageClass                         \n",
       "20        0.583333  0.416667  1.0\n",
       "30        0.333333  0.666667  1.0\n",
       "40        0.294118  0.705882  1.0\n",
       "50        0.478261  0.521739  1.0\n",
       "All       0.450000  0.550000  1.0"
      ]
     },
     "execution_count": 27,
     "metadata": {},
     "output_type": "execute_result"
    }
   ],
   "source": [
    "pivotAgeGender.div(pivotAgeGender['All'],axis=0)"
   ]
  },
  {
   "cell_type": "markdown",
   "metadata": {},
   "source": [
    "##### 全体合計に対する相対度数分布\n",
    "全体合計に対する相対度数を求めるにはpivotAgeGenderの右下の値で全ての要素の値を割れば得ることができます．"
   ]
  },
  {
   "cell_type": "code",
   "execution_count": 28,
   "metadata": {},
   "outputs": [
    {
     "data": {
      "text/html": [
       "<div>\n",
       "<style>\n",
       "    .dataframe thead tr:only-child th {\n",
       "        text-align: right;\n",
       "    }\n",
       "\n",
       "    .dataframe thead th {\n",
       "        text-align: left;\n",
       "    }\n",
       "\n",
       "    .dataframe tbody tr th {\n",
       "        vertical-align: top;\n",
       "    }\n",
       "</style>\n",
       "<table border=\"1\" class=\"dataframe\">\n",
       "  <thead>\n",
       "    <tr style=\"text-align: right;\">\n",
       "      <th>gender</th>\n",
       "      <th>female</th>\n",
       "      <th>male</th>\n",
       "      <th>All</th>\n",
       "    </tr>\n",
       "    <tr>\n",
       "      <th>ageClass</th>\n",
       "      <th></th>\n",
       "      <th></th>\n",
       "      <th></th>\n",
       "    </tr>\n",
       "  </thead>\n",
       "  <tbody>\n",
       "    <tr>\n",
       "      <th>20</th>\n",
       "      <td>0.21</td>\n",
       "      <td>0.15</td>\n",
       "      <td>0.36</td>\n",
       "    </tr>\n",
       "    <tr>\n",
       "      <th>30</th>\n",
       "      <td>0.08</td>\n",
       "      <td>0.16</td>\n",
       "      <td>0.24</td>\n",
       "    </tr>\n",
       "    <tr>\n",
       "      <th>40</th>\n",
       "      <td>0.05</td>\n",
       "      <td>0.12</td>\n",
       "      <td>0.17</td>\n",
       "    </tr>\n",
       "    <tr>\n",
       "      <th>50</th>\n",
       "      <td>0.11</td>\n",
       "      <td>0.12</td>\n",
       "      <td>0.23</td>\n",
       "    </tr>\n",
       "    <tr>\n",
       "      <th>All</th>\n",
       "      <td>0.45</td>\n",
       "      <td>0.55</td>\n",
       "      <td>1.00</td>\n",
       "    </tr>\n",
       "  </tbody>\n",
       "</table>\n",
       "</div>"
      ],
      "text/plain": [
       "gender    female  male   All\n",
       "ageClass                    \n",
       "20          0.21  0.15  0.36\n",
       "30          0.08  0.16  0.24\n",
       "40          0.05  0.12  0.17\n",
       "50          0.11  0.12  0.23\n",
       "All         0.45  0.55  1.00"
      ]
     },
     "execution_count": 28,
     "metadata": {},
     "output_type": "execute_result"
    }
   ],
   "source": [
    "pivotAgeGender.div(pivotAgeGender['All']['All'])"
   ]
  },
  {
   "cell_type": "markdown",
   "metadata": {},
   "source": [
    "以上で，データ分析のダイジェストでご覧いただいた内容についての解説を終わります．\n",
    "ここで提示した内容はデータ分析において絶対に行わなければならないことです．着実にマスターすることをお勧めします．"
   ]
  },
  {
   "cell_type": "markdown",
   "metadata": {},
   "source": [
    "### データ分析の原点\n",
    "これで，皆さまは日常的なオフィス業務の延長線上としてデータ分析のスタート地点にたつことができます．\n",
    "私たちは唐突的にデータサイエンスを学ぶのではなく，通常のオフィス業務にPythonとJupyter notebookを持ち込むことによって自然とレベルアップすることができました．この先には大きな可能性が待っています．\n",
    "*****"
   ]
  }
 ],
 "metadata": {
  "kernelspec": {
   "display_name": "Python 3",
   "language": "python",
   "name": "python3"
  },
  "language_info": {
   "codemirror_mode": {
    "name": "ipython",
    "version": 3
   },
   "file_extension": ".py",
   "mimetype": "text/x-python",
   "name": "python",
   "nbconvert_exporter": "python",
   "pygments_lexer": "ipython3",
   "version": "3.6.1"
  }
 },
 "nbformat": 4,
 "nbformat_minor": 2
}
