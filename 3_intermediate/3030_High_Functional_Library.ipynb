{
 "cells": [
  {
   "cell_type": "markdown",
   "metadata": {},
   "source": [
    "## 3. 高機能ライブラリー\n",
    "機械学習の先端プログラマーによってPythonが活用されるとともに，重要な高機能ライブラリーも数多く開発されました．今では，それらのライブラリーを使って高度な処理を行うことがデータサイエンティストにとってはデファクトスタンダードとなっています．\n",
    "しかも，それらのライブラリーはオープンソフトなので誰でも自由に使うことができます．\n",
    "このことが原動力となって，プログラム言語の生存競争においてPythonが完全に成功スパイラルに入ってます．\n",
    "\n",
    "私たちの目的は，それらの高機能ライブラリーを使いこなすここではなく，その便利な機能を私たちの日常の業務に転用します．\n",
    "ここまでのPython学習で使った幾つかの機能は，これから学習する高機能ライブラリーで肩代わりします．\n",
    "その代表的な高機能ライブラリーとして次の3つを使用します.\n",
    "\n",
    "1. NumPy ：高速の配列演算\n",
    "- pandas ：データフレーム\n",
    "- matplotlib ：高性能のグラフ描画機能\n",
    "\n",
    "これらのライブラリーもAnacondaに同梱されていますので，追加のインストール無しで使うことができます．\n",
    "例によって，これらのモジュールを使用するためにimport文を実行します．\n",
    "matplotlibに関しては，その中のpyplotモジュールに限定してインポートします．"
   ]
  },
  {
   "cell_type": "markdown",
   "metadata": {
    "collapsed": true
   },
   "source": [
    "```Python\n",
    "import numpy as np\n",
    "import pandas as pd\n",
    "import matplotlib.pyplot as plt\n",
    "%matplotlib inline\n",
    "```"
   ]
  },
  {
   "cell_type": "markdown",
   "metadata": {},
   "source": [
    "ここで，最後に変わった文が記載されています．\n",
    "\n",
    "> <font color=blue>%matplotlib inline</font>\n",
    "\n",
    "この文は，画像表示をJupyter notebookの中に行うことを宣言する文です．この文が無いとグラフが表示されませんので，matplotlibのimport文とはセットで記載しましょう．\n",
    "ちなみに%から始まる特殊な命令文はマジックコマンドと呼ばれるもので，Pythonの環境を制御するなどの開発支援的な役割を果たします．\n",
    "\n",
    "さて，これらの高機能ライブラリーの詳細を説明することはこの講座の範囲を超えていますので，最小限の必要な事項のみを説明します．\n",
    "私たちが必要とする機能の中心は<font color=blue>**データフレーム**</font>と言われるオブジェクトです．データフレームを使って簡単に初歩のデータ分析を熟せるようにします．"
   ]
  },
  {
   "cell_type": "markdown",
   "metadata": {},
   "source": [
    "*****\n",
    "### NumPy（高速配列計算）\n",
    "NumPyは高度科学技術計算用ライブラリーです．本格的な科学技術計算や機械学習にNumPyあるいはNumPyを利用したライブラリーが活用されています．\n",
    "ただし，私たちは高度な科学技術計算を目指すのではないので，NumPyの使い方には深入りはしません．<br>\n",
    "NumPyを使うには例によってimport文で宣言します．\n",
    "\n",
    "> <font color=green>import</font> numpy <font color=green>as</font> np\n",
    "\n",
    "NumPyの別名に「np」を使うのはPythonユーザーにとって慣例となっています．暗黙の裡に多くに人が同じ別名を使うことによって他人の書いたプログラムが読みやすくなります．"
   ]
  },
  {
   "cell_type": "code",
   "execution_count": 1,
   "metadata": {
    "collapsed": true
   },
   "outputs": [],
   "source": [
    "import numpy as np"
   ]
  },
  {
   "cell_type": "markdown",
   "metadata": {},
   "source": [
    "#### NumPyの多次元配列（ndarray）\n",
    "NumPyには独自に多次元配列のオブジェクトがあります．numpy.ndarrayオブジェクトはリスト配列に似ていますが，リストには無い機能と高速計算を行えるようにしたオブジェクトです．<br>\n",
    "numpy.ndarryオブジェクトを生成するには幾つかの方法がありますが、一つの方法としてリスト配列からnumpy.array()関数を用いて作成する方法があります．\n",
    "まず，元になるリスト配列aListを作ります．これをnumpy.array()関数に引数として渡します．生成されるオブジェクトはよく似ていますが，異なるものです．\n",
    "```Python\n",
    "myList = [[1,2],[3,4]]\n",
    "myList\n",
    "```"
   ]
  },
  {
   "cell_type": "code",
   "execution_count": 2,
   "metadata": {
    "scrolled": true
   },
   "outputs": [
    {
     "data": {
      "text/plain": [
       "[[1, 2], [3, 4]]"
      ]
     },
     "execution_count": 2,
     "metadata": {},
     "output_type": "execute_result"
    }
   ],
   "source": [
    "myList = [[1,2],[3,4]]\n",
    "myList"
   ]
  },
  {
   "cell_type": "markdown",
   "metadata": {},
   "source": [
    "この2重リスト配列をnumpy.ndarrayオブジェクトに変換します．\n",
    "```Python\n",
    "myArray = np.array(myList)\n",
    "myArray\n",
    "```"
   ]
  },
  {
   "cell_type": "code",
   "execution_count": 3,
   "metadata": {},
   "outputs": [
    {
     "data": {
      "text/plain": [
       "array([[1, 2],\n",
       "       [3, 4]])"
      ]
     },
     "execution_count": 3,
     "metadata": {},
     "output_type": "execute_result"
    }
   ],
   "source": [
    "myArray = np.array(myList)\n",
    "myArray"
   ]
  },
  {
   "cell_type": "markdown",
   "metadata": {},
   "source": [
    "ここで生成した変数myArrayのオブジェクト型を確認します．\n",
    "```Python\n",
    "type(myArray)\n",
    "```"
   ]
  },
  {
   "cell_type": "code",
   "execution_count": 4,
   "metadata": {},
   "outputs": [
    {
     "data": {
      "text/plain": [
       "numpy.ndarray"
      ]
     },
     "execution_count": 4,
     "metadata": {},
     "output_type": "execute_result"
    }
   ],
   "source": [
    "type(myArray)"
   ]
  },
  {
   "cell_type": "markdown",
   "metadata": {},
   "source": [
    "#### 配列の演算\n",
    "配列の演算についてリスト配列と比較しながら，numpy.ndarrayの特徴を見ていきましょう．\n",
    "先ずは配列の足し算を実施してみます．\n",
    "```Python\n",
    "myList + myList\n",
    "```"
   ]
  },
  {
   "cell_type": "code",
   "execution_count": 5,
   "metadata": {},
   "outputs": [
    {
     "data": {
      "text/plain": [
       "[[1, 2], [3, 4], [1, 2], [3, 4]]"
      ]
     },
     "execution_count": 5,
     "metadata": {},
     "output_type": "execute_result"
    }
   ],
   "source": [
    "myList + myList"
   ]
  },
  {
   "cell_type": "markdown",
   "metadata": {},
   "source": [
    "このように，リスト配列を加算記号「+」で繋げるとリストの結合になります．\n",
    "\n",
    "これと同様の操作をnumpy.ndarrayオブジェクトに対して行ってみましょう．\n",
    "```Python\n",
    "myArray + myArray\n",
    "```"
   ]
  },
  {
   "cell_type": "code",
   "execution_count": 6,
   "metadata": {
    "scrolled": true
   },
   "outputs": [
    {
     "data": {
      "text/plain": [
       "array([[2, 4],\n",
       "       [6, 8]])"
      ]
     },
     "execution_count": 6,
     "metadata": {},
     "output_type": "execute_result"
    }
   ],
   "source": [
    "myArray + myArray"
   ]
  },
  {
   "cell_type": "markdown",
   "metadata": {},
   "source": [
    "このようにnumpy.ndarrayオブジェクトの場合は，行列の各要素ごとの足し算になっています．\n",
    "ここに両者の使い方の違いが明確に表れています．\n",
    "\n",
    "次に数値と配列の掛け算について確認します．\n",
    "まず，リスト配列のスカラー倍を実行します．\n",
    "```Python\n",
    "2 * myList\n",
    "```"
   ]
  },
  {
   "cell_type": "code",
   "execution_count": 7,
   "metadata": {
    "scrolled": true
   },
   "outputs": [
    {
     "data": {
      "text/plain": [
       "[[1, 2], [3, 4], [1, 2], [3, 4]]"
      ]
     },
     "execution_count": 7,
     "metadata": {},
     "output_type": "execute_result"
    }
   ],
   "source": [
    "2 * myList"
   ]
  },
  {
   "cell_type": "markdown",
   "metadata": {},
   "source": [
    "このように配列に数値を掛けると，リストをその数値の分だけ繰返します．これは，リスト配列に掛ける数値は整数でなければならないことを示唆しています．試しに小数点付き数を掛けるとエラーとなります．また負の整数やゼロを掛けると空リストが返ります．\n",
    "\n",
    "それでは同様に，numpy.ndarrayオブジェクトに対して数値を掛けてみます．\n",
    "```Python\n",
    "2 * myArray\n",
    "```"
   ]
  },
  {
   "cell_type": "code",
   "execution_count": 8,
   "metadata": {
    "scrolled": true
   },
   "outputs": [
    {
     "data": {
      "text/plain": [
       "array([[2, 4],\n",
       "       [6, 8]])"
      ]
     },
     "execution_count": 8,
     "metadata": {},
     "output_type": "execute_result"
    }
   ],
   "source": [
    "2 * myArray"
   ]
  },
  {
   "cell_type": "markdown",
   "metadata": {},
   "source": [
    "numpy.ndarray配列の場合は，行列の各要素に数値が掛けられます．\n",
    "\n",
    "次に配列と配列の掛け算についてですが，リスト配列の場合は2項演算の「\\*」が定義されていません．\n",
    "numpy.ndarray配列の場合は，行列の同じ配置の要素ごとの掛け算となります．\n",
    "```Python\n",
    "myArray * myArray\n",
    "```"
   ]
  },
  {
   "cell_type": "code",
   "execution_count": 9,
   "metadata": {},
   "outputs": [
    {
     "data": {
      "text/plain": [
       "array([[ 1,  4],\n",
       "       [ 9, 16]])"
      ]
     },
     "execution_count": 9,
     "metadata": {},
     "output_type": "execute_result"
    }
   ],
   "source": [
    "myArray * myArray"
   ]
  },
  {
   "cell_type": "markdown",
   "metadata": {},
   "source": [
    "##### 行列の積\n",
    "上記の配列の要素ごと積になる演算は，行列の積としては適切ではありません．\n",
    "行列の積とは，ベクトルの一次変換を2つ続けることを意味します．したがって，一つ目の行列の行数と二つ目の行列の列数は等しいことを前提とします．\n",
    "その意味において，2行2列の行列すなわち2次正方行列の積は次式で定義されなければなりません．\n",
    "\n",
    "$\\left(\\begin{array}{cc} a_{11} & a_{12} \\\\ a_{21} & a_{22} \\\\ \\end{array} \\right)\n",
    " \\left(\\begin{array}{cc} b_{11} & b_{12} \\\\ b_{21} & b_{22} \\\\ \\end{array} \\right) =\n",
    " \\left(\\begin{array}{cc} a_{11}b_{11}+a_{12}b_{21} & a_{11}b_{12}+a_{12}b_{22} \\\\ a_{21}b_{11}+a_{22}b_{21} & a_{21}b_{12}+a_{22}b_{22} \\\\ \\end{array} \\right) $\n",
    "\n",
    "この演算はnumpy.ndarray配列においてドット積と呼ばれていてdot()メソッドによって実現します．\n",
    "AおよびBを行列とし，Aの列数とBの行数が等しい場合，ドット積は次のようになります．\n",
    "\n",
    "> A.<font color=green>dot</font>(B)\n",
    "\n",
    "それでは，先ほど定義したnumpy.ndarray配列myArrayのドット積を行ってみましょう．\n",
    "```Python\n",
    "myArray.dot(myArray)\n",
    "```"
   ]
  },
  {
   "cell_type": "code",
   "execution_count": 10,
   "metadata": {},
   "outputs": [
    {
     "data": {
      "text/plain": [
       "array([[ 7, 10],\n",
       "       [15, 22]])"
      ]
     },
     "execution_count": 10,
     "metadata": {},
     "output_type": "execute_result"
    }
   ],
   "source": [
    "myArray.dot(myArray)"
   ]
  },
  {
   "cell_type": "markdown",
   "metadata": {},
   "source": [
    "##### 逆行列\n",
    "連立一次方程式を行列の形で解く場合，逆行列を求めます．\n",
    "$A$を正方行列として$I$を単位行列としたとき，逆行列$A^{-1}$の定義は，$AA^{-1}=A^{-1}A=I$となることです．\n",
    "2次正方行列\n",
    "$A=\\left(\\begin{array}{cc} a_{11} & a_{12} \\\\ a_{21} & a_{22} \\\\ \\end{array} \\right)$\n",
    "の逆行列$A^{-1}$は次のようになります．\n",
    "\n",
    "$A^{-1}=\\left(\\begin{array}{cc} \\frac{a_{22}}{a_{11}a_{22}-a_{12}a_{21}} & \\frac{-a_{12}}{a_{11}a_{22}-a_{12}a_{21}} \\\\ \\frac{-a_{21}}{a_{11}a_{22}-a_{12}a_{21}} & \\frac{a_{11}}{a_{11}a_{22}-a_{12}a_{21}} \\\\ \\end{array} \\right)$\n",
    "\n",
    "ただし，逆行列の式を見て分かるように，行列式$det(A)=a_{11}a_{22}-a_{12}a_{21}=0$の場合は逆行列は求まりません．\n",
    "したがって，逆行列を求める前に行列式を確認します．\n",
    "\n",
    "行列式および逆行列はnumpy.linalgモジュールで提供されています。\n",
    "<font color=blue>Aを正方行列としたとき，行列式を求めるにはdet()関数に引数として行列を渡します．</font>\n",
    "\n",
    "> <font color=green>numpy.linalg.det</font>(A)\n",
    "\n",
    "ここではnumpyの別名npを使っています．\n",
    "```Python\n",
    "np.linalg.det(myArray)\n",
    "```"
   ]
  },
  {
   "cell_type": "code",
   "execution_count": 11,
   "metadata": {},
   "outputs": [
    {
     "data": {
      "text/plain": [
       "-2.0000000000000004"
      ]
     },
     "execution_count": 11,
     "metadata": {},
     "output_type": "execute_result"
    }
   ],
   "source": [
    "np.linalg.det(myArray)"
   ]
  },
  {
   "cell_type": "markdown",
   "metadata": {},
   "source": [
    "この値は論理的には-2になりますが，僅かに計算誤差が生じています．このように，コンピューターによる計算は常に計算誤差が生じる可能性があることを理解しておきましょう．\n",
    "行列式がゼロでないので逆行列を求めることができます．\n",
    "<font color=blue>正方行列Aの逆行列はinv()関数を使用します．</font>\n",
    "\n",
    "> numpy.<font color=green>linalg</font>.<font color=green>inv</font>(A)\n",
    "\n",
    "myArrayの行列式はゼロでないので，逆行列を計算してみましょう．\n",
    "```Python\n",
    "np.linalg.inv(myArray)\n",
    "```"
   ]
  },
  {
   "cell_type": "code",
   "execution_count": 12,
   "metadata": {},
   "outputs": [
    {
     "data": {
      "text/plain": [
       "array([[-2. ,  1. ],\n",
       "       [ 1.5, -0.5]])"
      ]
     },
     "execution_count": 12,
     "metadata": {},
     "output_type": "execute_result"
    }
   ],
   "source": [
    "np.linalg.inv(myArray)"
   ]
  },
  {
   "cell_type": "markdown",
   "metadata": {},
   "source": [
    "求まったAの逆行列が正しい事の確認をドット積によって確認しましょう．\n",
    "```Python\n",
    "myArray.dot(np.linalg.inv(myArray))\n",
    "```"
   ]
  },
  {
   "cell_type": "code",
   "execution_count": 13,
   "metadata": {},
   "outputs": [
    {
     "data": {
      "text/plain": [
       "array([[  1.00000000e+00,   1.11022302e-16],\n",
       "       [  0.00000000e+00,   1.00000000e+00]])"
      ]
     },
     "execution_count": 13,
     "metadata": {},
     "output_type": "execute_result"
    }
   ],
   "source": [
    "myArray.dot(np.linalg.inv(myArray))"
   ]
  },
  {
   "cell_type": "markdown",
   "metadata": {
    "collapsed": true
   },
   "source": [
    "このように僅かな計算誤差がありますが，正しく計算されていることが確認できました．"
   ]
  },
  {
   "cell_type": "markdown",
   "metadata": {},
   "source": [
    "さてNumPyの例を見てきましたが，普段のオフィス業務においてこのような計算が必要となることは殆どないでしょう．\n",
    "従いまして，この部分についてはデータサイエンスの入口というような位置付けとお考え下さい．\n",
    "*****"
   ]
  }
 ],
 "metadata": {
  "kernelspec": {
   "display_name": "Python 3",
   "language": "python",
   "name": "python3"
  },
  "language_info": {
   "codemirror_mode": {
    "name": "ipython",
    "version": 3
   },
   "file_extension": ".py",
   "mimetype": "text/x-python",
   "name": "python",
   "nbconvert_exporter": "python",
   "pygments_lexer": "ipython3",
   "version": "3.6.1"
  }
 },
 "nbformat": 4,
 "nbformat_minor": 2
}
