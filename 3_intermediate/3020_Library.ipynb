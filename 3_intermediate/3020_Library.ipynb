{
 "cells": [
  {
   "cell_type": "markdown",
   "metadata": {},
   "source": [
    "## 2. ライブラリーの利用\n",
    "ここまでの課題ではPythonの基本機能だけを使っていました．しかし，Pythonがデータサイエンスのデファクトスタンダードとして使われている理由の一つとして充実したライブラリー群があります．ライブラリーとは誰かが作ってくれた汎用性の高いプログラムのパッケージです．一般にパッケージを使用する場合は事前にインストールする必要がありますが，重要なライブラリーの多くはAnacondaに標準で装備されていて，実行環境に取り込むことによって直ぐ使える状態にあります．\n",
    "\n",
    "私たちは，ライブラリーによって提供されるモジュールを使うことによって，自ら複雑なプログラムを書かずとも複雑な処理を遂行することができます．\n",
    "ここでは，特に利用頻度の高い標準ライブラリーについて解説します．\n",
    "\n",
    "- 数学（math）\n",
    "- 日時（datetime）\n",
    "- 乱数（random）\n",
    "- オペレーティング環境（os）\n",
    "- CSVファイル（csv）\n"
   ]
  },
  {
   "cell_type": "markdown",
   "metadata": {},
   "source": [
    "### モジュールの搬入\n",
    "ライブラリーと言っても，その提供形態によって利用するまでの作法に違いがあります．\n",
    "ライブラリーはある機能に特化したオブジェクトや関数などの集まりを指していますが，それらはモジュールという形で提供されます．\n",
    "\n",
    "この講座ではパッケージAnacondaによるPythonのセットアップを行いましたが，AnacondaにはPythonの標準ライブラリーの他にも有益なモジュールを同梱してあります．Python標準ライブラリーやAnacondaに同梱されているラモジュールは<font color=blue>**import文**</font>によって宣言することにより使用可能となります．\n",
    "\n",
    "Anacondaに同梱されているモジュール以外にも多くのモジュールが第三者によって提供されています．それらのモジュールを使用するにはインストールが必要となります．インストールしてしまえば，import文によって使用することができます．"
   ]
  },
  {
   "cell_type": "markdown",
   "metadata": {},
   "source": [
    "### 数学モジュール（math）\n",
    "ここでは，標準ライブラリーの一つであるmathライブラリーを用いて標準ライブラリーの使い方を説明します．\n",
    "mathモジュールには数学で使用する関数などが含まれます．mathモジュールに含まれる幾つかの要素を使ってみましょう．\n",
    "- 平方根：sqrt()\n",
    "- 三角関数：sin(), cos(), tan()\n",
    "- 指数関数：exp()\n",
    "- 対数関数：log()\n",
    "- 円周率　：pi\n",
    "- ネイピア数：e\n",
    "\n",
    "その他にも多くの関数がmathモジュールによって提供されていますが，何があるかを知るにはPython標準ライブラリーのドキュメントを参照してください．"
   ]
  },
  {
   "cell_type": "markdown",
   "metadata": {},
   "source": [
    "#### import文\n",
    "import文には幾つかの構文があります．最もシンプルな表現は次のようになっています．\n",
    "\n",
    "> <font color=green>import</font> <font color=blue>*module_name*</font>"
   ]
  },
  {
   "cell_type": "markdown",
   "metadata": {},
   "source": [
    "それではmathモジュールを搬入して、$\\cos(\\pi)=-1$を求めてみましょう．\n",
    "```Python\n",
    "import math\n",
    "math.cos(math.pi)\n",
    "```"
   ]
  },
  {
   "cell_type": "code",
   "execution_count": 1,
   "metadata": {},
   "outputs": [
    {
     "data": {
      "text/plain": [
       "-1.0"
      ]
     },
     "execution_count": 1,
     "metadata": {},
     "output_type": "execute_result"
    }
   ],
   "source": [
    "import math\n",
    "math.cos(math.pi)"
   ]
  },
  {
   "cell_type": "markdown",
   "metadata": {},
   "source": [
    "このように，提供されている関数などを使うときに関数の頭に必ず「math.」を付ける必要があります．mathモジュールは名前が短いので負担は少ないですが，名前の長いモジュールの場合短縮した名称をモジュールに付ける方法があります．\n",
    "\n",
    "> <font color=green>import</font> <font color=blue>*module_name*</font> <font color=green>as</font> <font color=blue>*alternative_name*</font>\n",
    "\n",
    "その例を見てみましょう．\n",
    "```Python\n",
    "import math as ma\n",
    "ma.cos(ma.pi)\n",
    "```"
   ]
  },
  {
   "cell_type": "code",
   "execution_count": 2,
   "metadata": {},
   "outputs": [
    {
     "data": {
      "text/plain": [
       "-1.0"
      ]
     },
     "execution_count": 2,
     "metadata": {},
     "output_type": "execute_result"
    }
   ],
   "source": [
    "import math as ma\n",
    "ma.cos(ma.pi)"
   ]
  },
  {
   "cell_type": "markdown",
   "metadata": {},
   "source": [
    "#### from import文\n",
    "mathモジュールにmaという別名を付けましたが，まだ関数の頭には「別名.」を付ける必要がありました．\n",
    "そこで，それらを付けたくない場合にもっと限定的な搬入を行う構文があります．\n",
    "\n",
    "> <font color=green>from</font> <font color=blue>*module_name*</font> <font color=green>import</font> <font color=blue>*item_names*</font>\n"
   ]
  },
  {
   "cell_type": "markdown",
   "metadata": {},
   "source": [
    "スリムになった$\\cos(\\pi)$の呼出しを見てみましょう．\n",
    "```Python\n",
    "from math import cos, pi\n",
    "cos(pi)\n",
    "```"
   ]
  },
  {
   "cell_type": "code",
   "execution_count": 3,
   "metadata": {},
   "outputs": [
    {
     "data": {
      "text/plain": [
       "-1.0"
      ]
     },
     "execution_count": 3,
     "metadata": {},
     "output_type": "execute_result"
    }
   ],
   "source": [
    "from math import cos, pi\n",
    "cos(pi)"
   ]
  },
  {
   "cell_type": "markdown",
   "metadata": {},
   "source": [
    "これでスッキリとした式を記述できます．\n",
    "また多くの関数を使う場合，全て記述することは大変ですのでitem_namesに「\\*」を記述することにより自由に使うことが可能となります．\n",
    "次の例では，$\\sqrt{4}, \\exp(1), \\log(e), \\sin({\\pi}/2), \\cos({\\pi}/2)$を計算します．\n",
    "```Python\n",
    "from math import *\n",
    "[sqrt(4), exp(1), log(e), sin(pi/2), cos(pi/2)]\n",
    "```"
   ]
  },
  {
   "cell_type": "code",
   "execution_count": 4,
   "metadata": {},
   "outputs": [
    {
     "data": {
      "text/plain": [
       "[2.0, 2.718281828459045, 1.0, 1.0, 6.123233995736766e-17]"
      ]
     },
     "execution_count": 4,
     "metadata": {},
     "output_type": "execute_result"
    }
   ],
   "source": [
    "from math import *\n",
    "[sqrt(4), exp(1), log(e), sin(pi/2), cos(pi/2)]"
   ]
  },
  {
   "cell_type": "markdown",
   "metadata": {},
   "source": [
    "ただし，使用しない関数までむやみにインポートすることは避けるべきです."
   ]
  },
  {
   "cell_type": "markdown",
   "metadata": {
    "collapsed": true
   },
   "source": [
    "この他の標準ライブラリーについても，import文を使って利用方法を学習していきます．\n",
    "*****"
   ]
  }
 ],
 "metadata": {
  "kernelspec": {
   "display_name": "Python 3",
   "language": "python",
   "name": "python3"
  },
  "language_info": {
   "codemirror_mode": {
    "name": "ipython",
    "version": 3
   },
   "file_extension": ".py",
   "mimetype": "text/x-python",
   "name": "python",
   "nbconvert_exporter": "python",
   "pygments_lexer": "ipython3",
   "version": "3.6.1"
  }
 },
 "nbformat": 4,
 "nbformat_minor": 2
}
