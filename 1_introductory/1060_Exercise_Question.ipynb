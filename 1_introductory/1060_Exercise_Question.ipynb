{
 "cells": [
  {
   "cell_type": "markdown",
   "metadata": {},
   "source": [
    "## 6. 演習問題\n",
    "これまで，**社会人のためのPython活用術入門**を学習してきましたが，最後の習得したことの定着を確認するための演習問題を行います．<br>\n",
    "ここではJupyter notebookを導入して使える環境があることを前提とします．"
   ]
  },
  {
   "cell_type": "markdown",
   "metadata": {},
   "source": [
    "### 課題-1: Jupyter notebookの使い方\n",
    "Jupyter notebookの使い方を確認する課題です．\n",
    "下記に記載されている内容について，実際にJupyter notebookを使って実施してください．\n",
    "\n",
    "1. Jupyter notebookを開く．\n",
    "- ホームディレクトリーの下に新しいホルダーを作成し，「Exercise_for_introductory_cource」という名称を付ける．\n",
    "- Exercise_for_introductory_courceフォルダーに移動する．\n",
    "- そのフォルダーにて，Python用の新しいnotebookファイルを作成し，「exercise01」という名称を付ける．\n",
    "\n",
    "この後の課題については，ここで作成したexercise01.ipynb内で実施してください．\n",
    "*****"
   ]
  },
  {
   "cell_type": "markdown",
   "metadata": {},
   "source": [
    "### 課題-2: 簡単な計算\n",
    "Jupyter notebookのCodeセルを使って，下記の計算を実施してください．\n",
    "ただし，問題ごとに個別のCodeセルに分けて実施してください．\n",
    "\n",
    "- $12+34$\n",
    "- $77-99$\n",
    "- $63\\times 7$\n",
    "- $72\\div 6$\n",
    "- $3^4$\n",
    "- $\\sqrt{5}$\n",
    "- $52\\div 5$の割り切った値（実数）\n",
    "- $52\\div 5$の商（整数）\n",
    "- $52\\div 5$の余り（整数）\n",
    "\n",
    "*****"
   ]
  },
  {
   "cell_type": "markdown",
   "metadata": {},
   "source": [
    "### 課題-3: 複雑な計算\n",
    "ここでも計算を行いますが，若干複雑な式を計算します．ここでも，各問題を個別のCodeセルに分けて実施してください．\n",
    "\n",
    "- $(4+11)\\times (1.5-0.38)$\n",
    "- $\\frac{18+7}{-3-7}$\n",
    "- $3^{12}\\div 3^9$\n",
    "- $\\sqrt{1+2+3+4}$\n",
    "- $\\yen 1,250+\\yen 22,000$\n",
    "- 12億$\\div$百万\n",
    "- 1から5までの自然数を足して，合計値を5で割る\n",
    "\n",
    "*****"
   ]
  },
  {
   "cell_type": "markdown",
   "metadata": {},
   "source": [
    "### 課題-4: 変数を使った計算\n",
    "この課題では，全ての問題で変数を使ってください．変数名については，意味がある場合は適切な名称を設定してください．意味のない変数については$\\,x\\,$や$\\,y\\,$などを使用して構いません．\n",
    "\n",
    "(1) $x=28$としたとき$x^2-5x+6$を計算せよ．<br>\n",
    "\n",
    "(2) この問題は3つのCodeセルを使って実施せよ．<br>&nbsp;&nbsp;&nbsp;&nbsp;\n",
    "    (a) 80円のトマトを5個，160年のキャベツを1個，40円のジャガイモを6個購入します．合計金額を計算せよ．<br>&nbsp;&nbsp;&nbsp;&nbsp;\n",
    "    (b) 消費税を8%とした場合の支払金額を計算せよ．<br>&nbsp;&nbsp;&nbsp;&nbsp;\n",
    "    (c) 消費税を10%とした場合の支払金額を計算せよ．\n",
    "    \n",
    "(3) マラソンにおいて2時間20分45秒の記録で走りました．\n",
    "    (a) この記録を秒数で示せ．\n",
    "    (b) この記録を分数で示せ．\n",
    "\n",
    "*****"
   ]
  },
  {
   "cell_type": "markdown",
   "metadata": {},
   "source": [
    "### 課題-5: Markdownの活用\n",
    "課題-2から課題-4までを記載したnotebookにおいて，Markdownセルを挟んで問題と解答の説明を記載せよ．\n",
    "*****"
   ]
  }
 ],
 "metadata": {
  "kernelspec": {
   "display_name": "Python 3",
   "language": "python",
   "name": "python3"
  },
  "language_info": {
   "codemirror_mode": {
    "name": "ipython",
    "version": 3
   },
   "file_extension": ".py",
   "mimetype": "text/x-python",
   "name": "python",
   "nbconvert_exporter": "python",
   "pygments_lexer": "ipython3",
   "version": "3.6.1"
  }
 },
 "nbformat": 4,
 "nbformat_minor": 2
}
