{
 "cells": [
  {
   "cell_type": "markdown",
   "metadata": {},
   "source": [
    "## 4. 電卓代わりの計算ツール\n",
    "日常のオフィス業務においてJupyter notebookを常時使用している状態を念頭に置いています．そのためには簡単に使えて便利であることを体感することが大事です．そういう観点で，最初に取り組む使い方は「電卓」です．<br>\n",
    "Pythonを使うというとプログラムを書くことと思ってしまいますが，プログラミングに行く前にもっと単純だが役に立つ使い方があります．\n",
    "プログラミングの経験の無い方は，プログラミング言語であるPythonの活用というと，どうしてもプログラミングの壁にぶち当たってしまいます．\n",
    "その障壁を乗り越えるためにも，先ずはプログラミングを前提としない使い方からアプローチしていきます．\n",
    "\n",
    "一般的な電卓の機能としては，四則演算と平方根ぐらいです．関数電卓だと数学的関数計算もできますが，まずは単純な電卓の代わりとしてJupyter notebookを使います．\n",
    "\n",
    "### 四則演算\n",
    "四則演算は，足し算・引き算・掛け算・割り算ですが，Pythonではどのように記述するか確認しましょう．\n",
    "\n",
    "\n",
    "| 演算   | 数学的記法  | Python表記法 | 　　　計算例　　　  |\n",
    "| :---:  | :---:       | :---:        | :-----------------  |\n",
    "| 足し算 | $a+b$       | $a+b$        | $2+3=5$             |\n",
    "| 引き算 | $a-b$       | $a-b$        | $2-3=-1$            |\n",
    "| 掛け算 | $a\\times b$ | $a*b$        | $2\\times 3=6$       |\n",
    "| 割り算 | $a\\div b$   | $a/b$        | $2\\div 3=0.666...$  |\n",
    "\n",
    "それでは四則演算を順番にCodeセルで実施してみましょう．"
   ]
  },
  {
   "cell_type": "markdown",
   "metadata": {},
   "source": [
    "*****\n",
    "##### 足し算\n",
    "足し算の練習です．次の通りCodeセルに入力して実行ボタンをクリックしてください．\n",
    "```Python\n",
    "1+2\n",
    "```"
   ]
  },
  {
   "cell_type": "code",
   "execution_count": 1,
   "metadata": {},
   "outputs": [
    {
     "data": {
      "text/plain": [
       "3"
      ]
     },
     "execution_count": 1,
     "metadata": {},
     "output_type": "execute_result"
    }
   ],
   "source": [
    "1+2"
   ]
  },
  {
   "cell_type": "markdown",
   "metadata": {},
   "source": [
    "入力セルの下に左端のOut[ ]とともに計算結果が表示されます．この部分を出力セルといいます．<br>\n",
    "式を書くときに見やすくするために式の中ににスペースを挟んでも大丈夫です．\n",
    "```Python\n",
    "1 + 2\n",
    "```"
   ]
  },
  {
   "cell_type": "code",
   "execution_count": 2,
   "metadata": {},
   "outputs": [
    {
     "data": {
      "text/plain": [
       "3"
      ]
     },
     "execution_count": 2,
     "metadata": {},
     "output_type": "execute_result"
    }
   ],
   "source": [
    "1 + 2"
   ]
  },
  {
   "cell_type": "markdown",
   "metadata": {},
   "source": [
    "数字を記入するときに，整数か小数点付き数か気にする必要はありません．計算式の中に小数点付き数があると，結果も小数点付き数となります．\n",
    "```Python\n",
    "1 + 2.0\n",
    "```"
   ]
  },
  {
   "cell_type": "code",
   "execution_count": 3,
   "metadata": {},
   "outputs": [
    {
     "data": {
      "text/plain": [
       "3.0"
      ]
     },
     "execution_count": 3,
     "metadata": {},
     "output_type": "execute_result"
    }
   ],
   "source": [
    "1 + 2.0"
   ]
  },
  {
   "cell_type": "markdown",
   "metadata": {},
   "source": [
    "桁数の大きな数を扱う場合に３桁ごとにカンマで区切った数字を記載すると，Pythonでは配列として扱われてしまいます．<br>\n",
    "４桁の数字の足し算の例として$1,000+2,000$を行います．この計算式をカンマ有りで入力してみます．\n",
    "```Python\n",
    "1,000 + 2,000\n",
    "```"
   ]
  },
  {
   "cell_type": "code",
   "execution_count": 4,
   "metadata": {},
   "outputs": [
    {
     "data": {
      "text/plain": [
       "(1, 2, 0)"
      ]
     },
     "execution_count": 4,
     "metadata": {},
     "output_type": "execute_result"
    }
   ],
   "source": [
    "1,000 + 2,000"
   ]
  },
  {
   "cell_type": "markdown",
   "metadata": {},
   "source": [
    "計算結果は(1,2,0)という配列になってしまいました．この式をPythonは次のように解釈しています．<br>\n",
    "```Python\n",
    "1,000 + 2,000 = (1, 000+2, 000)) = (1, (0+2), 0) = (1, 2, 0)\n",
    "```\n",
    "すなわち，3つの数値がカンマで区切られて並べられているものと解釈されます．ここで，000は0として扱われています．　<br>\n",
    "0から始まる数字でも計算してくれそうに思われるので，同じようなケースとして10+00を実行してみます．\n",
    "```Python\n",
    "10 + 00\n",
    "```"
   ]
  },
  {
   "cell_type": "code",
   "execution_count": 5,
   "metadata": {},
   "outputs": [
    {
     "data": {
      "text/plain": [
       "10"
      ]
     },
     "execution_count": 5,
     "metadata": {},
     "output_type": "execute_result"
    }
   ],
   "source": [
    "10 + 00"
   ]
  },
  {
   "cell_type": "markdown",
   "metadata": {},
   "source": [
    "0から始まる文字を数値として扱ってくれそうなので，確認のためにもう一つ計算を行ってみます．今度は\n",
    "```Python\n",
    "10 + 02\n",
    "```\n",
    "を実行します．すると，次のようなエラーが発生します．\n",
    "\n",
    "```\n",
    "  File \"<ipython-input-6-b189316209ef>\", line 1\n",
    "    10 + 02\n",
    "          ^\n",
    "SyntaxError: invalid token\n",
    "```\n",
    "\n",
    "今度は02が数値として認識されずエラーとなってしまいます．数字を書くときに全体の見栄えを揃えるために頭に0を付けて文字の長さを調整することがありますが，このようなトラブルがあることも理解しましょう．"
   ]
  },
  {
   "cell_type": "markdown",
   "metadata": {},
   "source": [
    "桁数が大きな数値の表記法として指数表記があります．これは$a\\dot\\times 10^b$という形式での表現となります．例として百万の表記を見てみましょう．\n",
    "英数字では$1,000,000=1\\times 10^6$ですが，Pythonでは下記のように記述します．\n",
    "```Python\n",
    "1e6\n",
    "```\n",
    "これは「1掛ける10の6乗」と読めます．ここでeは大文字Eでも構いません．<br>\n",
    "先ほどカンマでトラブルを起こした式$1,000+2,000$を指数表記で実施してみます．\n",
    "```Python\n",
    "1e3 + 2e3\n",
    "```"
   ]
  },
  {
   "cell_type": "code",
   "execution_count": 6,
   "metadata": {},
   "outputs": [
    {
     "data": {
      "text/plain": [
       "3000.0"
      ]
     },
     "execution_count": 6,
     "metadata": {},
     "output_type": "execute_result"
    }
   ],
   "source": [
    "1e3 + 2e3"
   ]
  },
  {
   "cell_type": "markdown",
   "metadata": {},
   "source": [
    "小数点以下の小さな数を表現する場合は指数部分の数値にマイナスの数字を入れます．例えば$0.001=1\\times 10^{-2}$なので\n",
    "```Python\n",
    "1e-2\n",
    "```\n",
    "と記載します．以下のCodeセルで確認しましょう．"
   ]
  },
  {
   "cell_type": "code",
   "execution_count": 7,
   "metadata": {},
   "outputs": [
    {
     "data": {
      "text/plain": [
       "0.01"
      ]
     },
     "execution_count": 7,
     "metadata": {},
     "output_type": "execute_result"
    }
   ],
   "source": [
    "1e-2"
   ]
  },
  {
   "cell_type": "markdown",
   "metadata": {},
   "source": [
    "ここに示した数値の表記法の注意事項は，足し算だけでなくPython全体で通用することですので，しっかり理解してください．"
   ]
  },
  {
   "cell_type": "markdown",
   "metadata": {},
   "source": [
    "*****\n",
    "##### 引き算\n",
    "次は引き算について試してみましょう．Codeセルに次のように入れて実行します．\n",
    "```Python\n",
    "5-3\n",
    "```"
   ]
  },
  {
   "cell_type": "code",
   "execution_count": 8,
   "metadata": {},
   "outputs": [
    {
     "data": {
      "text/plain": [
       "2"
      ]
     },
     "execution_count": 8,
     "metadata": {},
     "output_type": "execute_result"
    }
   ],
   "source": [
    "5-3"
   ]
  },
  {
   "cell_type": "markdown",
   "metadata": {},
   "source": [
    "期待通りの結果になりました．\n",
    "次に負の数を引いてみましょう．\n",
    "```Python\n",
    "3--4\n",
    "```"
   ]
  },
  {
   "cell_type": "code",
   "execution_count": 9,
   "metadata": {},
   "outputs": [
    {
     "data": {
      "text/plain": [
       "7"
      ]
     },
     "execution_count": 9,
     "metadata": {},
     "output_type": "execute_result"
    }
   ],
   "source": [
    "3--4"
   ]
  },
  {
   "cell_type": "markdown",
   "metadata": {},
   "source": [
    "この計算は3から負の数である-4を引いたので結果は7になります．正しい結果となっていますが，式が見にくくなっています．\n",
    "見易さを考慮するならば，次のどちらかの書き方が良いでしょう．\n",
    "```Python\n",
    "3 - -4\n",
    "3-(-4)\n",
    "```\n",
    "最初の書き方は，演算子のマイナスの周りには空白を入れて，符号のマイナスと数値は離さないで記載する方法です．2番目の方法は，括弧を使って明確な指示を出しています．この方法だと手間が増えますが，曖昧性が除去できます．\n",
    "```Python\n",
    "3-(-4)\n",
    "```"
   ]
  },
  {
   "cell_type": "code",
   "execution_count": 10,
   "metadata": {},
   "outputs": [
    {
     "data": {
      "text/plain": [
       "7"
      ]
     },
     "execution_count": 10,
     "metadata": {},
     "output_type": "execute_result"
    }
   ],
   "source": [
    "3-(-4)"
   ]
  },
  {
   "cell_type": "markdown",
   "metadata": {},
   "source": [
    "ちなみに，\n",
    "```Python\n",
    "3---4\n",
    "```\n",
    "を計算すると結果は-1になります．数学の作法としては馴染まない表現ですが，マイナス記号が符号反転の一項演算子として定義されているのでそのような振舞いとなります．すなわち，$3---4=3--(-4)=3-(-(-4))=3-4=-1$と解釈されます．"
   ]
  },
  {
   "cell_type": "markdown",
   "metadata": {},
   "source": [
    "*****\n",
    "##### 掛け算\n",
    "掛け算はプログラム言語が発明された時からアスタリスク記号「\\*」を使ってきました．\n",
    "数学では$a\\times b$とするか$a \\cdot b$と記載しますが，Pythonでは$a\\ast b$とします．\n",
    "次の計算を行って動作を確認します．\n",
    "```Python\n",
    "2*3\n",
    "```"
   ]
  },
  {
   "cell_type": "code",
   "execution_count": 11,
   "metadata": {},
   "outputs": [
    {
     "data": {
      "text/plain": [
       "6"
      ]
     },
     "execution_count": 11,
     "metadata": {},
     "output_type": "execute_result"
    }
   ],
   "source": [
    "2*3"
   ]
  },
  {
   "cell_type": "markdown",
   "metadata": {},
   "source": [
    "負の数の掛け算も行ってみましょう．見やすくするためにアスタリスクの前後に空白文字を挟みます．\n",
    "```Python\n",
    "2 * -3\n",
    "```"
   ]
  },
  {
   "cell_type": "code",
   "execution_count": 12,
   "metadata": {},
   "outputs": [
    {
     "data": {
      "text/plain": [
       "-6"
      ]
     },
     "execution_count": 12,
     "metadata": {},
     "output_type": "execute_result"
    }
   ],
   "source": [
    "2 * -3"
   ]
  },
  {
   "cell_type": "markdown",
   "metadata": {},
   "source": [
    "*****\n",
    "##### 割り算\n",
    "割り算の演算子についても他の言語と同じくスラッシュ「/」を用います．\n",
    "例として$3\\div 2$を計算してみます．次のように入力して実行キーをクリックします．\n",
    "```Python\n",
    "3/2\n",
    "```"
   ]
  },
  {
   "cell_type": "code",
   "execution_count": 13,
   "metadata": {},
   "outputs": [
    {
     "data": {
      "text/plain": [
       "1.5"
      ]
     },
     "execution_count": 13,
     "metadata": {},
     "output_type": "execute_result"
    }
   ],
   "source": [
    "3/2"
   ]
  },
  {
   "cell_type": "markdown",
   "metadata": {},
   "source": [
    "このように整数どうしの計算でも結果が有理数ならば小数点付き数で答えが返ります．\n",
    "もう一つ別の計算してみます．\n",
    "```Python\n",
    "2 / -3\n",
    "```"
   ]
  },
  {
   "cell_type": "code",
   "execution_count": 14,
   "metadata": {},
   "outputs": [
    {
     "data": {
      "text/plain": [
       "-0.6666666666666666"
      ]
     },
     "execution_count": 14,
     "metadata": {},
     "output_type": "execute_result"
    }
   ],
   "source": [
    "2 / -3"
   ]
  },
  {
   "cell_type": "markdown",
   "metadata": {},
   "source": [
    "この場合，割り切れないので小数点以下6が無限に続くのですが，このように途中で打ち切られます．\n",
    "これはデータの持つ精度に限界があり，特に割り算で計算誤差が発生する可能性があります．\n",
    "\n",
    "割り算では，計算誤差の他にゼロで割るエラーにも気を付ける必要があります．ここでは割る数を明示的に与えているので0でない数にできますが，変数を使いだすと変数の状態によってはゼロで割る可能性が出てきます．\n",
    "小さくてもゼロでない数を扱っていても，次のように精度の問題でゼロと見なされてしまいます．\n",
    "```Python\n",
    "1e-324\n",
    "```"
   ]
  },
  {
   "cell_type": "code",
   "execution_count": 15,
   "metadata": {},
   "outputs": [
    {
     "data": {
      "text/plain": [
       "0.0"
      ]
     },
     "execution_count": 15,
     "metadata": {},
     "output_type": "execute_result"
    }
   ],
   "source": [
    "1e-324"
   ]
  },
  {
   "cell_type": "markdown",
   "metadata": {},
   "source": [
    "このように，非常に小さい数になりそうなケースに気を付けましょう．\n",
    "\n",
    "これでPythonで四則演算を行えるようになりました．Jupyter notebookを使用すると，これまで計算した結果が文章として残っています．電卓での計算は一過性なので，タイプミスがあってもやり過ごす危険があります．さらに電卓での検証では，同じ計算を何度も繰り返す作業になりますが，Jupyter notebookでっは文章の確認作業となり，作業効率に大きな差が出ます．\n",
    "\n",
    "これからのオフィスワークでは常にJupyter notebookを立ち上げておいて，ちょっとした計算でもログを残すようにしましょう."
   ]
  },
  {
   "cell_type": "markdown",
   "metadata": {},
   "source": [
    "*****\n",
    "### 冪乗（累乗）\n",
    "同じ数を繰り返し掛ける演算を累乗と言います．累乗は$a^b$のように記述しますが，$b$を自然数から実数へ拡張した演算を冪乗と言います．\n",
    "次の式は累乗の例となります．\n",
    "\n",
    "> $a^5=a\\times a\\times a\\times a\\times a$\n",
    "\n",
    "このように，まず$n$が自然数の場合の$a^n$が定義できます．\n",
    "次に$a^n$となる$x$を$a$のn乗根として$a^{1/n}$が定義されます．\n",
    "さらに$a^m$のn乗根を$(a^m)^{1/n}=a^{m/n}$と表すことから，正の有理数$p$に対して$a^p$を定義することができます．これを連続的に極限を取ることによって正の実数$r$に対して $a^r$が定義されます．\n",
    "\n",
    "Pythonでは冪乗$a^b$を次のように記述します．\n",
    "```Python\n",
    "a**b\n",
    "```\n",
    "それでは，幾つかの例で確認しましょう．\n",
    "\n",
    "> $2^2=4$<br>\n",
    "> $2^{-2}=1/4$<br>\n",
    "> $2^{1/2}=\\sqrt{2}$<br>\n",
    "> $(-2)^{1/2}=\\sqrt{2}\\cdot i$\n",
    "\n",
    "それぞれ，次にように入力します．\n",
    "```Python\n",
    "2**2\n",
    "2**(-2)\n",
    "2**(1/2)\n",
    "(-2)**(1/2)\n",
    "```"
   ]
  },
  {
   "cell_type": "code",
   "execution_count": 16,
   "metadata": {},
   "outputs": [
    {
     "data": {
      "text/plain": [
       "4"
      ]
     },
     "execution_count": 16,
     "metadata": {},
     "output_type": "execute_result"
    }
   ],
   "source": [
    "2**2"
   ]
  },
  {
   "cell_type": "code",
   "execution_count": 17,
   "metadata": {},
   "outputs": [
    {
     "data": {
      "text/plain": [
       "0.25"
      ]
     },
     "execution_count": 17,
     "metadata": {},
     "output_type": "execute_result"
    }
   ],
   "source": [
    "2**(-2)"
   ]
  },
  {
   "cell_type": "code",
   "execution_count": 18,
   "metadata": {},
   "outputs": [
    {
     "data": {
      "text/plain": [
       "1.4142135623730951"
      ]
     },
     "execution_count": 18,
     "metadata": {},
     "output_type": "execute_result"
    }
   ],
   "source": [
    "2**(1/2)"
   ]
  },
  {
   "cell_type": "code",
   "execution_count": 19,
   "metadata": {},
   "outputs": [
    {
     "data": {
      "text/plain": [
       "(8.659560562354934e-17+1.4142135623730951j)"
      ]
     },
     "execution_count": 19,
     "metadata": {},
     "output_type": "execute_result"
    }
   ],
   "source": [
    "(-2)**(1/2)"
   ]
  },
  {
   "cell_type": "markdown",
   "metadata": {
    "collapsed": true
   },
   "source": [
    "３番目の例は平方根の計算になっています．すなわち$\\sqrt{a}$はa\\*\\*(1/2)で計算できます．ちなみに平方根を求める関数も存在します．関数で記述する方が記入間違いが起こりにくいので，実用上は関数で計算します．\n",
    "\n",
    "４番目の例ですが，正確には$\\sqrt{-2}=\\sqrt{2}\\times i$となりますが，この計算結果は$8.66\\times 10^{-17}+1.41\\times i$となっています．この実数部はゼロのはずですが計算誤差が出ています．また虚数部の表現ですが，虚数単位$i$が$j$で表されます．\n",
    "\n",
    "さて，数値には整数のint型と小数点付き数のfloat型がありましたが，複素数はcomplex型となります．type()関数で確認しておきましょう．\n",
    "```Python\n",
    "type(1+1j)\n",
    "```"
   ]
  },
  {
   "cell_type": "code",
   "execution_count": 20,
   "metadata": {},
   "outputs": [
    {
     "data": {
      "text/plain": [
       "complex"
      ]
     },
     "execution_count": 20,
     "metadata": {},
     "output_type": "execute_result"
    }
   ],
   "source": [
    "type(1+1j)"
   ]
  },
  {
   "cell_type": "markdown",
   "metadata": {},
   "source": [
    "*****\n",
    "### 複雑な計算式\n",
    "ここまでは単純な四則計算を行いましたが，プログラム言語なので複雑な計算式を1行で計算することもできます．<br>\n",
    "例えば，3名で複数の料理をシェアしたので，それを等分に分けることにします．\n",
    "\n",
    "| 品目 | 単価 | 個数 |\n",
    "| :---: | :---: | :---: |\n",
    "| 枝豆   | 250 | 4 |\n",
    "| サラダ | 340 | 1 |\n",
    "| 唐揚げ | 420 | 2 |\n",
    "| 餃子   | 440 | 3 |\n",
    "\n",
    "合計金額に8%の税金がかかるものとします．合計金額を3等分します．\n",
    "```Python\n",
    "(250*4 + 340*1 + 420*2 + 440*3)*1.08/3\n",
    "```"
   ]
  },
  {
   "cell_type": "code",
   "execution_count": 21,
   "metadata": {},
   "outputs": [
    {
     "data": {
      "text/plain": [
       "1260.0000000000002"
      ]
     },
     "execution_count": 21,
     "metadata": {},
     "output_type": "execute_result"
    }
   ],
   "source": [
    "(250*4 + 340*1 + 420*2 + 440*3)*1.08/3"
   ]
  },
  {
   "cell_type": "markdown",
   "metadata": {
    "collapsed": true
   },
   "source": [
    "と言うことで一人当たり1260円の支払いとなります．\n",
    "現実的にはお店側から合計金額の3780円が告げられるので，このような計算をする必要はありませんが，分かりやすい例として挙げました．"
   ]
  },
  {
   "cell_type": "markdown",
   "metadata": {},
   "source": [
    "##### 演算の優先順位\n",
    "複雑な計算式を入力する場合は，計算の優先順位を知っている必要があります．ここで計算の優先順位について再確認しておきましょう．\n",
    "\n",
    "| 優先順位 | 演算種類 | 　　　例　　　 | \n",
    "| :---: | :--- | :---: |\n",
    "| 1 | 括弧内 ( ) | |\n",
    "| 2 | 冪乗，冪根 | $a^b,a^{1/b}$ |\n",
    "| 3 | 掛け算，割り算 | $a\\times b, a\\div b$ |\n",
    "| 4 | 足し算，引き算 | $a+b, a-b$ |\n",
    "\n",
    "簡単な例として\n",
    "\n",
    "> $3+2\\times 5=13$<br>\n",
    "> $(3+2)\\times 5=25$\n",
    "\n",
    "について確認します．\n",
    "```Python\n",
    "3+2*5\n",
    "(3+2)*5\n",
    "```"
   ]
  },
  {
   "cell_type": "code",
   "execution_count": 22,
   "metadata": {},
   "outputs": [
    {
     "data": {
      "text/plain": [
       "13"
      ]
     },
     "execution_count": 22,
     "metadata": {},
     "output_type": "execute_result"
    }
   ],
   "source": [
    "3+2*5"
   ]
  },
  {
   "cell_type": "code",
   "execution_count": 23,
   "metadata": {},
   "outputs": [
    {
     "data": {
      "text/plain": [
       "25"
      ]
     },
     "execution_count": 23,
     "metadata": {},
     "output_type": "execute_result"
    }
   ],
   "source": [
    "(3+2)*5"
   ]
  },
  {
   "cell_type": "markdown",
   "metadata": {},
   "source": [
    "別な例を見てみましょう．今100万円の資金があり年利2％の10年物の社債を購入したとすると，10年後は幾らになるでしょうか．<br>\n",
    "複利計算なので計算式は，\n",
    "\n",
    "> $元金\\times (1+年利)^{年数}$\n",
    "\n",
    "となります．\n",
    "```Python\n",
    "1000000 * (1+0.02)**(10)\n",
    "```"
   ]
  },
  {
   "cell_type": "code",
   "execution_count": 24,
   "metadata": {},
   "outputs": [
    {
     "data": {
      "text/plain": [
       "1218994.4199947573"
      ]
     },
     "execution_count": 24,
     "metadata": {},
     "output_type": "execute_result"
    }
   ],
   "source": [
    "1000000 * (1+0.02)**(10)"
   ]
  },
  {
   "cell_type": "markdown",
   "metadata": {},
   "source": [
    "10年後には約122万円弱になります．\n",
    "このように計算式を巧みに利用すれば，電卓を超える便利なツールとなります．\n",
    "そのとき問われるスキルは，計算式を作り出す能力です．目の前の課題に対してどのように定式化するかは見逃されやすい部分ですが，定式化された問題を解くことよりも重要です．"
   ]
  },
  {
   "cell_type": "markdown",
   "metadata": {},
   "source": [
    "*****\n",
    "### 商と余り\n",
    "通常の割り算では，どんなには数が出ても割り切ってしまいます．しかし，結果が整数で欲しい場合もあります．そのような場合に商と余りを求める演算が用意されています．\n",
    "\n",
    "> $10 \\div 3 = 3 余り 1$\n",
    "\n",
    "商と余りを求めるには次の演算子を使います．\n",
    "\n",
    "| 演算 | 記法 | 　　例　　 |\n",
    "| :---: | :---: | :---: |\n",
    "| 商   | $a//b$ | $10//3=3$ |\n",
    "| 余り | $a\\%b$ | $10\\%3=1$ |\n",
    "\n",
    "次の式を実行しましょう．\n",
    "```Python\n",
    "10//3\n",
    "10%3\n",
    "```"
   ]
  },
  {
   "cell_type": "code",
   "execution_count": 25,
   "metadata": {},
   "outputs": [
    {
     "data": {
      "text/plain": [
       "3"
      ]
     },
     "execution_count": 25,
     "metadata": {},
     "output_type": "execute_result"
    }
   ],
   "source": [
    "10//3"
   ]
  },
  {
   "cell_type": "code",
   "execution_count": 26,
   "metadata": {},
   "outputs": [
    {
     "data": {
      "text/plain": [
       "1"
      ]
     },
     "execution_count": 26,
     "metadata": {},
     "output_type": "execute_result"
    }
   ],
   "source": [
    "10%3"
   ]
  },
  {
   "cell_type": "markdown",
   "metadata": {},
   "source": [
    "商と余りの計算が必要になる頻度は少ないですが，このような計算もできることを頭の片隅においてください．<br>\n",
    "例としては，215分は何時間何分か調べる場合，\n",
    "```\n",
    "215 // 60 = 3\n",
    "215 % 60 = 35\n",
    "```\n",
    "によって求まります．ただし，Pythonにおいて時間計算は専用のライブラリーを使うことが一般的です．"
   ]
  },
  {
   "cell_type": "markdown",
   "metadata": {},
   "source": [
    "*****\n",
    "### 変数の活用\n",
    "ここまで，Jupyter notebookでPythonによって計算をする方法について見てきましたが，これだけだとプログラミング言語の利点を使っていません．\n",
    "そこで変数の使い方についてマスターしましょう．\n",
    "これまで，Codeセルに\n",
    "```Python\n",
    "1+2+3+4+5\n",
    "```\n",
    "というように入力していました．"
   ]
  },
  {
   "cell_type": "code",
   "execution_count": 27,
   "metadata": {},
   "outputs": [
    {
     "data": {
      "text/plain": [
       "15"
      ]
     },
     "execution_count": 27,
     "metadata": {},
     "output_type": "execute_result"
    }
   ],
   "source": [
    "1+2+3+4+5"
   ]
  },
  {
   "cell_type": "markdown",
   "metadata": {},
   "source": [
    "このように出力セルに計算結果が表示されます．しかし，この結果を利用して別な計算をしたい場合は値を再入力しなければなりません．\n",
    "値を何度も利用するために，計算結果を変数に格納します．<br>\n",
    "ここで変数として「total」という名称を用います．この変数totalに上述の計算結果を代入します．\n",
    "変数への値の代入は「=」記号を用いて行います．\n",
    "```Python\n",
    "total = 1+2+3+4+5\n",
    "```\n"
   ]
  },
  {
   "cell_type": "code",
   "execution_count": 28,
   "metadata": {
    "collapsed": true
   },
   "outputs": [],
   "source": [
    "total = 1+2+3+4+5"
   ]
  },
  {
   "cell_type": "markdown",
   "metadata": {},
   "source": [
    "代入文を実施した場合，出力セルには何も表示されません．代入された値を確認するにはCodeセルに変数名を記入して実行キーをクリックします．\n",
    "```Python\n",
    "total\n",
    "```"
   ]
  },
  {
   "cell_type": "code",
   "execution_count": 29,
   "metadata": {},
   "outputs": [
    {
     "data": {
      "text/plain": [
       "15"
      ]
     },
     "execution_count": 29,
     "metadata": {},
     "output_type": "execute_result"
    }
   ],
   "source": [
    "total"
   ]
  },
  {
   "cell_type": "markdown",
   "metadata": {},
   "source": [
    "変数名totalは，この代入文で初めて出てきたのでこの代入文によって定義されています．\n",
    "Pythonによるプログラミングにおいて変数を使用する前に宣言する必要はありません．\n",
    "\n",
    "変数の値を使う場合は，値の代わりに変数名を記載すれば実行時に値を代入して計算してくれます．\n",
    "```Python\n",
    "total / 5\n",
    "```"
   ]
  },
  {
   "cell_type": "code",
   "execution_count": 30,
   "metadata": {},
   "outputs": [
    {
     "data": {
      "text/plain": [
       "3.0"
      ]
     },
     "execution_count": 30,
     "metadata": {},
     "output_type": "execute_result"
    }
   ],
   "source": [
    "total / 5"
   ]
  },
  {
   "cell_type": "markdown",
   "metadata": {},
   "source": [
    "まず，ここまでの内容でPythonを電卓代わりに使うことが可能となりました．\n",
    "さらに，過去の計算結果が実行ログとして残っているので，ミスの防止と検証が飛躍的に向上します．"
   ]
  },
  {
   "cell_type": "markdown",
   "metadata": {},
   "source": [
    "##### 変数の命名センス\n",
    "変数名についてのPythonのプログラミング上のルールは，\n",
    "- 英数字とアンダースコアが使える．\n",
    "- 数字は先頭文字に使えない．\n",
    "\n",
    "ですが，慣例的な命名作法もあります．例えば，アンダースコアで始まる変数名はオブジェクトの内部だけで使用する，などです．\n",
    "しかし，それらの作法について今のところ必要ないので，本格的なプログラムを作成する段階で確認してください．\n",
    "\n",
    "ここでは，変数名称を付けるときの最低限のセンスについてガイドします．\n",
    "\n",
    "- 変数名は英語で意味の通じる名前にする．\n",
    "- 既存の関数名などを上書きしないように気を付ける．\n",
    "- 英単語2つ以上を組み合わせた変数名を作る．\n",
    "- 英単語の接続は単語の先頭を大文字にする方法か，あるいは，アンダースコアで繋ぐ方法があり，なるべくどちらかに統一する．\n",
    "\n",
    "変数を使うということは，そのデータに何らかの意味があるはずです．その意味に沿った名前を英語で付けましょう．\n",
    "たまに，変数名に日本語のローマ字表記を用いる人がいますが，グローバル社会に適合するには，変数名やコメントは全て英語にすべきです．コメント文では文法を気にする必要はありません．思い浮かべた言葉の英語が分からなければ翻訳ツールなどを使って検索してください．\n",
    "ただし，文字数の長い単語について省略形を使うことは問題ありません．例えはdepertmentをdeptと記載しても意味は分かります．\n",
    "\n",
    "2つ以上の英単語を繋げる2通りの例を見てみましょう．今、部屋のサイズをある変数に入れたいと考えます．「部屋のサイズ」なので英語では「room size」ですが，これを頭大文字繋ぎとアンダースコア繋ぎで書くと次の通りになります．\n",
    "\n",
    "- roomSize\n",
    "- room_size\n",
    "\n",
    "両方ともよく使われます．どちらにするかは好みの問題ですが，どちらかに統一することをお勧めします．\n",
    "\n",
    "*****\n",
    "\n",
    "ここまで，Pythonで簡単な計算を実施する方法を学びました．"
   ]
  }
 ],
 "metadata": {
  "kernelspec": {
   "display_name": "Python 3",
   "language": "python",
   "name": "python3"
  },
  "language_info": {
   "codemirror_mode": {
    "name": "ipython",
    "version": 3
   },
   "file_extension": ".py",
   "mimetype": "text/x-python",
   "name": "python",
   "nbconvert_exporter": "python",
   "pygments_lexer": "ipython3",
   "version": "3.6.1"
  }
 },
 "nbformat": 4,
 "nbformat_minor": 2
}
