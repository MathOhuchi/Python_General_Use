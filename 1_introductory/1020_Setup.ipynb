{
 "cells": [
  {
   "cell_type": "markdown",
   "metadata": {},
   "source": [
    "## 2. Pythonのセットアップ\n",
    "\n",
    "### Pythonの入手法\n",
    "プログラミング言語Pythonは，非営利団体Pythonソフトウェア財団が提供するオープンソフトウェアです．インタープリターで稼働するスクリプト言語であるためコンパイルなどのプログラム開発の手間をかけずに使用することができます．\n",
    "Pythonの強みはプログラミングのし易さだけでなく，充実したプログラムがライブラリーとして提供されていることです．世界中のデータサイエンティストがPythonで開発するためのモジュールを提供し続けています．そして，それらのライブラリーと開発環境を含めてパッケージとして提供するディストリビューションがあります．従いまして，Pythonの導入にあたっては，Python単体でインストールするのではなく総合環境が整備できるディストリビューションを選んで導入します．\n",
    "\n",
    "PythonはWindows，Linux，Macを含む多くのオペレーティングシステムで稼働しています．本コースはWindows環境で行っていますが，LinuxやmacOSにおいてもシステム環境に関する部分は変更が必要になりますが，基本的に問題なく作動します．以下の説明でもWindowsを前提として説明します．\n",
    "\n",
    "ここでは，ディストリビューションとして実績のある**Anaconda**の導入を行います．他にも幾つかのディストリビューションがあり，それらを使っても構いません．ただし，Pythonの環境を複数構築する場合は，副作用が起こらないようにしてください．\n",
    "Anacondaを導入すると大概のライブラリーが同梱されていますが，同梱されていないライブラリーを追加することも可能です。\n",
    "Anacondaによって提供されるツール\n"
   ]
  },
  {
   "cell_type": "markdown",
   "metadata": {
    "collapsed": true
   },
   "source": [
    "### Anacondaの導入\n",
    "AnacondaのインストーラーはAnacondaのホームページから入手できます．画面イメージにはアドレスが載っていますが，念のためにウェブ検索で「Anaconda」を指定してダウンロードページを表示してください．ダウンロードページは英語です．Anacondaに限らず，いち早く世界の最新動向を知るには英語は必須となります．英和辞典を引きながらで構わないので英語を読むことに慣れましょう．\n",
    "\n",
    "##### 画面-1：AnacondaインストーラーDownload画面(1)\n",
    "![AnacondaインストーラーDownload](./images/anaconda01.jpg)\n",
    "\n",
    "この仮面を下にスクロールするとインストールモジュールが選択できます．\n",
    "\n",
    "##### 画面-2：AnacondaインストーラーDownload画面(2)\n",
    "![AnacondaインストーラーDownload](./images/anaconda02.jpg)\n",
    "\n",
    "この画面で分かるようにWindows、macOS，Linuxを選択できるようになっていますが，ページを表示した時点で使っている環境がチェックされますので，例えばWindowsを使っているならばWindowsのインストーラーが選ばれています．\n",
    "\n",
    "ここでPythonのバージョンについて2種類出ていますが，基本的に最新のバージョンを選んでください．古いバージョンは，古いプログラムを使っていて互換性の問題で最新バージョンに移行できない状況のためのものです．\n",
    "ここで，最新バージョンのDownloadボタンをクリックするとインストールプログラム（Windowsの場合はexeファイル）がダウンロードされます．\n",
    "この資料の作成時点では「Anaconda3-4.4.0-Windows-x86_64.exe」というファイルが得られました．\n",
    "\n",
    "ダウンロードが済んだらダウンロードフォルダーを開き，exeファイルをダブルクリックして実行します．するとインストーラーの画面が表示されます．\n",
    "\n",
    "##### 画面-3：Anacondaインストール画面(1)\n",
    "![AnacondaインストーラーDownload](./images/anaconda03.jpg)\n",
    "\n",
    "[Next >]ボタンをクリックします．\n",
    "\n",
    "##### 画面-4：Anacondaインストール画面(2)\n",
    "![AnacondaインストーラーDownload](./images/anaconda04.jpg)\n",
    "\n",
    "[I Agree]ボタンをクリックします．\n",
    "\n",
    "##### 画面-5：Anacondaインストール画面(3)\n",
    "![AnacondaインストーラーDownload](./images/anaconda05.jpg)\n",
    "\n",
    "インストール先のフォルダーを選択します．記載されているデフォルトのフォルダーを変える必要はありません．確認したら[Next >]ボタンをクリックします．\n",
    "\n",
    "##### 画面-6：Anacondaインストール画面(4)\n",
    "![AnacondaインストーラーDownload](./images/anaconda06.jpg)\n",
    "\n",
    "個人使用なので，そのまま[Next >]ボタンをクリックします．\n",
    "\n",
    "##### 画面-7：Anacondaインストール画面(5)\n",
    "![AnacondaインストーラーDownload](./images/anaconda07.jpg)\n",
    "\n",
    "環境変数PATHへの設定，および，デフォルトとなるPythonの指定オプションですが，両方ともチェックボックスをチェックしてください．ただし，色々なアプリケーションを導入している場合はPATHへの設定を外した方が安全です．\n",
    "そして[Install]ボタンをクリックすると，インストールが開始されます．\n",
    "\n",
    "これまで幾つかのプログラムをインストールした経験がある人にとってはグラフィカルなインターフェイスによる簡単な作業だったかと思います．"
   ]
  },
  {
   "cell_type": "markdown",
   "metadata": {},
   "source": [
    "*****\n",
    "##### フォルダーとディレクトリー\n",
    "ファイルシステムにおいて，フォルダーとディレクトリーという2種類の用語があり，その差異が気になるところですが，同じものと考えて問題はございません．\n",
    "*****"
   ]
  },
  {
   "cell_type": "markdown",
   "metadata": {},
   "source": [
    "### 起動確認\n",
    "Anacondaには複数のツールが梱包されています．その代表的なツールについて動作確認を行います．\n",
    "インストールが適切に行われていれば，起動可能なアプリケーションがWindowsのメニューに登録されてます．\n",
    "\n",
    "##### 画面-8：Anacondaアプリケーションメニュー\n",
    "![Anacondaアプリケーションメニュー](./images/anaconda11.jpg)\n",
    "\n",
    "これらのアプリケーションのうち，IPythonとJupyter notebookの動作確認を行います．\n",
    "メニューからIPythonをクリックします．すると，Pythonの実行環境であるIPythonのウィンドウが表示されます．\n",
    "\n",
    "##### 画面-9：IPython画面（初期画面）\n",
    "![IPython初期画面](./images/anaconda12.jpg)\n",
    "\n",
    "この画面でキー入力することができます．ここで「2+3」と入力してエンターキーを押します．\n",
    "\n",
    "##### 画面-9：IPython画面（実行例）\n",
    "![IPython実行例](./images/anaconda13.jpg)\n",
    "\n",
    "入力したデータと計算結果が次のように表示されます．\n",
    "```Python\n",
    "In [1]: 2+3\n",
    "Out[1]: 5\n",
    "```\n",
    "\n",
    "これでPythonが正常に作動したことが確認できました．\n",
    "IPythonを終了するには「exit」と入力してエンターキーを押してください．画面が消去され，IPythonが終了します．\n",
    "\n",
    "次に，私たちが本格的に使用するJupyter notebookについて作動確認をします．WindowsのメニューからJupyter notebookを選択してクリックします．\n",
    "するとコマンドプロンプト画面が表示され，バックグラウンドのプロセスが開始されます．その後，ウェブブラウザーの新しいタブにJupyter notebookが表示されます．\n",
    "\n",
    "##### 画面-10：Jupyter notebook起動画面（）\n",
    "![Jupyter notebook起動画面](./images/anaconda14.jpg)\n",
    "\n",
    "##### 画面-11：Jupyter notebook初期画面（）\n",
    "![Jupyter notebook初期画面](./images/anaconda15.jpg)\n",
    "\n",
    "この画面には，デフォルトのホームディレクトリーにあるフォルダーとファイルの一覧が表示されます．\n",
    "デフォルトのホームディレクトリーは通常「C\\\\Users\\\\*yourname*」になっていて，Pythonとは関係のない多くのものが表示されてしまいます．そのままでも問題はありませんが，煩わしさを解消するためにデフォルトを変更することをお勧めします．\n",
    "上記の初期画面では，初期画面の設定を変更済みです．"
   ]
  },
  {
   "cell_type": "markdown",
   "metadata": {
    "collapsed": true
   },
   "source": [
    "### デフォルトの変更\n",
    "Jupyter notebookを使いやすくするために，若干の設定変更を行います．\n",
    "Jupyter notebookで使用するウェブブラウザーの変更やホームディレクトリーの変更などは，設定ファイルを編集することによって可能となります．\n",
    "この作業はオプションなので，ちょっと便利にしたいという方は試しいてください．\n",
    "\n",
    "インストールで導入先フォルダーをデフォルトのままで行ったとすると，Anacondaは「C:\\\\User\\\\*yourname*\\\\Anaconda3」にインストールされています．\n",
    "このとき，ホームディレクトリーは「C:\\\\User\\\\*yourname*」です．WindowsのメニューからAnaconda Promptを選択しクリックすると，コマンドプロンプト画面が表示されます．この画面にて次のコマンドを入力してエンターキーを押すと，Jupyter notebookの設定ファイルが生成されます．\n",
    "```\n",
    "jupyter notebook --generate-config\n",
    "```\n",
    "\n",
    "設定ファイルは，「C:\\\\User\\\\*yourname*\\\\.jupyter\\\\jupyter_notebook_config.py」として生成されます．\n",
    "このファイルはPythonのソースコードとなるテキストファイルです．エディターまたはメモ帳でこのファイルを編集します．\n",
    "このファイルの文は殆ど先頭に#がついたコメント文になっています．これらのコメントから#を外して適切に編集すればデフォルト設定を変更することができます．\n",
    "##### ホームディレクトリーの設定変更\n",
    "ファイルの中から「NotebookApp.notebook_dir」という文字列を検索して，設定したいディレクトリーを記入して先頭のの#を削除します．\n",
    "これにより，Jupyter notebookを起動したとき，ここで指定したディレクトリーが表示されるようになります．\n",
    "```\n",
    "c.NotebookApp.notebook_dir = 'C:/work/notebooks'\n",
    "```\n",
    "\n",
    "##### ウェブブラウザーの変更\n",
    "Jupyter notebookを起動したときに通常使用しているウェブブラウザーに表示されますが，別のブラウザーを使いたい場合は設定変更ができます．\n",
    "ファイルの中から「NotebookApp.browser」という文字列を検索して，使用したいブラウザーの実行ファイルへのパスを記入して先頭の#を削除してください．\n",
    "```\n",
    "c.NotebookApp.browser = 'C:/Program Files (x86)/Google/Chrome/Application/chrome.exe %s'\n",
    "```\n",
    "\n",
    "ちなみに，私の場合は通常のブラウザーにはFirefoxを使用していますが，常にFirefoxが込み入っているのでJupyter notebookだけをChromeで動かすようにしています．\n",
    "\n",
    "最後にファイルを保管して終了します．"
   ]
  },
  {
   "cell_type": "markdown",
   "metadata": {},
   "source": [
    "*****\n",
    "これにてJupyter notebookの導入とセットアップが完了しました．早速，体感してみましょう．"
   ]
  }
 ],
 "metadata": {
  "kernelspec": {
   "display_name": "Python 3",
   "language": "python",
   "name": "python3"
  },
  "language_info": {
   "codemirror_mode": {
    "name": "ipython",
    "version": 3
   },
   "file_extension": ".py",
   "mimetype": "text/x-python",
   "name": "python",
   "nbconvert_exporter": "python",
   "pygments_lexer": "ipython3",
   "version": "3.6.1"
  }
 },
 "nbformat": 4,
 "nbformat_minor": 2
}
