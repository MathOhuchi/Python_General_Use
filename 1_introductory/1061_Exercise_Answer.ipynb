{
 "cells": [
  {
   "cell_type": "markdown",
   "metadata": {},
   "source": [
    "## 6. 演習問題の解答\n",
    "課題-2から課題-5までの解答をこの後に記述します．課題-5については，問題の意図に沿って全体に散りばめて記載してあります．\n",
    "*****"
   ]
  },
  {
   "cell_type": "markdown",
   "metadata": {},
   "source": [
    "### 課題-2: 簡単な計算\n",
    "Jupyter notebookのCodeセルを使って，下記の計算を実施してください．ただし，問題ごとに個別のCodeセルに分けて実施してください．\n",
    "\n",
    "最初の計算を行います．<br>\n",
    "$12+34$"
   ]
  },
  {
   "cell_type": "code",
   "execution_count": 1,
   "metadata": {},
   "outputs": [
    {
     "data": {
      "text/plain": [
       "46"
      ]
     },
     "execution_count": 1,
     "metadata": {},
     "output_type": "execute_result"
    }
   ],
   "source": [
    "12+34"
   ]
  },
  {
   "cell_type": "markdown",
   "metadata": {},
   "source": [
    "計算結果として46が得られました．次の問題に移ります．<br>\n",
    "$77-99$"
   ]
  },
  {
   "cell_type": "code",
   "execution_count": 2,
   "metadata": {},
   "outputs": [
    {
     "data": {
      "text/plain": [
       "-22"
      ]
     },
     "execution_count": 2,
     "metadata": {},
     "output_type": "execute_result"
    }
   ],
   "source": [
    "77-99"
   ]
  },
  {
   "cell_type": "markdown",
   "metadata": {},
   "source": [
    "計算結果として-22が得られました．次の問題に移ります．<br>\n",
    "$63\\times 7$"
   ]
  },
  {
   "cell_type": "code",
   "execution_count": 3,
   "metadata": {},
   "outputs": [
    {
     "data": {
      "text/plain": [
       "441"
      ]
     },
     "execution_count": 3,
     "metadata": {},
     "output_type": "execute_result"
    }
   ],
   "source": [
    "63*7"
   ]
  },
  {
   "cell_type": "markdown",
   "metadata": {},
   "source": [
    "計算結果として441が得られました．次の問題に移ります．<br>\n",
    "$82\\div 6$"
   ]
  },
  {
   "cell_type": "code",
   "execution_count": 4,
   "metadata": {},
   "outputs": [
    {
     "data": {
      "text/plain": [
       "12.0"
      ]
     },
     "execution_count": 4,
     "metadata": {},
     "output_type": "execute_result"
    }
   ],
   "source": [
    "72/6"
   ]
  },
  {
   "cell_type": "markdown",
   "metadata": {},
   "source": [
    "計算結果として12.0が得られました．次の問題に移ります．<br>\n",
    "$3^4$"
   ]
  },
  {
   "cell_type": "code",
   "execution_count": 5,
   "metadata": {},
   "outputs": [
    {
     "data": {
      "text/plain": [
       "81"
      ]
     },
     "execution_count": 5,
     "metadata": {},
     "output_type": "execute_result"
    }
   ],
   "source": [
    "3**4"
   ]
  },
  {
   "cell_type": "markdown",
   "metadata": {},
   "source": [
    "計算結果として81が得られました．次の問題に移ります．<br>\n",
    "$\\sqrt{5}$"
   ]
  },
  {
   "cell_type": "code",
   "execution_count": 6,
   "metadata": {},
   "outputs": [
    {
     "data": {
      "text/plain": [
       "2.23606797749979"
      ]
     },
     "execution_count": 6,
     "metadata": {},
     "output_type": "execute_result"
    }
   ],
   "source": [
    "5**(1/2)"
   ]
  },
  {
   "cell_type": "markdown",
   "metadata": {},
   "source": [
    "計算結果として2.23606797749979が得られました．次の問題に移ります．<br>\n",
    "$52\\div 7$の割り切った値（実数）"
   ]
  },
  {
   "cell_type": "code",
   "execution_count": 7,
   "metadata": {},
   "outputs": [
    {
     "data": {
      "text/plain": [
       "10.4"
      ]
     },
     "execution_count": 7,
     "metadata": {},
     "output_type": "execute_result"
    }
   ],
   "source": [
    "52/5"
   ]
  },
  {
   "cell_type": "markdown",
   "metadata": {},
   "source": [
    "計算結果として10.5が得られました．次の問題に移ります．<br>\n",
    "$52\\div 7$の商（整数）"
   ]
  },
  {
   "cell_type": "code",
   "execution_count": 8,
   "metadata": {},
   "outputs": [
    {
     "data": {
      "text/plain": [
       "10"
      ]
     },
     "execution_count": 8,
     "metadata": {},
     "output_type": "execute_result"
    }
   ],
   "source": [
    "52//5"
   ]
  },
  {
   "cell_type": "markdown",
   "metadata": {},
   "source": [
    "計算結果として10が得られました．次の問題に移ります．<br>\n",
    "$52\\div 7$の余り（整数）"
   ]
  },
  {
   "cell_type": "code",
   "execution_count": 9,
   "metadata": {},
   "outputs": [
    {
     "data": {
      "text/plain": [
       "2"
      ]
     },
     "execution_count": 9,
     "metadata": {},
     "output_type": "execute_result"
    }
   ],
   "source": [
    "52%5"
   ]
  },
  {
   "cell_type": "markdown",
   "metadata": {},
   "source": [
    "計算結果として10が得られました．\n",
    "以上で課題-2が終わりました．"
   ]
  },
  {
   "cell_type": "markdown",
   "metadata": {},
   "source": [
    "### 課題-3: 複雑な計算\n",
    "ここでも計算を行いますが，若干複雑な式を計算します．ここでも，各問題を個別のCodeセルに分けて実施してください．\n",
    "\n",
    "最初の計算を行います．<br>\n",
    "$(4+11)\\times (1.5-0.38)$"
   ]
  },
  {
   "cell_type": "code",
   "execution_count": 10,
   "metadata": {},
   "outputs": [
    {
     "data": {
      "text/plain": [
       "16.8"
      ]
     },
     "execution_count": 10,
     "metadata": {},
     "output_type": "execute_result"
    }
   ],
   "source": [
    "(4+11)*(1.5-0.38)"
   ]
  },
  {
   "cell_type": "markdown",
   "metadata": {},
   "source": [
    "計算結果として16.8が得られました．次の問題に移ります．<br>\n",
    "$\\frac{18+7}{-3-7}$"
   ]
  },
  {
   "cell_type": "code",
   "execution_count": 11,
   "metadata": {},
   "outputs": [
    {
     "data": {
      "text/plain": [
       "-2.5"
      ]
     },
     "execution_count": 11,
     "metadata": {},
     "output_type": "execute_result"
    }
   ],
   "source": [
    "(18+7)/(-3-7)"
   ]
  },
  {
   "cell_type": "markdown",
   "metadata": {},
   "source": [
    "計算結果として-2.5が得られました．次の問題に移ります．<br>\n",
    "$3^{12}\\div 3^9$"
   ]
  },
  {
   "cell_type": "code",
   "execution_count": 12,
   "metadata": {},
   "outputs": [
    {
     "data": {
      "text/plain": [
       "27.0"
      ]
     },
     "execution_count": 12,
     "metadata": {},
     "output_type": "execute_result"
    }
   ],
   "source": [
    "3**12 / 3**9"
   ]
  },
  {
   "cell_type": "markdown",
   "metadata": {},
   "source": [
    "計算結果として27.0が得られました．次の問題に移ります．<br>\n",
    "$\\sqrt{1+2+3+4}$"
   ]
  },
  {
   "cell_type": "code",
   "execution_count": 13,
   "metadata": {},
   "outputs": [
    {
     "data": {
      "text/plain": [
       "3.1622776601683795"
      ]
     },
     "execution_count": 13,
     "metadata": {},
     "output_type": "execute_result"
    }
   ],
   "source": [
    "(1+2+3+4)**(1/2)"
   ]
  },
  {
   "cell_type": "markdown",
   "metadata": {},
   "source": [
    "計算結果として3.1622776601683795が得られました．次の問題に移ります．<br>\n",
    "$\\yen 1,250+\\yen 22,000$"
   ]
  },
  {
   "cell_type": "code",
   "execution_count": 14,
   "metadata": {},
   "outputs": [
    {
     "data": {
      "text/plain": [
       "23250"
      ]
     },
     "execution_count": 14,
     "metadata": {},
     "output_type": "execute_result"
    }
   ],
   "source": [
    "1250 + 22000  # remove , from number format"
   ]
  },
  {
   "cell_type": "markdown",
   "metadata": {},
   "source": [
    "計算結果として23250が得られました．次の問題に移ります．<br>\n",
    "$12億\\div 百万$"
   ]
  },
  {
   "cell_type": "code",
   "execution_count": 15,
   "metadata": {},
   "outputs": [
    {
     "data": {
      "text/plain": [
       "1200.0"
      ]
     },
     "execution_count": 15,
     "metadata": {},
     "output_type": "execute_result"
    }
   ],
   "source": [
    "1.2e9 / 1e6"
   ]
  },
  {
   "cell_type": "markdown",
   "metadata": {},
   "source": [
    "数字の桁数が大きいので計算に用いる数字を指数形式で活用します．\n",
    "```\n",
    "12億 = 1,200,000,000 = 1.2e9\n",
    "百万 = 1,000,000 = 1e6\n",
    "```\n",
    "計算結果として1200.0が得られました．次の問題に移ります．<br>\n",
    "1から5までの自然数を足して，合計値を5で割る"
   ]
  },
  {
   "cell_type": "code",
   "execution_count": 16,
   "metadata": {},
   "outputs": [
    {
     "data": {
      "text/plain": [
       "3.0"
      ]
     },
     "execution_count": 16,
     "metadata": {},
     "output_type": "execute_result"
    }
   ],
   "source": [
    "(1+2+3+4+5)/5"
   ]
  },
  {
   "cell_type": "markdown",
   "metadata": {},
   "source": [
    "計算結果として3.0が得られました．以上で課題-3が終わりました．"
   ]
  },
  {
   "cell_type": "markdown",
   "metadata": {},
   "source": [
    "### 課題-4: 変数を使った計算\n",
    "この課題では，全ての問題で変数を使ってください．変数名については，意味がある場合は適切な名称を設定してください．意味のない変数については$\\,x\\,$や$\\,y\\,$などを使用して構いません．\n",
    "\n",
    "(1) $x=28$としたとき$x^2-5x+6$を計算せよ．<br>"
   ]
  },
  {
   "cell_type": "code",
   "execution_count": 17,
   "metadata": {},
   "outputs": [
    {
     "data": {
      "text/plain": [
       "650"
      ]
     },
     "execution_count": 17,
     "metadata": {},
     "output_type": "execute_result"
    }
   ],
   "source": [
    "x =28\n",
    "x**2 - 5*x +6"
   ]
  },
  {
   "cell_type": "markdown",
   "metadata": {},
   "source": [
    "この問題では，変数として$\\,x\\,$を定義しました．最初の式で$\\,x\\,$に28を代入し，2つ目の式で2次関数に$\\,x\\,$を代入しています．\n",
    "計算結果として650が得られました．\n",
    "\n",
    "次の問題に移ります．\n",
    "\n",
    "(2) この問題は3つのCodeセルを使って実施せよ．<br>&nbsp;&nbsp;&nbsp;&nbsp;\n",
    "    (a) 80円のトマトを5個，160年のキャベツを1個，40円のジャガイモを6個購入します．合計金額を計算せよ．<br>&nbsp;&nbsp;&nbsp;&nbsp;\n",
    "    (b) 消費税を8%とした場合の支払金額を計算せよ．<br>&nbsp;&nbsp;&nbsp;&nbsp;\n",
    "    (c) 消費税を10%とした場合の支払金額を計算せよ．"
   ]
  },
  {
   "cell_type": "code",
   "execution_count": 18,
   "metadata": {},
   "outputs": [
    {
     "data": {
      "text/plain": [
       "800"
      ]
     },
     "execution_count": 18,
     "metadata": {},
     "output_type": "execute_result"
    }
   ],
   "source": [
    "vegetables = 80*5 + 160*1 + 40*6\n",
    "vegetables"
   ]
  },
  {
   "cell_type": "code",
   "execution_count": 19,
   "metadata": {},
   "outputs": [
    {
     "data": {
      "text/plain": [
       "864.0"
      ]
     },
     "execution_count": 19,
     "metadata": {},
     "output_type": "execute_result"
    }
   ],
   "source": [
    "vegetables * 1.08"
   ]
  },
  {
   "cell_type": "code",
   "execution_count": 20,
   "metadata": {},
   "outputs": [
    {
     "data": {
      "text/plain": [
       "880.0000000000001"
      ]
     },
     "execution_count": 20,
     "metadata": {},
     "output_type": "execute_result"
    }
   ],
   "source": [
    "vegetables * 1.10"
   ]
  },
  {
   "cell_type": "markdown",
   "metadata": {},
   "source": [
    "最初のセルで野菜の合計金額を計算して，合計金額を変数vegetablesに代入しています．合計金額は800円でした．<br>\n",
    "次のセルで消費税8%の場合の計算をしています.8%の消費税込みで864円となります．<br>\n",
    "最後のセルでは消費税10%の場合の計算をしています.10%の消費税込みで880円となります．小数点以下は計算誤差です．<br>\n",
    "\n",
    "次の問題に移ります．\n",
    "\n",
    "(3) マラソンにおいて2時間20分45秒の記録で走りました．\n",
    "    (a) この記録を秒数で示せ．\n",
    "    (b) この記録を分数で示せ．"
   ]
  },
  {
   "cell_type": "code",
   "execution_count": 21,
   "metadata": {},
   "outputs": [
    {
     "data": {
      "text/plain": [
       "8445"
      ]
     },
     "execution_count": 21,
     "metadata": {},
     "output_type": "execute_result"
    }
   ],
   "source": [
    "recordSeconds = 2*60*60 + 20*60 + 45\n",
    "recordSeconds"
   ]
  },
  {
   "cell_type": "code",
   "execution_count": 22,
   "metadata": {},
   "outputs": [
    {
     "data": {
      "text/plain": [
       "140.75"
      ]
     },
     "execution_count": 22,
     "metadata": {},
     "output_type": "execute_result"
    }
   ],
   "source": [
    "recordSeconds / 60"
   ]
  },
  {
   "cell_type": "markdown",
   "metadata": {},
   "source": [
    "マラソンの記録2時間20分45秒を秒表示に変換しました．その値を変数recordSecondsに代入しました．記録は8445秒です．\n",
    "recordSecondsを60秒で割ると分表示となります．分表示だと140.75分となります．\n",
    "*****\n",
    "\n",
    "以上が課題の解答となります．\n",
    "これにて，**社会人のためのPython活用術入門**の履修を完了します．"
   ]
  }
 ],
 "metadata": {
  "kernelspec": {
   "display_name": "Python 3",
   "language": "python",
   "name": "python3"
  },
  "language_info": {
   "codemirror_mode": {
    "name": "ipython",
    "version": 3
   },
   "file_extension": ".py",
   "mimetype": "text/x-python",
   "name": "python",
   "nbconvert_exporter": "python",
   "pygments_lexer": "ipython3",
   "version": "3.6.1"
  }
 },
 "nbformat": 4,
 "nbformat_minor": 2
}
