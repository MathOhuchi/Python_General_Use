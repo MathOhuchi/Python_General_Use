{
 "cells": [
  {
   "cell_type": "markdown",
   "metadata": {},
   "source": [
    "## 3. Jupyter notebookに慣れよう\n",
    "さあJupyter notebookを起動しましょう．WindowsのAnacondaメニューにあるJupyter notebookをクリックします．\n",
    "\n",
    "##### 画面-1：Jupyter notebookの起動メニュー\n",
    "![Jupyter notebook起動メニュー](./images/anaconda11a.jpg)\n",
    "\n",
    "オフィス業務をする方は，朝パソコンを立ち上げたらJupyter notebookも起動させましょう．そして常に使える状態にしておくことをお勧めします．いつでも直ぐ使えれば，その活用範囲も自然と多くなってきます．気が付くと業務の傍らに無くてはならないツールになっていることでしょう."
   ]
  },
  {
   "cell_type": "markdown",
   "metadata": {},
   "source": [
    "*****\n",
    "### フォルダービュー\n",
    "Jupyter notebookはウェブブラウザー上で動くアプリケーションですが，最初に表示されるものはフォルダーとファイルのリストを含んだフォルダービューです．表示されるフォルダーはホームディレクトリーです．Jupyter notebookの初期画面の例を見てみましょう．\n",
    "\n",
    "##### 画面-2：Jupyter notebookフォルダービュー\n",
    "![Jupyter notebookフォルダービュー](./images/notebook01.jpg)\n",
    "\n",
    "この画面の説明をします．左上のJupyterのロゴの下にFiles/Running/Clustersの3つのタブがあり，ここではFilesタブが選ばれています．<br>\n",
    "タブの下の「Select items to perform actions on them.」というメッセージの下にチェックボックスとプルダウンセレクションが組み合わされたパーツと青いフォルダー形のマークが表示されています．\n",
    "青いフォルダーマークは，このビューがホームであることを示しています．\n",
    "\n",
    "さて，それらの下に3行あり，このフォルダーの下ににあるファイルとフォルダーを表示しています．順番に確認します．それぞれの行の左端には選択チェックボックスがあります．その次がフォルダーとファイルの種類を示すアイコンになっています．\n",
    "\n",
    "![Jupyter notebookフォルダービュー，folder](./images/notebook01a.jpg)\n",
    "この行はgeneral_useという名称のフォルダーを示しています．<br>\n",
    "ここで名称部分をクリックすると，フォルダービューの表示がgeneral_useの中身に移ります．\n",
    "\n",
    "![Jupyter notebookフォルダービュー，notebook](./images/notebook01b.jpg)\n",
    "この行はとexample.ipynbいう名称のnotebook形式のファイルがあることを示しています．<br>\n",
    "ここで名称部分をクリックすると，ウェブブラウザーのタブが一つ増えて，そこにexample.ipynbの内容が表示されます．\n",
    "\n",
    "![Jupyter notebookフォルダービュー，file](./images/notebook01c.jpg)\n",
    "この行はmemo.txtという名称のnotebook形式以外の何らかのファイルがあることを示しています．<br>\n",
    "ここで名称部分をクリックすると，そのファイルの形式に沿ったビューが新しいタブに表示されます．\n",
    "\n",
    "フォルダービューは，ファイルエクスプローラーに似た働きをウェブブラウザー上で実現しています．"
   ]
  },
  {
   "cell_type": "markdown",
   "metadata": {},
   "source": [
    "*****\n",
    "### 新規フォルダーの作成\n",
    "新規フォルダーを作成するには，右上にあるNewプルダウンメニューからFolderを選択してクリックします．\n",
    "\n",
    "##### 画面-3：新規フォルダーの作成\n",
    "![新規フォルダー](./images/notebook02.jpg)\n",
    "すると，Untitled Folderという名称のフォルダーができます．この名称を意味のある名称に変更します．\n",
    "名称を変更するために，Untitled Folderの左端の選択チェックボックスをチェックします．すると上部に表示されていた「Select items to perform actions on them.」という文が消えて，3つのプッシュボタンが表示されます．\n",
    "\n",
    "##### 画面-4：新規フォルダーの名称変更\n",
    "![新規フォルダー](./images/notebook03.jpg)\n",
    "そこでRenameボタンをクリックすると，Renameダイアログボックスが表示されます．\n",
    "\n",
    "##### 画面-5：Renameダイアログ\n",
    "![Renameダイアログ](./images/notebook04.jpg)\n",
    "ここで，適切な名称を入力して，Renameボタンをクリックするとフォルダー名称が変更されます．\n"
   ]
  },
  {
   "cell_type": "markdown",
   "metadata": {},
   "source": [
    "*****\n",
    "### フォルダーおよびファイルの削除\n",
    "不要なフォルダーやファイルを削除したい場合は，対象となるフォルダーやファイルの選択チェックボックスにチェックを付けて，上部にある赤いゴミ箱ボタンをクリックします．"
   ]
  },
  {
   "cell_type": "markdown",
   "metadata": {},
   "source": [
    "*****\n",
    "### IPython notebookビュー\n",
    "Pythonのプログラムファイルを置きたいフォルダーに移動した後，フォルダービューの右上にあるNewプルダウン選択メニューからPython3を選択してクリックします．すると，ブラウザーに新しいタブが増え「Untitled」という名称のいPython notebookビューが表示されます．実際のファイルは「Untitled.ipynb」という名称で直前のフォルダー内に生成されます．\n",
    "このファイル名を変更したい場合は，Fileメニューの下にあるRename...を選択するとRenameダイアログボックスが出現します．\n",
    "\n",
    "##### 画面-6：IPython notebookビュー\n",
    "![IPYthon notebookビュー](./images/notebook11.jpg)\n",
    "\n",
    "IPython notebookビューの上部にはメニューとボタンが並んでいます．\n",
    "その下の緑色に縁どられた部分をセルと呼びます．セルは書き込み可能な領域になっていて，そこにフォーカスを当てて，カーソルを表示させることによってキー入力が可能となります．\n",
    "\n",
    "今表示されているセルは一つだけですが，色々と書き進めていくと複数のセルで構成されるようになります．複数セルがある場合，入力可能状態になっているセルの外枠が緑色になって，その他のセルとは区別されます．\n",
    "\n",
    "セルにはCodeセル, Markdownセル, Raw NBConvertセルの3種類があります．それぞれ違う役割を果たします．\n",
    "\n",
    "| セルの種類 | 　　　用途　　　 |\n",
    "| :---: | :--- |\n",
    "| Code          | Pythonのプログラムを記述します |\n",
    "| Markdown      | 簡単なフォーマットで整えた文章を記述します |\n",
    "| Raw NBConvert | 全く何もしない入力したままを維持します |\n",
    "\n",
    "セルの種類は初期状態でCodeセルになっていますが，上部のメニューで選択・変更することができます．\n",
    "\n",
    "それでは，最初のCodeセルにPythonのコメント文を記入してみます．試しにPythonのコメント文を入力します．Pythonでは文の先頭に#を置くと，その１行をコメントとして扱います．次のように入力します．\n",
    "```Python\n",
    "# この行はPythonのコメントです\n",
    "```\n",
    "\n",
    "実行するには，上部のメニューから「Cell」→「Run Cells and Select Below」を選ぶか，それと同等の実行ボタンである「縦棒付き右向き三角形」をクリックします．\n",
    "\n",
    "##### 画面-7：Codeセル\n",
    "![Codeセル](./images/notebook12.jpg)\n",
    "\n",
    "この文はコメントなので実行してもプログラム的には何も起こりませんが，そのセルの下に新しいセルが追加されます．\n",
    "\n",
    "##### 画面-8：Codeセルの実行\n",
    "![Codeセルの実行](./images/notebook13.jpg)\n",
    "\n",
    "追加されたセルもCodeセルですが，このセルの種類をMarkdownセルに変更します．変更方法は，変更したいセルをクリックしてフォーカスを当てた後に上部メニューにあるセル選択プルダウンメニューにてMarkdownを選択します．\n",
    "\n",
    "##### 画面-9：セルの種類変更\n",
    "![セルの種類変更](./images/notebook14.jpg)\n",
    "\n",
    "次に，Markdownセルに少し記述をしてみます．Markdownとは簡単な文書整形技術のことです．テキスト文章を単に残すだけでなく，ウェブの文章のように表示してくれます．それでは次のように入力してみましょう．\n",
    "```\n",
    "Markdownセルはメモ帳のようなものなので、ここに色々な文章を書きこみます．\n",
    "- この業務の目的は・・・\n",
    "- この作業の期日は・・・\n",
    "- データの収集方法は・・・\n",
    "\n",
    "などについて確認した．\n",
    "```\n",
    "\n",
    "##### 画面-10：Markdownセル\n",
    "![Markdownセル](./images/notebook15.jpg)\n",
    "\n",
    "このように入力したら，上部のアイコンメニューにある実行ボタンをクリックすると次にように表示されます．<br>\n",
    "ワープロ文書のように綺麗な表示になっています．\n",
    "\n",
    "##### 画面-11：Markdownセルの実行\n",
    "![Markdownセルの実行](./images/notebook16.jpg)\n",
    "\n",
    "そして，表示された文章の下に新たなセルが生成されます．\n",
    "\n",
    "Markdownの書き方については，別途詳細に説明します．"
   ]
  },
  {
   "cell_type": "markdown",
   "metadata": {
    "collapsed": true
   },
   "source": [
    "*****\n",
    "Raw NBConvertセルは，記載した内容について全く何もしないセルとなります．利用法としては，Codeセルとして作成した部分を無効にするときなどに使います．"
   ]
  }
 ],
 "metadata": {
  "kernelspec": {
   "display_name": "Python 3",
   "language": "python",
   "name": "python3"
  },
  "language_info": {
   "codemirror_mode": {
    "name": "ipython",
    "version": 3
   },
   "file_extension": ".py",
   "mimetype": "text/x-python",
   "name": "python",
   "nbconvert_exporter": "python",
   "pygments_lexer": "ipython3",
   "version": "3.6.1"
  }
 },
 "nbformat": 4,
 "nbformat_minor": 2
}
